{
 "cells": [
  {
   "cell_type": "markdown",
   "metadata": {},
   "source": [
    "# Course Project"
   ]
  },
  {
   "cell_type": "markdown",
   "metadata": {},
   "source": [
    "## 1. Regression\n",
    "\n",
    "We will consider both regression and classification problems.\n",
    "\n",
    "\n",
    "### Data simulation\n",
    "\n",
    "The simulated data is distributed as follows:\n",
    "\n",
    "$$\n",
    "x \\sim N(0,R), \\quad R \\in \\mathbb{R}^{p\\times p}\n",
    "$$\n",
    "\n",
    "$$\n",
    "y|x \\sim N(\\omega^Tx, \\sigma^2), \\quad \\sigma^2=1\n",
    "$$\n",
    "\n",
    "Where $p$ is the total number of variables (we use $p=100$), $\\omega$ are the weights and $R$ is the correlation matrix. \n",
    "\n",
    "The variables are separated in group of 5. In each group, $x_j$ has mean zero, variance 1, and correlation $\\rho$ with the other variables of the group. $x_j$ is uncorrelated with the variables outside this group. This means that the correlation matrix $R$ is of the form:\n",
    "\n",
    "$$\n",
    "R = \\begin{pmatrix} \n",
    "  \\tilde{R}     & 0 & \\cdots & 0\\\\ \n",
    "  0 & \\tilde{R} & \\cdots & 0\\\\\n",
    "  \\vdots & \\cdots & \\tilde{R} & 0 \\\\\n",
    "  0 & \\cdots & \\cdots & \\tilde{R}\n",
    "\\end{pmatrix}, \\quad \\tilde{R} = \n",
    "\\begin{pmatrix}\n",
    "1 & \\rho & \\rho & \\rho & \\rho\\\\\n",
    "\\rho & 1 & \\rho & \\rho & \\rho \\\\\n",
    "\\rho & \\rho & 1 & \\rho & \\rho \\\\\n",
    "\\rho & \\rho & \\rho & 1 & \\rho \\\\\n",
    "\\rho & \\rho & \\rho & \\rho & 1 \n",
    "\\end{pmatrix}\n",
    "$$\n",
    "\n",
    "The weights are of the form:\n",
    "\n",
    "$$\n",
    "\\begin{pmatrix}\n",
    "\\omega^{1:5}\\\\\n",
    "\\omega^{6:10}\\\\\n",
    "\\omega^{11:15}\\\\\n",
    "\\omega^{16:p}\n",
    "\\end{pmatrix} = \n",
    "\\begin{pmatrix}\n",
    "\\chi\\\\\n",
    "0.5\\chi\\\\\n",
    "0.25\\chi\\\\\n",
    "0\n",
    "\\end{pmatrix}\n",
    "$$\n",
    "\n",
    "Where $\\omega^{1:5}$ denotes the weights of variables $x_1, \\cdots, x_5$. That is, there are 15 variables which are informative to the variable $y$, and $p-15$ variables which are uninformative. \n",
    "\n",
    "We perform different experiments varying the training size and the correlation coefficient:\n",
    "\n",
    "$$\n",
    "n \\in \\{100,200,400\\} \\\\\n",
    "\\rho \\in \\{0, 0.5, 0.9\\}\\\\\n",
    "\\chi \\in \\{0.59, 0.34, 0.28\\}\n",
    "$$"
   ]
  },
  {
   "cell_type": "code",
   "execution_count": 1,
   "metadata": {},
   "outputs": [],
   "source": [
    "library(MASS)"
   ]
  },
  {
   "cell_type": "code",
   "execution_count": 2,
   "metadata": {},
   "outputs": [],
   "source": [
    "simulate.regression<-function(n, rho, chi, p=100){\n",
    "    sigma2<-1\n",
    "    mu<-rep(0,p)\n",
    "    \n",
    "    # Define R-tilde matrix\n",
    "    Rt<- matrix(rep(rho, 5*5), ncol=5)\n",
    "    diag(Rt)<-rep(1,5)\n",
    "\n",
    "    # Define R matrix\n",
    "    R <- matrix(0, ncol=p, nrow=p)\n",
    "    for(i in seq(1,p,5)){\n",
    "        R[i:(i+4), i:(i+4)] <- Rt\n",
    "    }\n",
    "\n",
    "    # Define weights\n",
    "    w<-matrix(0, ncol=1, nrow=p)\n",
    "    w[1:5,1]<-chi\n",
    "    w[6:10,1]<-chi*0.5\n",
    "    w[11:15,1]<-chi*0.25\n",
    "\n",
    "    # Generate x observations\n",
    "    x<-mvrnorm(n, mu, R)\n",
    "\n",
    "    # Generate y observations (given x)\n",
    "    y<-rnorm(n, x%*%w, sigma2)\n",
    "    \n",
    "    return(list('x' = x,'y' = y))\n",
    "}"
   ]
  },
  {
   "cell_type": "code",
   "execution_count": 3,
   "metadata": {},
   "outputs": [],
   "source": [
    "# Example simulation experiment\n",
    "# Define parameters\n",
    "n <- 100\n",
    "rho <- 0.5\n",
    "p <- 20\n",
    "chi <- 0.34\n",
    "\n",
    "# Simulate observations\n",
    "sim<-simulate.regression(n, rho, chi, p)\n",
    "x<-sim$x\n",
    "y<-sim$y"
   ]
  },
  {
   "cell_type": "markdown",
   "metadata": {},
   "source": [
    "### Build model\n",
    "\n",
    "Now that we have simulated the observations, we will fit a linear regression. We will consider the standard Gaussian model:\n",
    "\n",
    "$$\n",
    "y|x, \\omega, \\sigma^2 \\sim N(\\omega^Tx, \\sigma^2)\\\\\n",
    "\\omega | \\sigma^2 \\sim N(0, \\sigma^2 \\mathbb{1})\\\\\n",
    "\\sigma^2 \\sim \\text{Inv-Gamma}(\\alpha, \\beta)\\\\\n",
    "$$\n",
    "\n",
    "In this case we will use $\\alpha = \\beta =0.5$, and we assume that $x$ includes the intercept. We will fit this model using two approaches: by deriving analytically the posterior distribution and using Stan.\n",
    "\n"
   ]
  },
  {
   "cell_type": "markdown",
   "metadata": {},
   "source": [
    "### Formulating the model analytically\n",
    "\n",
    "The regression model using a normal-inverse-gamma (NIG) prior is a conjugate model. Therefore, the posterior distribution and posterior predictive distribution can be obtained analytically. Here we describe the Bayesian model.\n",
    "\n",
    "#### Prior\n",
    "\n",
    "The prior distributions of $\\omega$ and $\\sigma^2$ are the following:\n",
    "\n",
    "$$\n",
    "\\omega | \\sigma^2 \\sim N(0, \\sigma^2 \\mathbb{1})\\\\\n",
    "\\sigma^2 \\sim \\text{Inv-Gamma}(\\alpha, \\beta)\\\\\n",
    "$$\n",
    "\n",
    "Recall that the joint prior is of the form $p(\\omega, \\sigma^2) \\propto p(\\omega|\\sigma^2)p(\\sigma^2)$. Therefore, the joint prior $(\\omega,\\sigma^2)$ follows a normal-inverse-gamma (NIG) with parameters:\n",
    "\n",
    "$$\n",
    "(\\omega,\\sigma^2) \\sim NIG(0,\\mathbb{1},\\alpha, \\beta)\n",
    "$$\n",
    "\n",
    "Finally, the prior distribution of $\\omega$ can be found by integrating out $\\sigma^2$ from the joint distribution. After some algebra, the resulting prior for $\\omega$ is a multivariate student $t$:\n",
    "\n",
    "$$\n",
    "\\omega \\sim MVT_\\nu(0, \\Sigma)\n",
    "$$\n",
    "\n",
    "where $\\nu = 2\\alpha$ and $\\Sigma = \\frac{\\beta}{\\alpha}\\mathbb{1}$."
   ]
  },
  {
   "cell_type": "markdown",
   "metadata": {},
   "source": [
    "#### Likelihood\n",
    "\n",
    "The likelihood for the targets $y$ is a normal distribution:\n",
    "$$\n",
    "y|x, \\omega, \\sigma^2 \\sim N(\\omega^Tx, \\sigma^2)\\\\\n",
    "$$\n",
    "\n",
    "#### Posterior\n",
    "\n",
    "The posterior distribution of the pair $(\\omega,\\sigma^2)$ can be derived using the Bayes formula:\n",
    "\n",
    "$$\n",
    "p(\\omega, \\sigma|y,x) = \\frac{p(\\omega, \\sigma^2)p(y|\\omega,\\sigma, x)}{p(y)}\n",
    "$$\n",
    "\n",
    "The posterior probability is again a normal-inverse-gamma:\n",
    "\n",
    "$$\n",
    "(\\omega, \\sigma^2|y,x) \\sim NIG(\\mu^*,V^*,\\alpha^*,\\beta^*)\n",
    "$$\n",
    "\n",
    "with\n",
    "\n",
    "$$\n",
    "\\mu^* = (\\mathbb{1} + X^TX)^{-1}(X^Ty)\\\\\n",
    "V^* = (\\mathbb{1} + X^TX)^{-1}\\\\\n",
    "\\alpha^* = \\alpha + n/2\\\\\n",
    "\\beta^* = \\beta + \\frac{1}{2}(y^Ty - {\\mu^*}^T{V^*}^{-1}\\mu^*)\n",
    "$$\n",
    "\n",
    "The marginal distributions are:\n",
    "\n",
    "$$\n",
    "\\sigma^2|y,x \\sim IG(\\alpha^*, \\beta^*)\\\\\n",
    "\\omega|y,x \\sim MVT_{\\nu^*}(\\mu^*, \\Sigma^*), \\quad \\nu^* = 2\\alpha^*, \\Sigma^* = \\frac{\\beta^*}{\\alpha^*} V^*\\\\\n",
    "\\omega|\\sigma^2,y,x \\sim N(\\mu^*, \\sigma^2V^*)\n",
    "$$"
   ]
  },
  {
   "cell_type": "markdown",
   "metadata": {},
   "source": [
    "#### Posterior predictive\n",
    "\n",
    "Given a new set of observations $\\tilde{X}$, the probability distribution of the new targets $\\tilde{y}$ follows a multivariate student t distribution:\n",
    "\n",
    "$$\n",
    "    \\tilde{y}|x,y,\\sigma^2, \\omega \\sim MVT_{2\\alpha^*}\\Big(\\tilde{X}\\mu^*, \\frac{\\beta^*}{\\alpha^*}(\\mathbb{1} + \\tilde{X}V^*\\tilde{X}^T)\\Big)\n",
    "$$"
   ]
  },
  {
   "cell_type": "code",
   "execution_count": 4,
   "metadata": {},
   "outputs": [
    {
     "name": "stderr",
     "output_type": "stream",
     "text": [
      "Loading required package: LaplacesDemon\n",
      "\n",
      "Loading required package: invgamma\n",
      "\n",
      "\n",
      "Attaching package: ‘invgamma’\n",
      "\n",
      "\n",
      "The following objects are masked from ‘package:LaplacesDemon’:\n",
      "\n",
      "    dinvchisq, dinvgamma, rinvchisq, rinvgamma\n",
      "\n",
      "\n"
     ]
    }
   ],
   "source": [
    "require('LaplacesDemon')\n",
    "require(invgamma)"
   ]
  },
  {
   "cell_type": "code",
   "execution_count": 5,
   "metadata": {},
   "outputs": [
    {
     "data": {
      "image/png": "[encoded data removed]",
      "text/plain": [
       "plot without title"
      ]
     },
     "metadata": {
      "image/png": {
       "height": 420,
       "width": 420
      },
      "text/plain": {
       "height": 420,
       "width": 420
      }
     },
     "output_type": "display_data"
    }
   ],
   "source": [
    "# Define parameters\n",
    "n <- 100\n",
    "rho <- 0.5\n",
    "p <- 20\n",
    "chi <- 0.34\n",
    "\n",
    "# Initial parameters\n",
    "alpha <- 0.5\n",
    "beta <- 0.5\n",
    "N<-3000\n",
    "\n",
    "# Train and test data sets\n",
    "# Train set\n",
    "sim.train<-simulate.regression(n, rho, chi, p)\n",
    "x.train<-sim.train$x\n",
    "y.train<-sim.train$y\n",
    "x.train.ext<-cbind(rep(1, dim(x.train)[2]),x.train)\n",
    "\n",
    "# Test set\n",
    "sim.test<-simulate.regression(N, rho, chi, p)\n",
    "x.test<-sim.test$x\n",
    "y.test<-sim.test$y\n",
    "x.test.ext<-cbind(rep(1, dim(x.test)[2]),x.test)\n",
    "\n",
    "# Posterior parameters\n",
    "V.s<-round(solve(diag(p+1) + t(x.train.ext)%*%x.train.ext),10)\n",
    "mu.s<-V.s%*%(t(x.train.ext)%*%y)\n",
    "alpha.s<-alpha + n/2\n",
    "beta.s<-as.numeric(beta + 1/2*(t(y)%*%y - t(mu.s)%*%solve(V.s)%*%mu.s))\n",
    "\n",
    "# Sample from posterior \n",
    "sigma2.post<-rinvgamma(N,alpha.s,beta.s)\n",
    "omega.post<- rmvt(N,mu.s, V.s, df=2*alpha.s)#rmvt(N,delta = mu.s,sigma = V.s, df = 2*alpha.s)\n",
    "\n",
    "# Sample from posterior predictive\n",
    "new.x<-x.test.ext[1,]\n",
    "new.mu<-new.x%*%mu.s\n",
    "new.V<-beta.s/alpha.s*(diag(1) + t(new.x)%*%V.s%*%new.x)\n",
    "y.pred<-rmvt(N, new.mu, new.V, df = 2*alpha.s)\n",
    "\n",
    "# Get probability density posterior predictive\n",
    "new.y<-as.matrix(seq(-10,10,0.001))\n",
    "dens<-density(y.pred)\n",
    "y.dens <- approx(dens$x,dens$y,xout=new.y)$y\n",
    "\n",
    "\n",
    "truehist(y.pred)\n",
    "lines(new.y, y.dens, col=\"red\")"
   ]
  },
  {
   "cell_type": "code",
   "execution_count": 6,
   "metadata": {},
   "outputs": [],
   "source": [
    "fit.reg.analytical<-function(x.train, y.train, alpha, beta, extended=FALSE){\n",
    "    p<-dim(x.train)[2]\n",
    "    if(!extended){\n",
    "        x.train.ext<-cbind(dim(x.train)[1],x.train)\n",
    "        p<-p+1\n",
    "    }\n",
    "    else{\n",
    "        x.train.ext<-x.train\n",
    "    }\n",
    "    # Posterior parameters\n",
    "    V.s<-round(solve(diag(p) + t(x.train.ext)%*%x.train.ext),10)\n",
    "    mu.s<-V.s%*%(t(x.train.ext)%*%y.train)\n",
    "    alpha.s<-alpha + n/2\n",
    "    beta.s<-as.numeric(beta + 1/2*(t(y.train)%*%y.train - t(mu.s)%*%solve(V.s)%*%mu.s))\n",
    "    return(list(V.s =V.s, mu.s = mu.s, alpha.s = alpha.s, beta.s = beta.s))\n",
    "\n",
    "}\n",
    "\n",
    "get.prob.y.reg.anal<-function(x.new, V.s, mu.s, alpha.s,beta.s, probs, extended = FALSE){\n",
    "    # Sample from posterior predictive\n",
    "    if(!extended){\n",
    "        x.new.ext<-rbind(1,x.new)\n",
    "    }\n",
    "    else{\n",
    "        x.new.ext<-x.new\n",
    "    }\n",
    "    new.mu<-t(x.new.ext)%*%mu.s\n",
    "    new.V<-beta.s/alpha.s*(diag(1) + t(x.new.ext)%*%V.s%*%x.new.ext)\n",
    "    y.pred<-rmvt(N, new.mu, new.V, df = 2*alpha.s)\n",
    "\n",
    "    # Get probability density posterior predictive\n",
    "    new.y<-as.matrix(seq(-10,10,0.001))\n",
    "    dens<-density(y.pred)\n",
    "    y.dens <- approx(dens$x,dens$y,xout=probs)$y\n",
    "    return(y.dens)\n",
    "}\n",
    "\n",
    "fit<-fit.reg.analytical(x.train, y.train, alpha, beta)\n",
    "x.new<-as.matrix(x.test[1,])\n",
    "probs<-seq(-5,5,0.01)\n",
    "dens<-get.prob.y.reg.anal(x.new, fit$V.s, fit$mu.s, fit$alpha.s,fit$beta.s, probs)\n"
   ]
  },
  {
   "cell_type": "markdown",
   "metadata": {},
   "source": [
    "### Formulating the model with Stan"
   ]
  },
  {
   "cell_type": "code",
   "execution_count": 7,
   "metadata": {},
   "outputs": [],
   "source": [
    "modelString.reg = \"\n",
    "   data { \n",
    "      int<lower=1> n;   // total number of observations \n",
    "      vector[n] y;      // response variable \n",
    "      int<lower=1> p;  // number of effects \n",
    "      matrix[n,p+1] X;   // model matrix \n",
    "      real alphaS;    // alpha sigma^2\n",
    "      real betaS;    // beta sigma^2\n",
    "      } \n",
    "      \n",
    "   transformed data {\n",
    "      } \n",
    "      \n",
    "   parameters { \n",
    "      vector[p+1] omega;     // linear regression weights\n",
    "      real<lower=0> sigma;   // standard deviation y\n",
    "      }\n",
    "\n",
    "   transformed parameters { \n",
    "      } \n",
    "      \n",
    "   model { \n",
    "      vector[n] mu; \n",
    "      mu = X * omega; \n",
    "      \n",
    "      // priors\n",
    "      omega  ~ normal(0,sigma);\n",
    "      sigma ~ inv_gamma(alphaS, betaS);\n",
    "\n",
    "      // likelihood \n",
    "      y ~ normal(mu, sigma); \n",
    "      } \n",
    "      \n",
    "   generated quantities {\n",
    "      } \n",
    "\""
   ]
  },
  {
   "cell_type": "markdown",
   "metadata": {},
   "source": [
    "### Generate data for the model\n"
   ]
  },
  {
   "cell_type": "code",
   "execution_count": 8,
   "metadata": {},
   "outputs": [],
   "source": [
    "D <- data.frame(y, x)\n",
    "\n",
    "X.model = model.matrix(y~. , data = D) # This function includes the intercept for the model\n",
    "\n",
    "data.list <- with(D, list(y = y, X = X.model, p= ncol(X.model)- 1, n=nrow(D), \n",
    "                             alphaS=0.5, betaS=0.5, alphaT=0.5, betaT=0.5))\n",
    "\n"
   ]
  },
  {
   "cell_type": "markdown",
   "metadata": {},
   "source": [
    "### Fitting the model"
   ]
  },
  {
   "cell_type": "code",
   "execution_count": 9,
   "metadata": {},
   "outputs": [
    {
     "name": "stderr",
     "output_type": "stream",
     "text": [
      "Loading required package: rstan\n",
      "\n",
      "Loading required package: StanHeaders\n",
      "\n",
      "Loading required package: ggplot2\n",
      "\n",
      "rstan (Version 2.19.3, GitRev: 2e1f913d3ca3)\n",
      "\n",
      "For execution on a local, multicore CPU with excess RAM we recommend calling\n",
      "options(mc.cores = parallel::detectCores()).\n",
      "To avoid recompilation of unchanged Stan programs, we recommend calling\n",
      "rstan_options(auto_write = TRUE)\n",
      "\n"
     ]
    }
   ],
   "source": [
    "#install.packages(\"rstan\",dependencies=TRUE,repos= \"https://cloud.r-project.org\")\n",
    "options(mc.cores = parallel::detectCores())\n",
    "require(rstan)\n",
    "rstan_options(auto_write = TRUE)\n",
    "Sys.setenv(LOCAL_CPPFLAGS = '-march=corei7 -mtune=corei7')"
   ]
  },
  {
   "cell_type": "markdown",
   "metadata": {},
   "source": [
    "### Generate a sample from the posterior probability"
   ]
  },
  {
   "cell_type": "code",
   "execution_count": 10,
   "metadata": {},
   "outputs": [
    {
     "name": "stdout",
     "output_type": "stream",
     "text": [
      "\n",
      "SAMPLING FOR MODEL 'e5fbc3392bc853139e89e4496de18608' NOW (CHAIN 1).\n",
      "Chain 1: \n",
      "Chain 1: Gradient evaluation took 2.5e-05 seconds\n",
      "Chain 1: 1000 transitions using 10 leapfrog steps per transition would take 0.25 seconds.\n",
      "Chain 1: Adjust your expectations accordingly!\n",
      "Chain 1: \n",
      "Chain 1: \n",
      "Chain 1: Iteration:    1 / 10000 [  0%]  (Warmup)\n",
      "Chain 1: Iteration: 1000 / 10000 [ 10%]  (Warmup)\n",
      "Chain 1: Iteration: 1501 / 10000 [ 15%]  (Sampling)\n",
      "Chain 1: Iteration: 2500 / 10000 [ 25%]  (Sampling)\n",
      "Chain 1: Iteration: 3500 / 10000 [ 35%]  (Sampling)\n",
      "Chain 1: Iteration: 4500 / 10000 [ 45%]  (Sampling)\n",
      "Chain 1: Iteration: 5500 / 10000 [ 55%]  (Sampling)\n",
      "Chain 1: Iteration: 6500 / 10000 [ 65%]  (Sampling)\n",
      "Chain 1: Iteration: 7500 / 10000 [ 75%]  (Sampling)\n",
      "Chain 1: Iteration: 8500 / 10000 [ 85%]  (Sampling)\n",
      "Chain 1: Iteration: 9500 / 10000 [ 95%]  (Sampling)\n",
      "Chain 1: Iteration: 10000 / 10000 [100%]  (Sampling)\n",
      "Chain 1: \n",
      "Chain 1:  Elapsed Time: 0.234952 seconds (Warm-up)\n",
      "Chain 1:                1.22883 seconds (Sampling)\n",
      "Chain 1:                1.46379 seconds (Total)\n",
      "Chain 1: \n"
     ]
    }
   ],
   "source": [
    "# Translate model to C++ and compile to DSO:\n",
    "stanDso <- stan_model(model_code=modelString.reg) \n",
    "\n",
    "# Generate posterior sample:\n",
    "stanFit.post<-sampling(object=stanDso,data=data.list,chains=1,iter=10000,warmup=1500,thin=1, seed =101)"
   ]
  },
  {
   "cell_type": "code",
   "execution_count": 11,
   "metadata": {},
   "outputs": [],
   "source": [
    "# Samples of all the variables\n",
    "\n",
    "omega.post <- extract(stanFit.post, 'omega')$omega\n",
    "sigma.post <- extract(stanFit.post, 'sigma')\n",
    "sigma.post <- unlist(sigma.post, use.names=FALSE)"
   ]
  },
  {
   "cell_type": "code",
   "execution_count": 12,
   "metadata": {},
   "outputs": [
    {
     "data": {
      "image/png": "[encoded data removed]",
      "text/plain": [
       "Plot with title “Posterior pdf of sigma”"
      ]
     },
     "metadata": {
      "image/png": {
       "height": 360,
       "width": 360
      },
      "text/plain": {
       "height": 360,
       "width": 360
      }
     },
     "output_type": "display_data"
    }
   ],
   "source": [
    "options(repr.plot.width=6,repr.plot.height=6)\n",
    "hist(sigma.post,freq=FALSE,col=\"LightGreen\",breaks=60,xlab=\"\",ylab=\"\",main=\"Posterior pdf of sigma\")\n"
   ]
  },
  {
   "cell_type": "markdown",
   "metadata": {},
   "source": [
    "### Obtain probability distribution of new observations"
   ]
  },
  {
   "cell_type": "code",
   "execution_count": 13,
   "metadata": {},
   "outputs": [],
   "source": [
    "# Given a new observation x.new\n",
    "sim.new<-simulate.regression(1, rho, chi, p)\n",
    "x.new<-as.matrix(sim.new$x)\n",
    "x.new.ext<-rbind(1,x.new)\n",
    "\n",
    "\n",
    "# Generate the probability distribution y|x,omega,sigma,tau\n",
    "# Draw samples of y from the likelihood, using the posterior parameters\n",
    "\n",
    "get.y.distr<-function(x.new, omega.post, sigma.post){\n",
    "    x.new.ext<-rbind(1,x.new)\n",
    "    mu<-omega.post%*%x.new.ext\n",
    "    sd<-sigma.post\n",
    "    n.samp<-length(sigma.post)\n",
    "    y.samp<-rnorm(n.samp, mu, sd)\n",
    "    return(y.samp)\n",
    "}\n",
    "\n",
    "y.samp<-get.y.distr(x.new, omega.post, sigma.post)"
   ]
  },
  {
   "cell_type": "code",
   "execution_count": 14,
   "metadata": {},
   "outputs": [
    {
     "data": {
      "image/png": "[encoded data removed]",
      "text/plain": [
       "Plot with title “Distribution of y|x.new”"
      ]
     },
     "metadata": {
      "image/png": {
       "height": 360,
       "width": 360
      },
      "text/plain": {
       "height": 360,
       "width": 360
      }
     },
     "output_type": "display_data"
    }
   ],
   "source": [
    "options(repr.plot.width=6,repr.plot.height=6)\n",
    "hist(y.samp,freq=FALSE,col=\"LightGreen\",breaks=60,xlab=\"\",ylab=\"\",main=\"Distribution of y|x.new\")\n"
   ]
  },
  {
   "cell_type": "markdown",
   "metadata": {},
   "source": [
    "## Putting it all together\n",
    "\n",
    "The following function calculates a Bayesian Linear Regression, given an initial dataset and prior parameters. It returns the posterior quantities. These quantities can be used to generate the labels probability distribution $\\tilde{y}|x,\\omega,\\sigma,\\tau$. \n"
   ]
  },
  {
   "cell_type": "code",
   "execution_count": 8,
   "metadata": {},
   "outputs": [
    {
     "name": "stderr",
     "output_type": "stream",
     "text": [
      "Loading required package: rstan\n",
      "\n",
      "Loading required package: StanHeaders\n",
      "\n",
      "Loading required package: ggplot2\n",
      "\n",
      "rstan (Version 2.19.3, GitRev: 2e1f913d3ca3)\n",
      "\n",
      "For execution on a local, multicore CPU with excess RAM we recommend calling\n",
      "options(mc.cores = parallel::detectCores()).\n",
      "To avoid recompilation of unchanged Stan programs, we recommend calling\n",
      "rstan_options(auto_write = TRUE)\n",
      "\n"
     ]
    }
   ],
   "source": [
    "# Load Stan package\n",
    "options(mc.cores = parallel::detectCores())\n",
    "require(rstan)\n",
    "rstan_options(auto_write = TRUE)\n",
    "Sys.setenv(LOCAL_CPPFLAGS = '-march=corei7 -mtune=corei7')\n",
    "\n",
    "fit.linear.regression<-function(x,y,alphaS, betaS, modelString){\n",
    "    # Create data for Stan\n",
    "    D <- data.frame(y, x)\n",
    "    X.model = model.matrix(y~. , data = D) # This function includes the intercept for the model\n",
    "    data.list <- with(D, list(y = y, X = X.model, p= ncol(X.model)- 1, n=nrow(D), \n",
    "                                 alphaS=alphaS, betaS=betaS))\n",
    "\n",
    "    # Translate model to C++ and compile to DSO:\n",
    "    stanDso <- stan_model(model_code=modelString) \n",
    "\n",
    "    # Generate posterior sample:\n",
    "    stanFit.post<-sampling(object=stanDso,data=data.list,chains=3,iter=2000,warmup=1000,thin=1, seed =101)\n",
    "\n",
    "    # Samples of all the variables\n",
    "    omega.post <- extract(stanFit.post, 'omega')$omega\n",
    "    sigma.post <- extract(stanFit.post, 'sigma')\n",
    "    sigma.post <- unlist(sigma.post, use.names=FALSE)\n",
    "    \n",
    "    return(list(omega.post = omega.post,  sigma.post = sigma.post)) \n",
    "}\n",
    "\n",
    "\n",
    "get.y.distr.reg<-function(x.new, omega.post, sigma.post){\n",
    "    x.new.ext<-rbind(1,x.new)\n",
    "    mu<-omega.post%*%x.new.ext\n",
    "    sd<-sigma.post\n",
    "    n.samp<-length(sigma.post)\n",
    "    y.samp<-rnorm(n.samp, mu, sd)\n",
    "    return(y.samp)\n",
    "}\n",
    "\n",
    "\n",
    "get.y.probs.reg<-function(x.new, omega.post, sigma.post, q){\n",
    "    # q is the vector of quantiles to obtain the probabilities\n",
    "    y.samp<-get.y.distr.reg(x.new, omega.post, sigma.post)\n",
    "    dens<-density(y.samp)\n",
    "    probs <- approx(dens$x,dens$y,xout=q)$y\n",
    "    return(probs)\n",
    "}"
   ]
  },
  {
   "cell_type": "code",
   "execution_count": 9,
   "metadata": {},
   "outputs": [
    {
     "data": {
      "text/html": [
       "<style>\n",
       ".list-inline {list-style: none; margin:0; padding: 0}\n",
       ".list-inline>li {display: inline-block}\n",
       ".list-inline>li:not(:last-child)::after {content: \"\\00b7\"; padding: 0 .5ex}\n",
       "</style>\n",
       "<ol class=list-inline><li>0.00115855221640217</li><li>0.0011583706798575</li><li>0.001041330671421</li><li>0.000960497631216604</li><li>0.00112667542379537</li><li>0.00168137017424609</li><li>0.00262165267151712</li><li>0.00381631350706181</li><li>0.00507378309711967</li><li>0.00633273883528922</li><li>0.00796386941675327</li><li>0.0107310877720502</li><li>0.0151122494931591</li><li>0.0206625106307475</li><li>0.0262910322235369</li><li>0.0313439354454471</li><li>0.0360866932363645</li><li>0.0413404100263724</li><li>0.0480219118427612</li><li>0.0569736062324466</li><li>0.0684162798342589</li><li>0.0817566748895056</li><li>0.0963376281164138</li><li>0.112199243467303</li><li>0.12985562167535</li><li>0.149422900256309</li><li>0.169722626159794</li><li>0.188743218649306</li><li>0.206027963435287</li><li>0.224258794227108</li><li>0.246395793727171</li><li>0.271394626119499</li><li>0.295135085537115</li><li>0.316018841605754</li><li>0.335751203039566</li><li>0.354510253629043</li><li>0.369020694022923</li><li>0.377085286399197</li><li>0.380475784544691</li><li>0.382105918175297</li><li>0.382345393230018</li><li>0.379780755946507</li><li>0.373954222698398</li><li>0.365775766539344</li><li>0.355177486274464</li><li>0.339698495383237</li><li>0.317507157766588</li><li>0.291427784215938</li><li>0.267235549364713</li><li>0.247366076578826</li><li>0.229203222623372</li><li>0.209117455038003</li><li>0.186759909825546</li><li>0.164610957422</li><li>0.144757550800529</li><li>0.126760725164752</li><li>0.108914692502287</li><li>0.0907646880797266</li><li>0.073771041227217</li><li>0.0594744839435919</li><li>0.0482085602459779</li><li>0.0393929157295647</li><li>0.0324069106745754</li><li>0.0266120920600645</li><li>0.021292804526581</li><li>0.0160006108393727</li><li>0.0108767442342354</li><li>0.00657406517418511</li><li>0.00366430243995047</li><li>0.0021969371357212</li><li>0.00172845310186181</li><li>0.00170422101250561</li><li>0.00168995948903097</li><li>0.00144459119895864</li><li>0.000992631495278552</li><li>0.000529195218040605</li><li>0.000215980086020493</li><li>6.68759215486936e-05</li><li>1.56361592051618e-05</li><li>3.05636418040923e-06</li><li>2.25635920856681e-06</li></ol>\n"
      ],
      "text/latex": [
       "\\begin{enumerate*}\n",
       "\\item 0.00115855221640217\n",
       "\\item 0.0011583706798575\n",
       "\\item 0.001041330671421\n",
       "\\item 0.000960497631216604\n",
       "\\item 0.00112667542379537\n",
       "\\item 0.00168137017424609\n",
       "\\item 0.00262165267151712\n",
       "\\item 0.00381631350706181\n",
       "\\item 0.00507378309711967\n",
       "\\item 0.00633273883528922\n",
       "\\item 0.00796386941675327\n",
       "\\item 0.0107310877720502\n",
       "\\item 0.0151122494931591\n",
       "\\item 0.0206625106307475\n",
       "\\item 0.0262910322235369\n",
       "\\item 0.0313439354454471\n",
       "\\item 0.0360866932363645\n",
       "\\item 0.0413404100263724\n",
       "\\item 0.0480219118427612\n",
       "\\item 0.0569736062324466\n",
       "\\item 0.0684162798342589\n",
       "\\item 0.0817566748895056\n",
       "\\item 0.0963376281164138\n",
       "\\item 0.112199243467303\n",
       "\\item 0.12985562167535\n",
       "\\item 0.149422900256309\n",
       "\\item 0.169722626159794\n",
       "\\item 0.188743218649306\n",
       "\\item 0.206027963435287\n",
       "\\item 0.224258794227108\n",
       "\\item 0.246395793727171\n",
       "\\item 0.271394626119499\n",
       "\\item 0.295135085537115\n",
       "\\item 0.316018841605754\n",
       "\\item 0.335751203039566\n",
       "\\item 0.354510253629043\n",
       "\\item 0.369020694022923\n",
       "\\item 0.377085286399197\n",
       "\\item 0.380475784544691\n",
       "\\item 0.382105918175297\n",
       "\\item 0.382345393230018\n",
       "\\item 0.379780755946507\n",
       "\\item 0.373954222698398\n",
       "\\item 0.365775766539344\n",
       "\\item 0.355177486274464\n",
       "\\item 0.339698495383237\n",
       "\\item 0.317507157766588\n",
       "\\item 0.291427784215938\n",
       "\\item 0.267235549364713\n",
       "\\item 0.247366076578826\n",
       "\\item 0.229203222623372\n",
       "\\item 0.209117455038003\n",
       "\\item 0.186759909825546\n",
       "\\item 0.164610957422\n",
       "\\item 0.144757550800529\n",
       "\\item 0.126760725164752\n",
       "\\item 0.108914692502287\n",
       "\\item 0.0907646880797266\n",
       "\\item 0.073771041227217\n",
       "\\item 0.0594744839435919\n",
       "\\item 0.0482085602459779\n",
       "\\item 0.0393929157295647\n",
       "\\item 0.0324069106745754\n",
       "\\item 0.0266120920600645\n",
       "\\item 0.021292804526581\n",
       "\\item 0.0160006108393727\n",
       "\\item 0.0108767442342354\n",
       "\\item 0.00657406517418511\n",
       "\\item 0.00366430243995047\n",
       "\\item 0.0021969371357212\n",
       "\\item 0.00172845310186181\n",
       "\\item 0.00170422101250561\n",
       "\\item 0.00168995948903097\n",
       "\\item 0.00144459119895864\n",
       "\\item 0.000992631495278552\n",
       "\\item 0.000529195218040605\n",
       "\\item 0.000215980086020493\n",
       "\\item 6.68759215486936e-05\n",
       "\\item 1.56361592051618e-05\n",
       "\\item 3.05636418040923e-06\n",
       "\\item 2.25635920856681e-06\n",
       "\\end{enumerate*}\n"
      ],
      "text/markdown": [
       "1. 0.00115855221640217\n",
       "2. 0.0011583706798575\n",
       "3. 0.001041330671421\n",
       "4. 0.000960497631216604\n",
       "5. 0.00112667542379537\n",
       "6. 0.00168137017424609\n",
       "7. 0.00262165267151712\n",
       "8. 0.00381631350706181\n",
       "9. 0.00507378309711967\n",
       "10. 0.00633273883528922\n",
       "11. 0.00796386941675327\n",
       "12. 0.0107310877720502\n",
       "13. 0.0151122494931591\n",
       "14. 0.0206625106307475\n",
       "15. 0.0262910322235369\n",
       "16. 0.0313439354454471\n",
       "17. 0.0360866932363645\n",
       "18. 0.0413404100263724\n",
       "19. 0.0480219118427612\n",
       "20. 0.0569736062324466\n",
       "21. 0.0684162798342589\n",
       "22. 0.0817566748895056\n",
       "23. 0.0963376281164138\n",
       "24. 0.112199243467303\n",
       "25. 0.12985562167535\n",
       "26. 0.149422900256309\n",
       "27. 0.169722626159794\n",
       "28. 0.188743218649306\n",
       "29. 0.206027963435287\n",
       "30. 0.224258794227108\n",
       "31. 0.246395793727171\n",
       "32. 0.271394626119499\n",
       "33. 0.295135085537115\n",
       "34. 0.316018841605754\n",
       "35. 0.335751203039566\n",
       "36. 0.354510253629043\n",
       "37. 0.369020694022923\n",
       "38. 0.377085286399197\n",
       "39. 0.380475784544691\n",
       "40. 0.382105918175297\n",
       "41. 0.382345393230018\n",
       "42. 0.379780755946507\n",
       "43. 0.373954222698398\n",
       "44. 0.365775766539344\n",
       "45. 0.355177486274464\n",
       "46. 0.339698495383237\n",
       "47. 0.317507157766588\n",
       "48. 0.291427784215938\n",
       "49. 0.267235549364713\n",
       "50. 0.247366076578826\n",
       "51. 0.229203222623372\n",
       "52. 0.209117455038003\n",
       "53. 0.186759909825546\n",
       "54. 0.164610957422\n",
       "55. 0.144757550800529\n",
       "56. 0.126760725164752\n",
       "57. 0.108914692502287\n",
       "58. 0.0907646880797266\n",
       "59. 0.073771041227217\n",
       "60. 0.0594744839435919\n",
       "61. 0.0482085602459779\n",
       "62. 0.0393929157295647\n",
       "63. 0.0324069106745754\n",
       "64. 0.0266120920600645\n",
       "65. 0.021292804526581\n",
       "66. 0.0160006108393727\n",
       "67. 0.0108767442342354\n",
       "68. 0.00657406517418511\n",
       "69. 0.00366430243995047\n",
       "70. 0.0021969371357212\n",
       "71. 0.00172845310186181\n",
       "72. 0.00170422101250561\n",
       "73. 0.00168995948903097\n",
       "74. 0.00144459119895864\n",
       "75. 0.000992631495278552\n",
       "76. 0.000529195218040605\n",
       "77. 0.000215980086020493\n",
       "78. 6.68759215486936e-05\n",
       "79. 1.56361592051618e-05\n",
       "80. 3.05636418040923e-06\n",
       "81. 2.25635920856681e-06\n",
       "\n",
       "\n"
      ],
      "text/plain": [
       " [1] 1.158552e-03 1.158371e-03 1.041331e-03 9.604976e-04 1.126675e-03\n",
       " [6] 1.681370e-03 2.621653e-03 3.816314e-03 5.073783e-03 6.332739e-03\n",
       "[11] 7.963869e-03 1.073109e-02 1.511225e-02 2.066251e-02 2.629103e-02\n",
       "[16] 3.134394e-02 3.608669e-02 4.134041e-02 4.802191e-02 5.697361e-02\n",
       "[21] 6.841628e-02 8.175667e-02 9.633763e-02 1.121992e-01 1.298556e-01\n",
       "[26] 1.494229e-01 1.697226e-01 1.887432e-01 2.060280e-01 2.242588e-01\n",
       "[31] 2.463958e-01 2.713946e-01 2.951351e-01 3.160188e-01 3.357512e-01\n",
       "[36] 3.545103e-01 3.690207e-01 3.770853e-01 3.804758e-01 3.821059e-01\n",
       "[41] 3.823454e-01 3.797808e-01 3.739542e-01 3.657758e-01 3.551775e-01\n",
       "[46] 3.396985e-01 3.175072e-01 2.914278e-01 2.672355e-01 2.473661e-01\n",
       "[51] 2.292032e-01 2.091175e-01 1.867599e-01 1.646110e-01 1.447576e-01\n",
       "[56] 1.267607e-01 1.089147e-01 9.076469e-02 7.377104e-02 5.947448e-02\n",
       "[61] 4.820856e-02 3.939292e-02 3.240691e-02 2.661209e-02 2.129280e-02\n",
       "[66] 1.600061e-02 1.087674e-02 6.574065e-03 3.664302e-03 2.196937e-03\n",
       "[71] 1.728453e-03 1.704221e-03 1.689959e-03 1.444591e-03 9.926315e-04\n",
       "[76] 5.291952e-04 2.159801e-04 6.687592e-05 1.563616e-05 3.056364e-06\n",
       "[81] 2.256359e-06"
      ]
     },
     "metadata": {},
     "output_type": "display_data"
    }
   ],
   "source": [
    "# Example\n",
    "\n",
    "# Fit linear model and generate posterior quantities\n",
    "linear.fit<-fit.linear.regression(x,y,0.5,0.5, modelString.reg)\n",
    "omega.post<-linear.fit$omega.post\n",
    "sigma.post<-linear.fit$sigma.post\n",
    "\n",
    "# New observation\n",
    "sim.new<-simulate.regression(1, rho, chi, p)\n",
    "x.new<-as.matrix(sim.new$x)\n",
    "\n",
    "# Get probability density of different values of y\n",
    "probs<-get.y.probs.reg(x.new, omega.post, sigma.post, seq(-4,4,0.1))\n",
    "probs"
   ]
  },
  {
   "cell_type": "markdown",
   "metadata": {},
   "source": [
    "## 2. Classification model\n",
    "\n",
    "### Data simulation\n",
    "\n",
    "The second type of models we are going to consider are Classification models. \n",
    "In this case, we will simulate binary data according to a probit model. The data simulation process is the following:\n",
    "\n",
    "$$\n",
    "x \\sim N(0,R), \\quad R \\in \\mathbb{R}^{p\\times p}\n",
    "$$\n",
    "\n",
    "$$\n",
    "y|x \\sim Ber(\\Phi(\\omega^Tx))\n",
    "$$\n",
    "\n",
    "Where $R$ is the same correlation matrix as the one used in the regression problem, and $\\Phi$ is the cumulative distribution function of a Gaussian distribution. The weights $\\omega$ and the parameters $n, \\rho, \\chi, p$ are the same as the ones used in the regression problem."
   ]
  },
  {
   "cell_type": "code",
   "execution_count": 9,
   "metadata": {},
   "outputs": [],
   "source": [
    "library(MASS)\n",
    "\n",
    "simulate.classification<-function(n, rho, chi, p=100){\n",
    "    mu<-rep(0,p)\n",
    "    \n",
    "    # Define R-tilde matrix\n",
    "    Rt<- matrix(rep(rho, 5*5), ncol=5)\n",
    "    diag(Rt)<-rep(1,5)\n",
    "\n",
    "    # Define R matrix\n",
    "    R <- matrix(0, ncol=p, nrow=p)\n",
    "    for(i in seq(1,p,5)){\n",
    "        R[i:(i+4), i:(i+4)] <- Rt\n",
    "    }\n",
    "\n",
    "    # Define weights\n",
    "    w<-matrix(0, ncol=1, nrow=p)\n",
    "    w[1:5,1]<-chi\n",
    "    w[6:10,1]<-chi*0.5\n",
    "    w[11:15,1]<-chi*0.25\n",
    "\n",
    "    # Generate x observations\n",
    "    x<-mvrnorm(n, mu, R)\n",
    "\n",
    "    # Generate y observations (given x)\n",
    "    y<-rbinom(n,1, pnorm(x%*%w))\n",
    "    \n",
    "    return(list('x' = x,'y' = y))\n",
    "}"
   ]
  },
  {
   "cell_type": "code",
   "execution_count": 10,
   "metadata": {},
   "outputs": [],
   "source": [
    "# Example simulation experiment\n",
    "# Define parameters\n",
    "n <- 100\n",
    "rho <- 0.5\n",
    "p <- 100\n",
    "chi <- 0.34\n",
    "\n",
    "# Simulate observations\n",
    "sim<-simulate.classification(n, rho, chi, p)\n",
    "x<-sim$x\n",
    "y<-sim$y"
   ]
  },
  {
   "cell_type": "markdown",
   "metadata": {},
   "source": [
    "### Build model\n",
    "\n",
    "Now that we have simulated the observations, we will fit a linear regression. We will consider the standard logistic model:\n",
    "\n",
    "$$\n",
    "y|x, \\omega \\sim Ber(\\text{inv_logit}(\\omega^Tx))\\\\\n",
    "\\omega |  \\tau^2 \\sim N(0, \\tau^2 \\mathcal{1})\\\\\n",
    "\\tau^2 \\sim \\text{Inv-Gamma}(\\alpha_\\tau, \\beta_\\tau)\n",
    "$$\n",
    "\n",
    "In this case we will use $ \\alpha_\\tau = \\beta_\\tau =0.5$, and we assume that $x$ includes the intercept.\n",
    "\n",
    "We will fit this model using Stan."
   ]
  },
  {
   "cell_type": "markdown",
   "metadata": {},
   "source": [
    "### Formulating the model"
   ]
  },
  {
   "cell_type": "code",
   "execution_count": 11,
   "metadata": {},
   "outputs": [],
   "source": [
    "modelString.class = \"\n",
    "   data { \n",
    "      int<lower=1> n;   // total number of observations \n",
    "      int<lower=0,upper=1> y[n];      // response variable \n",
    "      int<lower=1> p;  // number of effects \n",
    "      matrix[n,p+1] X;   // model matrix \n",
    "      real alphaT;   // alpha tau^2\n",
    "      real betaT;    // beta tau^2\n",
    "      } \n",
    "      \n",
    "   transformed data {\n",
    "      } \n",
    "      \n",
    "   parameters { \n",
    "      vector[p+1] omega;     // linear regression weights\n",
    "      real<lower=0> tau; // standard deviation omega\n",
    "      }\n",
    "\n",
    "   transformed parameters { \n",
    "      } \n",
    "      \n",
    "   model { \n",
    "      vector[n] mu; \n",
    "      mu = X * omega; \n",
    "      \n",
    "      // priors\n",
    "      omega  ~ normal(0,tau); \n",
    "      tau ~ inv_gamma(alphaT, betaT);\n",
    "\n",
    "      // likelihood \n",
    "      y ~ bernoulli_logit(mu);\n",
    "\n",
    "      } \n",
    "      \n",
    "   generated quantities {\n",
    "      } \n",
    "\""
   ]
  },
  {
   "cell_type": "code",
   "execution_count": 40,
   "metadata": {},
   "outputs": [],
   "source": [
    "# Load Stan package\n",
    "options(mc.cores = parallel::detectCores())\n",
    "require(rstan)\n",
    "rstan_options(auto_write = TRUE)\n",
    "Sys.setenv(LOCAL_CPPFLAGS = '-march=corei7 -mtune=corei7')\n",
    "\n",
    "# Translate model to C++ and compile to DSO:\n",
    "stanDso.class <- stan_model(model_code=modelString.class)     \n",
    "\n",
    "fit.probit<-function(x,y, alphaT, betaT, stanDso){\n",
    "\n",
    "    # Create data for Stan\n",
    "    D <- data.frame(y, x)\n",
    "    X.model = model.matrix(y~. , data = D) # This function includes the intercept for the model\n",
    "    data.list <- with(D, list(y = y, X = X.model, p= ncol(X.model)- 1, n=nrow(D), \n",
    "                               alphaT=alphaT, betaT=betaT))\n",
    "\n",
    "    # Generate posterior sample:\n",
    "    stanFit.post<-sampling(object=stanDso,data=data.list,chains=3,iter=10000,warmup=1500,thin=1, seed =101)\n",
    "\n",
    "    # Samples of all the variables\n",
    "    omega.post <- extract(stanFit.post, 'omega')$omega\n",
    "    tau.post <- extract(stanFit.post, 'tau')\n",
    "    tau.post <- unlist(tau.post, use.names=FALSE)\n",
    "\n",
    "    return(list(omega.post = omega.post, tau.post = tau.post))    \n",
    "}\n",
    "\n",
    "\n",
    "get.y.distr.class<-function(x.new, omega.post){\n",
    "    x.new.ext<-rbind(1,x.new)\n",
    "    p<-pnorm(omega.post%*%x.new.ext)\n",
    "    n.samp<-length(tau.post)\n",
    "    y.samp<-rbinom(n.samp, 1, p)\n",
    "    return(y.samp)\n",
    "}\n",
    "\n",
    "\n",
    "get.y.probs.class<-function(x.new, omega.post){\n",
    "    y.samp<-get.y.distr.class(x.new, omega.post)\n",
    "    p<-sum(y.samp)/length(y.samp)\n",
    "    return(p)\n",
    "}\n"
   ]
  },
  {
   "cell_type": "code",
   "execution_count": 41,
   "metadata": {},
   "outputs": [
    {
     "name": "stderr",
     "output_type": "stream",
     "text": [
      "Warning message:\n",
      "“There were 505 transitions after warmup that exceeded the maximum treedepth. Increase max_treedepth above 10. See\n",
      "http://mc-stan.org/misc/warnings.html#maximum-treedepth-exceeded”\n",
      "Warning message:\n",
      "“There were 3 chains where the estimated Bayesian Fraction of Missing Information was low. See\n",
      "http://mc-stan.org/misc/warnings.html#bfmi-low”\n",
      "Warning message:\n",
      "“Examine the pairs() plot to diagnose sampling problems\n",
      "”\n"
     ]
    }
   ],
   "source": [
    "# Example\n",
    "\n",
    "# Fit linear model and generate posterior quantities\n",
    "linear.fit<-fit.probit(x,y,0.5, 0.5, stanDso.class)\n",
    "omega.post<-linear.fit$omega.post\n",
    "tau.post<-linear.fit$tau.post\n",
    "\n",
    "# New observation\n",
    "sim.new<-simulate.classification(1, rho, chi, p)\n",
    "x.new<-as.matrix(sim.new$x)\n",
    "\n",
    "# Get probability density of different values of y\n",
    "prob<-get.y.probs.class(x.new, omega.post)\n",
    "\n",
    "prob"
   ]
  },
  {
   "cell_type": "markdown",
   "metadata": {},
   "source": [
    "### Using rstanarm\n",
    "\n",
    "Alternatively, we can use the rstanarm package to simulate the logistic model"
   ]
  },
  {
   "cell_type": "code",
   "execution_count": null,
   "metadata": {},
   "outputs": [],
   "source": [
    "require(rstanarm)\n",
    "options(mc.cores = parallel::detectCores())"
   ]
  },
  {
   "cell_type": "code",
   "execution_count": 142,
   "metadata": {},
   "outputs": [],
   "source": [
    "fit.logit<-function(x.train, y.train, alpha, beta, return.cols = FALSE){\n",
    "    D <- data.frame(y.train, x.train)\n",
    "    t_prior <- student_t(df = 2*alpha, location = 0, scale = beta/alpha)\n",
    "\n",
    "    post<-stan_glm(y.train~ ., data = D,\n",
    "                 family = binomial(link = \"logit\"), \n",
    "                 prior = t_prior, prior_intercept = t_prior,\n",
    "                 seed = 123)\n",
    "    if(return.cols){\n",
    "        return(list(post = post, names = colnames(D)))\n",
    "    }\n",
    "    return(post)\n",
    "}\n",
    "\n",
    "\n",
    "pred.prob.class<-function(D.test, model =post, draws=500){\n",
    "    pred<-posterior_predict(model, D.test, draws = 500)\n",
    "    p<-sum(pred)/length(pred)\n",
    "    return(p)\n",
    "}"
   ]
  },
  {
   "cell_type": "markdown",
   "metadata": {},
   "source": [
    "## Experiments: Regression\n",
    "\n",
    "In this section we will perform different experiments to perform variable sellection in a linear regression problem. We will use different criteria, and assess the results.\n",
    "\n",
    "\n",
    "### Utility function\n",
    "\n",
    "The predictive performance of a model is typically defined in terms of a utility function that describes the quality of the predictions. An often used utility function measuring the quality of the predictive distribution of the candidate model M is the expected logarithmic score:\n",
    "\n",
    "$$\n",
    "u(M) = \\mathbb{E}[log(p(\\tilde{y}|M,D)] = \\int p_t(\\tilde{y}) log(p(\\tilde{y}|M,D)) d\\tilde{y}\n",
    "$$\n",
    "\n",
    "Where $D$ is the training dataset, $M$ is the chosen model, $\\tilde{y}$ is a new target observation and $p_t(\\tilde{y})$ is the true data generation distribution. \n",
    "\n",
    "A generalization of the utility function is the mean log predictive density (MLPD):\n",
    "\n",
    "$$\n",
    "MLPD = - \\frac{1}{\\tilde{n}} \\sum_{i=1}^{\\tilde{n}} log(\\tilde{y}|\\tilde{x}, D, M)\n",
    "$$\n",
    "\n",
    "Where $\\{(\\tilde{x}, \\tilde{y})\\}_{i=1}^n$ is the test set. In this case, the best model will be the one which **minimizes** the MLPD."
   ]
  },
  {
   "cell_type": "code",
   "execution_count": 150,
   "metadata": {},
   "outputs": [],
   "source": [
    "## Generate data\n",
    "\n",
    "# Example\n",
    "# Define parameters\n",
    "n <- 100\n",
    "nt<-1000\n",
    "rho <- 0.5\n",
    "p <- 30\n",
    "chi <- 0.34\n",
    "\n",
    "# Simulate observations\n",
    "# Train set\n",
    "sim.train<-simulate.regression(n, rho, chi, p)\n",
    "x.train<-sim.train$x\n",
    "y.train<-sim.train$y\n",
    "\n",
    "# Test set\n",
    "sim.test<-simulate.regression(nt, rho, chi, p)\n",
    "x.test<-sim.test$x\n",
    "y.test<-sim.test$y"
   ]
  },
  {
   "cell_type": "markdown",
   "metadata": {},
   "source": [
    "### With STAN"
   ]
  },
  {
   "cell_type": "code",
   "execution_count": 17,
   "metadata": {},
   "outputs": [],
   "source": [
    "MLPD<-function(x.test, y.test, nt, sigma.pos, omega.pos){\n",
    "    MLPD <- 0\n",
    "    for(i in 1:nt){\n",
    "        # Get probability density of different values of y\n",
    "        p<-get.y.probs.reg(as.matrix(x.test[i,]), omega.post, sigma.post, y.test[i])\n",
    "        MLPD<-MLPD + log(p)\n",
    "    }\n",
    "    MLPD<- - MLPD/nt\n",
    "    return(MLPD)\n",
    "}"
   ]
  },
  {
   "cell_type": "code",
   "execution_count": 18,
   "metadata": {},
   "outputs": [
    {
     "data": {
      "text/html": [
       "1.43688651804239"
      ],
      "text/latex": [
       "1.43688651804239"
      ],
      "text/markdown": [
       "1.43688651804239"
      ],
      "text/plain": [
       "[1] 1.436887"
      ]
     },
     "metadata": {},
     "output_type": "display_data"
    }
   ],
   "source": [
    "# Get MLPD\n",
    "# Fit linear model and generate posterior quantities\n",
    "linear.fit<-fit.linear.regression(x.train,y.train,0.5,0.5, modelString.reg)\n",
    "omega.post<-linear.fit$omega.post\n",
    "sigma.post<-linear.fit$sigma.post\n",
    "\n",
    "\n",
    "performance<-MLPD(x.test, y.test, nt, sigma.pos, omega.pos)\n",
    "\n",
    "performance"
   ]
  },
  {
   "cell_type": "markdown",
   "metadata": {},
   "source": [
    "### Analytically"
   ]
  },
  {
   "cell_type": "code",
   "execution_count": 158,
   "metadata": {},
   "outputs": [],
   "source": [
    "MLPD.anal<-function(x.test, y.test, nt, V.s, mu.s, alpha.s, beta.s){\n",
    "    MLPD <- 0\n",
    "    for(i in 1:nt){\n",
    "        # Get probability density of different values of y\n",
    "        p<-get.prob.y.reg.anal(as.matrix(x.test[i,]), V.s, mu.s, alpha.s, beta.s, y.test[i])\n",
    "        if(!is.na(p)){\n",
    "          MLPD<-MLPD + log(p)   \n",
    "        }\n",
    "    }\n",
    "    MLPD<- - MLPD/nt\n",
    "    return(MLPD)\n",
    "}\n"
   ]
  },
  {
   "cell_type": "code",
   "execution_count": 167,
   "metadata": {},
   "outputs": [
    {
     "data": {
      "text/html": [
       "1.68664160373755"
      ],
      "text/latex": [
       "1.68664160373755"
      ],
      "text/markdown": [
       "1.68664160373755"
      ],
      "text/plain": [
       "[1] 1.686642"
      ]
     },
     "metadata": {},
     "output_type": "display_data"
    }
   ],
   "source": [
    "# Get MLPD\n",
    "# Fit linear model \n",
    "fit<-fit.reg.analytical(x.train, y.train, alpha, beta)\n",
    "\n",
    "performance<-MLPD.anal(x.test, y.test, nt, fit$V.s, fit$mu.s, fit$alpha.s, fit$beta.s)\n",
    "\n",
    "performance\n"
   ]
  },
  {
   "cell_type": "markdown",
   "metadata": {},
   "source": [
    "## Optimization process\n",
    "\n",
    "As a search heuristic we used the standard forward search, also known as the\n",
    "stepwise regression. In other words, starting from the empty model, at each step we select the variable that increases the utility estimate (like CV, WAIC, DIC, etc.) the most.\n",
    "\n"
   ]
  },
  {
   "cell_type": "code",
   "execution_count": 187,
   "metadata": {},
   "outputs": [],
   "source": [
    "optimization<-function(x.train, y.train, criteria, extended = TRUE){\n",
    "    print(\"Starting optimization\")\n",
    "    D <- data.frame(y.train, x.train)\n",
    "    if(extended){\n",
    "        X.model = model.matrix(y.train~. , data = D)\n",
    "    }\n",
    "    else{\n",
    "        X.model = x.train\n",
    "    }\n",
    "    num.vars<-dim(X.model)[2]\n",
    "    all.vars<-seq(1,num.vars)\n",
    "    var.list<-c(1)\n",
    "    all.criteria<-c()\n",
    "    best.vars<-var.list\n",
    "    best.crit.val<-1000\n",
    "    j<-0\n",
    "    while(length(var.list)<num.vars){\n",
    "        j<-j+1\n",
    "        current.x.train<-as.matrix(X.model[,var.list])\n",
    "\n",
    "        current.crit.val<-criteria(current.x.train, y.train)\n",
    "        all.criteria<-c(all.criteria, current.crit.val)\n",
    "        new.crit.vals<-c()\n",
    "        sel.vars<-all.vars[-var.list]\n",
    "        \n",
    "        for(i in sel.vars){\n",
    "            new.x.train<-as.matrix(X.model[,c(var.list,i)])\n",
    "            new.crit.val<-criteria(new.x.train, y.train)\n",
    "            new.crit.vals<-c(new.crit.vals,new.crit.val)\n",
    "        }\n",
    "        \n",
    "        idx<-which.min(new.crit.vals)\n",
    "        new.var<-sel.vars[idx]\n",
    "        if(new.crit.vals[idx] < best.crit.val  ){\n",
    "            best.vars<-c(var.list,new.var)\n",
    "            best.crit.val<-new.crit.vals[idx]\n",
    "        }\n",
    "        var.list<-c(var.list,new.var)\n",
    "        current.crit.val<-new.crit.vals[idx]\n",
    "    }\n",
    "    \n",
    "    current.x.train<-as.matrix(X.model[,best.vars])\n",
    "    print(best.vars)\n",
    "    if(extended){\n",
    "        return(list(model = current.x.train, num.vars = dim(current.x.train)[2]-1,\n",
    "                    criteria = best.crit.val, all.criteria = all.criteria))\n",
    "    }\n",
    "    D <- data.frame(y.train, current.x.train)\n",
    "    X.model = model.matrix(y.train~. , data = D)\n",
    "    return(list(model = X.model, num.vars = dim(current.x.train)[2] -1 ,\n",
    "                        criteria = best.crit.val,all.criteria = all.criteria))\n",
    "}"
   ]
  },
  {
   "cell_type": "markdown",
   "metadata": {},
   "source": [
    "## Criteria 1: Cross-validation\n",
    "\n",
    "The K-flod cross validation is an approximation of the utility function:\n",
    "\n",
    "$$\n",
    "K-fold-CV = \\frac{1}{n} \\sum_{i=1}^n log(p(y_i|x_i, D_i, M)\n",
    "$$\n",
    "\n",
    "where $D_i$ is the training dataset without the point $(x_i, y_i)$ (and probably other sample points). \n",
    "\n"
   ]
  },
  {
   "cell_type": "markdown",
   "metadata": {},
   "source": [
    "### With Stan"
   ]
  },
  {
   "cell_type": "code",
   "execution_count": 22,
   "metadata": {},
   "outputs": [
    {
     "name": "stderr",
     "output_type": "stream",
     "text": [
      "Loading required package: lattice\n",
      "\n"
     ]
    },
    {
     "data": {
      "text/html": [
       "-1.58562068557664"
      ],
      "text/latex": [
       "-1.58562068557664"
      ],
      "text/markdown": [
       "-1.58562068557664"
      ],
      "text/plain": [
       "[1] -1.585621"
      ]
     },
     "metadata": {},
     "output_type": "display_data"
    }
   ],
   "source": [
    "library(caret)\n",
    "\n",
    "k.fold.cv<-function(x.train, y.train, k.fold=10){\n",
    "    set.seed(10)\n",
    "    partitions<-createFolds(y.train, k = k.fold, list = TRUE, returnTrain = FALSE)\n",
    "    cv<-0\n",
    "    for(i in 1:k.fold){\n",
    "        idx<-unlist(partitions[i])\n",
    "        x.fold.in<-as.matrix(x.train[idx,])\n",
    "        y.fold.in<-y.train[idx]\n",
    "        x.fold.out<-as.matrix(x.train[-idx,])\n",
    "        y.fold.out<-y.train[-idx]\n",
    "        linear.fit<-fit.linear.regression(x.fold.out,y.fold.out,0.5,0.5, modelString.reg)\n",
    "        omega.post<-linear.fit$omega.post\n",
    "        sigma.post<-linear.fit$sigma.post\n",
    "        \n",
    "        for(j in 1:length(idx)){ \n",
    "            p<-get.y.probs.reg(as.matrix(x.fold.in[j,]), omega.post, sigma.post, y.fold.in[j])\n",
    "            if(!is.na(p)){\n",
    "                cv<-cv + log(p)\n",
    "            }\n",
    "        }\n",
    "    }\n",
    "    cv<-cv/length(y.train)\n",
    "    return(cv)\n",
    "}\n",
    "\n",
    "k.fold<-10\n",
    "\n",
    "cv<-k.fold.cv(x.train, y.train, k.fold)\n",
    "\n",
    "cv"
   ]
  },
  {
   "cell_type": "markdown",
   "metadata": {},
   "source": [
    "### Optimizing CV"
   ]
  },
  {
   "cell_type": "code",
   "execution_count": 345,
   "metadata": {},
   "outputs": [
    {
     "name": "stdout",
     "output_type": "stream",
     "text": [
      "[1] \"Starting optimization\"\n",
      "[1] 0\n",
      "[1] 1\n",
      "[1] 2\n",
      "[1] 3\n",
      "[1] 4\n",
      "[1] 5\n",
      "[1] 6\n",
      "[1] 7\n",
      "[1] 8\n",
      "[1] 9\n",
      "[1] 10\n",
      "[1] 11\n",
      "[1] 12\n",
      "[1] 13\n"
     ]
    }
   ],
   "source": [
    "opt<-optimization(x.train, y.train, k.fold.cv)"
   ]
  },
  {
   "cell_type": "code",
   "execution_count": 350,
   "metadata": {},
   "outputs": [
    {
     "data": {
      "text/html": [
       "13"
      ],
      "text/latex": [
       "13"
      ],
      "text/markdown": [
       "13"
      ],
      "text/plain": [
       "[1] 13"
      ]
     },
     "metadata": {},
     "output_type": "display_data"
    },
    {
     "data": {
      "text/html": [
       "-1.45579101413102"
      ],
      "text/latex": [
       "-1.45579101413102"
      ],
      "text/markdown": [
       "-1.45579101413102"
      ],
      "text/plain": [
       "[1] -1.455791"
      ]
     },
     "metadata": {},
     "output_type": "display_data"
    },
    {
     "data": {
      "text/html": [
       "<style>\n",
       ".list-inline {list-style: none; margin:0; padding: 0}\n",
       ".list-inline>li {display: inline-block}\n",
       ".list-inline>li:not(:last-child)::after {content: \"\\00b7\"; padding: 0 .5ex}\n",
       "</style>\n",
       "<ol class=list-inline><li>'(Intercept)'</li><li>'X3'</li><li>'X5'</li><li>'X6'</li><li>'X1'</li><li>'X12'</li><li>'X9'</li><li>'X2'</li><li>'X8'</li><li>'X10'</li><li>'X17'</li><li>'X15'</li><li>'X20'</li><li>'X19'</li></ol>\n"
      ],
      "text/latex": [
       "\\begin{enumerate*}\n",
       "\\item '(Intercept)'\n",
       "\\item 'X3'\n",
       "\\item 'X5'\n",
       "\\item 'X6'\n",
       "\\item 'X1'\n",
       "\\item 'X12'\n",
       "\\item 'X9'\n",
       "\\item 'X2'\n",
       "\\item 'X8'\n",
       "\\item 'X10'\n",
       "\\item 'X17'\n",
       "\\item 'X15'\n",
       "\\item 'X20'\n",
       "\\item 'X19'\n",
       "\\end{enumerate*}\n"
      ],
      "text/markdown": [
       "1. '(Intercept)'\n",
       "2. 'X3'\n",
       "3. 'X5'\n",
       "4. 'X6'\n",
       "5. 'X1'\n",
       "6. 'X12'\n",
       "7. 'X9'\n",
       "8. 'X2'\n",
       "9. 'X8'\n",
       "10. 'X10'\n",
       "11. 'X17'\n",
       "12. 'X15'\n",
       "13. 'X20'\n",
       "14. 'X19'\n",
       "\n",
       "\n"
      ],
      "text/plain": [
       " [1] \"(Intercept)\" \"X3\"          \"X5\"          \"X6\"          \"X1\"         \n",
       " [6] \"X12\"         \"X9\"          \"X2\"          \"X8\"          \"X10\"        \n",
       "[11] \"X17\"         \"X15\"         \"X20\"         \"X19\"        "
      ]
     },
     "metadata": {},
     "output_type": "display_data"
    }
   ],
   "source": [
    "opt$num.vars\n",
    "opt$criteria\n",
    "colnames(opt$model)"
   ]
  },
  {
   "cell_type": "code",
   "execution_count": 420,
   "metadata": {},
   "outputs": [
    {
     "data": {
      "text/html": [
       "1.57981433021903"
      ],
      "text/latex": [
       "1.57981433021903"
      ],
      "text/markdown": [
       "1.57981433021903"
      ],
      "text/plain": [
       "[1] 1.579814"
      ]
     },
     "metadata": {},
     "output_type": "display_data"
    }
   ],
   "source": [
    "# Prepare test data\n",
    "vars<-c()\n",
    "for(name in colnames(opt$model)){\n",
    "    if(name != \"(Intercept)\"){\n",
    "        namevar<-substr(name, start = 2, stop = 3)\n",
    "        vars<-c(vars, namevar)\n",
    "    }\n",
    "    \n",
    "}\n",
    "vars<-as.numeric(vars)\n",
    "x.train.model<-x.train[,vars]\n",
    "x.test.model<-x.test[,vars]\n",
    "\n",
    "# Get performance\n",
    "linear.fit<-fit.linear.regression(x.train.model, y.train, alpha, beta, modelString.reg)\n",
    "omega.post<-linear.fit$omega.post\n",
    "sigma.post<-linear.fit$sigma.post\n",
    "\n",
    "performance<-MLPD(x.test.model, y.test, nt, sigma.pos, omega.pos)\n",
    "\n",
    "performance"
   ]
  },
  {
   "cell_type": "markdown",
   "metadata": {},
   "source": [
    "### Analytically"
   ]
  },
  {
   "cell_type": "code",
   "execution_count": 171,
   "metadata": {},
   "outputs": [
    {
     "data": {
      "text/html": [
       "1.84808562910516"
      ],
      "text/latex": [
       "1.84808562910516"
      ],
      "text/markdown": [
       "1.84808562910516"
      ],
      "text/plain": [
       "[1] 1.848086"
      ]
     },
     "metadata": {},
     "output_type": "display_data"
    }
   ],
   "source": [
    "library(caret)\n",
    "\n",
    "k.fold.cv.anal<-function(x.train, y.train, k.fold=10, extended=TRUE){\n",
    "    set.seed(10)\n",
    "    partitions<-createFolds(y.train, k = k.fold, list = TRUE, returnTrain = FALSE)\n",
    "    cv<-0\n",
    "    for(i in 1:k.fold){\n",
    "        idx<-unlist(partitions[i])\n",
    "        x.fold.in<-as.matrix(x.train[idx,])\n",
    "        y.fold.in<-y.train[idx]\n",
    "        x.fold.out<-as.matrix(x.train[-idx,])\n",
    "        y.fold.out<-y.train[-idx]\n",
    "        fit<-fit.reg.analytical(x.fold.out, y.fold.out, alpha, beta, extended=extended)\n",
    "        \n",
    "        for(j in 1:length(idx)){ \n",
    "            p<-get.prob.y.reg.anal(as.matrix(x.fold.in[j,]), fit$V.s, \n",
    "                                   fit$mu.s, fit$alpha.s, fit$beta.s, \n",
    "                                   y.fold.in[j], extended = extended)\n",
    "            if(!is.na(p)){\n",
    "                cv<-cv + log(p)\n",
    "            }\n",
    "        }\n",
    "    }\n",
    "    cv<- - cv/length(y.train)\n",
    "    return(cv)\n",
    "}\n",
    "\n",
    "k.fold<-10\n",
    "\n",
    "cv<-k.fold.cv.anal(x.train, y.train, k.fold, extended=FALSE)\n",
    "\n",
    "cv"
   ]
  },
  {
   "cell_type": "code",
   "execution_count": 198,
   "metadata": {},
   "outputs": [
    {
     "name": "stdout",
     "output_type": "stream",
     "text": [
      "[1] \"Starting optimization\"\n",
      "[1]  1  6  4  2 16  5  9 13 22\n"
     ]
    }
   ],
   "source": [
    "opt<-optimization(x.train, y.train, k.fold.cv.anal)"
   ]
  },
  {
   "cell_type": "code",
   "execution_count": 199,
   "metadata": {},
   "outputs": [
    {
     "data": {
      "text/html": [
       "8"
      ],
      "text/latex": [
       "8"
      ],
      "text/markdown": [
       "8"
      ],
      "text/plain": [
       "[1] 8"
      ]
     },
     "metadata": {},
     "output_type": "display_data"
    },
    {
     "data": {
      "text/html": [
       "1.58476983424072"
      ],
      "text/latex": [
       "1.58476983424072"
      ],
      "text/markdown": [
       "1.58476983424072"
      ],
      "text/plain": [
       "[1] 1.58477"
      ]
     },
     "metadata": {},
     "output_type": "display_data"
    },
    {
     "data": {
      "text/html": [
       "<style>\n",
       ".list-inline {list-style: none; margin:0; padding: 0}\n",
       ".list-inline>li {display: inline-block}\n",
       ".list-inline>li:not(:last-child)::after {content: \"\\00b7\"; padding: 0 .5ex}\n",
       "</style>\n",
       "<ol class=list-inline><li>'(Intercept)'</li><li>'X5'</li><li>'X3'</li><li>'X1'</li><li>'X15'</li><li>'X4'</li><li>'X8'</li><li>'X12'</li><li>'X21'</li></ol>\n"
      ],
      "text/latex": [
       "\\begin{enumerate*}\n",
       "\\item '(Intercept)'\n",
       "\\item 'X5'\n",
       "\\item 'X3'\n",
       "\\item 'X1'\n",
       "\\item 'X15'\n",
       "\\item 'X4'\n",
       "\\item 'X8'\n",
       "\\item 'X12'\n",
       "\\item 'X21'\n",
       "\\end{enumerate*}\n"
      ],
      "text/markdown": [
       "1. '(Intercept)'\n",
       "2. 'X5'\n",
       "3. 'X3'\n",
       "4. 'X1'\n",
       "5. 'X15'\n",
       "6. 'X4'\n",
       "7. 'X8'\n",
       "8. 'X12'\n",
       "9. 'X21'\n",
       "\n",
       "\n"
      ],
      "text/plain": [
       "[1] \"(Intercept)\" \"X5\"          \"X3\"          \"X1\"          \"X15\"        \n",
       "[6] \"X4\"          \"X8\"          \"X12\"         \"X21\"        "
      ]
     },
     "metadata": {},
     "output_type": "display_data"
    }
   ],
   "source": [
    "opt$num.vars\n",
    "opt$criteria\n",
    "colnames(opt$model)"
   ]
  },
  {
   "cell_type": "code",
   "execution_count": 200,
   "metadata": {},
   "outputs": [
    {
     "data": {
      "text/html": [
       "1.59418799221911"
      ],
      "text/latex": [
       "1.59418799221911"
      ],
      "text/markdown": [
       "1.59418799221911"
      ],
      "text/plain": [
       "[1] 1.594188"
      ]
     },
     "metadata": {},
     "output_type": "display_data"
    }
   ],
   "source": [
    "# Prepare test data\n",
    "vars<-c()\n",
    "for(name in colnames(opt$model)){\n",
    "    if(name != \"(Intercept)\"){\n",
    "        namevar<-substr(name, start = 2, stop = 3)\n",
    "        vars<-c(vars, namevar)\n",
    "    }\n",
    "    \n",
    "}\n",
    "vars<-as.numeric(vars)\n",
    "x.train.model<-x.train[,vars]\n",
    "x.test.model<-x.test[,vars]\n",
    "\n",
    "# Get performance\n",
    "fit<-fit.reg.analytical(x.train.model, y.train, alpha, beta)\n",
    "\n",
    "performance<-MLPD.anal(x.test.model, y.test, nt, fit$V.s, fit$mu.s, fit$alpha.s, fit$beta.s)\n",
    "\n",
    "performance"
   ]
  },
  {
   "cell_type": "markdown",
   "metadata": {},
   "source": [
    "## Criteria 2: Reference model approach\n",
    "\n",
    "The idea of the reference model criteria is to construct a full encompassing reference model $M^∗$, which is believed to best describe our knowledge about the future observations, and perform the utility estimation almost as if it was the true data generating distribution.\n",
    "\n",
    "Assuming we have constructed a reference model $M^∗$ which we believe best describes our knowledge about the future observations, the utilities of the candidate models $M$ can be estimated by replacing the true distribution $p_t(\\tilde{y})$  by the predictive distribution of the reference model $p(\\tilde{y} | D, M^∗)$. The maximization of the reference utility is equivalent to minimizing the predictive KL-divergence between the reference model $M^∗$ and the candidate model M at the training inputs:\n",
    "\n",
    "$$\n",
    "\\delta(M||M^*) = \\frac{1}{n}\\sum_{i=1}^n KL(p(\\tilde{y_i} | x_i, D, M^∗)||p(\\tilde{y_i} | x_i, D, M))\n",
    "$$\n",
    "\n",
    "The model choice can then be based on the strict minimization of the discrepancy measure, or choosing the simplest model that has an acceptable discrepancy.\n",
    "\n",
    "The reference predictive approach is inherently a less straightforward approach to model selection than the cross-validation criteria , because it requires the construction of the reference model and it is not obvious how it should be done.  Bayesian model average (BMA) has been commonly proposed as the reference model. In the variable selection context, the model averaging corresponds to a spike-and-slab type prior which is often considered as the “gold standard” and has been extensively used for linear models. The BMA approach is the following:\n",
    "\n",
    "$$\n",
    "p(\\tilde{y}|D) = \\sum_{l=1}^L p(\\tilde{y}|D, M_l) p(M_l|D)\n",
    "$$\n",
    "\n",
    "where $p(\\tilde{y}|D, M_l)$ is the posterior predictive distribution of a fitted model $M_l$ and $p(M_l|D)$ is the prior probability of the certain model $M_l$. \n",
    "\n",
    "The package BMS implements the Bayesian Model Average (BMS). We will use this package to generate the reference model.\n",
    "\n"
   ]
  },
  {
   "cell_type": "markdown",
   "metadata": {},
   "source": [
    "### Bayesian model average (BMA)"
   ]
  },
  {
   "cell_type": "code",
   "execution_count": 188,
   "metadata": {},
   "outputs": [
    {
     "name": "stderr",
     "output_type": "stream",
     "text": [
      "Loading required package: BMS\n",
      "\n"
     ]
    }
   ],
   "source": [
    "require(\"BMS\")\n",
    "\n",
    "D <- data.frame(y.train, x.train)\n",
    "bma<-bms(D, mprior = \"random\", burn = 20000, iter = 50000, user.int = FALSE)"
   ]
  },
  {
   "cell_type": "markdown",
   "metadata": {},
   "source": [
    "Here we can see the statistics of the average model. The PIP quantity indicates the proportion of the models where a certain variable has been used. Variables with high PIP are believed to have hihger importance."
   ]
  },
  {
   "cell_type": "code",
   "execution_count": 189,
   "metadata": {},
   "outputs": [
    {
     "data": {
      "text/plain": [
       "        PIP    Post Mean    Post SD Cond.Pos.Sign Idx\n",
       "X4  0.94816  0.592190011 0.21968565    1.00000000   4\n",
       "X1  0.73258  0.435872739 0.30889318    1.00000000   1\n",
       "X15 0.68272  0.320471312 0.25023250    1.00000000  15\n",
       "X10 0.64808  0.277229825 0.23395556    1.00000000  10\n",
       "X3  0.61206  0.272837266 0.25162061    1.00000000   3\n",
       "X2  0.47104  0.226470542 0.27422147    1.00000000   2\n",
       "X27 0.34638  0.103007077 0.16005459    1.00000000  27\n",
       "X6  0.29652  0.109225513 0.19108309    1.00000000   6\n",
       "X9  0.24826  0.092421700 0.18329052    1.00000000   9\n",
       "X5  0.17348  0.062861460 0.16013769    1.00000000   5\n",
       "X13 0.14800  0.040116280 0.11459366    1.00000000  13\n",
       "X11 0.13960  0.035678314 0.10683060    0.99914040  11\n",
       "X7  0.12348  0.032055541 0.10285198    1.00000000   7\n",
       "X17 0.09354  0.017925404 0.06923939    1.00000000  17\n",
       "X8  0.09234  0.021169751 0.08377497    0.99545159   8\n",
       "X21 0.08708  0.016210023 0.06636445    1.00000000  21\n",
       "X14 0.06556 -0.010955956 0.05807752    0.04758999  14\n",
       "X24 0.06368  0.008543650 0.04689285    0.99591709  24\n",
       "X22 0.05584 -0.007231874 0.04484186    0.00967049  22\n",
       "X12 0.05578  0.009391285 0.05061786    1.00000000  12\n",
       "X25 0.05198  0.006057727 0.03815768    0.98499423  25\n",
       "X20 0.04880 -0.004251076 0.03740561    0.11024590  20\n",
       "X29 0.04820  0.001947630 0.03644920    0.64315353  29\n",
       "X30 0.04760  0.001149887 0.04122324    0.50420168  30\n",
       "X26 0.04680  0.004918900 0.04022008    0.78119658  26\n",
       "X23 0.04410  0.004435736 0.03493471    0.97324263  23\n",
       "X16 0.04220 -0.001375700 0.03177685    0.31990521  16\n",
       "X18 0.04074 -0.001860082 0.03008719    0.18360334  18\n",
       "X28 0.03570  0.002879398 0.03332165    0.73501401  28\n",
       "X19 0.03414  0.001328662 0.02906958    0.69830111  19\n",
       "\n",
       "Mean no. regressors               Draws             Burnins                Time \n",
       "           \"6.5244\"             \"50000\"             \"20000\"     \"3.952392 secs\" \n",
       " No. models visited      Modelspace 2^K           % visited         % Topmodels \n",
       "            \"14590\"           \"1.1e+09\"            \"0.0014\"                \"45\" \n",
       "           Corr PMP            No. Obs.         Model Prior             g-Prior \n",
       "           \"0.9802\"               \"100\"       \"random / 15\"               \"UIP\" \n",
       "    Shrinkage-Stats \n",
       "        \"Av=0.9901\" \n"
      ]
     },
     "metadata": {},
     "output_type": "display_data"
    }
   ],
   "source": [
    "bma"
   ]
  },
  {
   "cell_type": "markdown",
   "metadata": {},
   "source": [
    "Thi package also allows to give the posterior predictive density of $\\tilde{y}|x$, where $x$ is a new observation, and $\\tilde{y}$ is the point (or list of points) where we want to evaluate the density. \n",
    "\n",
    "We can also visualize the density of the prediction."
   ]
  },
  {
   "cell_type": "code",
   "execution_count": 190,
   "metadata": {},
   "outputs": [],
   "source": [
    "D.test <- matrix(x.test[1,], nrow=1)\n",
    "pdens <- pred.density(bma, newdata = D.test)"
   ]
  },
  {
   "cell_type": "code",
   "execution_count": 191,
   "metadata": {},
   "outputs": [
    {
     "data": {
      "text/html": [
       "<table>\n",
       "<caption>A matrix: 1 × 701 of type dbl</caption>\n",
       "<tbody>\n",
       "\t<tr><td>0.3084939</td><td>0.3088688</td><td>0.3092248</td><td>0.3095619</td><td>0.30988</td><td>0.3101792</td><td>0.3104592</td><td>0.3107201</td><td>0.3109619</td><td>0.3111843</td><td>⋯</td><td>2.025989e-06</td><td>1.967395e-06</td><td>1.910463e-06</td><td>1.855147e-06</td><td>1.801402e-06</td><td>1.749183e-06</td><td>1.69845e-06</td><td>1.649159e-06</td><td>1.601272e-06</td><td>1.554749e-06</td></tr>\n",
       "</tbody>\n",
       "</table>\n"
      ],
      "text/latex": [
       "A matrix: 1 × 701 of type dbl\n",
       "\\begin{tabular}{lllllllllllllllllllll}\n",
       "\t 0.3084939 & 0.3088688 & 0.3092248 & 0.3095619 & 0.30988 & 0.3101792 & 0.3104592 & 0.3107201 & 0.3109619 & 0.3111843 & ⋯ & 2.025989e-06 & 1.967395e-06 & 1.910463e-06 & 1.855147e-06 & 1.801402e-06 & 1.749183e-06 & 1.69845e-06 & 1.649159e-06 & 1.601272e-06 & 1.554749e-06\\\\\n",
       "\\end{tabular}\n"
      ],
      "text/markdown": [
       "\n",
       "A matrix: 1 × 701 of type dbl\n",
       "\n",
       "| 0.3084939 | 0.3088688 | 0.3092248 | 0.3095619 | 0.30988 | 0.3101792 | 0.3104592 | 0.3107201 | 0.3109619 | 0.3111843 | ⋯ | 2.025989e-06 | 1.967395e-06 | 1.910463e-06 | 1.855147e-06 | 1.801402e-06 | 1.749183e-06 | 1.69845e-06 | 1.649159e-06 | 1.601272e-06 | 1.554749e-06 |\n",
       "\n"
      ],
      "text/plain": [
       "     [,1]      [,2]      [,3]      [,4]      [,5]    [,6]      [,7]     \n",
       "[1,] 0.3084939 0.3088688 0.3092248 0.3095619 0.30988 0.3101792 0.3104592\n",
       "     [,8]      [,9]      [,10]     [,11] [,12]        [,13]        [,14]       \n",
       "[1,] 0.3107201 0.3109619 0.3111843 ⋯     2.025989e-06 1.967395e-06 1.910463e-06\n",
       "     [,15]        [,16]        [,17]        [,18]       [,19]       \n",
       "[1,] 1.855147e-06 1.801402e-06 1.749183e-06 1.69845e-06 1.649159e-06\n",
       "     [,20]        [,21]       \n",
       "[1,] 1.601272e-06 1.554749e-06"
      ]
     },
     "metadata": {},
     "output_type": "display_data"
    },
    {
     "data": {
      "image/png": "[encoded data removed]",
      "text/plain": [
       "Plot with title “Predictive Density (500 Models)”"
      ]
     },
     "metadata": {
      "image/png": {
       "height": 420,
       "width": 420
      },
      "text/plain": {
       "height": 420,
       "width": 420
      }
     },
     "output_type": "display_data"
    }
   ],
   "source": [
    "plot(pdens,1)\n",
    "probs<-seq(-2,5,0.01)\n",
    "pdens$dyf(probs)"
   ]
  },
  {
   "cell_type": "markdown",
   "metadata": {},
   "source": [
    "Finally, the package also provides the mean log predictive density (MLPD)."
   ]
  },
  {
   "cell_type": "code",
   "execution_count": 192,
   "metadata": {},
   "outputs": [
    {
     "data": {
      "text/html": [
       "1.54671256694288"
      ],
      "text/latex": [
       "1.54671256694288"
      ],
      "text/markdown": [
       "1.54671256694288"
      ],
      "text/plain": [
       "[1] 1.546713"
      ]
     },
     "metadata": {},
     "output_type": "display_data"
    }
   ],
   "source": [
    "pdens <- pred.density(bma, newdata = x.test)\n",
    "\n",
    "lps.bma(pdens,matrix(y.test, ncol=1))"
   ]
  },
  {
   "cell_type": "markdown",
   "metadata": {},
   "source": [
    "### Reference model approach\n",
    "\n",
    "#### Analytical"
   ]
  },
  {
   "cell_type": "code",
   "execution_count": 193,
   "metadata": {},
   "outputs": [
    {
     "data": {
      "text/html": [
       "0.1489668433942"
      ],
      "text/latex": [
       "0.1489668433942"
      ],
      "text/markdown": [
       "0.1489668433942"
      ],
      "text/plain": [
       "[1] 0.1489668"
      ]
     },
     "metadata": {},
     "output_type": "display_data"
    }
   ],
   "source": [
    "reference.model.anal<-function(x.train, y.train, original.x=x.train.data, reference.model = bma, extended = TRUE){  \n",
    "    fit<-fit.reg.analytical(x.train, y.train, alpha, beta, extended=extended)\n",
    "    seq.y<-seq(-5,5,0.1)\n",
    "    KL<-0\n",
    "    n<-dim(x.train)[1]\n",
    "    for(i in 1:dim(x.train)[1]){ \n",
    "        # Reference density\n",
    "        D.train <- matrix(original.x[i,], nrow=1)\n",
    "        pdens <- pred.density(reference.model, newdata = D.train)\n",
    "        p.reference<-pdens$dyf(seq.y)\n",
    "        # Target density\n",
    "        p.target<-get.prob.y.reg.anal(matrix(x.train[i,]), fit$V.s, \n",
    "                                       fit$mu.s, fit$alpha.s, fit$beta.s, \n",
    "                                       seq.y, extended = extended)\n",
    "        # Remove NAN\n",
    "        idx<-!is.na(p.target) & !is.na(p.reference)\n",
    "        p.reference<-matrix(p.reference[idx])\n",
    "        p.target<-matrix(p.target[idx])\n",
    "        # KL divergence\n",
    "        KL.new<-KLD(p.reference, p.target)$sum.KLD.px.py\n",
    "        KL<-KL+KL.new\n",
    "    }    \n",
    "    return(KL/n) \n",
    "}\n",
    "\n",
    "x.train.data<-x.train\n",
    "KL<-reference.model.anal(x.train, y.train, reference.model = bma, extended = TRUE)\n",
    "KL"
   ]
  },
  {
   "cell_type": "code",
   "execution_count": 207,
   "metadata": {},
   "outputs": [
    {
     "name": "stdout",
     "output_type": "stream",
     "text": [
      "[1] \"Starting optimization\"\n",
      "[1]  1  2  4  5 11 16 20 19 31\n"
     ]
    }
   ],
   "source": [
    "opt<-optimization(x.train, y.train, reference.model.anal)"
   ]
  },
  {
   "cell_type": "code",
   "execution_count": 208,
   "metadata": {},
   "outputs": [
    {
     "data": {
      "text/html": [
       "8"
      ],
      "text/latex": [
       "8"
      ],
      "text/markdown": [
       "8"
      ],
      "text/plain": [
       "[1] 8"
      ]
     },
     "metadata": {},
     "output_type": "display_data"
    },
    {
     "data": {
      "text/html": [
       "0.0223885198096581"
      ],
      "text/latex": [
       "0.0223885198096581"
      ],
      "text/markdown": [
       "0.0223885198096581"
      ],
      "text/plain": [
       "[1] 0.02238852"
      ]
     },
     "metadata": {},
     "output_type": "display_data"
    },
    {
     "data": {
      "text/html": [
       "<style>\n",
       ".list-inline {list-style: none; margin:0; padding: 0}\n",
       ".list-inline>li {display: inline-block}\n",
       ".list-inline>li:not(:last-child)::after {content: \"\\00b7\"; padding: 0 .5ex}\n",
       "</style>\n",
       "<ol class=list-inline><li>'(Intercept)'</li><li>'X1'</li><li>'X3'</li><li>'X4'</li><li>'X10'</li><li>'X15'</li><li>'X19'</li><li>'X18'</li><li>'X30'</li></ol>\n"
      ],
      "text/latex": [
       "\\begin{enumerate*}\n",
       "\\item '(Intercept)'\n",
       "\\item 'X1'\n",
       "\\item 'X3'\n",
       "\\item 'X4'\n",
       "\\item 'X10'\n",
       "\\item 'X15'\n",
       "\\item 'X19'\n",
       "\\item 'X18'\n",
       "\\item 'X30'\n",
       "\\end{enumerate*}\n"
      ],
      "text/markdown": [
       "1. '(Intercept)'\n",
       "2. 'X1'\n",
       "3. 'X3'\n",
       "4. 'X4'\n",
       "5. 'X10'\n",
       "6. 'X15'\n",
       "7. 'X19'\n",
       "8. 'X18'\n",
       "9. 'X30'\n",
       "\n",
       "\n"
      ],
      "text/plain": [
       "[1] \"(Intercept)\" \"X1\"          \"X3\"          \"X4\"          \"X10\"        \n",
       "[6] \"X15\"         \"X19\"         \"X18\"         \"X30\"        "
      ]
     },
     "metadata": {},
     "output_type": "display_data"
    }
   ],
   "source": [
    "opt$num.vars\n",
    "opt$criteria\n",
    "colnames(opt$model)"
   ]
  },
  {
   "cell_type": "code",
   "execution_count": 211,
   "metadata": {},
   "outputs": [
    {
     "data": {
      "text/html": [
       "<style>\n",
       ".list-inline {list-style: none; margin:0; padding: 0}\n",
       ".list-inline>li {display: inline-block}\n",
       ".list-inline>li:not(:last-child)::after {content: \"\\00b7\"; padding: 0 .5ex}\n",
       "</style>\n",
       "<ol class=list-inline><li>0.374158409797223</li><li>0.203444324664962</li><li>0.139275818805582</li><li>0.106457953828938</li><li>0.0694676426905597</li><li>0.0231590939668603</li><li>0.0233175938159972</li><li>0.0232316699996329</li><li>0.0227609861595495</li><li>0.0228801505195239</li><li>0.0227861955125641</li><li>0.0228732973356388</li><li>0.0226493279414185</li><li>0.0246736193227794</li><li>0.0253170304080636</li><li>0.0267141433577846</li><li>0.0289913454062145</li><li>0.0314778694804044</li><li>0.0345172000497331</li><li>0.0348865644360791</li><li>0.0361804579236353</li><li>0.0379811323866057</li><li>0.0439846283564352</li><li>0.0566467469028311</li><li>0.0597484706244822</li><li>0.0666945361942734</li><li>0.0728317490166358</li><li>0.0894377863787204</li><li>0.110244926198828</li><li>0.119622909510068</li></ol>\n"
      ],
      "text/latex": [
       "\\begin{enumerate*}\n",
       "\\item 0.374158409797223\n",
       "\\item 0.203444324664962\n",
       "\\item 0.139275818805582\n",
       "\\item 0.106457953828938\n",
       "\\item 0.0694676426905597\n",
       "\\item 0.0231590939668603\n",
       "\\item 0.0233175938159972\n",
       "\\item 0.0232316699996329\n",
       "\\item 0.0227609861595495\n",
       "\\item 0.0228801505195239\n",
       "\\item 0.0227861955125641\n",
       "\\item 0.0228732973356388\n",
       "\\item 0.0226493279414185\n",
       "\\item 0.0246736193227794\n",
       "\\item 0.0253170304080636\n",
       "\\item 0.0267141433577846\n",
       "\\item 0.0289913454062145\n",
       "\\item 0.0314778694804044\n",
       "\\item 0.0345172000497331\n",
       "\\item 0.0348865644360791\n",
       "\\item 0.0361804579236353\n",
       "\\item 0.0379811323866057\n",
       "\\item 0.0439846283564352\n",
       "\\item 0.0566467469028311\n",
       "\\item 0.0597484706244822\n",
       "\\item 0.0666945361942734\n",
       "\\item 0.0728317490166358\n",
       "\\item 0.0894377863787204\n",
       "\\item 0.110244926198828\n",
       "\\item 0.119622909510068\n",
       "\\end{enumerate*}\n"
      ],
      "text/markdown": [
       "1. 0.374158409797223\n",
       "2. 0.203444324664962\n",
       "3. 0.139275818805582\n",
       "4. 0.106457953828938\n",
       "5. 0.0694676426905597\n",
       "6. 0.0231590939668603\n",
       "7. 0.0233175938159972\n",
       "8. 0.0232316699996329\n",
       "9. 0.0227609861595495\n",
       "10. 0.0228801505195239\n",
       "11. 0.0227861955125641\n",
       "12. 0.0228732973356388\n",
       "13. 0.0226493279414185\n",
       "14. 0.0246736193227794\n",
       "15. 0.0253170304080636\n",
       "16. 0.0267141433577846\n",
       "17. 0.0289913454062145\n",
       "18. 0.0314778694804044\n",
       "19. 0.0345172000497331\n",
       "20. 0.0348865644360791\n",
       "21. 0.0361804579236353\n",
       "22. 0.0379811323866057\n",
       "23. 0.0439846283564352\n",
       "24. 0.0566467469028311\n",
       "25. 0.0597484706244822\n",
       "26. 0.0666945361942734\n",
       "27. 0.0728317490166358\n",
       "28. 0.0894377863787204\n",
       "29. 0.110244926198828\n",
       "30. 0.119622909510068\n",
       "\n",
       "\n"
      ],
      "text/plain": [
       " [1] 0.37415841 0.20344432 0.13927582 0.10645795 0.06946764 0.02315909\n",
       " [7] 0.02331759 0.02323167 0.02276099 0.02288015 0.02278620 0.02287330\n",
       "[13] 0.02264933 0.02467362 0.02531703 0.02671414 0.02899135 0.03147787\n",
       "[19] 0.03451720 0.03488656 0.03618046 0.03798113 0.04398463 0.05664675\n",
       "[25] 0.05974847 0.06669454 0.07283175 0.08943779 0.11024493 0.11962291"
      ]
     },
     "metadata": {},
     "output_type": "display_data"
    }
   ],
   "source": [
    "opt$all.criteria"
   ]
  },
  {
   "cell_type": "code",
   "execution_count": 212,
   "metadata": {},
   "outputs": [
    {
     "data": {
      "text/html": [
       "1.60500018108645"
      ],
      "text/latex": [
       "1.60500018108645"
      ],
      "text/markdown": [
       "1.60500018108645"
      ],
      "text/plain": [
       "[1] 1.605"
      ]
     },
     "metadata": {},
     "output_type": "display_data"
    }
   ],
   "source": [
    "# Prepare test data\n",
    "vars<-c()\n",
    "for(name in colnames(opt$model)){\n",
    "    if(name != \"(Intercept)\"){\n",
    "        namevar<-substr(name, start = 2, stop = 3)\n",
    "        vars<-c(vars, namevar)\n",
    "    }\n",
    "    \n",
    "}\n",
    "vars<-as.numeric(vars)\n",
    "x.train.model<-x.train[,vars]\n",
    "x.test.model<-x.test[,vars]\n",
    "\n",
    "# Get performance\n",
    "fit<-fit.reg.analytical(x.train.model, y.train, alpha, beta)\n",
    "\n",
    "performance<-MLPD.anal(x.test.model, y.test, nt, fit$V.s, fit$mu.s, fit$alpha.s, fit$beta.s)\n",
    "\n",
    "performance"
   ]
  },
  {
   "cell_type": "markdown",
   "metadata": {},
   "source": [
    "#### with STAN"
   ]
  },
  {
   "cell_type": "code",
   "execution_count": 67,
   "metadata": {},
   "outputs": [
    {
     "data": {
      "text/html": [
       "0.285749280954274"
      ],
      "text/latex": [
       "0.285749280954274"
      ],
      "text/markdown": [
       "0.285749280954274"
      ],
      "text/plain": [
       "[1] 0.2857493"
      ]
     },
     "metadata": {},
     "output_type": "display_data"
    }
   ],
   "source": [
    "reference.model<-function(x.train, y.train, original.x=x.train.data, reference.model = bma){\n",
    "\n",
    "    linear.fit<-fit.linear.regression(x.train, y.train, alpha, beta, modelString.reg)\n",
    "    omega.post<-linear.fit$omega.post\n",
    "    sigma.post<-linear.fit$sigma.post\n",
    "    seq.y<-seq(-5,5,0.1)\n",
    "    KL<-0\n",
    "    n<-dim(x.train)[1]\n",
    "    for(i in 1:dim(x.train)[1]){ \n",
    "        # Reference density\n",
    "        D.train <- matrix(original.x[i,], nrow=1)\n",
    "        pdens <- pred.density(reference.model, newdata = D.train)\n",
    "        p.reference<-pdens$dyf(seq.y)\n",
    "        # Target density\n",
    "        p.target<-get.y.probs.reg(matrix(x.train[i,]), omega.post, sigma.post, seq.y)\n",
    "        # Remove NAN\n",
    "        idx<-!is.na(p.target) & !is.na(p.reference)\n",
    "        p.reference<-matrix(p.reference[idx])\n",
    "        p.target<-matrix(p.target[idx])\n",
    "        # KL divergence\n",
    "        KL.new<-KLD(p.reference, p.target)$sum.KLD.px.py\n",
    "        KL<-KL+KL.new\n",
    "    }    \n",
    "    return(KL/n) # Negative sign because the optimization process looks for a maxima    \n",
    "}\n",
    "\n",
    "x.train.data<-x.train\n",
    "KL<-reference.model.anal(x.train, y.train, reference.model = bma, extended = TRUE)\n",
    "KL"
   ]
  },
  {
   "cell_type": "code",
   "execution_count": null,
   "metadata": {},
   "outputs": [],
   "source": [
    "opt<-optimization(x.train, y.train, reference.model)"
   ]
  },
  {
   "cell_type": "code",
   "execution_count": null,
   "metadata": {},
   "outputs": [],
   "source": [
    "opt$num.vars\n",
    "opt$criteria\n",
    "colnames(opt$model)"
   ]
  },
  {
   "cell_type": "code",
   "execution_count": null,
   "metadata": {},
   "outputs": [],
   "source": [
    "# Prepare test data\n",
    "vars<-c()\n",
    "for(name in colnames(opt$model)){\n",
    "    if(name != \"(Intercept)\"){\n",
    "        namevar<-substr(name, start = 2, stop = 3)\n",
    "        vars<-c(vars, namevar)\n",
    "    }\n",
    "    \n",
    "}\n",
    "vars<-as.numeric(vars)\n",
    "x.train.model<-x.train[,vars]\n",
    "x.test.model<-x.test[,vars]\n",
    "\n",
    "# Get performance\n",
    "linear.fit<-fit.linear.regression(x.train.model, y.train, alpha, beta, modelString.reg)\n",
    "omega.post<-linear.fit$omega.post\n",
    "sigma.post<-linear.fit$sigma.post\n",
    "\n",
    "performance<-MLPD(x.test.model, y.test, nt, sigma.pos, omega.pos)\n",
    "\n",
    "performance"
   ]
  },
  {
   "cell_type": "markdown",
   "metadata": {},
   "source": [
    "## Experiments: Classification"
   ]
  },
  {
   "cell_type": "markdown",
   "metadata": {},
   "source": [
    "### MLDP classification"
   ]
  },
  {
   "cell_type": "code",
   "execution_count": 24,
   "metadata": {},
   "outputs": [],
   "source": [
    "MLPD.class<-function(x.test, y.test, nt, post){#omega.pos){\n",
    "    MLPD <- 0\n",
    "    for(i in 1:nt){\n",
    "        # Get probability density of different values of y\n",
    "        D.test<-data.frame(x.test)\n",
    "        p<-pred.prob.class(D.test[i,])\n",
    "        #p<-get.y.probs.class(as.matrix(x.test[i,]), omega.post)\n",
    "        if((p>0)*(p<1)){\n",
    "            MLPD<-MLPD + log(p) + log(1.-p)\n",
    "        }\n",
    "        \n",
    "    }\n",
    "    MLPD<- - MLPD/nt\n",
    "    return(MLPD)\n",
    "}"
   ]
  },
  {
   "cell_type": "code",
   "execution_count": 25,
   "metadata": {},
   "outputs": [
    {
     "data": {
      "text/html": [
       "2.462844332241"
      ],
      "text/latex": [
       "2.462844332241"
      ],
      "text/markdown": [
       "2.462844332241"
      ],
      "text/plain": [
       "[1] 2.462844"
      ]
     },
     "metadata": {},
     "output_type": "display_data"
    }
   ],
   "source": [
    "# Example simulation experiment\n",
    "# Define parameters\n",
    "n <- 100\n",
    "rho <- 0.5\n",
    "p <- 20\n",
    "chi <- 0.34\n",
    "alpha<-0.5\n",
    "beta<-0.5\n",
    "nt<-1000\n",
    "\n",
    "# Simulate observations\n",
    "sim.train<-simulate.classification(n, rho, chi, p)\n",
    "x.train<-sim.train$x\n",
    "y.train<-sim.train$y\n",
    "\n",
    "# Simulate observations\n",
    "sim.test<-simulate.classification(nt, rho, chi, p)\n",
    "x.test<-sim.test$x\n",
    "y.test<-sim.test$y\n",
    "\n",
    "# Get MLPD\n",
    "# Fit linear model and generate posterior quantities\n",
    "#linear.fit<-fit.probit(x.train,y.train,alpha,beta, stanDso.class)\n",
    "#omega.post<-linear.fit$omega.post\n",
    "post<-fit.logit(x.train,y.train, alpha, beta)\n",
    "\n",
    "performance<-MLPD.class(x.test, y.test, nt, post)# omega.pos)\n",
    "\n",
    "performance"
   ]
  },
  {
   "cell_type": "markdown",
   "metadata": {},
   "source": [
    "## Criteria 1: Cross-validation"
   ]
  },
  {
   "cell_type": "code",
   "execution_count": 145,
   "metadata": {},
   "outputs": [
    {
     "data": {
      "text/html": [
       "-2.7664909525131"
      ],
      "text/latex": [
       "-2.7664909525131"
      ],
      "text/markdown": [
       "-2.7664909525131"
      ],
      "text/plain": [
       "[1] -2.766491"
      ]
     },
     "metadata": {},
     "output_type": "display_data"
    }
   ],
   "source": [
    "library(caret)\n",
    "\n",
    "k.fold.cv.class<-function(x.train, y.train, k.fold=10){\n",
    "    set.seed(10)\n",
    "    partitions<-createFolds(y.train, k = k.fold, list = TRUE, returnTrain = FALSE)\n",
    "    cv<-0\n",
    "    for(i in 1:k.fold){\n",
    "        idx<-unlist(partitions[i])\n",
    "        x.fold.in<-as.matrix(x.train[idx,])\n",
    "        y.fold.in<-y.train[idx]\n",
    "        x.fold.out<-as.matrix(x.train[-idx,])\n",
    "        y.fold.out<-y.train[-idx]\n",
    "        #linear.fit<-fit.probit(x.fold.out,y.fold.out,alpha,beta, stanDso.class)\n",
    "        #omega.post<-linear.fit$omega.post\n",
    "        post.fit.obj<-fit.logit(x.fold.out,y.fold.out, alpha, beta,return.cols = TRUE)\n",
    "        post.fit<-post.fit.obj$post\n",
    "        names<-post.fit.obj$names\n",
    "        D.test<-data.frame(x.fold.in)\n",
    "        colnames(D.test) <- colnames(D.test) <- names[2:length(names)]\n",
    "        for(j in 1:length(idx)){ \n",
    "            # Target probability\n",
    "            if(dim(D.test)[2]>1){\n",
    "                p<-pred.prob.class(D.test[j,], model = post.fit)\n",
    "            }\n",
    "            else{\n",
    "                p<-pred.prob.class(D.test, model = post.fit)\n",
    "            }\n",
    "            #p<-get.y.probs.class(as.matrix(x.fold.in[j,]), omega.post)\n",
    "            if((p>0)*(p<1)){\n",
    "                cv<-cv + log(p) + log(1-p)\n",
    "            }\n",
    "        }\n",
    "    }\n",
    "    cv<-cv/length(y.train)\n",
    "    return(cv)\n",
    "}\n",
    "\n",
    "k.fold<-10\n",
    "\n",
    "cv<-k.fold.cv.class(x.train, y.train, k.fold)\n",
    "\n",
    "cv"
   ]
  },
  {
   "cell_type": "code",
   "execution_count": 146,
   "metadata": {},
   "outputs": [
    {
     "name": "stdout",
     "output_type": "stream",
     "text": [
      "[1] \"Starting optimization\"\n"
     ]
    }
   ],
   "source": [
    "opt<-optimization(x.train, y.train, k.fold.cv.class, extended = FALSE)"
   ]
  },
  {
   "cell_type": "code",
   "execution_count": 147,
   "metadata": {},
   "outputs": [
    {
     "data": {
      "text/html": [
       "6"
      ],
      "text/latex": [
       "6"
      ],
      "text/markdown": [
       "6"
      ],
      "text/plain": [
       "[1] 6"
      ]
     },
     "metadata": {},
     "output_type": "display_data"
    },
    {
     "data": {
      "text/html": [
       "-2.98562557902983"
      ],
      "text/latex": [
       "-2.98562557902983"
      ],
      "text/markdown": [
       "-2.98562557902983"
      ],
      "text/plain": [
       "[1] -2.985626"
      ]
     },
     "metadata": {},
     "output_type": "display_data"
    },
    {
     "data": {
      "text/html": [
       "<style>\n",
       ".list-inline {list-style: none; margin:0; padding: 0}\n",
       ".list-inline>li {display: inline-block}\n",
       ".list-inline>li:not(:last-child)::after {content: \"\\00b7\"; padding: 0 .5ex}\n",
       "</style>\n",
       "<ol class=list-inline><li>'(Intercept)'</li><li>'X1'</li><li>'X2'</li><li>'X3'</li><li>'X4'</li><li>'X5'</li><li>'X6'</li><li>'X7'</li></ol>\n"
      ],
      "text/latex": [
       "\\begin{enumerate*}\n",
       "\\item '(Intercept)'\n",
       "\\item 'X1'\n",
       "\\item 'X2'\n",
       "\\item 'X3'\n",
       "\\item 'X4'\n",
       "\\item 'X5'\n",
       "\\item 'X6'\n",
       "\\item 'X7'\n",
       "\\end{enumerate*}\n"
      ],
      "text/markdown": [
       "1. '(Intercept)'\n",
       "2. 'X1'\n",
       "3. 'X2'\n",
       "4. 'X3'\n",
       "5. 'X4'\n",
       "6. 'X5'\n",
       "7. 'X6'\n",
       "8. 'X7'\n",
       "\n",
       "\n"
      ],
      "text/plain": [
       "[1] \"(Intercept)\" \"X1\"          \"X2\"          \"X3\"          \"X4\"         \n",
       "[6] \"X5\"          \"X6\"          \"X7\"         "
      ]
     },
     "metadata": {},
     "output_type": "display_data"
    }
   ],
   "source": [
    "opt$num.vars\n",
    "opt$criteria\n",
    "colnames(opt$model)"
   ]
  },
  {
   "cell_type": "code",
   "execution_count": 148,
   "metadata": {},
   "outputs": [
    {
     "data": {
      "text/html": [
       "2.63227400568806"
      ],
      "text/latex": [
       "2.63227400568806"
      ],
      "text/markdown": [
       "2.63227400568806"
      ],
      "text/plain": [
       "[1] 2.632274"
      ]
     },
     "metadata": {},
     "output_type": "display_data"
    }
   ],
   "source": [
    "# Prepare test data\n",
    "vars<-c()\n",
    "for(name in colnames(opt$model)){\n",
    "    if(name != \"(Intercept)\"){\n",
    "        namevar<-substr(name, start = 2, stop = 3)\n",
    "        vars<-c(vars, namevar)\n",
    "    }\n",
    "    \n",
    "}\n",
    "vars<-as.numeric(vars)\n",
    "x.train.model<-x.train[,vars]\n",
    "x.test.model<-x.test[,vars]\n",
    "\n",
    "# Get performance\n",
    "post<-fit.logit(x.train.model,y.train, alpha, beta)\n",
    "#linear.fit<-fit.probit(x.train.model,y.train,alpha,beta, modelString.class)\n",
    "#omega.post<-linear.fit$omega.post\n",
    "\n",
    "performance<-MLPD.class(x.test.model, y.test, nt, post)#omega.pos)\n",
    "\n",
    "performance"
   ]
  },
  {
   "cell_type": "markdown",
   "metadata": {},
   "source": [
    "## Criteria 2: Reference model approach"
   ]
  },
  {
   "cell_type": "code",
   "execution_count": 56,
   "metadata": {},
   "outputs": [
    {
     "name": "stderr",
     "output_type": "stream",
     "text": [
      "Warning message:\n",
      "“glm.fit: fitted probabilities numerically 0 or 1 occurred”\n",
      "Warning message:\n",
      "“glm.fit: fitted probabilities numerically 0 or 1 occurred”\n",
      "Warning message:\n",
      "“glm.fit: fitted probabilities numerically 0 or 1 occurred”\n"
     ]
    }
   ],
   "source": [
    "require(\"BMA\")\n",
    "\n",
    "bma.class<-bic.glm(y.train~., data = D.train, glm.family=\"binomial\", factor.type=FALSE)"
   ]
  },
  {
   "cell_type": "code",
   "execution_count": 113,
   "metadata": {},
   "outputs": [
    {
     "data": {
      "text/html": [
       "<strong>2:</strong> 0.244122587414611"
      ],
      "text/latex": [
       "\\textbf{2:} 0.244122587414611"
      ],
      "text/markdown": [
       "**2:** 0.244122587414611"
      ],
      "text/plain": [
       "        2 \n",
       "0.2441226 "
      ]
     },
     "metadata": {},
     "output_type": "display_data"
    }
   ],
   "source": [
    "reference.model.class<-function(x.train, y.train, original.x=x.train.data, reference.model = bma.class){  \n",
    "    post.fit<-fit.logit(x.train,y.train, alpha, beta)\n",
    "    #linear.fit<-fit.probit(x.trai,y.train,alpha,beta, modelString.class)\n",
    "    #omega.post<-linear.fit$omega.post\n",
    "    seq.y<-seq(-5,5,0.1)\n",
    "    KL<-0\n",
    "    n<-dim(x.train)[1]\n",
    "    # Reference prediction\n",
    "    pdens <- predict(reference.model, original.x)   \n",
    "    D.train<-data.frame( x.train)\n",
    "    for(i in 1:dim(x.train)[1]){ \n",
    "        # Reference probability       \n",
    "        p.reference<-pdens[i]\n",
    "        # Target probability\n",
    "        if(dim(D.train)[2]>1){\n",
    "            p.target<-pred.prob.class(D.train[i,], model = post.fit)\n",
    "        }\n",
    "        else{\n",
    "            p.target<-pred.prob.class(D.train, model = post.fit)\n",
    "        }\n",
    "        #p.target<-get.y.probs.class(matrix(x.train[i,]), omega.post)\n",
    "        # KL divergence\n",
    "        if((p.reference>0)*(p.reference<1)*(p.target>0)*(p.target<1)){\n",
    "            KL.new<-p.reference*log(p.reference/p.target) + (1-p.reference)*log((1-p.reference)/(1-p.target))\n",
    "            KL<-KL+KL.new\n",
    "        }\n",
    "    }    \n",
    "    return(KL/n) \n",
    "}\n",
    "\n",
    "x.train.data<-x.train\n",
    "KL<-reference.model.class(x.train, y.train, original.x=x.train.data, reference.model = bma.class)\n",
    "KL"
   ]
  },
  {
   "cell_type": "code",
   "execution_count": 114,
   "metadata": {},
   "outputs": [
    {
     "name": "stdout",
     "output_type": "stream",
     "text": [
      "[1] \"Starting optimization\"\n"
     ]
    }
   ],
   "source": [
    "opt<-optimization(x.train, y.train, reference.model.class, extended = FALSE)"
   ]
  },
  {
   "cell_type": "code",
   "execution_count": 115,
   "metadata": {},
   "outputs": [
    {
     "data": {
      "text/html": [
       "3"
      ],
      "text/latex": [
       "3"
      ],
      "text/markdown": [
       "3"
      ],
      "text/plain": [
       "[1] 3"
      ]
     },
     "metadata": {},
     "output_type": "display_data"
    },
    {
     "data": {
      "text/html": [
       "<strong>1:</strong> 0.037657768725368"
      ],
      "text/latex": [
       "\\textbf{1:} 0.037657768725368"
      ],
      "text/markdown": [
       "**1:** 0.037657768725368"
      ],
      "text/plain": [
       "         1 \n",
       "0.03765777 "
      ]
     },
     "metadata": {},
     "output_type": "display_data"
    },
    {
     "data": {
      "text/html": [
       "<style>\n",
       ".list-inline {list-style: none; margin:0; padding: 0}\n",
       ".list-inline>li {display: inline-block}\n",
       ".list-inline>li:not(:last-child)::after {content: \"\\00b7\"; padding: 0 .5ex}\n",
       "</style>\n",
       "<ol class=list-inline><li>'(Intercept)'</li><li>'X1'</li><li>'X2'</li><li>'X3'</li><li>'X4'</li></ol>\n"
      ],
      "text/latex": [
       "\\begin{enumerate*}\n",
       "\\item '(Intercept)'\n",
       "\\item 'X1'\n",
       "\\item 'X2'\n",
       "\\item 'X3'\n",
       "\\item 'X4'\n",
       "\\end{enumerate*}\n"
      ],
      "text/markdown": [
       "1. '(Intercept)'\n",
       "2. 'X1'\n",
       "3. 'X2'\n",
       "4. 'X3'\n",
       "5. 'X4'\n",
       "\n",
       "\n"
      ],
      "text/plain": [
       "[1] \"(Intercept)\" \"X1\"          \"X2\"          \"X3\"          \"X4\"         "
      ]
     },
     "metadata": {},
     "output_type": "display_data"
    }
   ],
   "source": [
    "opt$num.vars\n",
    "opt$criteria\n",
    "colnames(opt$model)"
   ]
  },
  {
   "cell_type": "code",
   "execution_count": 116,
   "metadata": {},
   "outputs": [
    {
     "data": {
      "text/html": [
       "2.21841118814428"
      ],
      "text/latex": [
       "2.21841118814428"
      ],
      "text/markdown": [
       "2.21841118814428"
      ],
      "text/plain": [
       "[1] 2.218411"
      ]
     },
     "metadata": {},
     "output_type": "display_data"
    }
   ],
   "source": [
    "# Prepare test data\n",
    "vars<-c()\n",
    "for(name in colnames(opt$model)){\n",
    "    if(name != \"(Intercept)\"){\n",
    "        namevar<-substr(name, start = 2, stop = 3)\n",
    "        vars<-c(vars, namevar)\n",
    "    }\n",
    "    \n",
    "}\n",
    "vars<-as.numeric(vars)\n",
    "x.train.model<-x.train[,vars]\n",
    "x.test.model<-x.test[,vars]\n",
    "\n",
    "# Get performance\n",
    "post<-fit.logit(x.train.model,y.train, alpha, beta)\n",
    "#linear.fit<-fit.probit(x.train.model,y.train,alpha,beta, modelString.class)\n",
    "#omega.post<-linear.fit$omega.post\n",
    "\n",
    "performance<-MLPD.class(x.test.model, y.test, nt, post)#omega.pos)\n",
    "\n",
    "performance"
   ]
  },
  {
   "cell_type": "code",
   "execution_count": null,
   "metadata": {},
   "outputs": [],
   "source": []
  }
 ],
 "metadata": {
  "kernelspec": {
   "display_name": "R",
   "language": "R",
   "name": "ir"
  },
  "language_info": {
   "codemirror_mode": "r",
   "file_extension": ".r",
   "mimetype": "text/x-r-source",
   "name": "R",
   "pygments_lexer": "r",
   "version": "3.6.3"
  }
 },
 "nbformat": 4,
 "nbformat_minor": 2
}
