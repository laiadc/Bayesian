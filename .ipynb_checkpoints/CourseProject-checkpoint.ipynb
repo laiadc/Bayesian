{
 "cells": [
  {
   "cell_type": "markdown",
   "metadata": {},
   "source": [
    "# Course Project: Bayesian predictor selection\n",
    "\n",
    "**Laia Domingo Colomer**<br>\n",
    "**Núria Sánchez Font**\n",
    "\n",
    "The notebook is structured as follows.\n",
    "\n",
    "+ [$\\text{1. Regression}$](#Reg)\n",
    "+ [$\\text{2. Classification}$](#Class)\n",
    "+ [$\\text{3. Experiments I: Regression}$](#ExpReg)\n",
    "    + [$\\text{Criterion 1: Cross-validation}$](#CVreg)\n",
    "    + [$\\text{Criterion 2: Widely applicable information criterion (WAIC)}$](#waicReg)\n",
    "    + [$\\text{Criterion 3: $L^2$ model approach}$](#L2reg)   \n",
    "    + [$\\text{Criterion 4: Reference model approach}$](#refReg)\n",
    "+ [$\\text{4. Experiments II: Classification}$](#ExpClass)\n",
    "    + [$\\text{Criterion 1: Cross-validation}$](#CVclass)\n",
    "    + [$\\text{Criterion 2: Widely applicable information criterion (WAIC)}$](#waicClass)\n",
    "    + [$\\text{Criterion 3: $L^2$ model approach}$](#L2class)\n",
    "    + [$\\text{Criterion 4: Reference model approach}$](#refClass)\n",
    "+ [$\\text{5. Analysis of the results}$](#AnalysisResults)\n",
    "    + [$\\text{Selected variables}$](#SelVariables)\n",
    "    + [$\\text{Performance}$](#Performance)\n",
    "   \n",
    "In [Section 1](#Reg) and [Section 2](#Class), we construct all the functions that will be required when performing the experiments. That is, the functions to simulate the data, to construct and fit the models (by means of stan or rstanarm) and to get the posterior probabilities. [Section 1](#Reg) regards the regression task and [Section 2](#Class) the classification task.\n",
    "\n",
    "Then, in [Section 3](#ExpReg) and [Section 4](#ExpClass), we will implement the different criteria for the regression and classification tasks respectively. In the former, the methods will be implemented by means of the stan framework as well as analytically. \n",
    "\n",
    "Finally, [Section 5](#AnalysisResults) provides a summary of the results obtained in the experiments. That is, we show the variables selected by each of the methods as well as their performance. Despite the fact that we show such results, we do not comment them on the notebook but on the written memory. \n",
    "\n",
    "Let us mention that, although we make some comments along the notebook, all the conclusions extracted from the different experiments carried out can be found on the written report. "
   ]
  },
  {
   "cell_type": "markdown",
   "metadata": {},
   "source": [
    "## 1. Regression <a name=\"Reg\" ></a>\n",
    "\n",
    "We will consider both regression and classification problems.\n",
    "\n",
    "\n",
    "### Data simulation\n",
    "\n",
    "The simulated data is distributed as follows:\n",
    "\n",
    "$$\n",
    "x \\sim N(0,R), \\quad R \\in \\mathbb{R}^{p\\times p}\n",
    "$$\n",
    "\n",
    "$$\n",
    "y|x \\sim N(\\omega^Tx, \\sigma^2), \\quad \\sigma^2=1\n",
    "$$\n",
    "\n",
    "Where $p$ is the total number of variables (we use $p=30$), $\\omega$ are the weights and $R$ is the correlation matrix. \n",
    "\n",
    "The variables are separated in groups of 5. In each group, $x_j$ has mean zero, variance 1, and correlation $\\rho$ with the other variables of the group. $x_j$ is uncorrelated with the variables outside this group. This means that the correlation matrix $R$ is of the form:\n",
    "\n",
    "$$\n",
    "R = \\begin{pmatrix} \n",
    "  \\tilde{R}     & 0 & \\cdots & 0\\\\ \n",
    "  0 & \\tilde{R} & \\cdots & 0\\\\\n",
    "  \\vdots & \\cdots & \\tilde{R} & 0 \\\\\n",
    "  0 & \\cdots & \\cdots & \\tilde{R}\n",
    "\\end{pmatrix}, \\quad \\tilde{R} = \n",
    "\\begin{pmatrix}\n",
    "1 & \\rho & \\rho & \\rho & \\rho\\\\\n",
    "\\rho & 1 & \\rho & \\rho & \\rho \\\\\n",
    "\\rho & \\rho & 1 & \\rho & \\rho \\\\\n",
    "\\rho & \\rho & \\rho & 1 & \\rho \\\\\n",
    "\\rho & \\rho & \\rho & \\rho & 1 \n",
    "\\end{pmatrix}\n",
    "$$\n",
    "\n",
    "The weights are of the form:\n",
    "\n",
    "$$\n",
    "\\begin{pmatrix}\n",
    "\\omega^{1:5}\\\\\n",
    "\\omega^{6:10}\\\\\n",
    "\\omega^{11:15}\\\\\n",
    "\\omega^{16:p}\n",
    "\\end{pmatrix} = \n",
    "\\begin{pmatrix}\n",
    "\\chi\\\\\n",
    "0.5\\chi\\\\\n",
    "0.25\\chi\\\\\n",
    "0\n",
    "\\end{pmatrix}\n",
    "$$\n",
    "\n",
    "Where $\\omega^{1:5}$ denotes the weights of variables $x_1, \\cdots, x_5$. That is, there are 15 variables which are informative to the variable $y$, and $p-15$ variables which are uninformative. \n",
    "\n",
    "We perform an experiment with the following training size and the correlation coefficient:\n",
    "\n",
    "$$\n",
    "n  =  100 \\\\\n",
    "p  = 30\\\\\n",
    "\\rho = 0.5\\\\\n",
    "\\chi = 0.34\n",
    "$$"
   ]
  },
  {
   "cell_type": "code",
   "execution_count": 1,
   "metadata": {},
   "outputs": [],
   "source": [
    "library(MASS)"
   ]
  },
  {
   "cell_type": "code",
   "execution_count": 2,
   "metadata": {},
   "outputs": [],
   "source": [
    "simulate.regression<-function(n, rho, chi, p=100){\n",
    "    sigma2<-1\n",
    "    mu<-rep(0,p)\n",
    "    \n",
    "    # Define R-tilde matrix\n",
    "    Rt<- matrix(rep(rho, 5*5), ncol=5)\n",
    "    diag(Rt)<-rep(1,5)\n",
    "\n",
    "    # Define R matrix\n",
    "    R <- matrix(0, ncol=p, nrow=p)\n",
    "    for(i in seq(1,p,5)){\n",
    "        R[i:(i+4), i:(i+4)] <- Rt\n",
    "    }\n",
    "\n",
    "    # Define weights\n",
    "    w<-matrix(0, ncol=1, nrow=p)\n",
    "    w[1:5,1]<-chi\n",
    "    w[6:10,1]<-chi*0.5\n",
    "    w[11:15,1]<-chi*0.25\n",
    "\n",
    "    # Generate x observations\n",
    "    x<-mvrnorm(n, mu, R)\n",
    "\n",
    "    # Generate y observations (given x)\n",
    "    y<-rnorm(n, x%*%w, sigma2)\n",
    "    \n",
    "    return(list('x' = x,'y' = y))\n",
    "}"
   ]
  },
  {
   "cell_type": "code",
   "execution_count": 3,
   "metadata": {},
   "outputs": [],
   "source": [
    "# Example simulation experiment\n",
    "# Define parameters\n",
    "n <- 100\n",
    "rho <- 0.5\n",
    "p <- 20\n",
    "chi <- 0.34\n",
    "\n",
    "# Simulate observations\n",
    "sim<-simulate.regression(n, rho, chi, p)\n",
    "x<-sim$x\n",
    "y<-sim$y"
   ]
  },
  {
   "cell_type": "markdown",
   "metadata": {},
   "source": [
    "### Build model\n",
    "\n",
    "Now that we have simulated the observations, we will fit a linear regression. We will consider the standard Gaussian model:\n",
    "\n",
    "$$\n",
    "y|x, \\omega, \\sigma^2 \\sim N(\\omega^Tx, \\sigma^2)\\\\\n",
    "\\omega | \\sigma^2 \\sim N(0, \\sigma^2 \\mathbb{1})\\\\\n",
    "\\sigma^2 \\sim \\text{Inv-Gamma}(\\alpha, \\beta)\\\\\n",
    "$$\n",
    "\n",
    "In this case we will use $\\alpha = \\beta =0.5$, and we assume that $x$ includes the intercept. We will fit this model using two approaches: by deriving analytically the posterior distribution and using Stan.\n",
    "\n"
   ]
  },
  {
   "cell_type": "markdown",
   "metadata": {},
   "source": [
    "### Formulating the model analytically\n",
    "\n",
    "The regression model using a normal-inverse-gamma (NIG) prior is a conjugate model. Therefore, the posterior distribution and posterior predictive distribution can be obtained analytically. Here we describe the Bayesian model.\n",
    "\n",
    "#### Prior\n",
    "\n",
    "The prior distributions of $\\omega$ and $\\sigma^2$ are the following:\n",
    "\n",
    "$$\n",
    "\\omega | \\sigma^2 \\sim N(0, \\sigma^2 \\mathbb{1})\\\\\n",
    "\\sigma^2 \\sim \\text{Inv-Gamma}(\\alpha, \\beta)\\\\\n",
    "$$\n",
    "\n",
    "Recall that the joint prior is of the form $p(\\omega, \\sigma^2) \\propto p(\\omega|\\sigma^2)p(\\sigma^2)$. Therefore, the joint prior $(\\omega,\\sigma^2)$ follows a normal-inverse-gamma (NIG) with parameters:\n",
    "\n",
    "$$\n",
    "(\\omega,\\sigma^2) \\sim NIG(0,\\mathbb{1},\\alpha, \\beta)\n",
    "$$\n",
    "\n",
    "Finally, the prior distribution of $\\omega$ can be found by integrating out $\\sigma^2$ from the joint distribution. After some algebra, the resulting prior for $\\omega$ is a multivariate student $t$:\n",
    "\n",
    "$$\n",
    "\\omega \\sim MVT_\\nu(0, \\Sigma)\n",
    "$$\n",
    "\n",
    "where $\\nu = 2\\alpha$ and $\\Sigma = \\frac{\\beta}{\\alpha}\\mathbb{1}$."
   ]
  },
  {
   "cell_type": "markdown",
   "metadata": {},
   "source": [
    "#### Likelihood\n",
    "\n",
    "The likelihood for the targets $y$ is a normal distribution:\n",
    "$$\n",
    "y|x, \\omega, \\sigma^2 \\sim N(\\omega^Tx, \\sigma^2)\\\\\n",
    "$$\n",
    "\n",
    "#### Posterior\n",
    "\n",
    "The posterior distribution of the pair $(\\omega,\\sigma^2)$ can be derived using the Bayes formula:\n",
    "\n",
    "$$\n",
    "p(\\omega, \\sigma|y,x) = \\frac{p(\\omega, \\sigma^2)p(y|\\omega,\\sigma, x)}{p(y)}\n",
    "$$\n",
    "\n",
    "The posterior probability is again a normal-inverse-gamma:\n",
    "\n",
    "$$\n",
    "(\\omega, \\sigma^2|y,x) \\sim NIG(\\mu^*,V^*,\\alpha^*,\\beta^*)\n",
    "$$\n",
    "\n",
    "with\n",
    "\n",
    "$$\n",
    "\\mu^* = (\\mathbb{1} + X^TX)^{-1}(X^Ty)\\\\\n",
    "V^* = (\\mathbb{1} + X^TX)^{-1}\\\\\n",
    "\\alpha^* = \\alpha + n/2\\\\\n",
    "\\beta^* = \\beta + \\frac{1}{2}(y^Ty - {\\mu^*}^T{V^*}^{-1}\\mu^*)\n",
    "$$\n",
    "\n",
    "The marginal distributions are:\n",
    "\n",
    "$$\n",
    "\\sigma^2|y,x \\sim IG(\\alpha^*, \\beta^*)\\\\\n",
    "\\omega|y,x \\sim MVT_{\\nu^*}(\\mu^*, \\Sigma^*), \\quad \\nu^* = 2\\alpha^*, \\Sigma^* = \\frac{\\beta^*}{\\alpha^*} V^*\\\\\n",
    "\\omega|\\sigma^2,y,x \\sim N(\\mu^*, \\sigma^2V^*)\n",
    "$$"
   ]
  },
  {
   "cell_type": "markdown",
   "metadata": {},
   "source": [
    "#### Posterior predictive\n",
    "\n",
    "Given a new set of observations $\\tilde{X}$, the probability distribution of the new targets $\\tilde{y}$ follows a multivariate student t distribution:\n",
    "\n",
    "$$\n",
    "    \\tilde{y}|x,y,\\sigma^2, \\omega \\sim MVT_{2\\alpha^*}\\Big(\\tilde{X}\\mu^*, \\frac{\\beta^*}{\\alpha^*}(\\mathbb{1} + \\tilde{X}V^*\\tilde{X}^T)\\Big)\n",
    "$$"
   ]
  },
  {
   "cell_type": "code",
   "execution_count": 4,
   "metadata": {},
   "outputs": [
    {
     "name": "stderr",
     "output_type": "stream",
     "text": [
      "Loading required package: LaplacesDemon\n",
      "\n",
      "Loading required package: invgamma\n",
      "\n",
      "\n",
      "Attaching package: ‘invgamma’\n",
      "\n",
      "\n",
      "The following objects are masked from ‘package:LaplacesDemon’:\n",
      "\n",
      "    dinvchisq, dinvgamma, rinvchisq, rinvgamma\n",
      "\n",
      "\n"
     ]
    }
   ],
   "source": [
    "require('LaplacesDemon')\n",
    "require(invgamma)"
   ]
  },
  {
   "cell_type": "code",
   "execution_count": 5,
   "metadata": {},
   "outputs": [
    {
     "data": {
      "image/png": "[encoded data removed]",
      "text/plain": [
       "plot without title"
      ]
     },
     "metadata": {
      "image/png": {
       "height": 420,
       "width": 420
      },
      "text/plain": {
       "height": 420,
       "width": 420
      }
     },
     "output_type": "display_data"
    }
   ],
   "source": [
    "# Define parameters\n",
    "n <- 100\n",
    "rho <- 0.5\n",
    "p <- 20\n",
    "chi <- 0.34\n",
    "\n",
    "# Initial parameters\n",
    "alpha <- 0.5\n",
    "beta <- 0.5\n",
    "N<-3000\n",
    "\n",
    "# Train and test data sets\n",
    "# Train set\n",
    "sim.train<-simulate.regression(n, rho, chi, p)\n",
    "x.train<-sim.train$x\n",
    "y.train<-sim.train$y\n",
    "x.train.ext<-cbind(rep(1, dim(x.train)[2]),x.train)\n",
    "\n",
    "# Test set\n",
    "sim.test<-simulate.regression(N, rho, chi, p)\n",
    "x.test<-sim.test$x\n",
    "y.test<-sim.test$y\n",
    "x.test.ext<-cbind(rep(1, dim(x.test)[2]),x.test)\n",
    "\n",
    "# Posterior parameters\n",
    "V.s<-round(solve(diag(p+1) + t(x.train.ext)%*%x.train.ext),10)\n",
    "mu.s<-V.s%*%(t(x.train.ext)%*%y)\n",
    "alpha.s<-alpha + n/2\n",
    "beta.s<-as.numeric(beta + 1/2*(t(y)%*%y - t(mu.s)%*%solve(V.s)%*%mu.s))\n",
    "\n",
    "# Sample from posterior \n",
    "sigma2.post<-rinvgamma(N,alpha.s,beta.s)\n",
    "omega.post<- rmvt(N,mu.s, V.s, df=2*alpha.s)\n",
    "\n",
    "# Sample from posterior predictive\n",
    "new.x<-x.test.ext[1,]\n",
    "new.mu<-new.x%*%mu.s\n",
    "new.V<-beta.s/alpha.s*(diag(1) + t(new.x)%*%V.s%*%new.x)\n",
    "y.pred<-rmvt(N, new.mu, new.V, df = 2*alpha.s)\n",
    "\n",
    "# Get probability density posterior predictive\n",
    "new.y<-as.matrix(seq(-10,10,0.001))\n",
    "dens<-density(y.pred)\n",
    "y.dens <- approx(dens$x,dens$y,xout=new.y)$y\n",
    "\n",
    "\n",
    "truehist(y.pred)\n",
    "lines(new.y, y.dens, col=\"red\")"
   ]
  },
  {
   "cell_type": "code",
   "execution_count": 6,
   "metadata": {},
   "outputs": [],
   "source": [
    "fit.reg.analytical<-function(x.train, y.train, alpha, beta, extended=FALSE){\n",
    "    p<-dim(x.train)[2]\n",
    "    if(!extended){\n",
    "        x.train.ext<-cbind(dim(x.train)[1],x.train)\n",
    "        p<-p+1\n",
    "    }\n",
    "    else{\n",
    "        x.train.ext<-x.train\n",
    "    }\n",
    "    # Posterior parameters\n",
    "    V.s<-round(solve(diag(p) + t(x.train.ext)%*%x.train.ext),10)\n",
    "    mu.s<-V.s%*%(t(x.train.ext)%*%y.train)\n",
    "    alpha.s<-alpha + n/2\n",
    "    beta.s<-as.numeric(beta + 1/2*(t(y.train)%*%y.train - t(mu.s)%*%solve(V.s)%*%mu.s))\n",
    "    return(list(V.s =V.s, mu.s = mu.s, alpha.s = alpha.s, beta.s = beta.s))\n",
    "\n",
    "}\n",
    "\n",
    "\n",
    "get.y.distr.reg.anal<-function(x.new, V.s, mu.s, alpha.s, beta.s, extended = FALSE){\n",
    "    # Sample from posterior predictive\n",
    "    if(!extended){\n",
    "        x.new.ext<-rbind(1,x.new)\n",
    "    }\n",
    "    else{\n",
    "        x.new.ext<-x.new\n",
    "    }\n",
    "    new.mu<-t(x.new.ext)%*%mu.s\n",
    "    new.V<-beta.s/alpha.s*(diag(1) + t(x.new.ext)%*%V.s%*%x.new.ext)\n",
    "    y.pred<-rmvt(N, new.mu, new.V, df = 2*alpha.s)\n",
    "    return(y.pred)\n",
    "}   \n",
    "    \n",
    "\n",
    "get.prob.y.reg.anal<-function(x.new, V.s, mu.s, alpha.s, beta.s, probs, extended = FALSE){\n",
    "    # Sample from posterior predictive\n",
    "    if(!extended){\n",
    "        x.new.ext<-rbind(1,x.new)\n",
    "    }\n",
    "    else{\n",
    "        x.new.ext<-x.new\n",
    "    }\n",
    "    new.mu<-t(x.new.ext)%*%mu.s\n",
    "    new.V<-beta.s/alpha.s*(diag(1) + t(x.new.ext)%*%V.s%*%x.new.ext)\n",
    "    y.pred<-rmvt(N, new.mu, new.V, df = 2*alpha.s)\n",
    "\n",
    "    # Get probability density posterior predictive\n",
    "    new.y<-as.matrix(seq(-10,10,0.001))\n",
    "    dens<-density(y.pred)\n",
    "    y.dens <- approx(dens$x,dens$y,xout=probs)$y\n",
    "    return(y.dens)\n",
    "}\n",
    "\n",
    "fit<-fit.reg.analytical(x.train, y.train, alpha, beta)\n",
    "x.new<-as.matrix(x.test[1,])\n",
    "probs<-seq(-5,5,0.01)\n",
    "dens<-get.prob.y.reg.anal(x.new, fit$V.s, fit$mu.s, fit$alpha.s,fit$beta.s, probs)"
   ]
  },
  {
   "cell_type": "markdown",
   "metadata": {},
   "source": [
    "### Formulating the model with Stan"
   ]
  },
  {
   "cell_type": "code",
   "execution_count": 8,
   "metadata": {},
   "outputs": [],
   "source": [
    "modelString.reg = \"\n",
    "   data { \n",
    "      int<lower=1> n;   // total number of observations \n",
    "      vector[n] y;      // response variable \n",
    "      int<lower=1> p;  // number of effects \n",
    "      matrix[n,p+1] X;   // model matrix \n",
    "      real alphaS;    // alpha sigma^2\n",
    "      real betaS;    // beta sigma^2\n",
    "      } \n",
    "      \n",
    "   transformed data {\n",
    "      } \n",
    "      \n",
    "   parameters { \n",
    "      vector[p+1] omega;     // linear regression weights\n",
    "      real<lower=0> sigma;   // standard deviation y\n",
    "      }\n",
    "\n",
    "   transformed parameters { \n",
    "      } \n",
    "      \n",
    "   model { \n",
    "      vector[n] mu; \n",
    "      mu = X * omega; \n",
    "      \n",
    "      // priors\n",
    "      omega  ~ normal(0,sigma);\n",
    "      sigma ~ inv_gamma(alphaS, betaS);\n",
    "\n",
    "      // likelihood \n",
    "      y ~ normal(mu, sigma); \n",
    "      } \n",
    "      \n",
    "   generated quantities {\n",
    "     vector[n] log_lik;\n",
    "     for (i in 1:n) log_lik[i] = normal_lpdf(y[i] | X[i,]*omega, sigma);\n",
    "      } \n",
    "\""
   ]
  },
  {
   "cell_type": "markdown",
   "metadata": {},
   "source": [
    "### Generate data for the model\n"
   ]
  },
  {
   "cell_type": "code",
   "execution_count": 9,
   "metadata": {},
   "outputs": [],
   "source": [
    "D <- data.frame(y, x)\n",
    "\n",
    "X.model = model.matrix(y~. , data = D) # This function includes the intercept for the model\n",
    "\n",
    "data.list <- with(D, list(y = y, X = X.model, p= ncol(X.model)- 1, n=nrow(D), \n",
    "                             alphaS=0.5, betaS=0.5, alphaT=0.5, betaT=0.5))\n",
    "\n"
   ]
  },
  {
   "cell_type": "markdown",
   "metadata": {},
   "source": [
    "### Fitting the model"
   ]
  },
  {
   "cell_type": "code",
   "execution_count": 10,
   "metadata": {},
   "outputs": [
    {
     "name": "stderr",
     "output_type": "stream",
     "text": [
      "Loading required package: rstan\n",
      "\n",
      "Loading required package: StanHeaders\n",
      "\n",
      "Loading required package: ggplot2\n",
      "\n",
      "rstan (Version 2.19.3, GitRev: 2e1f913d3ca3)\n",
      "\n",
      "For execution on a local, multicore CPU with excess RAM we recommend calling\n",
      "options(mc.cores = parallel::detectCores()).\n",
      "To avoid recompilation of unchanged Stan programs, we recommend calling\n",
      "rstan_options(auto_write = TRUE)\n",
      "\n"
     ]
    }
   ],
   "source": [
    "#install.packages(\"rstan\",dependencies=TRUE,repos= \"https://cloud.r-project.org\")\n",
    "options(mc.cores = parallel::detectCores())\n",
    "require(rstan)\n",
    "rstan_options(auto_write = TRUE)\n",
    "Sys.setenv(LOCAL_CPPFLAGS = '-march=corei7 -mtune=corei7')"
   ]
  },
  {
   "cell_type": "markdown",
   "metadata": {},
   "source": [
    "### Generate a sample from the posterior probability"
   ]
  },
  {
   "cell_type": "code",
   "execution_count": 11,
   "metadata": {},
   "outputs": [
    {
     "name": "stdout",
     "output_type": "stream",
     "text": [
      "\n",
      "SAMPLING FOR MODEL '27651c36bb7331771f811f7cc1e512c6' NOW (CHAIN 1).\n",
      "Chain 1: \n",
      "Chain 1: Gradient evaluation took 3.7e-05 seconds\n",
      "Chain 1: 1000 transitions using 10 leapfrog steps per transition would take 0.37 seconds.\n",
      "Chain 1: Adjust your expectations accordingly!\n",
      "Chain 1: \n",
      "Chain 1: \n",
      "Chain 1: Iteration:    1 / 10000 [  0%]  (Warmup)\n",
      "Chain 1: Iteration: 1000 / 10000 [ 10%]  (Warmup)\n",
      "Chain 1: Iteration: 1501 / 10000 [ 15%]  (Sampling)\n",
      "Chain 1: Iteration: 2500 / 10000 [ 25%]  (Sampling)\n",
      "Chain 1: Iteration: 3500 / 10000 [ 35%]  (Sampling)\n",
      "Chain 1: Iteration: 4500 / 10000 [ 45%]  (Sampling)\n",
      "Chain 1: Iteration: 5500 / 10000 [ 55%]  (Sampling)\n",
      "Chain 1: Iteration: 6500 / 10000 [ 65%]  (Sampling)\n",
      "Chain 1: Iteration: 7500 / 10000 [ 75%]  (Sampling)\n",
      "Chain 1: Iteration: 8500 / 10000 [ 85%]  (Sampling)\n",
      "Chain 1: Iteration: 9500 / 10000 [ 95%]  (Sampling)\n",
      "Chain 1: Iteration: 10000 / 10000 [100%]  (Sampling)\n",
      "Chain 1: \n",
      "Chain 1:  Elapsed Time: 0.261495 seconds (Warm-up)\n",
      "Chain 1:                1.47205 seconds (Sampling)\n",
      "Chain 1:                1.73354 seconds (Total)\n",
      "Chain 1: \n"
     ]
    }
   ],
   "source": [
    "# Translate model to C++ and compile to DSO:\n",
    "stanDso <- stan_model(model_code=modelString.reg) \n",
    "\n",
    "# Generate posterior sample:\n",
    "stanFit.post <- sampling(object=stanDso, data=data.list, chains=1, iter=10000, warmup=1500, thin=1, seed=101)"
   ]
  },
  {
   "cell_type": "code",
   "execution_count": 14,
   "metadata": {},
   "outputs": [],
   "source": [
    "# Samples of all the variables\n",
    "omega.post <- extract(stanFit.post, 'omega')$omega\n",
    "sigma.post <- extract(stanFit.post, 'sigma')\n",
    "sigma.post <- unlist(sigma.post, use.names=FALSE)"
   ]
  },
  {
   "cell_type": "code",
   "execution_count": 15,
   "metadata": {},
   "outputs": [
    {
     "data": {
      "image/png": "[encoded data removed]",
      "text/plain": [
       "Plot with title “Posterior pdf of sigma”"
      ]
     },
     "metadata": {
      "image/png": {
       "height": 360,
       "width": 360
      },
      "text/plain": {
       "height": 360,
       "width": 360
      }
     },
     "output_type": "display_data"
    }
   ],
   "source": [
    "options(repr.plot.width=6,repr.plot.height=6)\n",
    "hist(sigma.post,freq=FALSE,col=\"LightGreen\",breaks=60,xlab=\"\",ylab=\"\",main=\"Posterior pdf of sigma\")"
   ]
  },
  {
   "cell_type": "markdown",
   "metadata": {},
   "source": [
    "### Obtain probability distribution of new observations"
   ]
  },
  {
   "cell_type": "code",
   "execution_count": 14,
   "metadata": {},
   "outputs": [],
   "source": [
    "# Given a new observation x.new\n",
    "sim.new<-simulate.regression(1, rho, chi, p)\n",
    "x.new<-as.matrix(sim.new$x)\n",
    "x.new.ext<-rbind(1,x.new)\n",
    "\n",
    "\n",
    "# Generate the probability distribution y|x,omega,sigma,tau\n",
    "# Draw samples of y from the likelihood, using the posterior parameters\n",
    "\n",
    "get.y.distr<-function(x.new, omega.post, sigma.post){\n",
    "    x.new.ext<-rbind(1,x.new)\n",
    "    mu<-omega.post%*%x.new.ext\n",
    "    sd<-sigma.post\n",
    "    n.samp<-length(sigma.post)\n",
    "    y.samp<-rnorm(n.samp, mu, sd)\n",
    "    return(y.samp)\n",
    "}\n",
    "\n",
    "y.samp<-get.y.distr(x.new, omega.post, sigma.post)"
   ]
  },
  {
   "cell_type": "code",
   "execution_count": 15,
   "metadata": {},
   "outputs": [
    {
     "data": {
      "image/png": "[encoded data removed]",
      "text/plain": [
       "Plot with title “Distribution of y|x.new”"
      ]
     },
     "metadata": {
      "image/png": {
       "height": 360,
       "width": 360
      },
      "text/plain": {
       "height": 360,
       "width": 360
      }
     },
     "output_type": "display_data"
    }
   ],
   "source": [
    "options(repr.plot.width=6,repr.plot.height=6)\n",
    "hist(y.samp,freq=FALSE,col=\"LightGreen\",breaks=60,xlab=\"\",ylab=\"\",main=\"Distribution of y|x.new\")"
   ]
  },
  {
   "cell_type": "markdown",
   "metadata": {},
   "source": [
    "## Putting it all together\n",
    "\n",
    "The following function calculates a Bayesian Linear Regression, given an initial dataset and prior parameters. It returns the posterior quantities. These quantities can be used to generate the labels probability distribution $\\tilde{y}|x,\\omega,\\sigma,\\tau$. \n"
   ]
  },
  {
   "cell_type": "code",
   "execution_count": 16,
   "metadata": {},
   "outputs": [],
   "source": [
    "# Load Stan package\n",
    "options(mc.cores = parallel::detectCores())\n",
    "require(rstan)\n",
    "rstan_options(auto_write = TRUE)\n",
    "Sys.setenv(LOCAL_CPPFLAGS = '-march=corei7 -mtune=corei7')\n",
    "\n",
    "fit.linear.regression<-function(x,y,alphaS, betaS, modelString){\n",
    "    # Create data for Stan\n",
    "    D <- data.frame(y, x)\n",
    "    X.model = model.matrix(y~. , data = D) # This function includes the intercept for the model\n",
    "    data.list <- with(D, list(y = y, X = X.model, p= ncol(X.model)- 1, n=nrow(D), \n",
    "                                 alphaS=alphaS, betaS=betaS))\n",
    "\n",
    "    # Translate model to C++ and compile to DSO:\n",
    "    stanDso <- stan_model(model_code=modelString)\n",
    "    \n",
    "    #Computing MAP estimators\n",
    "    opt<-optimizing(stanDso, data=data.list)\n",
    "    MAP<-opt$par\n",
    "    l<-length(as.numeric(MAP))\n",
    "    omega.MAP<-as.numeric(MAP)[1:l-1]\n",
    "    sigma.MAP<-tail(as.numeric(MAP),1)\n",
    "\n",
    "    # Generate posterior sample:\n",
    "    stanFit.post<-sampling(object=stanDso,data=data.list,chains=3,iter=2000,warmup=1000,thin=1, seed =101)\n",
    "\n",
    "    # Samples of all the variables\n",
    "    omega.post <- extract(stanFit.post, 'omega')$omega\n",
    "    sigma.post <- extract(stanFit.post, 'sigma')\n",
    "    sigma.post <- unlist(sigma.post, use.names=FALSE)\n",
    "    \n",
    "    return(list(omega.post = omega.post,  sigma.post = sigma.post, omega.MAP = omega.MAP, sigma.MAP = sigma.MAP)) \n",
    "}\n",
    "\n",
    "\n",
    "get.y.distr.reg<-function(x.new, omega.post, sigma.post){\n",
    "    x.new.ext<-rbind(1,x.new)\n",
    "    mu<-omega.post%*%x.new.ext\n",
    "    sd<-sigma.post\n",
    "    n.samp<-length(sigma.post)\n",
    "    y.samp<-rnorm(n.samp, mu, sd)\n",
    "    return(y.samp)\n",
    "}\n",
    "\n",
    "\n",
    "get.y.probs.reg<-function(x.new, omega.post, sigma.post, q){\n",
    "    # q is the vector of quantiles to obtain the probabilities\n",
    "    y.samp<-get.y.distr.reg(x.new, omega.post, sigma.post)\n",
    "    dens<-density(y.samp)\n",
    "    probs <- approx(dens$x,dens$y,xout=q)$y\n",
    "    return(probs)\n",
    "}"
   ]
  },
  {
   "cell_type": "code",
   "execution_count": 19,
   "metadata": {},
   "outputs": [
    {
     "data": {
      "text/html": [
       "<style>\n",
       ".list-inline {list-style: none; margin:0; padding: 0}\n",
       ".list-inline>li {display: inline-block}\n",
       ".list-inline>li:not(:last-child)::after {content: \"\\00b7\"; padding: 0 .5ex}\n",
       "</style>\n",
       "<ol class=list-inline><li>0.00771990131273626</li><li>0.0103066728480676</li><li>0.0133839856170941</li><li>0.0171754762782314</li><li>0.0222158547821304</li><li>0.028789463312819</li><li>0.0369295959675331</li><li>0.0471836580983688</li><li>0.0600919446982503</li><li>0.0747166994509994</li><li>0.0894752830402663</li><li>0.104842216820734</li><li>0.123976462847858</li><li>0.150147003724143</li><li>0.182867081871271</li><li>0.217446998069071</li><li>0.249315110234114</li><li>0.277118814082995</li><li>0.301615752812436</li><li>0.323396221793969</li><li>0.341276255585358</li><li>0.353855249500772</li><li>0.363677134987558</li><li>0.376372216001836</li><li>0.394125432006444</li><li>0.413120817589255</li><li>0.427086733158486</li><li>0.431525668734916</li><li>0.425688359853578</li><li>0.412656199511262</li><li>0.396773242826932</li><li>0.380140510749721</li><li>0.362726313205754</li><li>0.343725927855062</li><li>0.321737309505237</li><li>0.295942245640831</li><li>0.266160107275819</li><li>0.232767515195605</li><li>0.198863340501771</li><li>0.168747819103523</li><li>0.142961620638936</li><li>0.118952743017261</li><li>0.096124463069301</li><li>0.077602786877866</li><li>0.065761071106457</li><li>0.0579473807712811</li><li>0.049596067901405</li><li>0.0396617503781333</li><li>0.0299889800975538</li><li>0.0218165089259314</li><li>0.0152012577110468</li><li>0.0102034765721342</li><li>0.00692178067525011</li><li>0.00503040215824182</li><li>0.00388953916749094</li><li>0.00296992358891283</li><li>0.00214544652812852</li><li>0.00150834433628624</li><li>0.00102517428728845</li><li>0.000603591726976493</li><li>0.000273627555248854</li><li>8.96856904276201e-05</li><li>2.06080558266456e-05</li><li>&lt;NA&gt;</li><li>&lt;NA&gt;</li><li>&lt;NA&gt;</li><li>&lt;NA&gt;</li><li>&lt;NA&gt;</li><li>&lt;NA&gt;</li><li>&lt;NA&gt;</li><li>&lt;NA&gt;</li><li>&lt;NA&gt;</li><li>&lt;NA&gt;</li><li>&lt;NA&gt;</li><li>&lt;NA&gt;</li><li>&lt;NA&gt;</li><li>&lt;NA&gt;</li><li>&lt;NA&gt;</li><li>&lt;NA&gt;</li><li>&lt;NA&gt;</li><li>&lt;NA&gt;</li></ol>\n"
      ],
      "text/latex": [
       "\\begin{enumerate*}\n",
       "\\item 0.00771990131273626\n",
       "\\item 0.0103066728480676\n",
       "\\item 0.0133839856170941\n",
       "\\item 0.0171754762782314\n",
       "\\item 0.0222158547821304\n",
       "\\item 0.028789463312819\n",
       "\\item 0.0369295959675331\n",
       "\\item 0.0471836580983688\n",
       "\\item 0.0600919446982503\n",
       "\\item 0.0747166994509994\n",
       "\\item 0.0894752830402663\n",
       "\\item 0.104842216820734\n",
       "\\item 0.123976462847858\n",
       "\\item 0.150147003724143\n",
       "\\item 0.182867081871271\n",
       "\\item 0.217446998069071\n",
       "\\item 0.249315110234114\n",
       "\\item 0.277118814082995\n",
       "\\item 0.301615752812436\n",
       "\\item 0.323396221793969\n",
       "\\item 0.341276255585358\n",
       "\\item 0.353855249500772\n",
       "\\item 0.363677134987558\n",
       "\\item 0.376372216001836\n",
       "\\item 0.394125432006444\n",
       "\\item 0.413120817589255\n",
       "\\item 0.427086733158486\n",
       "\\item 0.431525668734916\n",
       "\\item 0.425688359853578\n",
       "\\item 0.412656199511262\n",
       "\\item 0.396773242826932\n",
       "\\item 0.380140510749721\n",
       "\\item 0.362726313205754\n",
       "\\item 0.343725927855062\n",
       "\\item 0.321737309505237\n",
       "\\item 0.295942245640831\n",
       "\\item 0.266160107275819\n",
       "\\item 0.232767515195605\n",
       "\\item 0.198863340501771\n",
       "\\item 0.168747819103523\n",
       "\\item 0.142961620638936\n",
       "\\item 0.118952743017261\n",
       "\\item 0.096124463069301\n",
       "\\item 0.077602786877866\n",
       "\\item 0.065761071106457\n",
       "\\item 0.0579473807712811\n",
       "\\item 0.049596067901405\n",
       "\\item 0.0396617503781333\n",
       "\\item 0.0299889800975538\n",
       "\\item 0.0218165089259314\n",
       "\\item 0.0152012577110468\n",
       "\\item 0.0102034765721342\n",
       "\\item 0.00692178067525011\n",
       "\\item 0.00503040215824182\n",
       "\\item 0.00388953916749094\n",
       "\\item 0.00296992358891283\n",
       "\\item 0.00214544652812852\n",
       "\\item 0.00150834433628624\n",
       "\\item 0.00102517428728845\n",
       "\\item 0.000603591726976493\n",
       "\\item 0.000273627555248854\n",
       "\\item 8.96856904276201e-05\n",
       "\\item 2.06080558266456e-05\n",
       "\\item <NA>\n",
       "\\item <NA>\n",
       "\\item <NA>\n",
       "\\item <NA>\n",
       "\\item <NA>\n",
       "\\item <NA>\n",
       "\\item <NA>\n",
       "\\item <NA>\n",
       "\\item <NA>\n",
       "\\item <NA>\n",
       "\\item <NA>\n",
       "\\item <NA>\n",
       "\\item <NA>\n",
       "\\item <NA>\n",
       "\\item <NA>\n",
       "\\item <NA>\n",
       "\\item <NA>\n",
       "\\item <NA>\n",
       "\\end{enumerate*}\n"
      ],
      "text/markdown": [
       "1. 0.00771990131273626\n",
       "2. 0.0103066728480676\n",
       "3. 0.0133839856170941\n",
       "4. 0.0171754762782314\n",
       "5. 0.0222158547821304\n",
       "6. 0.028789463312819\n",
       "7. 0.0369295959675331\n",
       "8. 0.0471836580983688\n",
       "9. 0.0600919446982503\n",
       "10. 0.0747166994509994\n",
       "11. 0.0894752830402663\n",
       "12. 0.104842216820734\n",
       "13. 0.123976462847858\n",
       "14. 0.150147003724143\n",
       "15. 0.182867081871271\n",
       "16. 0.217446998069071\n",
       "17. 0.249315110234114\n",
       "18. 0.277118814082995\n",
       "19. 0.301615752812436\n",
       "20. 0.323396221793969\n",
       "21. 0.341276255585358\n",
       "22. 0.353855249500772\n",
       "23. 0.363677134987558\n",
       "24. 0.376372216001836\n",
       "25. 0.394125432006444\n",
       "26. 0.413120817589255\n",
       "27. 0.427086733158486\n",
       "28. 0.431525668734916\n",
       "29. 0.425688359853578\n",
       "30. 0.412656199511262\n",
       "31. 0.396773242826932\n",
       "32. 0.380140510749721\n",
       "33. 0.362726313205754\n",
       "34. 0.343725927855062\n",
       "35. 0.321737309505237\n",
       "36. 0.295942245640831\n",
       "37. 0.266160107275819\n",
       "38. 0.232767515195605\n",
       "39. 0.198863340501771\n",
       "40. 0.168747819103523\n",
       "41. 0.142961620638936\n",
       "42. 0.118952743017261\n",
       "43. 0.096124463069301\n",
       "44. 0.077602786877866\n",
       "45. 0.065761071106457\n",
       "46. 0.0579473807712811\n",
       "47. 0.049596067901405\n",
       "48. 0.0396617503781333\n",
       "49. 0.0299889800975538\n",
       "50. 0.0218165089259314\n",
       "51. 0.0152012577110468\n",
       "52. 0.0102034765721342\n",
       "53. 0.00692178067525011\n",
       "54. 0.00503040215824182\n",
       "55. 0.00388953916749094\n",
       "56. 0.00296992358891283\n",
       "57. 0.00214544652812852\n",
       "58. 0.00150834433628624\n",
       "59. 0.00102517428728845\n",
       "60. 0.000603591726976493\n",
       "61. 0.000273627555248854\n",
       "62. 8.96856904276201e-05\n",
       "63. 2.06080558266456e-05\n",
       "64. &lt;NA&gt;\n",
       "65. &lt;NA&gt;\n",
       "66. &lt;NA&gt;\n",
       "67. &lt;NA&gt;\n",
       "68. &lt;NA&gt;\n",
       "69. &lt;NA&gt;\n",
       "70. &lt;NA&gt;\n",
       "71. &lt;NA&gt;\n",
       "72. &lt;NA&gt;\n",
       "73. &lt;NA&gt;\n",
       "74. &lt;NA&gt;\n",
       "75. &lt;NA&gt;\n",
       "76. &lt;NA&gt;\n",
       "77. &lt;NA&gt;\n",
       "78. &lt;NA&gt;\n",
       "79. &lt;NA&gt;\n",
       "80. &lt;NA&gt;\n",
       "81. &lt;NA&gt;\n",
       "\n",
       "\n"
      ],
      "text/plain": [
       " [1] 7.719901e-03 1.030667e-02 1.338399e-02 1.717548e-02 2.221585e-02\n",
       " [6] 2.878946e-02 3.692960e-02 4.718366e-02 6.009194e-02 7.471670e-02\n",
       "[11] 8.947528e-02 1.048422e-01 1.239765e-01 1.501470e-01 1.828671e-01\n",
       "[16] 2.174470e-01 2.493151e-01 2.771188e-01 3.016158e-01 3.233962e-01\n",
       "[21] 3.412763e-01 3.538552e-01 3.636771e-01 3.763722e-01 3.941254e-01\n",
       "[26] 4.131208e-01 4.270867e-01 4.315257e-01 4.256884e-01 4.126562e-01\n",
       "[31] 3.967732e-01 3.801405e-01 3.627263e-01 3.437259e-01 3.217373e-01\n",
       "[36] 2.959422e-01 2.661601e-01 2.327675e-01 1.988633e-01 1.687478e-01\n",
       "[41] 1.429616e-01 1.189527e-01 9.612446e-02 7.760279e-02 6.576107e-02\n",
       "[46] 5.794738e-02 4.959607e-02 3.966175e-02 2.998898e-02 2.181651e-02\n",
       "[51] 1.520126e-02 1.020348e-02 6.921781e-03 5.030402e-03 3.889539e-03\n",
       "[56] 2.969924e-03 2.145447e-03 1.508344e-03 1.025174e-03 6.035917e-04\n",
       "[61] 2.736276e-04 8.968569e-05 2.060806e-05           NA           NA\n",
       "[66]           NA           NA           NA           NA           NA\n",
       "[71]           NA           NA           NA           NA           NA\n",
       "[76]           NA           NA           NA           NA           NA\n",
       "[81]           NA"
      ]
     },
     "metadata": {},
     "output_type": "display_data"
    }
   ],
   "source": [
    "# Example\n",
    "\n",
    "# Fit linear model and generate posterior quantities\n",
    "linear.fit<-fit.linear.regression(x,y,0.5,0.5, modelString.reg)\n",
    "omega.post<-linear.fit$omega.post\n",
    "sigma.post<-linear.fit$sigma.post\n",
    "\n",
    "# New observation\n",
    "sim.new<-simulate.regression(1, rho, chi, p)\n",
    "x.new<-as.matrix(sim.new$x)\n",
    "\n",
    "# Get probability density of different values of y\n",
    "probs<-get.y.probs.reg(x.new, omega.post, sigma.post, seq(-4,4,0.1))\n",
    "probs"
   ]
  },
  {
   "cell_type": "markdown",
   "metadata": {},
   "source": [
    "## 2. Classification model <a name=\"Class\" ></a>\n",
    "\n",
    "### Data simulation\n",
    "\n",
    "The second type of models we are going to consider are Classification models. \n",
    "In this case, we will simulate binary data according to a logistic model. The data simulation process is the following:\n",
    "\n",
    "$$\n",
    "x \\sim N(0,R), \\quad R \\in \\mathbb{R}^{p\\times p}\n",
    "$$\n",
    "\n",
    "$$\n",
    "y|x \\sim Ber(\\text{inv_logit}(\\omega^Tx))\n",
    "$$\n",
    "\n",
    "Where $R$ is the same correlation matrix as the one used in the regression problem, and $\\text{inv_logit}$ is the inverse logit function. The weights $\\omega$ and the parameters $n, \\rho, \\chi, p$ are the same as the ones used in the regression problem."
   ]
  },
  {
   "cell_type": "code",
   "execution_count": 17,
   "metadata": {},
   "outputs": [],
   "source": [
    "library(MASS)\n",
    "\n",
    "simulate.classification<-function(n, rho, chi, p=100){\n",
    "    mu<-rep(0,p)\n",
    "    \n",
    "    # Define R-tilde matrix\n",
    "    Rt<- matrix(rep(rho, 5*5), ncol=5)\n",
    "    diag(Rt)<-rep(1,5)\n",
    "\n",
    "    # Define R matrix\n",
    "    R <- matrix(0, ncol=p, nrow=p)\n",
    "    for(i in seq(1,p,5)){\n",
    "        R[i:(i+4), i:(i+4)] <- Rt\n",
    "    }\n",
    "\n",
    "    # Define weights\n",
    "    w<-matrix(0, ncol=1, nrow=p)\n",
    "    w[1:5,1]<-chi\n",
    "    w[6:10,1]<-chi*0.5\n",
    "    w[11:15,1]<-chi*0.25\n",
    "\n",
    "    # Generate x observations\n",
    "    x<-mvrnorm(n, mu, R)\n",
    "\n",
    "    # Generate y observations (given x)\n",
    "    y<-rbinom(n,1, invlogit(x%*%w))\n",
    "    \n",
    "    return(list('x' = x,'y' = y))\n",
    "}"
   ]
  },
  {
   "cell_type": "code",
   "execution_count": 18,
   "metadata": {},
   "outputs": [],
   "source": [
    "# Example simulation experiment\n",
    "# Define parameters\n",
    "n <- 100\n",
    "rho <- 0.5\n",
    "p <- 100\n",
    "chi <- 0.34\n",
    "\n",
    "# Simulate observations\n",
    "sim<-simulate.classification(n, rho, chi, p)\n",
    "x<-sim$x\n",
    "y<-sim$y"
   ]
  },
  {
   "cell_type": "markdown",
   "metadata": {},
   "source": [
    "### Build model\n",
    "\n",
    "Now that we have simulated the observations, we will fit a generalized linear model. We will consider the standard logistic model:\n",
    "\n",
    "$$\n",
    "y|x, \\omega \\sim Ber(\\text{inv_logit}(\\omega^Tx))\\\\\n",
    "\\omega |  \\tau^2 \\sim N(0, \\tau^2 \\mathcal{1})\\\\\n",
    "\\tau^2 \\sim \\text{Inv-Gamma}(\\alpha_\\tau, \\beta_\\tau)\n",
    "$$\n",
    "\n",
    "In this case we will use $ \\alpha_\\tau = \\beta_\\tau =0.5$, and we assume that $x$ includes the intercept.\n",
    "\n",
    "We will fit this model using Stan."
   ]
  },
  {
   "cell_type": "markdown",
   "metadata": {},
   "source": [
    "### Formulating the model"
   ]
  },
  {
   "cell_type": "code",
   "execution_count": 21,
   "metadata": {},
   "outputs": [],
   "source": [
    "modelString.class = \"\n",
    "   data { \n",
    "      int<lower=1> n;   // total number of observations \n",
    "      int<lower=0,upper=1> y[n];      // response variable \n",
    "      int<lower=1> p;  // number of effects \n",
    "      matrix[n,p+1] X;   // model matrix \n",
    "      real alphaT;   // alpha tau^2\n",
    "      real betaT;    // beta tau^2\n",
    "      } \n",
    "      \n",
    "   transformed data {\n",
    "      } \n",
    "      \n",
    "   parameters { \n",
    "      vector[p+1] omega;     // linear regression weights\n",
    "      real<lower=0> tau; // standard deviation omega\n",
    "      }\n",
    "\n",
    "   transformed parameters { \n",
    "      } \n",
    "      \n",
    "   model { \n",
    "      vector[n] mu; \n",
    "      mu = X * omega; \n",
    "      \n",
    "      // priors\n",
    "      omega  ~ normal(0,tau); \n",
    "      tau ~ inv_gamma(alphaT, betaT);\n",
    "\n",
    "      // likelihood \n",
    "      y ~ bernoulli_logit(mu);\n",
    "\n",
    "      } \n",
    "      \n",
    "   generated quantities {\n",
    "      } \n",
    "\""
   ]
  },
  {
   "cell_type": "code",
   "execution_count": 22,
   "metadata": {},
   "outputs": [],
   "source": [
    "# Load Stan package\n",
    "options(mc.cores = parallel::detectCores())\n",
    "require(rstan)\n",
    "rstan_options(auto_write = TRUE)\n",
    "Sys.setenv(LOCAL_CPPFLAGS = '-march=corei7 -mtune=corei7')\n",
    "\n",
    "# Translate model to C++ and compile to DSO:\n",
    "stanDso.class <- stan_model(model_code=modelString.class)     \n",
    "\n",
    "fit.probit<-function(x,y, alphaT, betaT, stanDso){\n",
    "\n",
    "    # Create data for Stan\n",
    "    D <- data.frame(y, x)\n",
    "    X.model = model.matrix(y~. , data = D) # This function includes the intercept for the model\n",
    "    data.list <- with(D, list(y = y, X = X.model, p= ncol(X.model)- 1, n=nrow(D), \n",
    "                               alphaT=alphaT, betaT=betaT))\n",
    "\n",
    "    # Generate posterior sample:\n",
    "    stanFit.post<-sampling(object=stanDso,data=data.list,chains=3,iter=10000,warmup=1500,thin=1, seed =101)\n",
    "\n",
    "    # Samples of all the variables\n",
    "    omega.post <- extract(stanFit.post, 'omega')$omega\n",
    "    tau.post <- extract(stanFit.post, 'tau')\n",
    "    tau.post <- unlist(tau.post, use.names=FALSE)\n",
    "\n",
    "    return(list(omega.post = omega.post, tau.post = tau.post))    \n",
    "}\n",
    "\n",
    "\n",
    "get.y.distr.class<-function(x.new, omega.post){\n",
    "    x.new.ext<-rbind(1,x.new)\n",
    "    p<-pnorm(omega.post%*%x.new.ext)\n",
    "    n.samp<-length(tau.post)\n",
    "    y.samp<-rbinom(n.samp, 1, p)\n",
    "    return(y.samp)\n",
    "}\n",
    "\n",
    "\n",
    "get.y.probs.class<-function(x.new, omega.post){\n",
    "    y.samp<-get.y.distr.class(x.new, omega.post)\n",
    "    p<-sum(y.samp)/length(y.samp)\n",
    "    return(p)\n",
    "}\n"
   ]
  },
  {
   "cell_type": "code",
   "execution_count": 41,
   "metadata": {},
   "outputs": [
    {
     "name": "stderr",
     "output_type": "stream",
     "text": [
      "Warning message:\n",
      "“There were 505 transitions after warmup that exceeded the maximum treedepth. Increase max_treedepth above 10. See\n",
      "http://mc-stan.org/misc/warnings.html#maximum-treedepth-exceeded”\n",
      "Warning message:\n",
      "“There were 3 chains where the estimated Bayesian Fraction of Missing Information was low. See\n",
      "http://mc-stan.org/misc/warnings.html#bfmi-low”\n",
      "Warning message:\n",
      "“Examine the pairs() plot to diagnose sampling problems\n",
      "”\n"
     ]
    }
   ],
   "source": [
    "# Example\n",
    "\n",
    "# Fit linear model and generate posterior quantities\n",
    "linear.fit<-fit.probit(x,y,0.5, 0.5, stanDso.class)\n",
    "omega.post<-linear.fit$omega.post\n",
    "tau.post<-linear.fit$tau.post\n",
    "\n",
    "# New observation\n",
    "sim.new<-simulate.classification(1, rho, chi, p)\n",
    "x.new<-as.matrix(sim.new$x)\n",
    "\n",
    "# Get probability density of different values of y\n",
    "prob<-get.y.probs.class(x.new, omega.post)\n",
    "\n",
    "prob"
   ]
  },
  {
   "cell_type": "markdown",
   "metadata": {},
   "source": [
    "### Using rstanarm\n",
    "\n",
    "Alternatively, we can use the rstanarm package to simulate the logistic model"
   ]
  },
  {
   "cell_type": "code",
   "execution_count": 23,
   "metadata": {},
   "outputs": [
    {
     "name": "stderr",
     "output_type": "stream",
     "text": [
      "Loading required package: rstanarm\n",
      "\n",
      "Loading required package: Rcpp\n",
      "\n",
      "rstanarm (Version 2.19.3, packaged: 2020-02-11 05:16:41 UTC)\n",
      "\n",
      "- Do not expect the default priors to remain the same in future rstanarm versions.\n",
      "\n",
      "Thus, R scripts should specify priors explicitly, even if they are just the defaults.\n",
      "\n",
      "- For execution on a local, multicore CPU with excess RAM we recommend calling\n",
      "\n",
      "options(mc.cores = parallel::detectCores())\n",
      "\n",
      "- bayesplot theme set to bayesplot::theme_default()\n",
      "\n",
      "   * Does _not_ affect other ggplot2 plots\n",
      "\n",
      "   * See ?bayesplot_theme_set for details on theme setting\n",
      "\n",
      "\n",
      "Attaching package: ‘rstanarm’\n",
      "\n",
      "\n",
      "The following object is masked from ‘package:rstan’:\n",
      "\n",
      "    loo\n",
      "\n",
      "\n"
     ]
    }
   ],
   "source": [
    "require(rstanarm)\n",
    "options(mc.cores = parallel::detectCores())"
   ]
  },
  {
   "cell_type": "code",
   "execution_count": 24,
   "metadata": {},
   "outputs": [],
   "source": [
    "fit.logit<-function(x.train, y.train, alpha, beta, return.cols = FALSE){\n",
    "    D <- data.frame(y.train, x.train)\n",
    "    t_prior <- student_t(df = 2*alpha, location = 0, scale = beta/alpha)\n",
    "\n",
    "    post<-stan_glm(y.train~ ., data = D,\n",
    "                 family = binomial(link = \"logit\"), \n",
    "                 prior = t_prior, prior_intercept = t_prior,\n",
    "                 seed = 123)\n",
    "    if(return.cols){\n",
    "        return(list(post = post, names = colnames(D)))\n",
    "    }\n",
    "    return(post)\n",
    "}\n",
    "\n",
    "\n",
    "pred.prob.class<-function(D.test, model=post, draws=500){\n",
    "    pred<-posterior_predict(model, D.test, draws = 500)\n",
    "    p<-sum(pred)/length(pred)\n",
    "    return(p)\n",
    "}"
   ]
  },
  {
   "cell_type": "markdown",
   "metadata": {},
   "source": [
    "## 3. Experiments I: Regression <a name=\"ExpReg\" ></a>\n",
    "\n",
    "In this section we will perform different experiments to perform variable selection in a linear regression problem. We will use different criteria, and assess the results.\n",
    "\n",
    "\n",
    "### Utility function\n",
    "\n",
    "The predictive performance of a model is typically defined in terms of a utility function that describes the quality of the predictions. An often used utility function measuring the quality of the predictive distribution of the candidate model M is the expected logarithmic score:\n",
    "\n",
    "$$\n",
    "u(M) = \\mathbb{E}[log(p(\\tilde{y}|M,D)] = \\int p_t(\\tilde{y}) log(p(\\tilde{y}|M,D)) d\\tilde{y}\n",
    "$$\n",
    "\n",
    "Where $D$ is the training dataset, $M$ is the chosen model, $\\tilde{y}$ is a new target observation and $p_t(\\tilde{y})$ is the true data generation distribution. \n",
    "\n",
    "A generalization of the utility function is the mean log predictive density (MLPD):\n",
    "\n",
    "$$\n",
    "MLPD = - \\frac{1}{\\tilde{n}} \\sum_{i=1}^{\\tilde{n}} log(p(\\tilde{y}_i|\\tilde{x}_i, D, M))\n",
    "$$\n",
    "\n",
    "Where $\\{(\\tilde{x}, \\tilde{y})\\}_{i=1}^\\tilde{n}$ is the test set. In this case, the best model will be the one which **minimizes** the MLPD."
   ]
  },
  {
   "cell_type": "code",
   "execution_count": 25,
   "metadata": {},
   "outputs": [],
   "source": [
    "## Generate data\n",
    "\n",
    "# Example\n",
    "# Define parameters\n",
    "n <- 100 #number of training data points\n",
    "nt<-1000 #number of testing data points\n",
    "rho <- 0.5\n",
    "p <- 30\n",
    "chi <- 0.34\n",
    "\n",
    "# Simulate observations\n",
    "# Train set\n",
    "sim.train<-simulate.regression(n, rho, chi, p)\n",
    "x.train<-sim.train$x\n",
    "y.train<-sim.train$y\n",
    "\n",
    "# Test set\n",
    "sim.test<-simulate.regression(nt, rho, chi, p)\n",
    "x.test<-sim.test$x\n",
    "y.test<-sim.test$y"
   ]
  },
  {
   "cell_type": "markdown",
   "metadata": {},
   "source": [
    "### With STAN"
   ]
  },
  {
   "cell_type": "code",
   "execution_count": 26,
   "metadata": {},
   "outputs": [],
   "source": [
    "MLPD<-function(x.test, y.test, nt, sigma.post, omega.post){\n",
    "    MLPD <- 0\n",
    "    for(i in 1:nt){\n",
    "        # Get probability density of different values of y\n",
    "        p<-get.y.probs.reg(as.matrix(x.test[i,]), omega.post, sigma.post, y.test[i])\n",
    "        MLPD<-MLPD + log(p)\n",
    "    }\n",
    "    MLPD<- - MLPD/nt\n",
    "    return(MLPD)\n",
    "}"
   ]
  },
  {
   "cell_type": "code",
   "execution_count": 27,
   "metadata": {},
   "outputs": [
    {
     "data": {
      "text/html": [
       "1.54481910337112"
      ],
      "text/latex": [
       "1.54481910337112"
      ],
      "text/markdown": [
       "1.54481910337112"
      ],
      "text/plain": [
       "[1] 1.544819"
      ]
     },
     "metadata": {},
     "output_type": "display_data"
    }
   ],
   "source": [
    "# Get MLPD\n",
    "# Fit linear model and generate posterior quantities\n",
    "linear.fit<-fit.linear.regression(x.train,y.train,0.5,0.5, modelString.reg)\n",
    "omega.post<-linear.fit$omega.post\n",
    "sigma.post<-linear.fit$sigma.post\n",
    "\n",
    "\n",
    "performance<-MLPD(x.test, y.test, nt, sigma.post, omega.post)\n",
    "\n",
    "performance"
   ]
  },
  {
   "cell_type": "markdown",
   "metadata": {},
   "source": [
    "### Analytically"
   ]
  },
  {
   "cell_type": "code",
   "execution_count": 28,
   "metadata": {},
   "outputs": [],
   "source": [
    "MLPD.anal<-function(x.test, y.test, nt, V.s, mu.s, alpha.s, beta.s){\n",
    "    MLPD <- 0\n",
    "    for(i in 1:nt){\n",
    "        # Get probability density of different values of y\n",
    "        p<-get.prob.y.reg.anal(as.matrix(x.test[i,]), V.s, mu.s, alpha.s, beta.s, y.test[i])\n",
    "        if(!is.na(p)){\n",
    "          MLPD<-MLPD + log(p)   \n",
    "        }\n",
    "    }\n",
    "    MLPD<- - MLPD/nt\n",
    "    return(MLPD)\n",
    "}"
   ]
  },
  {
   "cell_type": "code",
   "execution_count": 50,
   "metadata": {},
   "outputs": [
    {
     "data": {
      "text/html": [
       "1.54559078175484"
      ],
      "text/latex": [
       "1.54559078175484"
      ],
      "text/markdown": [
       "1.54559078175484"
      ],
      "text/plain": [
       "[1] 1.545591"
      ]
     },
     "metadata": {},
     "output_type": "display_data"
    }
   ],
   "source": [
    "# Get MLPD\n",
    "# Fit linear model \n",
    "fit<-fit.reg.analytical(x.train, y.train, alpha, beta)\n",
    "\n",
    "performance<-MLPD.anal(x.test, y.test, nt, fit$V.s, fit$mu.s, fit$alpha.s, fit$beta.s)\n",
    "\n",
    "performance\n"
   ]
  },
  {
   "cell_type": "markdown",
   "metadata": {},
   "source": [
    "## Optimization process\n",
    "\n",
    "As a search heuristic we used the standard forward search, also known as the\n",
    "stepwise regression. In other words, starting from the empty model, at each step we select the variable that increases the utility estimate (like CV, WAIC, DIC, etc.) the most.\n",
    "\n"
   ]
  },
  {
   "cell_type": "code",
   "execution_count": 29,
   "metadata": {},
   "outputs": [],
   "source": [
    "optimization<-function(x.train, y.train, criteria, extended = TRUE){\n",
    "    print(\"Starting optimization\")\n",
    "    D <- data.frame(y.train, x.train)\n",
    "    if(extended){\n",
    "        X.model = model.matrix(y.train~. , data = D)\n",
    "    }\n",
    "    else{\n",
    "        X.model = x.train\n",
    "    }\n",
    "    num.vars<-dim(X.model)[2]\n",
    "    all.vars<-seq(1,num.vars)\n",
    "    var.list<-c(1)\n",
    "    all.criteria<-c()\n",
    "    best.vars<-var.list\n",
    "    best.crit.val<-1000\n",
    "    j<-0\n",
    "    while(length(var.list)<num.vars){\n",
    "        j<-j+1\n",
    "        current.x.train<-as.matrix(X.model[,var.list])\n",
    "\n",
    "        current.crit.val<-criteria(current.x.train, y.train)\n",
    "        all.criteria<-c(all.criteria, current.crit.val)\n",
    "        new.crit.vals<-c()\n",
    "        sel.vars<-all.vars[-var.list]\n",
    "        \n",
    "        for(i in sel.vars){\n",
    "            new.x.train<-as.matrix(X.model[,c(var.list,i)])\n",
    "            new.crit.val<-criteria(new.x.train, y.train)\n",
    "            new.crit.vals<-c(new.crit.vals,new.crit.val)\n",
    "        }\n",
    "        \n",
    "        idx<-which.min(new.crit.vals)\n",
    "        new.var<-sel.vars[idx]\n",
    "        if(new.crit.vals[idx] < best.crit.val  ){\n",
    "            best.vars<-c(var.list,new.var)\n",
    "            best.crit.val<-new.crit.vals[idx]\n",
    "        }\n",
    "        var.list<-c(var.list,new.var)\n",
    "        current.crit.val<-new.crit.vals[idx]\n",
    "    }\n",
    "    \n",
    "    current.x.train<-as.matrix(X.model[,best.vars])\n",
    "    print(best.vars)\n",
    "    if(extended){\n",
    "        return(list(model = current.x.train, num.vars = dim(current.x.train)[2]-1,\n",
    "                    criteria = best.crit.val, all.criteria = all.criteria))\n",
    "    }\n",
    "    D <- data.frame(y.train, current.x.train)\n",
    "    X.model = model.matrix(y.train~. , data = D)\n",
    "    return(list(model = X.model, num.vars = dim(current.x.train)[2] -1 ,\n",
    "                        criteria = best.crit.val, all.criteria = all.criteria))\n",
    "}"
   ]
  },
  {
   "cell_type": "markdown",
   "metadata": {},
   "source": [
    "## Criterion 1: Cross-validation <a name=\"CVreg\" ></a>\n",
    "\n",
    "The K-fold cross validation is an approximation of the utility function:\n",
    "\n",
    "$$\n",
    "K-fold-CV = \\frac{1}{n} \\sum_{i=1}^n log(p(y_i|x_i, D_i, M)\n",
    "$$\n",
    "\n",
    "where $D_i$ is the training dataset without the point $(x_i, y_i)$ (and probably other sample points). \n",
    "\n"
   ]
  },
  {
   "cell_type": "markdown",
   "metadata": {},
   "source": [
    "### With Stan"
   ]
  },
  {
   "cell_type": "code",
   "execution_count": 30,
   "metadata": {},
   "outputs": [
    {
     "name": "stderr",
     "output_type": "stream",
     "text": [
      "Loading required package: lattice\n",
      "\n",
      "\n",
      "Attaching package: ‘caret’\n",
      "\n",
      "\n",
      "The following objects are masked from ‘package:rstanarm’:\n",
      "\n",
      "    compare_models, R2\n",
      "\n",
      "\n"
     ]
    },
    {
     "data": {
      "text/html": [
       "1.54514891286314"
      ],
      "text/latex": [
       "1.54514891286314"
      ],
      "text/markdown": [
       "1.54514891286314"
      ],
      "text/plain": [
       "[1] 1.545149"
      ]
     },
     "metadata": {},
     "output_type": "display_data"
    }
   ],
   "source": [
    "library(caret)\n",
    "\n",
    "k.fold.cv<-function(x.train, y.train, k.fold=10){\n",
    "    set.seed(10)\n",
    "    partitions<-createFolds(y.train, k = k.fold, list = TRUE, returnTrain = FALSE)\n",
    "    cv<-0\n",
    "    for(i in 1:k.fold){\n",
    "        idx<-unlist(partitions[i])\n",
    "        x.fold.in<-as.matrix(x.train[idx,])\n",
    "        y.fold.in<-y.train[idx]\n",
    "        x.fold.out<-as.matrix(x.train[-idx,])\n",
    "        y.fold.out<-y.train[-idx]\n",
    "        linear.fit<-fit.linear.regression(x.fold.out,y.fold.out,0.5,0.5, modelString.reg)\n",
    "        omega.post<-linear.fit$omega.post\n",
    "        sigma.post<-linear.fit$sigma.post\n",
    "        \n",
    "        for(j in 1:length(idx)){ \n",
    "            p<-get.y.probs.reg(as.matrix(x.fold.in[j,]), omega.post, sigma.post, y.fold.in[j])\n",
    "            if(!is.na(p)){\n",
    "                cv<-cv + log(p)\n",
    "            }\n",
    "        }\n",
    "    }\n",
    "    cv<- - cv/length(y.train)\n",
    "    return(cv)\n",
    "}\n",
    "\n",
    "k.fold<-10\n",
    "\n",
    "cv<-k.fold.cv(x.train, y.train, k.fold)\n",
    "\n",
    "cv"
   ]
  },
  {
   "cell_type": "markdown",
   "metadata": {},
   "source": [
    "### Optimizing CV"
   ]
  },
  {
   "cell_type": "code",
   "execution_count": 345,
   "metadata": {},
   "outputs": [
    {
     "name": "stdout",
     "output_type": "stream",
     "text": [
      "[1] \"Starting optimization\"\n",
      "[1] 0\n",
      "[1] 1\n",
      "[1] 2\n",
      "[1] 3\n",
      "[1] 4\n",
      "[1] 5\n",
      "[1] 6\n",
      "[1] 7\n",
      "[1] 8\n",
      "[1] 9\n",
      "[1] 10\n",
      "[1] 11\n",
      "[1] 12\n",
      "[1] 13\n"
     ]
    }
   ],
   "source": [
    "opt<-optimization(x.train, y.train, k.fold.cv)"
   ]
  },
  {
   "cell_type": "code",
   "execution_count": 350,
   "metadata": {},
   "outputs": [
    {
     "data": {
      "text/html": [
       "13"
      ],
      "text/latex": [
       "13"
      ],
      "text/markdown": [
       "13"
      ],
      "text/plain": [
       "[1] 13"
      ]
     },
     "metadata": {},
     "output_type": "display_data"
    },
    {
     "data": {
      "text/html": [
       "-1.45579101413102"
      ],
      "text/latex": [
       "-1.45579101413102"
      ],
      "text/markdown": [
       "-1.45579101413102"
      ],
      "text/plain": [
       "[1] -1.455791"
      ]
     },
     "metadata": {},
     "output_type": "display_data"
    },
    {
     "data": {
      "text/html": [
       "<style>\n",
       ".list-inline {list-style: none; margin:0; padding: 0}\n",
       ".list-inline>li {display: inline-block}\n",
       ".list-inline>li:not(:last-child)::after {content: \"\\00b7\"; padding: 0 .5ex}\n",
       "</style>\n",
       "<ol class=list-inline><li>'(Intercept)'</li><li>'X3'</li><li>'X5'</li><li>'X6'</li><li>'X1'</li><li>'X12'</li><li>'X9'</li><li>'X2'</li><li>'X8'</li><li>'X10'</li><li>'X17'</li><li>'X15'</li><li>'X20'</li><li>'X19'</li></ol>\n"
      ],
      "text/latex": [
       "\\begin{enumerate*}\n",
       "\\item '(Intercept)'\n",
       "\\item 'X3'\n",
       "\\item 'X5'\n",
       "\\item 'X6'\n",
       "\\item 'X1'\n",
       "\\item 'X12'\n",
       "\\item 'X9'\n",
       "\\item 'X2'\n",
       "\\item 'X8'\n",
       "\\item 'X10'\n",
       "\\item 'X17'\n",
       "\\item 'X15'\n",
       "\\item 'X20'\n",
       "\\item 'X19'\n",
       "\\end{enumerate*}\n"
      ],
      "text/markdown": [
       "1. '(Intercept)'\n",
       "2. 'X3'\n",
       "3. 'X5'\n",
       "4. 'X6'\n",
       "5. 'X1'\n",
       "6. 'X12'\n",
       "7. 'X9'\n",
       "8. 'X2'\n",
       "9. 'X8'\n",
       "10. 'X10'\n",
       "11. 'X17'\n",
       "12. 'X15'\n",
       "13. 'X20'\n",
       "14. 'X19'\n",
       "\n",
       "\n"
      ],
      "text/plain": [
       " [1] \"(Intercept)\" \"X3\"          \"X5\"          \"X6\"          \"X1\"         \n",
       " [6] \"X12\"         \"X9\"          \"X2\"          \"X8\"          \"X10\"        \n",
       "[11] \"X17\"         \"X15\"         \"X20\"         \"X19\"        "
      ]
     },
     "metadata": {},
     "output_type": "display_data"
    }
   ],
   "source": [
    "opt$num.vars\n",
    "opt$criteria\n",
    "colnames(opt$model)"
   ]
  },
  {
   "cell_type": "code",
   "execution_count": 420,
   "metadata": {},
   "outputs": [
    {
     "data": {
      "text/html": [
       "1.57981433021903"
      ],
      "text/latex": [
       "1.57981433021903"
      ],
      "text/markdown": [
       "1.57981433021903"
      ],
      "text/plain": [
       "[1] 1.579814"
      ]
     },
     "metadata": {},
     "output_type": "display_data"
    }
   ],
   "source": [
    "# Prepare test data\n",
    "vars<-c()\n",
    "for(name in colnames(opt$model)){\n",
    "    if(name != \"(Intercept)\"){\n",
    "        namevar<-substr(name, start = 2, stop = 3)\n",
    "        vars<-c(vars, namevar)\n",
    "    }\n",
    "    \n",
    "}\n",
    "vars<-as.numeric(vars)\n",
    "x.train.model<-x.train[,vars]\n",
    "x.test.model<-x.test[,vars]\n",
    "\n",
    "# Get performance\n",
    "linear.fit<-fit.linear.regression(x.train.model, y.train, alpha, beta, modelString.reg)\n",
    "omega.post<-linear.fit$omega.post\n",
    "sigma.post<-linear.fit$sigma.post\n",
    "\n",
    "performance<-MLPD(x.test.model, y.test, nt, sigma.post, omega.post)\n",
    "\n",
    "performance"
   ]
  },
  {
   "cell_type": "markdown",
   "metadata": {},
   "source": [
    "### Analytically"
   ]
  },
  {
   "cell_type": "code",
   "execution_count": 171,
   "metadata": {},
   "outputs": [
    {
     "data": {
      "text/html": [
       "1.84808562910516"
      ],
      "text/latex": [
       "1.84808562910516"
      ],
      "text/markdown": [
       "1.84808562910516"
      ],
      "text/plain": [
       "[1] 1.848086"
      ]
     },
     "metadata": {},
     "output_type": "display_data"
    }
   ],
   "source": [
    "library(caret)\n",
    "\n",
    "k.fold.cv.anal<-function(x.train, y.train, k.fold=10, extended=TRUE){\n",
    "    set.seed(10)\n",
    "    partitions<-createFolds(y.train, k = k.fold, list = TRUE, returnTrain = FALSE)\n",
    "    cv<-0\n",
    "    for(i in 1:k.fold){\n",
    "        idx<-unlist(partitions[i])\n",
    "        x.fold.in<-as.matrix(x.train[idx,])\n",
    "        y.fold.in<-y.train[idx]\n",
    "        x.fold.out<-as.matrix(x.train[-idx,])\n",
    "        y.fold.out<-y.train[-idx]\n",
    "        fit<-fit.reg.analytical(x.fold.out, y.fold.out, alpha, beta, extended=extended)\n",
    "        \n",
    "        for(j in 1:length(idx)){ \n",
    "            p<-get.prob.y.reg.anal(as.matrix(x.fold.in[j,]), fit$V.s, \n",
    "                                   fit$mu.s, fit$alpha.s, fit$beta.s, \n",
    "                                   y.fold.in[j], extended = extended)\n",
    "            if(!is.na(p)){\n",
    "                cv<-cv + log(p)\n",
    "            }\n",
    "        }\n",
    "    }\n",
    "    cv<- - cv/length(y.train) # Negative sign because the optimization process looks for a minima \n",
    "    return(cv)\n",
    "}\n",
    "\n",
    "k.fold<-10\n",
    "\n",
    "cv<-k.fold.cv.anal(x.train, y.train, k.fold, extended=FALSE)\n",
    "\n",
    "cv"
   ]
  },
  {
   "cell_type": "code",
   "execution_count": 198,
   "metadata": {},
   "outputs": [
    {
     "name": "stdout",
     "output_type": "stream",
     "text": [
      "[1] \"Starting optimization\"\n",
      "[1]  1  6  4  2 16  5  9 13 22\n"
     ]
    }
   ],
   "source": [
    "opt<-optimization(x.train, y.train, k.fold.cv.anal)"
   ]
  },
  {
   "cell_type": "code",
   "execution_count": 199,
   "metadata": {},
   "outputs": [
    {
     "data": {
      "text/html": [
       "8"
      ],
      "text/latex": [
       "8"
      ],
      "text/markdown": [
       "8"
      ],
      "text/plain": [
       "[1] 8"
      ]
     },
     "metadata": {},
     "output_type": "display_data"
    },
    {
     "data": {
      "text/html": [
       "1.58476983424072"
      ],
      "text/latex": [
       "1.58476983424072"
      ],
      "text/markdown": [
       "1.58476983424072"
      ],
      "text/plain": [
       "[1] 1.58477"
      ]
     },
     "metadata": {},
     "output_type": "display_data"
    },
    {
     "data": {
      "text/html": [
       "<style>\n",
       ".list-inline {list-style: none; margin:0; padding: 0}\n",
       ".list-inline>li {display: inline-block}\n",
       ".list-inline>li:not(:last-child)::after {content: \"\\00b7\"; padding: 0 .5ex}\n",
       "</style>\n",
       "<ol class=list-inline><li>'(Intercept)'</li><li>'X5'</li><li>'X3'</li><li>'X1'</li><li>'X15'</li><li>'X4'</li><li>'X8'</li><li>'X12'</li><li>'X21'</li></ol>\n"
      ],
      "text/latex": [
       "\\begin{enumerate*}\n",
       "\\item '(Intercept)'\n",
       "\\item 'X5'\n",
       "\\item 'X3'\n",
       "\\item 'X1'\n",
       "\\item 'X15'\n",
       "\\item 'X4'\n",
       "\\item 'X8'\n",
       "\\item 'X12'\n",
       "\\item 'X21'\n",
       "\\end{enumerate*}\n"
      ],
      "text/markdown": [
       "1. '(Intercept)'\n",
       "2. 'X5'\n",
       "3. 'X3'\n",
       "4. 'X1'\n",
       "5. 'X15'\n",
       "6. 'X4'\n",
       "7. 'X8'\n",
       "8. 'X12'\n",
       "9. 'X21'\n",
       "\n",
       "\n"
      ],
      "text/plain": [
       "[1] \"(Intercept)\" \"X5\"          \"X3\"          \"X1\"          \"X15\"        \n",
       "[6] \"X4\"          \"X8\"          \"X12\"         \"X21\"        "
      ]
     },
     "metadata": {},
     "output_type": "display_data"
    }
   ],
   "source": [
    "opt$num.vars\n",
    "opt$criteria\n",
    "colnames(opt$model)"
   ]
  },
  {
   "cell_type": "code",
   "execution_count": 200,
   "metadata": {},
   "outputs": [
    {
     "data": {
      "text/html": [
       "1.59418799221911"
      ],
      "text/latex": [
       "1.59418799221911"
      ],
      "text/markdown": [
       "1.59418799221911"
      ],
      "text/plain": [
       "[1] 1.594188"
      ]
     },
     "metadata": {},
     "output_type": "display_data"
    }
   ],
   "source": [
    "# Prepare test data\n",
    "vars<-c()\n",
    "for(name in colnames(opt$model)){\n",
    "    if(name != \"(Intercept)\"){\n",
    "        namevar<-substr(name, start = 2, stop = 3)\n",
    "        vars<-c(vars, namevar)\n",
    "    }\n",
    "    \n",
    "}\n",
    "vars<-as.numeric(vars)\n",
    "x.train.model<-x.train[,vars]\n",
    "x.test.model<-x.test[,vars]\n",
    "\n",
    "# Get performance\n",
    "fit<-fit.reg.analytical(x.train.model, y.train, alpha, beta)\n",
    "\n",
    "performance<-MLPD.anal(x.test.model, y.test, nt, fit$V.s, fit$mu.s, fit$alpha.s, fit$beta.s)\n",
    "\n",
    "performance"
   ]
  },
  {
   "cell_type": "markdown",
   "metadata": {},
   "source": [
    "## Criterion 2: Widely applicable information criterion (WAIC) <a name=\"waicReg\" ></a>\n",
    "\n",
    "Information criteria in another approach for estimating the generalization performance of the model. The widely applicable information criterion (WAIC) is computed as follows:\n",
    "\n",
    "$$\n",
    "\\text{WAIC} = \\frac{1}{n}\\sum_{i=1}^n \\log p(y_i|x_i,D,M)-\\frac{V}{n},\n",
    "$$\n",
    "\n",
    "where the first term is the training utility and $V$ is the functional variance given by\n",
    "\n",
    "$$\n",
    "V=\\sum_{i=1}^n\\left[\\text{E}\\left[(\\log p(y_i|x_i,\\theta,M))^2\\right]-\\text{E}[\\log p(y_i|x_i,\\theta,M)]^2\\right].\n",
    "$$\n",
    "\n",
    "Here both of the expectations are taken over the posterior $p(\\theta|D,M)$."
   ]
  },
  {
   "cell_type": "markdown",
   "metadata": {},
   "source": [
    "### With Stan\n",
    "\n",
    "We first tried to implement the WAIC utility function, which can be seen in the next cell. However, it do not appeared to be a good option since it took too much time to execute. Therefore, we decided to use the already implemented function *waic* within the *loo* package. Since this function only applies over a fitted stan model, this criteria will only be computed by means of stan, thus the analytical way will be omitted. Actually, we could slightly modify the below cell in order to compute it on an analytical way, but, as we have already mentioned, its executation would take too long."
   ]
  },
  {
   "cell_type": "code",
   "execution_count": null,
   "metadata": {},
   "outputs": [],
   "source": [
    "#DO NOT RUN THIS CELL, SINCE IT TAKES TOO LONG TO EXECUTE\n",
    "library(caret)\n",
    "\n",
    "WAIC.model<-function(x.train, y.train, M=100){\n",
    "    WAIC<-0\n",
    "    linear.fit<-fit.linear.regression(x.train, y.train, alpha, beta, modelString.reg)\n",
    "    omega.post<-linear.fit$omega.post\n",
    "    sigma.post<-linear.fit$sigma.post \n",
    "    for(i in 1:n){\n",
    "        p1<-get.y.probs.reg(as.matrix(x.train[i,]), omega.post, sigma.post, as.matrix(y.train[i]))\n",
    "        aux<-rep(0,M)\n",
    "        cont<-1\n",
    "        for(j in 1:M){\n",
    "            linear.fit<-fit.linear.regression(x.train, y.train, alpha, beta, modelString.reg)\n",
    "            omega.post<-linear.fit$omega.post\n",
    "            sigma.post<-linear.fit$sigma.post\n",
    "            p2<-get.y.probs.reg(as.matrix(x.train[i,]), omega.post, sigma.post, as.matrix(y.train[i]))\n",
    "            aux[cont]<-log(p2)\n",
    "            cont<-cont+1\n",
    "        }\n",
    "        if(!is.na(p1)){\n",
    "                WAIC<-WAIC + (log(p1) - var(aux))\n",
    "            }               \n",
    "    }\n",
    "    WAIC<-WAIC/length(y.train)\n",
    "    return(WAIC) \n",
    "}\n",
    "\n",
    "WAIC<-WAIC.model(x.train, y.train)\n",
    "\n",
    "WAIC"
   ]
  },
  {
   "cell_type": "markdown",
   "metadata": {},
   "source": [
    "We redefine the *WAIC.model* function by using the *waic* function from the *loo* package:"
   ]
  },
  {
   "cell_type": "code",
   "execution_count": 31,
   "metadata": {},
   "outputs": [
    {
     "name": "stderr",
     "output_type": "stream",
     "text": [
      "This is loo version 2.2.0\n",
      "\n",
      "- Online documentation and vignettes at mc-stan.org/loo\n",
      "\n",
      "- As of v2.0.0 loo defaults to 1 core but we recommend using as many as possible. Use the 'cores' argument or set options(mc.cores = NUM_CORES) for an entire session. \n",
      "\n",
      "\n",
      "Attaching package: ‘loo’\n",
      "\n",
      "\n",
      "The following object is masked from ‘package:rstan’:\n",
      "\n",
      "    loo\n",
      "\n",
      "\n",
      "Warning message:\n",
      "“\n",
      "27 (27.0%) p_waic estimates greater than 0.4. We recommend trying loo instead.”\n",
      "Warning message:\n",
      "“Accessing waic using '$' is deprecated and will be removed in a future release. Please extract the waic estimate from the 'estimates' component instead.”\n"
     ]
    },
    {
     "data": {
      "text/html": [
       "319.400535986583"
      ],
      "text/latex": [
       "319.400535986583"
      ],
      "text/markdown": [
       "319.400535986583"
      ],
      "text/plain": [
       "[1] 319.4005"
      ]
     },
     "metadata": {},
     "output_type": "display_data"
    }
   ],
   "source": [
    "library(loo)\n",
    "\n",
    "WAIC.model<-function(x.train, y.train){\n",
    "    options(mc.cores = parallel::detectCores())\n",
    "    require(rstan)\n",
    "    rstan_options(auto_write = TRUE)\n",
    "    Sys.setenv(LOCAL_CPPFLAGS = '-march=corei7 -mtune=corei7')\n",
    "\n",
    "    D <- data.frame(y.train, x.train)\n",
    "    X.model = model.matrix(y.train~. , data = D) # This function includes the intercept for the model\n",
    "    data.list <- with(D, list(y = y.train, X = X.model, p= ncol(X.model)- 1, n=nrow(D), \n",
    "                             alphaS=alpha, betaS=beta))\n",
    "\n",
    "    stanDso <- stan_model(model_code=modelString.reg)\n",
    "    stanFit.post<-sampling(object=stanDso,data=data.list,chains=3,iter=2000,warmup=1000,thin=1, seed=101)\n",
    "    \n",
    "    log.lik<-extract_log_lik(stanFit.post, parameter_name='log_lik')\n",
    "    waic<-waic(log.lik)\n",
    "    \n",
    "    return(waic$waic) \n",
    "}\n",
    "\n",
    "WAIC<-WAIC.model(x.train, y.train)\n",
    "\n",
    "WAIC"
   ]
  },
  {
   "cell_type": "code",
   "execution_count": 32,
   "metadata": {
    "scrolled": true
   },
   "outputs": [
    {
     "name": "stdout",
     "output_type": "stream",
     "text": [
      "[1] \"Starting optimization\"\n"
     ]
    },
    {
     "name": "stderr",
     "output_type": "stream",
     "text": [
      "Warning message:\n",
      "“Accessing waic using '$' is deprecated and will be removed in a future release. Please extract the waic estimate from the 'estimates' component instead.”\n",
      "Warning message:\n",
      "“Accessing waic using '$' is deprecated and will be removed in a future release. Please extract the waic estimate from the 'estimates' component instead.”\n",
      "Warning message:\n",
      "“\n",
      "2 (2.0%) p_waic estimates greater than 0.4. We recommend trying loo instead.”\n",
      "Warning message:\n",
      "“Accessing waic using '$' is deprecated and will be removed in a future release. Please extract the waic estimate from the 'estimates' component instead.”\n",
      "Warning message:\n",
      "“\n",
      "2 (2.0%) p_waic estimates greater than 0.4. We recommend trying loo instead.”\n",
      "Warning message:\n",
      "“Accessing waic using '$' is deprecated and will be removed in a future release. Please extract the waic estimate from the 'estimates' component instead.”\n",
      "Warning message:\n",
      "“Accessing waic using '$' is deprecated and will be removed in a future release. Please extract the waic estimate from the 'estimates' component instead.”\n",
      "Warning message:\n",
      "“\n",
      "1 (1.0%) p_waic estimates greater than 0.4. We recommend trying loo instead.”\n",
      "Warning message:\n",
      "“Accessing waic using '$' is deprecated and will be removed in a future release. Please extract the waic estimate from the 'estimates' component instead.”\n",
      "Warning message:\n",
      "“\n",
      "1 (1.0%) p_waic estimates greater than 0.4. We recommend trying loo instead.”\n",
      "Warning message:\n",
      "“Accessing waic using '$' is deprecated and will be removed in a future release. Please extract the waic estimate from the 'estimates' component instead.”\n",
      "Warning message:\n",
      "“Accessing waic using '$' is deprecated and will be removed in a future release. Please extract the waic estimate from the 'estimates' component instead.”\n",
      "Warning message:\n",
      "“Accessing waic using '$' is deprecated and will be removed in a future release. Please extract the waic estimate from the 'estimates' component instead.”\n",
      "Warning message:\n",
      "“Accessing waic using '$' is deprecated and will be removed in a future release. Please extract the waic estimate from the 'estimates' component instead.”\n",
      "Warning message:\n",
      "“Accessing waic using '$' is deprecated and will be removed in a future release. Please extract the waic estimate from the 'estimates' component instead.”\n",
      "Warning message:\n",
      "“Accessing waic using '$' is deprecated and will be removed in a future release. Please extract the waic estimate from the 'estimates' component instead.”\n",
      "Warning message:\n",
      "“Accessing waic using '$' is deprecated and will be removed in a future release. Please extract the waic estimate from the 'estimates' component instead.”\n",
      "Warning message:\n",
      "“Accessing waic using '$' is deprecated and will be removed in a future release. Please extract the waic estimate from the 'estimates' component instead.”\n",
      "Warning message:\n",
      "“Accessing waic using '$' is deprecated and will be removed in a future release. Please extract the waic estimate from the 'estimates' component instead.”\n",
      "Warning message:\n",
      "“Accessing waic using '$' is deprecated and will be removed in a future release. Please extract the waic estimate from the 'estimates' component instead.”\n",
      "Warning message:\n",
      "“Accessing waic using '$' is deprecated and will be removed in a future release. Please extract the waic estimate from the 'estimates' component instead.”\n",
      "Warning message:\n",
      "“Accessing waic using '$' is deprecated and will be removed in a future release. Please extract the waic estimate from the 'estimates' component instead.”\n",
      "Warning message:\n",
      "“Accessing waic using '$' is deprecated and will be removed in a future release. Please extract the waic estimate from the 'estimates' component instead.”\n",
      "Warning message:\n",
      "“Accessing waic using '$' is deprecated and will be removed in a future release. Please extract the waic estimate from the 'estimates' component instead.”\n",
      "Warning message:\n",
      "“Accessing waic using '$' is deprecated and will be removed in a future release. Please extract the waic estimate from the 'estimates' component instead.”\n",
      "Warning message:\n",
      "“Accessing waic using '$' is deprecated and will be removed in a future release. Please extract the waic estimate from the 'estimates' component instead.”\n",
      "Warning message:\n",
      "“Accessing waic using '$' is deprecated and will be removed in a future release. Please extract the waic estimate from the 'estimates' component instead.”\n",
      "Warning message:\n",
      "“Accessing waic using '$' is deprecated and will be removed in a future release. Please extract the waic estimate from the 'estimates' component instead.”\n",
      "Warning message:\n",
      "“Accessing waic using '$' is deprecated and will be removed in a future release. Please extract the waic estimate from the 'estimates' component instead.”\n",
      "Warning message:\n",
      "“Accessing waic using '$' is deprecated and will be removed in a future release. Please extract the waic estimate from the 'estimates' component instead.”\n",
      "Warning message:\n",
      "“Accessing waic using '$' is deprecated and will be removed in a future release. Please extract the waic estimate from the 'estimates' component instead.”\n",
      "Warning message:\n",
      "“Accessing waic using '$' is deprecated and will be removed in a future release. Please extract the waic estimate from the 'estimates' component instead.”\n",
      "Warning message:\n",
      "“Accessing waic using '$' is deprecated and will be removed in a future release. Please extract the waic estimate from the 'estimates' component instead.”\n",
      "Warning message:\n",
      "“Accessing waic using '$' is deprecated and will be removed in a future release. Please extract the waic estimate from the 'estimates' component instead.”\n",
      "Warning message:\n",
      "“Accessing waic using '$' is deprecated and will be removed in a future release. Please extract the waic estimate from the 'estimates' component instead.”\n",
      "Warning message:\n",
      "“\n",
      "2 (2.0%) p_waic estimates greater than 0.4. We recommend trying loo instead.”\n",
      "Warning message:\n",
      "“Accessing waic using '$' is deprecated and will be removed in a future release. Please extract the waic estimate from the 'estimates' component instead.”\n",
      "Warning message:\n",
      "“\n",
      "2 (2.0%) p_waic estimates greater than 0.4. We recommend trying loo instead.”\n",
      "Warning message:\n",
      "“Accessing waic using '$' is deprecated and will be removed in a future release. Please extract the waic estimate from the 'estimates' component instead.”\n",
      "Warning message:\n",
      "“\n",
      "4 (4.0%) p_waic estimates greater than 0.4. We recommend trying loo instead.”\n",
      "Warning message:\n",
      "“Accessing waic using '$' is deprecated and will be removed in a future release. Please extract the waic estimate from the 'estimates' component instead.”\n",
      "Warning message:\n",
      "“\n",
      "2 (2.0%) p_waic estimates greater than 0.4. We recommend trying loo instead.”\n",
      "Warning message:\n",
      "“Accessing waic using '$' is deprecated and will be removed in a future release. Please extract the waic estimate from the 'estimates' component instead.”\n",
      "Warning message:\n",
      "“\n",
      "3 (3.0%) p_waic estimates greater than 0.4. We recommend trying loo instead.”\n",
      "Warning message:\n",
      "“Accessing waic using '$' is deprecated and will be removed in a future release. Please extract the waic estimate from the 'estimates' component instead.”\n",
      "Warning message:\n",
      "“\n",
      "2 (2.0%) p_waic estimates greater than 0.4. We recommend trying loo instead.”\n",
      "Warning message:\n",
      "“Accessing waic using '$' is deprecated and will be removed in a future release. Please extract the waic estimate from the 'estimates' component instead.”\n",
      "Warning message:\n",
      "“\n",
      "2 (2.0%) p_waic estimates greater than 0.4. We recommend trying loo instead.”\n",
      "Warning message:\n",
      "“Accessing waic using '$' is deprecated and will be removed in a future release. Please extract the waic estimate from the 'estimates' component instead.”\n",
      "Warning message:\n",
      "“\n",
      "2 (2.0%) p_waic estimates greater than 0.4. We recommend trying loo instead.”\n",
      "Warning message:\n",
      "“Accessing waic using '$' is deprecated and will be removed in a future release. Please extract the waic estimate from the 'estimates' component instead.”\n",
      "Warning message:\n",
      "“\n",
      "2 (2.0%) p_waic estimates greater than 0.4. We recommend trying loo instead.”\n",
      "Warning message:\n",
      "“Accessing waic using '$' is deprecated and will be removed in a future release. Please extract the waic estimate from the 'estimates' component instead.”\n",
      "Warning message:\n",
      "“\n",
      "2 (2.0%) p_waic estimates greater than 0.4. We recommend trying loo instead.”\n"
     ]
    },
    {
     "name": "stderr",
     "output_type": "stream",
     "text": [
      "Warning message:\n",
      "“Accessing waic using '$' is deprecated and will be removed in a future release. Please extract the waic estimate from the 'estimates' component instead.”\n",
      "Warning message:\n",
      "“\n",
      "2 (2.0%) p_waic estimates greater than 0.4. We recommend trying loo instead.”\n",
      "Warning message:\n",
      "“Accessing waic using '$' is deprecated and will be removed in a future release. Please extract the waic estimate from the 'estimates' component instead.”\n",
      "Warning message:\n",
      "“\n",
      "2 (2.0%) p_waic estimates greater than 0.4. We recommend trying loo instead.”\n",
      "Warning message:\n",
      "“Accessing waic using '$' is deprecated and will be removed in a future release. Please extract the waic estimate from the 'estimates' component instead.”\n",
      "Warning message:\n",
      "“\n",
      "3 (3.0%) p_waic estimates greater than 0.4. We recommend trying loo instead.”\n",
      "Warning message:\n",
      "“Accessing waic using '$' is deprecated and will be removed in a future release. Please extract the waic estimate from the 'estimates' component instead.”\n",
      "Warning message:\n",
      "“\n",
      "2 (2.0%) p_waic estimates greater than 0.4. We recommend trying loo instead.”\n",
      "Warning message:\n",
      "“Accessing waic using '$' is deprecated and will be removed in a future release. Please extract the waic estimate from the 'estimates' component instead.”\n",
      "Warning message:\n",
      "“\n",
      "2 (2.0%) p_waic estimates greater than 0.4. We recommend trying loo instead.”\n",
      "Warning message:\n",
      "“Accessing waic using '$' is deprecated and will be removed in a future release. Please extract the waic estimate from the 'estimates' component instead.”\n",
      "Warning message:\n",
      "“\n",
      "2 (2.0%) p_waic estimates greater than 0.4. We recommend trying loo instead.”\n",
      "Warning message:\n",
      "“Accessing waic using '$' is deprecated and will be removed in a future release. Please extract the waic estimate from the 'estimates' component instead.”\n",
      "Warning message:\n",
      "“\n",
      "2 (2.0%) p_waic estimates greater than 0.4. We recommend trying loo instead.”\n",
      "Warning message:\n",
      "“Accessing waic using '$' is deprecated and will be removed in a future release. Please extract the waic estimate from the 'estimates' component instead.”\n",
      "Warning message:\n",
      "“\n",
      "3 (3.0%) p_waic estimates greater than 0.4. We recommend trying loo instead.”\n",
      "Warning message:\n",
      "“Accessing waic using '$' is deprecated and will be removed in a future release. Please extract the waic estimate from the 'estimates' component instead.”\n",
      "Warning message:\n",
      "“\n",
      "3 (3.0%) p_waic estimates greater than 0.4. We recommend trying loo instead.”\n",
      "Warning message:\n",
      "“Accessing waic using '$' is deprecated and will be removed in a future release. Please extract the waic estimate from the 'estimates' component instead.”\n",
      "Warning message:\n",
      "“\n",
      "2 (2.0%) p_waic estimates greater than 0.4. We recommend trying loo instead.”\n",
      "Warning message:\n",
      "“Accessing waic using '$' is deprecated and will be removed in a future release. Please extract the waic estimate from the 'estimates' component instead.”\n",
      "Warning message:\n",
      "“\n",
      "2 (2.0%) p_waic estimates greater than 0.4. We recommend trying loo instead.”\n",
      "Warning message:\n",
      "“Accessing waic using '$' is deprecated and will be removed in a future release. Please extract the waic estimate from the 'estimates' component instead.”\n",
      "Warning message:\n",
      "“\n",
      "2 (2.0%) p_waic estimates greater than 0.4. We recommend trying loo instead.”\n",
      "Warning message:\n",
      "“Accessing waic using '$' is deprecated and will be removed in a future release. Please extract the waic estimate from the 'estimates' component instead.”\n",
      "Warning message:\n",
      "“\n",
      "2 (2.0%) p_waic estimates greater than 0.4. We recommend trying loo instead.”\n",
      "Warning message:\n",
      "“Accessing waic using '$' is deprecated and will be removed in a future release. Please extract the waic estimate from the 'estimates' component instead.”\n",
      "Warning message:\n",
      "“\n",
      "2 (2.0%) p_waic estimates greater than 0.4. We recommend trying loo instead.”\n",
      "Warning message:\n",
      "“Accessing waic using '$' is deprecated and will be removed in a future release. Please extract the waic estimate from the 'estimates' component instead.”\n",
      "Warning message:\n",
      "“\n",
      "2 (2.0%) p_waic estimates greater than 0.4. We recommend trying loo instead.”\n",
      "Warning message:\n",
      "“Accessing waic using '$' is deprecated and will be removed in a future release. Please extract the waic estimate from the 'estimates' component instead.”\n",
      "Warning message:\n",
      "“\n",
      "2 (2.0%) p_waic estimates greater than 0.4. We recommend trying loo instead.”\n",
      "Warning message:\n",
      "“Accessing waic using '$' is deprecated and will be removed in a future release. Please extract the waic estimate from the 'estimates' component instead.”\n",
      "Warning message:\n",
      "“\n",
      "2 (2.0%) p_waic estimates greater than 0.4. We recommend trying loo instead.”\n",
      "Warning message:\n",
      "“Accessing waic using '$' is deprecated and will be removed in a future release. Please extract the waic estimate from the 'estimates' component instead.”\n",
      "Warning message:\n",
      "“\n",
      "2 (2.0%) p_waic estimates greater than 0.4. We recommend trying loo instead.”\n",
      "Warning message:\n",
      "“Accessing waic using '$' is deprecated and will be removed in a future release. Please extract the waic estimate from the 'estimates' component instead.”\n",
      "Warning message:\n",
      "“\n",
      "4 (4.0%) p_waic estimates greater than 0.4. We recommend trying loo instead.”\n",
      "Warning message:\n",
      "“Accessing waic using '$' is deprecated and will be removed in a future release. Please extract the waic estimate from the 'estimates' component instead.”\n",
      "Warning message:\n",
      "“\n",
      "2 (2.0%) p_waic estimates greater than 0.4. We recommend trying loo instead.”\n",
      "Warning message:\n",
      "“Accessing waic using '$' is deprecated and will be removed in a future release. Please extract the waic estimate from the 'estimates' component instead.”\n",
      "Warning message:\n",
      "“\n",
      "2 (2.0%) p_waic estimates greater than 0.4. We recommend trying loo instead.”\n",
      "Warning message:\n",
      "“Accessing waic using '$' is deprecated and will be removed in a future release. Please extract the waic estimate from the 'estimates' component instead.”\n",
      "Warning message:\n",
      "“\n",
      "2 (2.0%) p_waic estimates greater than 0.4. We recommend trying loo instead.”\n",
      "Warning message:\n",
      "“Accessing waic using '$' is deprecated and will be removed in a future release. Please extract the waic estimate from the 'estimates' component instead.”\n",
      "Warning message:\n",
      "“\n",
      "2 (2.0%) p_waic estimates greater than 0.4. We recommend trying loo instead.”\n",
      "Warning message:\n",
      "“Accessing waic using '$' is deprecated and will be removed in a future release. Please extract the waic estimate from the 'estimates' component instead.”\n",
      "Warning message:\n",
      "“\n",
      "2 (2.0%) p_waic estimates greater than 0.4. We recommend trying loo instead.”\n",
      "Warning message:\n",
      "“Accessing waic using '$' is deprecated and will be removed in a future release. Please extract the waic estimate from the 'estimates' component instead.”\n",
      "Warning message:\n",
      "“\n",
      "3 (3.0%) p_waic estimates greater than 0.4. We recommend trying loo instead.”\n",
      "Warning message:\n",
      "“Accessing waic using '$' is deprecated and will be removed in a future release. Please extract the waic estimate from the 'estimates' component instead.”\n",
      "Warning message:\n",
      "“\n",
      "2 (2.0%) p_waic estimates greater than 0.4. We recommend trying loo instead.”\n",
      "Warning message:\n",
      "“Accessing waic using '$' is deprecated and will be removed in a future release. Please extract the waic estimate from the 'estimates' component instead.”\n",
      "Warning message:\n",
      "“\n",
      "2 (2.0%) p_waic estimates greater than 0.4. We recommend trying loo instead.”\n",
      "Warning message:\n",
      "“Accessing waic using '$' is deprecated and will be removed in a future release. Please extract the waic estimate from the 'estimates' component instead.”\n",
      "Warning message:\n",
      "“\n",
      "2 (2.0%) p_waic estimates greater than 0.4. We recommend trying loo instead.”\n",
      "Warning message:\n",
      "“Accessing waic using '$' is deprecated and will be removed in a future release. Please extract the waic estimate from the 'estimates' component instead.”\n",
      "Warning message:\n",
      "“\n",
      "2 (2.0%) p_waic estimates greater than 0.4. We recommend trying loo instead.”\n",
      "Warning message:\n",
      "“Accessing waic using '$' is deprecated and will be removed in a future release. Please extract the waic estimate from the 'estimates' component instead.”\n",
      "Warning message:\n",
      "“\n",
      "2 (2.0%) p_waic estimates greater than 0.4. We recommend trying loo instead.”\n",
      "Warning message:\n",
      "“Accessing waic using '$' is deprecated and will be removed in a future release. Please extract the waic estimate from the 'estimates' component instead.”\n"
     ]
    },
    {
     "name": "stderr",
     "output_type": "stream",
     "text": [
      "Warning message:\n",
      "“\n",
      "2 (2.0%) p_waic estimates greater than 0.4. We recommend trying loo instead.”\n",
      "Warning message:\n",
      "“Accessing waic using '$' is deprecated and will be removed in a future release. Please extract the waic estimate from the 'estimates' component instead.”\n",
      "Warning message:\n",
      "“\n",
      "2 (2.0%) p_waic estimates greater than 0.4. We recommend trying loo instead.”\n",
      "Warning message:\n",
      "“Accessing waic using '$' is deprecated and will be removed in a future release. Please extract the waic estimate from the 'estimates' component instead.”\n",
      "Warning message:\n",
      "“\n",
      "2 (2.0%) p_waic estimates greater than 0.4. We recommend trying loo instead.”\n",
      "Warning message:\n",
      "“Accessing waic using '$' is deprecated and will be removed in a future release. Please extract the waic estimate from the 'estimates' component instead.”\n",
      "Warning message:\n",
      "“\n",
      "2 (2.0%) p_waic estimates greater than 0.4. We recommend trying loo instead.”\n",
      "Warning message:\n",
      "“Accessing waic using '$' is deprecated and will be removed in a future release. Please extract the waic estimate from the 'estimates' component instead.”\n",
      "Warning message:\n",
      "“\n",
      "2 (2.0%) p_waic estimates greater than 0.4. We recommend trying loo instead.”\n",
      "Warning message:\n",
      "“Accessing waic using '$' is deprecated and will be removed in a future release. Please extract the waic estimate from the 'estimates' component instead.”\n",
      "Warning message:\n",
      "“\n",
      "2 (2.0%) p_waic estimates greater than 0.4. We recommend trying loo instead.”\n",
      "Warning message:\n",
      "“Accessing waic using '$' is deprecated and will be removed in a future release. Please extract the waic estimate from the 'estimates' component instead.”\n",
      "Warning message:\n",
      "“\n",
      "3 (3.0%) p_waic estimates greater than 0.4. We recommend trying loo instead.”\n",
      "Warning message:\n",
      "“Accessing waic using '$' is deprecated and will be removed in a future release. Please extract the waic estimate from the 'estimates' component instead.”\n",
      "Warning message:\n",
      "“\n",
      "2 (2.0%) p_waic estimates greater than 0.4. We recommend trying loo instead.”\n",
      "Warning message:\n",
      "“Accessing waic using '$' is deprecated and will be removed in a future release. Please extract the waic estimate from the 'estimates' component instead.”\n",
      "Warning message:\n",
      "“\n",
      "2 (2.0%) p_waic estimates greater than 0.4. We recommend trying loo instead.”\n",
      "Warning message:\n",
      "“Accessing waic using '$' is deprecated and will be removed in a future release. Please extract the waic estimate from the 'estimates' component instead.”\n",
      "Warning message:\n",
      "“\n",
      "2 (2.0%) p_waic estimates greater than 0.4. We recommend trying loo instead.”\n",
      "Warning message:\n",
      "“Accessing waic using '$' is deprecated and will be removed in a future release. Please extract the waic estimate from the 'estimates' component instead.”\n",
      "Warning message:\n",
      "“\n",
      "2 (2.0%) p_waic estimates greater than 0.4. We recommend trying loo instead.”\n",
      "Warning message:\n",
      "“Accessing waic using '$' is deprecated and will be removed in a future release. Please extract the waic estimate from the 'estimates' component instead.”\n",
      "Warning message:\n",
      "“\n",
      "3 (3.0%) p_waic estimates greater than 0.4. We recommend trying loo instead.”\n",
      "Warning message:\n",
      "“Accessing waic using '$' is deprecated and will be removed in a future release. Please extract the waic estimate from the 'estimates' component instead.”\n",
      "Warning message:\n",
      "“\n",
      "3 (3.0%) p_waic estimates greater than 0.4. We recommend trying loo instead.”\n",
      "Warning message:\n",
      "“Accessing waic using '$' is deprecated and will be removed in a future release. Please extract the waic estimate from the 'estimates' component instead.”\n",
      "Warning message:\n",
      "“\n",
      "2 (2.0%) p_waic estimates greater than 0.4. We recommend trying loo instead.”\n",
      "Warning message:\n",
      "“Accessing waic using '$' is deprecated and will be removed in a future release. Please extract the waic estimate from the 'estimates' component instead.”\n",
      "Warning message:\n",
      "“\n",
      "2 (2.0%) p_waic estimates greater than 0.4. We recommend trying loo instead.”\n",
      "Warning message:\n",
      "“Accessing waic using '$' is deprecated and will be removed in a future release. Please extract the waic estimate from the 'estimates' component instead.”\n",
      "Warning message:\n",
      "“\n",
      "2 (2.0%) p_waic estimates greater than 0.4. We recommend trying loo instead.”\n",
      "Warning message:\n",
      "“Accessing waic using '$' is deprecated and will be removed in a future release. Please extract the waic estimate from the 'estimates' component instead.”\n",
      "Warning message:\n",
      "“\n",
      "2 (2.0%) p_waic estimates greater than 0.4. We recommend trying loo instead.”\n",
      "Warning message:\n",
      "“Accessing waic using '$' is deprecated and will be removed in a future release. Please extract the waic estimate from the 'estimates' component instead.”\n",
      "Warning message:\n",
      "“\n",
      "3 (3.0%) p_waic estimates greater than 0.4. We recommend trying loo instead.”\n",
      "Warning message:\n",
      "“Accessing waic using '$' is deprecated and will be removed in a future release. Please extract the waic estimate from the 'estimates' component instead.”\n",
      "Warning message:\n",
      "“\n",
      "2 (2.0%) p_waic estimates greater than 0.4. We recommend trying loo instead.”\n",
      "Warning message:\n",
      "“Accessing waic using '$' is deprecated and will be removed in a future release. Please extract the waic estimate from the 'estimates' component instead.”\n",
      "Warning message:\n",
      "“\n",
      "2 (2.0%) p_waic estimates greater than 0.4. We recommend trying loo instead.”\n",
      "Warning message:\n",
      "“Accessing waic using '$' is deprecated and will be removed in a future release. Please extract the waic estimate from the 'estimates' component instead.”\n",
      "Warning message:\n",
      "“\n",
      "2 (2.0%) p_waic estimates greater than 0.4. We recommend trying loo instead.”\n",
      "Warning message:\n",
      "“Accessing waic using '$' is deprecated and will be removed in a future release. Please extract the waic estimate from the 'estimates' component instead.”\n",
      "Warning message:\n",
      "“\n",
      "4 (4.0%) p_waic estimates greater than 0.4. We recommend trying loo instead.”\n",
      "Warning message:\n",
      "“Accessing waic using '$' is deprecated and will be removed in a future release. Please extract the waic estimate from the 'estimates' component instead.”\n",
      "Warning message:\n",
      "“\n",
      "3 (3.0%) p_waic estimates greater than 0.4. We recommend trying loo instead.”\n",
      "Warning message:\n",
      "“Accessing waic using '$' is deprecated and will be removed in a future release. Please extract the waic estimate from the 'estimates' component instead.”\n",
      "Warning message:\n",
      "“\n",
      "3 (3.0%) p_waic estimates greater than 0.4. We recommend trying loo instead.”\n",
      "Warning message:\n",
      "“Accessing waic using '$' is deprecated and will be removed in a future release. Please extract the waic estimate from the 'estimates' component instead.”\n",
      "Warning message:\n",
      "“\n",
      "2 (2.0%) p_waic estimates greater than 0.4. We recommend trying loo instead.”\n",
      "Warning message:\n",
      "“Accessing waic using '$' is deprecated and will be removed in a future release. Please extract the waic estimate from the 'estimates' component instead.”\n",
      "Warning message:\n",
      "“\n",
      "2 (2.0%) p_waic estimates greater than 0.4. We recommend trying loo instead.”\n",
      "Warning message:\n",
      "“Accessing waic using '$' is deprecated and will be removed in a future release. Please extract the waic estimate from the 'estimates' component instead.”\n",
      "Warning message:\n",
      "“\n",
      "2 (2.0%) p_waic estimates greater than 0.4. We recommend trying loo instead.”\n",
      "Warning message:\n",
      "“Accessing waic using '$' is deprecated and will be removed in a future release. Please extract the waic estimate from the 'estimates' component instead.”\n",
      "Warning message:\n",
      "“\n",
      "2 (2.0%) p_waic estimates greater than 0.4. We recommend trying loo instead.”\n",
      "Warning message:\n",
      "“Accessing waic using '$' is deprecated and will be removed in a future release. Please extract the waic estimate from the 'estimates' component instead.”\n",
      "Warning message:\n",
      "“\n",
      "2 (2.0%) p_waic estimates greater than 0.4. We recommend trying loo instead.”\n",
      "Warning message:\n",
      "“Accessing waic using '$' is deprecated and will be removed in a future release. Please extract the waic estimate from the 'estimates' component instead.”\n",
      "Warning message:\n",
      "“\n",
      "3 (3.0%) p_waic estimates greater than 0.4. We recommend trying loo instead.”\n",
      "Warning message:\n",
      "“Accessing waic using '$' is deprecated and will be removed in a future release. Please extract the waic estimate from the 'estimates' component instead.”\n",
      "Warning message:\n",
      "“\n",
      "2 (2.0%) p_waic estimates greater than 0.4. We recommend trying loo instead.”\n",
      "Warning message:\n",
      "“Accessing waic using '$' is deprecated and will be removed in a future release. Please extract the waic estimate from the 'estimates' component instead.”\n"
     ]
    },
    {
     "name": "stderr",
     "output_type": "stream",
     "text": [
      "Warning message:\n",
      "“\n",
      "2 (2.0%) p_waic estimates greater than 0.4. We recommend trying loo instead.”\n",
      "Warning message:\n",
      "“Accessing waic using '$' is deprecated and will be removed in a future release. Please extract the waic estimate from the 'estimates' component instead.”\n",
      "Warning message:\n",
      "“\n",
      "2 (2.0%) p_waic estimates greater than 0.4. We recommend trying loo instead.”\n",
      "Warning message:\n",
      "“Accessing waic using '$' is deprecated and will be removed in a future release. Please extract the waic estimate from the 'estimates' component instead.”\n",
      "Warning message:\n",
      "“\n",
      "2 (2.0%) p_waic estimates greater than 0.4. We recommend trying loo instead.”\n",
      "Warning message:\n",
      "“Accessing waic using '$' is deprecated and will be removed in a future release. Please extract the waic estimate from the 'estimates' component instead.”\n",
      "Warning message:\n",
      "“\n",
      "2 (2.0%) p_waic estimates greater than 0.4. We recommend trying loo instead.”\n",
      "Warning message:\n",
      "“Accessing waic using '$' is deprecated and will be removed in a future release. Please extract the waic estimate from the 'estimates' component instead.”\n",
      "Warning message:\n",
      "“\n",
      "2 (2.0%) p_waic estimates greater than 0.4. We recommend trying loo instead.”\n",
      "Warning message:\n",
      "“Accessing waic using '$' is deprecated and will be removed in a future release. Please extract the waic estimate from the 'estimates' component instead.”\n",
      "Warning message:\n",
      "“\n",
      "2 (2.0%) p_waic estimates greater than 0.4. We recommend trying loo instead.”\n",
      "Warning message:\n",
      "“Accessing waic using '$' is deprecated and will be removed in a future release. Please extract the waic estimate from the 'estimates' component instead.”\n",
      "Warning message:\n",
      "“\n",
      "2 (2.0%) p_waic estimates greater than 0.4. We recommend trying loo instead.”\n",
      "Warning message:\n",
      "“Accessing waic using '$' is deprecated and will be removed in a future release. Please extract the waic estimate from the 'estimates' component instead.”\n",
      "Warning message:\n",
      "“\n",
      "2 (2.0%) p_waic estimates greater than 0.4. We recommend trying loo instead.”\n",
      "Warning message:\n",
      "“Accessing waic using '$' is deprecated and will be removed in a future release. Please extract the waic estimate from the 'estimates' component instead.”\n",
      "Warning message:\n",
      "“\n",
      "2 (2.0%) p_waic estimates greater than 0.4. We recommend trying loo instead.”\n",
      "Warning message:\n",
      "“Accessing waic using '$' is deprecated and will be removed in a future release. Please extract the waic estimate from the 'estimates' component instead.”\n",
      "Warning message:\n",
      "“\n",
      "3 (3.0%) p_waic estimates greater than 0.4. We recommend trying loo instead.”\n",
      "Warning message:\n",
      "“Accessing waic using '$' is deprecated and will be removed in a future release. Please extract the waic estimate from the 'estimates' component instead.”\n",
      "Warning message:\n",
      "“\n",
      "2 (2.0%) p_waic estimates greater than 0.4. We recommend trying loo instead.”\n",
      "Warning message:\n",
      "“Accessing waic using '$' is deprecated and will be removed in a future release. Please extract the waic estimate from the 'estimates' component instead.”\n",
      "Warning message:\n",
      "“\n",
      "2 (2.0%) p_waic estimates greater than 0.4. We recommend trying loo instead.”\n",
      "Warning message:\n",
      "“Accessing waic using '$' is deprecated and will be removed in a future release. Please extract the waic estimate from the 'estimates' component instead.”\n",
      "Warning message:\n",
      "“\n",
      "3 (3.0%) p_waic estimates greater than 0.4. We recommend trying loo instead.”\n",
      "Warning message:\n",
      "“Accessing waic using '$' is deprecated and will be removed in a future release. Please extract the waic estimate from the 'estimates' component instead.”\n",
      "Warning message:\n",
      "“\n",
      "2 (2.0%) p_waic estimates greater than 0.4. We recommend trying loo instead.”\n",
      "Warning message:\n",
      "“Accessing waic using '$' is deprecated and will be removed in a future release. Please extract the waic estimate from the 'estimates' component instead.”\n",
      "Warning message:\n",
      "“\n",
      "2 (2.0%) p_waic estimates greater than 0.4. We recommend trying loo instead.”\n",
      "Warning message:\n",
      "“Accessing waic using '$' is deprecated and will be removed in a future release. Please extract the waic estimate from the 'estimates' component instead.”\n",
      "Warning message:\n",
      "“\n",
      "2 (2.0%) p_waic estimates greater than 0.4. We recommend trying loo instead.”\n",
      "Warning message:\n",
      "“Accessing waic using '$' is deprecated and will be removed in a future release. Please extract the waic estimate from the 'estimates' component instead.”\n",
      "Warning message:\n",
      "“\n",
      "2 (2.0%) p_waic estimates greater than 0.4. We recommend trying loo instead.”\n",
      "Warning message:\n",
      "“Accessing waic using '$' is deprecated and will be removed in a future release. Please extract the waic estimate from the 'estimates' component instead.”\n",
      "Warning message:\n",
      "“\n",
      "4 (4.0%) p_waic estimates greater than 0.4. We recommend trying loo instead.”\n",
      "Warning message:\n",
      "“Accessing waic using '$' is deprecated and will be removed in a future release. Please extract the waic estimate from the 'estimates' component instead.”\n",
      "Warning message:\n",
      "“\n",
      "3 (3.0%) p_waic estimates greater than 0.4. We recommend trying loo instead.”\n",
      "Warning message:\n",
      "“Accessing waic using '$' is deprecated and will be removed in a future release. Please extract the waic estimate from the 'estimates' component instead.”\n",
      "Warning message:\n",
      "“\n",
      "4 (4.0%) p_waic estimates greater than 0.4. We recommend trying loo instead.”\n",
      "Warning message:\n",
      "“Accessing waic using '$' is deprecated and will be removed in a future release. Please extract the waic estimate from the 'estimates' component instead.”\n",
      "Warning message:\n",
      "“\n",
      "3 (3.0%) p_waic estimates greater than 0.4. We recommend trying loo instead.”\n",
      "Warning message:\n",
      "“Accessing waic using '$' is deprecated and will be removed in a future release. Please extract the waic estimate from the 'estimates' component instead.”\n",
      "Warning message:\n",
      "“\n",
      "2 (2.0%) p_waic estimates greater than 0.4. We recommend trying loo instead.”\n",
      "Warning message:\n",
      "“Accessing waic using '$' is deprecated and will be removed in a future release. Please extract the waic estimate from the 'estimates' component instead.”\n",
      "Warning message:\n",
      "“\n",
      "2 (2.0%) p_waic estimates greater than 0.4. We recommend trying loo instead.”\n",
      "Warning message:\n",
      "“Accessing waic using '$' is deprecated and will be removed in a future release. Please extract the waic estimate from the 'estimates' component instead.”\n",
      "Warning message:\n",
      "“\n",
      "2 (2.0%) p_waic estimates greater than 0.4. We recommend trying loo instead.”\n",
      "Warning message:\n",
      "“Accessing waic using '$' is deprecated and will be removed in a future release. Please extract the waic estimate from the 'estimates' component instead.”\n",
      "Warning message:\n",
      "“\n",
      "2 (2.0%) p_waic estimates greater than 0.4. We recommend trying loo instead.”\n",
      "Warning message:\n",
      "“Accessing waic using '$' is deprecated and will be removed in a future release. Please extract the waic estimate from the 'estimates' component instead.”\n",
      "Warning message:\n",
      "“\n",
      "3 (3.0%) p_waic estimates greater than 0.4. We recommend trying loo instead.”\n",
      "Warning message:\n",
      "“Accessing waic using '$' is deprecated and will be removed in a future release. Please extract the waic estimate from the 'estimates' component instead.”\n",
      "Warning message:\n",
      "“\n",
      "2 (2.0%) p_waic estimates greater than 0.4. We recommend trying loo instead.”\n",
      "Warning message:\n",
      "“Accessing waic using '$' is deprecated and will be removed in a future release. Please extract the waic estimate from the 'estimates' component instead.”\n",
      "Warning message:\n",
      "“\n",
      "2 (2.0%) p_waic estimates greater than 0.4. We recommend trying loo instead.”\n",
      "Warning message:\n",
      "“Accessing waic using '$' is deprecated and will be removed in a future release. Please extract the waic estimate from the 'estimates' component instead.”\n",
      "Warning message:\n",
      "“\n",
      "2 (2.0%) p_waic estimates greater than 0.4. We recommend trying loo instead.”\n",
      "Warning message:\n",
      "“Accessing waic using '$' is deprecated and will be removed in a future release. Please extract the waic estimate from the 'estimates' component instead.”\n",
      "Warning message:\n",
      "“\n",
      "2 (2.0%) p_waic estimates greater than 0.4. We recommend trying loo instead.”\n",
      "Warning message:\n",
      "“Accessing waic using '$' is deprecated and will be removed in a future release. Please extract the waic estimate from the 'estimates' component instead.”\n",
      "Warning message:\n",
      "“\n",
      "2 (2.0%) p_waic estimates greater than 0.4. We recommend trying loo instead.”\n",
      "Warning message:\n",
      "“Accessing waic using '$' is deprecated and will be removed in a future release. Please extract the waic estimate from the 'estimates' component instead.”\n"
     ]
    },
    {
     "name": "stderr",
     "output_type": "stream",
     "text": [
      "Warning message:\n",
      "“\n",
      "2 (2.0%) p_waic estimates greater than 0.4. We recommend trying loo instead.”\n",
      "Warning message:\n",
      "“Accessing waic using '$' is deprecated and will be removed in a future release. Please extract the waic estimate from the 'estimates' component instead.”\n",
      "Warning message:\n",
      "“\n",
      "2 (2.0%) p_waic estimates greater than 0.4. We recommend trying loo instead.”\n",
      "Warning message:\n",
      "“Accessing waic using '$' is deprecated and will be removed in a future release. Please extract the waic estimate from the 'estimates' component instead.”\n",
      "Warning message:\n",
      "“\n",
      "3 (3.0%) p_waic estimates greater than 0.4. We recommend trying loo instead.”\n",
      "Warning message:\n",
      "“Accessing waic using '$' is deprecated and will be removed in a future release. Please extract the waic estimate from the 'estimates' component instead.”\n",
      "Warning message:\n",
      "“\n",
      "3 (3.0%) p_waic estimates greater than 0.4. We recommend trying loo instead.”\n",
      "Warning message:\n",
      "“Accessing waic using '$' is deprecated and will be removed in a future release. Please extract the waic estimate from the 'estimates' component instead.”\n",
      "Warning message:\n",
      "“\n",
      "2 (2.0%) p_waic estimates greater than 0.4. We recommend trying loo instead.”\n",
      "Warning message:\n",
      "“Accessing waic using '$' is deprecated and will be removed in a future release. Please extract the waic estimate from the 'estimates' component instead.”\n",
      "Warning message:\n",
      "“\n",
      "3 (3.0%) p_waic estimates greater than 0.4. We recommend trying loo instead.”\n",
      "Warning message:\n",
      "“Accessing waic using '$' is deprecated and will be removed in a future release. Please extract the waic estimate from the 'estimates' component instead.”\n",
      "Warning message:\n",
      "“\n",
      "2 (2.0%) p_waic estimates greater than 0.4. We recommend trying loo instead.”\n",
      "Warning message:\n",
      "“Accessing waic using '$' is deprecated and will be removed in a future release. Please extract the waic estimate from the 'estimates' component instead.”\n",
      "Warning message:\n",
      "“\n",
      "2 (2.0%) p_waic estimates greater than 0.4. We recommend trying loo instead.”\n",
      "Warning message:\n",
      "“Accessing waic using '$' is deprecated and will be removed in a future release. Please extract the waic estimate from the 'estimates' component instead.”\n",
      "Warning message:\n",
      "“\n",
      "4 (4.0%) p_waic estimates greater than 0.4. We recommend trying loo instead.”\n",
      "Warning message:\n",
      "“Accessing waic using '$' is deprecated and will be removed in a future release. Please extract the waic estimate from the 'estimates' component instead.”\n",
      "Warning message:\n",
      "“\n",
      "2 (2.0%) p_waic estimates greater than 0.4. We recommend trying loo instead.”\n",
      "Warning message:\n",
      "“Accessing waic using '$' is deprecated and will be removed in a future release. Please extract the waic estimate from the 'estimates' component instead.”\n",
      "Warning message:\n",
      "“\n",
      "2 (2.0%) p_waic estimates greater than 0.4. We recommend trying loo instead.”\n",
      "Warning message:\n",
      "“Accessing waic using '$' is deprecated and will be removed in a future release. Please extract the waic estimate from the 'estimates' component instead.”\n",
      "Warning message:\n",
      "“\n",
      "3 (3.0%) p_waic estimates greater than 0.4. We recommend trying loo instead.”\n",
      "Warning message:\n",
      "“Accessing waic using '$' is deprecated and will be removed in a future release. Please extract the waic estimate from the 'estimates' component instead.”\n",
      "Warning message:\n",
      "“\n",
      "3 (3.0%) p_waic estimates greater than 0.4. We recommend trying loo instead.”\n",
      "Warning message:\n",
      "“Accessing waic using '$' is deprecated and will be removed in a future release. Please extract the waic estimate from the 'estimates' component instead.”\n",
      "Warning message:\n",
      "“\n",
      "5 (5.0%) p_waic estimates greater than 0.4. We recommend trying loo instead.”\n",
      "Warning message:\n",
      "“Accessing waic using '$' is deprecated and will be removed in a future release. Please extract the waic estimate from the 'estimates' component instead.”\n",
      "Warning message:\n",
      "“\n",
      "3 (3.0%) p_waic estimates greater than 0.4. We recommend trying loo instead.”\n",
      "Warning message:\n",
      "“Accessing waic using '$' is deprecated and will be removed in a future release. Please extract the waic estimate from the 'estimates' component instead.”\n",
      "Warning message:\n",
      "“\n",
      "4 (4.0%) p_waic estimates greater than 0.4. We recommend trying loo instead.”\n",
      "Warning message:\n",
      "“Accessing waic using '$' is deprecated and will be removed in a future release. Please extract the waic estimate from the 'estimates' component instead.”\n",
      "Warning message:\n",
      "“\n",
      "3 (3.0%) p_waic estimates greater than 0.4. We recommend trying loo instead.”\n",
      "Warning message:\n",
      "“Accessing waic using '$' is deprecated and will be removed in a future release. Please extract the waic estimate from the 'estimates' component instead.”\n",
      "Warning message:\n",
      "“\n",
      "3 (3.0%) p_waic estimates greater than 0.4. We recommend trying loo instead.”\n",
      "Warning message:\n",
      "“Accessing waic using '$' is deprecated and will be removed in a future release. Please extract the waic estimate from the 'estimates' component instead.”\n",
      "Warning message:\n",
      "“\n",
      "4 (4.0%) p_waic estimates greater than 0.4. We recommend trying loo instead.”\n",
      "Warning message:\n",
      "“Accessing waic using '$' is deprecated and will be removed in a future release. Please extract the waic estimate from the 'estimates' component instead.”\n",
      "Warning message:\n",
      "“\n",
      "3 (3.0%) p_waic estimates greater than 0.4. We recommend trying loo instead.”\n",
      "Warning message:\n",
      "“Accessing waic using '$' is deprecated and will be removed in a future release. Please extract the waic estimate from the 'estimates' component instead.”\n",
      "Warning message:\n",
      "“\n",
      "4 (4.0%) p_waic estimates greater than 0.4. We recommend trying loo instead.”\n",
      "Warning message:\n",
      "“Accessing waic using '$' is deprecated and will be removed in a future release. Please extract the waic estimate from the 'estimates' component instead.”\n",
      "Warning message:\n",
      "“\n",
      "4 (4.0%) p_waic estimates greater than 0.4. We recommend trying loo instead.”\n",
      "Warning message:\n",
      "“Accessing waic using '$' is deprecated and will be removed in a future release. Please extract the waic estimate from the 'estimates' component instead.”\n",
      "Warning message:\n",
      "“\n",
      "3 (3.0%) p_waic estimates greater than 0.4. We recommend trying loo instead.”\n",
      "Warning message:\n",
      "“Accessing waic using '$' is deprecated and will be removed in a future release. Please extract the waic estimate from the 'estimates' component instead.”\n",
      "Warning message:\n",
      "“\n",
      "3 (3.0%) p_waic estimates greater than 0.4. We recommend trying loo instead.”\n",
      "Warning message:\n",
      "“Accessing waic using '$' is deprecated and will be removed in a future release. Please extract the waic estimate from the 'estimates' component instead.”\n",
      "Warning message:\n",
      "“\n",
      "4 (4.0%) p_waic estimates greater than 0.4. We recommend trying loo instead.”\n",
      "Warning message:\n",
      "“Accessing waic using '$' is deprecated and will be removed in a future release. Please extract the waic estimate from the 'estimates' component instead.”\n",
      "Warning message:\n",
      "“\n",
      "3 (3.0%) p_waic estimates greater than 0.4. We recommend trying loo instead.”\n",
      "Warning message:\n",
      "“Accessing waic using '$' is deprecated and will be removed in a future release. Please extract the waic estimate from the 'estimates' component instead.”\n",
      "Warning message:\n",
      "“\n",
      "3 (3.0%) p_waic estimates greater than 0.4. We recommend trying loo instead.”\n",
      "Warning message:\n",
      "“Accessing waic using '$' is deprecated and will be removed in a future release. Please extract the waic estimate from the 'estimates' component instead.”\n",
      "Warning message:\n",
      "“\n",
      "3 (3.0%) p_waic estimates greater than 0.4. We recommend trying loo instead.”\n",
      "Warning message:\n",
      "“Accessing waic using '$' is deprecated and will be removed in a future release. Please extract the waic estimate from the 'estimates' component instead.”\n",
      "Warning message:\n",
      "“\n",
      "4 (4.0%) p_waic estimates greater than 0.4. We recommend trying loo instead.”\n",
      "Warning message:\n",
      "“Accessing waic using '$' is deprecated and will be removed in a future release. Please extract the waic estimate from the 'estimates' component instead.”\n",
      "Warning message:\n",
      "“\n",
      "4 (4.0%) p_waic estimates greater than 0.4. We recommend trying loo instead.”\n",
      "Warning message:\n",
      "“Accessing waic using '$' is deprecated and will be removed in a future release. Please extract the waic estimate from the 'estimates' component instead.”\n",
      "Warning message:\n",
      "“\n",
      "4 (4.0%) p_waic estimates greater than 0.4. We recommend trying loo instead.”\n",
      "Warning message:\n",
      "“Accessing waic using '$' is deprecated and will be removed in a future release. Please extract the waic estimate from the 'estimates' component instead.”\n"
     ]
    },
    {
     "name": "stderr",
     "output_type": "stream",
     "text": [
      "Warning message:\n",
      "“\n",
      "4 (4.0%) p_waic estimates greater than 0.4. We recommend trying loo instead.”\n",
      "Warning message:\n",
      "“Accessing waic using '$' is deprecated and will be removed in a future release. Please extract the waic estimate from the 'estimates' component instead.”\n",
      "Warning message:\n",
      "“\n",
      "3 (3.0%) p_waic estimates greater than 0.4. We recommend trying loo instead.”\n",
      "Warning message:\n",
      "“Accessing waic using '$' is deprecated and will be removed in a future release. Please extract the waic estimate from the 'estimates' component instead.”\n",
      "Warning message:\n",
      "“\n",
      "3 (3.0%) p_waic estimates greater than 0.4. We recommend trying loo instead.”\n",
      "Warning message:\n",
      "“Accessing waic using '$' is deprecated and will be removed in a future release. Please extract the waic estimate from the 'estimates' component instead.”\n",
      "Warning message:\n",
      "“\n",
      "5 (5.0%) p_waic estimates greater than 0.4. We recommend trying loo instead.”\n",
      "Warning message:\n",
      "“Accessing waic using '$' is deprecated and will be removed in a future release. Please extract the waic estimate from the 'estimates' component instead.”\n",
      "Warning message:\n",
      "“\n",
      "3 (3.0%) p_waic estimates greater than 0.4. We recommend trying loo instead.”\n",
      "Warning message:\n",
      "“Accessing waic using '$' is deprecated and will be removed in a future release. Please extract the waic estimate from the 'estimates' component instead.”\n",
      "Warning message:\n",
      "“\n",
      "3 (3.0%) p_waic estimates greater than 0.4. We recommend trying loo instead.”\n",
      "Warning message:\n",
      "“Accessing waic using '$' is deprecated and will be removed in a future release. Please extract the waic estimate from the 'estimates' component instead.”\n",
      "Warning message:\n",
      "“\n",
      "4 (4.0%) p_waic estimates greater than 0.4. We recommend trying loo instead.”\n",
      "Warning message:\n",
      "“Accessing waic using '$' is deprecated and will be removed in a future release. Please extract the waic estimate from the 'estimates' component instead.”\n",
      "Warning message:\n",
      "“\n",
      "3 (3.0%) p_waic estimates greater than 0.4. We recommend trying loo instead.”\n",
      "Warning message:\n",
      "“Accessing waic using '$' is deprecated and will be removed in a future release. Please extract the waic estimate from the 'estimates' component instead.”\n",
      "Warning message:\n",
      "“\n",
      "4 (4.0%) p_waic estimates greater than 0.4. We recommend trying loo instead.”\n",
      "Warning message:\n",
      "“Accessing waic using '$' is deprecated and will be removed in a future release. Please extract the waic estimate from the 'estimates' component instead.”\n",
      "Warning message:\n",
      "“\n",
      "3 (3.0%) p_waic estimates greater than 0.4. We recommend trying loo instead.”\n",
      "Warning message:\n",
      "“Accessing waic using '$' is deprecated and will be removed in a future release. Please extract the waic estimate from the 'estimates' component instead.”\n",
      "Warning message:\n",
      "“\n",
      "4 (4.0%) p_waic estimates greater than 0.4. We recommend trying loo instead.”\n",
      "Warning message:\n",
      "“Accessing waic using '$' is deprecated and will be removed in a future release. Please extract the waic estimate from the 'estimates' component instead.”\n",
      "Warning message:\n",
      "“\n",
      "3 (3.0%) p_waic estimates greater than 0.4. We recommend trying loo instead.”\n",
      "Warning message:\n",
      "“Accessing waic using '$' is deprecated and will be removed in a future release. Please extract the waic estimate from the 'estimates' component instead.”\n",
      "Warning message:\n",
      "“\n",
      "4 (4.0%) p_waic estimates greater than 0.4. We recommend trying loo instead.”\n",
      "Warning message:\n",
      "“Accessing waic using '$' is deprecated and will be removed in a future release. Please extract the waic estimate from the 'estimates' component instead.”\n",
      "Warning message:\n",
      "“\n",
      "4 (4.0%) p_waic estimates greater than 0.4. We recommend trying loo instead.”\n",
      "Warning message:\n",
      "“Accessing waic using '$' is deprecated and will be removed in a future release. Please extract the waic estimate from the 'estimates' component instead.”\n",
      "Warning message:\n",
      "“\n",
      "5 (5.0%) p_waic estimates greater than 0.4. We recommend trying loo instead.”\n",
      "Warning message:\n",
      "“Accessing waic using '$' is deprecated and will be removed in a future release. Please extract the waic estimate from the 'estimates' component instead.”\n",
      "Warning message:\n",
      "“\n",
      "5 (5.0%) p_waic estimates greater than 0.4. We recommend trying loo instead.”\n",
      "Warning message:\n",
      "“Accessing waic using '$' is deprecated and will be removed in a future release. Please extract the waic estimate from the 'estimates' component instead.”\n",
      "Warning message:\n",
      "“\n",
      "3 (3.0%) p_waic estimates greater than 0.4. We recommend trying loo instead.”\n",
      "Warning message:\n",
      "“Accessing waic using '$' is deprecated and will be removed in a future release. Please extract the waic estimate from the 'estimates' component instead.”\n",
      "Warning message:\n",
      "“\n",
      "3 (3.0%) p_waic estimates greater than 0.4. We recommend trying loo instead.”\n",
      "Warning message:\n",
      "“Accessing waic using '$' is deprecated and will be removed in a future release. Please extract the waic estimate from the 'estimates' component instead.”\n",
      "Warning message:\n",
      "“\n",
      "4 (4.0%) p_waic estimates greater than 0.4. We recommend trying loo instead.”\n",
      "Warning message:\n",
      "“Accessing waic using '$' is deprecated and will be removed in a future release. Please extract the waic estimate from the 'estimates' component instead.”\n",
      "Warning message:\n",
      "“\n",
      "3 (3.0%) p_waic estimates greater than 0.4. We recommend trying loo instead.”\n",
      "Warning message:\n",
      "“Accessing waic using '$' is deprecated and will be removed in a future release. Please extract the waic estimate from the 'estimates' component instead.”\n",
      "Warning message:\n",
      "“\n",
      "3 (3.0%) p_waic estimates greater than 0.4. We recommend trying loo instead.”\n",
      "Warning message:\n",
      "“Accessing waic using '$' is deprecated and will be removed in a future release. Please extract the waic estimate from the 'estimates' component instead.”\n",
      "Warning message:\n",
      "“\n",
      "3 (3.0%) p_waic estimates greater than 0.4. We recommend trying loo instead.”\n",
      "Warning message:\n",
      "“Accessing waic using '$' is deprecated and will be removed in a future release. Please extract the waic estimate from the 'estimates' component instead.”\n",
      "Warning message:\n",
      "“\n",
      "4 (4.0%) p_waic estimates greater than 0.4. We recommend trying loo instead.”\n",
      "Warning message:\n",
      "“Accessing waic using '$' is deprecated and will be removed in a future release. Please extract the waic estimate from the 'estimates' component instead.”\n",
      "Warning message:\n",
      "“\n",
      "4 (4.0%) p_waic estimates greater than 0.4. We recommend trying loo instead.”\n",
      "Warning message:\n",
      "“Accessing waic using '$' is deprecated and will be removed in a future release. Please extract the waic estimate from the 'estimates' component instead.”\n",
      "Warning message:\n",
      "“\n",
      "4 (4.0%) p_waic estimates greater than 0.4. We recommend trying loo instead.”\n",
      "Warning message:\n",
      "“Accessing waic using '$' is deprecated and will be removed in a future release. Please extract the waic estimate from the 'estimates' component instead.”\n",
      "Warning message:\n",
      "“\n",
      "5 (5.0%) p_waic estimates greater than 0.4. We recommend trying loo instead.”\n",
      "Warning message:\n",
      "“Accessing waic using '$' is deprecated and will be removed in a future release. Please extract the waic estimate from the 'estimates' component instead.”\n",
      "Warning message:\n",
      "“\n",
      "3 (3.0%) p_waic estimates greater than 0.4. We recommend trying loo instead.”\n",
      "Warning message:\n",
      "“Accessing waic using '$' is deprecated and will be removed in a future release. Please extract the waic estimate from the 'estimates' component instead.”\n",
      "Warning message:\n",
      "“\n",
      "3 (3.0%) p_waic estimates greater than 0.4. We recommend trying loo instead.”\n",
      "Warning message:\n",
      "“Accessing waic using '$' is deprecated and will be removed in a future release. Please extract the waic estimate from the 'estimates' component instead.”\n",
      "Warning message:\n",
      "“\n",
      "5 (5.0%) p_waic estimates greater than 0.4. We recommend trying loo instead.”\n",
      "Warning message:\n",
      "“Accessing waic using '$' is deprecated and will be removed in a future release. Please extract the waic estimate from the 'estimates' component instead.”\n",
      "Warning message:\n",
      "“\n",
      "4 (4.0%) p_waic estimates greater than 0.4. We recommend trying loo instead.”\n",
      "Warning message:\n",
      "“Accessing waic using '$' is deprecated and will be removed in a future release. Please extract the waic estimate from the 'estimates' component instead.”\n",
      "Warning message:\n",
      "“\n",
      "3 (3.0%) p_waic estimates greater than 0.4. We recommend trying loo instead.”\n",
      "Warning message:\n",
      "“Accessing waic using '$' is deprecated and will be removed in a future release. Please extract the waic estimate from the 'estimates' component instead.”\n"
     ]
    },
    {
     "name": "stderr",
     "output_type": "stream",
     "text": [
      "Warning message:\n",
      "“\n",
      "4 (4.0%) p_waic estimates greater than 0.4. We recommend trying loo instead.”\n",
      "Warning message:\n",
      "“Accessing waic using '$' is deprecated and will be removed in a future release. Please extract the waic estimate from the 'estimates' component instead.”\n",
      "Warning message:\n",
      "“\n",
      "4 (4.0%) p_waic estimates greater than 0.4. We recommend trying loo instead.”\n",
      "Warning message:\n",
      "“Accessing waic using '$' is deprecated and will be removed in a future release. Please extract the waic estimate from the 'estimates' component instead.”\n",
      "Warning message:\n",
      "“\n",
      "3 (3.0%) p_waic estimates greater than 0.4. We recommend trying loo instead.”\n",
      "Warning message:\n",
      "“Accessing waic using '$' is deprecated and will be removed in a future release. Please extract the waic estimate from the 'estimates' component instead.”\n",
      "Warning message:\n",
      "“\n",
      "6 (6.0%) p_waic estimates greater than 0.4. We recommend trying loo instead.”\n",
      "Warning message:\n",
      "“Accessing waic using '$' is deprecated and will be removed in a future release. Please extract the waic estimate from the 'estimates' component instead.”\n",
      "Warning message:\n",
      "“\n",
      "4 (4.0%) p_waic estimates greater than 0.4. We recommend trying loo instead.”\n",
      "Warning message:\n",
      "“Accessing waic using '$' is deprecated and will be removed in a future release. Please extract the waic estimate from the 'estimates' component instead.”\n",
      "Warning message:\n",
      "“\n",
      "4 (4.0%) p_waic estimates greater than 0.4. We recommend trying loo instead.”\n",
      "Warning message:\n",
      "“Accessing waic using '$' is deprecated and will be removed in a future release. Please extract the waic estimate from the 'estimates' component instead.”\n",
      "Warning message:\n",
      "“\n",
      "4 (4.0%) p_waic estimates greater than 0.4. We recommend trying loo instead.”\n",
      "Warning message:\n",
      "“Accessing waic using '$' is deprecated and will be removed in a future release. Please extract the waic estimate from the 'estimates' component instead.”\n",
      "Warning message:\n",
      "“\n",
      "5 (5.0%) p_waic estimates greater than 0.4. We recommend trying loo instead.”\n",
      "Warning message:\n",
      "“Accessing waic using '$' is deprecated and will be removed in a future release. Please extract the waic estimate from the 'estimates' component instead.”\n",
      "Warning message:\n",
      "“\n",
      "4 (4.0%) p_waic estimates greater than 0.4. We recommend trying loo instead.”\n",
      "Warning message:\n",
      "“Accessing waic using '$' is deprecated and will be removed in a future release. Please extract the waic estimate from the 'estimates' component instead.”\n",
      "Warning message:\n",
      "“\n",
      "4 (4.0%) p_waic estimates greater than 0.4. We recommend trying loo instead.”\n",
      "Warning message:\n",
      "“Accessing waic using '$' is deprecated and will be removed in a future release. Please extract the waic estimate from the 'estimates' component instead.”\n",
      "Warning message:\n",
      "“\n",
      "5 (5.0%) p_waic estimates greater than 0.4. We recommend trying loo instead.”\n",
      "Warning message:\n",
      "“Accessing waic using '$' is deprecated and will be removed in a future release. Please extract the waic estimate from the 'estimates' component instead.”\n",
      "Warning message:\n",
      "“\n",
      "5 (5.0%) p_waic estimates greater than 0.4. We recommend trying loo instead.”\n",
      "Warning message:\n",
      "“Accessing waic using '$' is deprecated and will be removed in a future release. Please extract the waic estimate from the 'estimates' component instead.”\n",
      "Warning message:\n",
      "“\n",
      "5 (5.0%) p_waic estimates greater than 0.4. We recommend trying loo instead.”\n",
      "Warning message:\n",
      "“Accessing waic using '$' is deprecated and will be removed in a future release. Please extract the waic estimate from the 'estimates' component instead.”\n",
      "Warning message:\n",
      "“\n",
      "3 (3.0%) p_waic estimates greater than 0.4. We recommend trying loo instead.”\n",
      "Warning message:\n",
      "“Accessing waic using '$' is deprecated and will be removed in a future release. Please extract the waic estimate from the 'estimates' component instead.”\n",
      "Warning message:\n",
      "“\n",
      "4 (4.0%) p_waic estimates greater than 0.4. We recommend trying loo instead.”\n",
      "Warning message:\n",
      "“Accessing waic using '$' is deprecated and will be removed in a future release. Please extract the waic estimate from the 'estimates' component instead.”\n",
      "Warning message:\n",
      "“\n",
      "5 (5.0%) p_waic estimates greater than 0.4. We recommend trying loo instead.”\n",
      "Warning message:\n",
      "“Accessing waic using '$' is deprecated and will be removed in a future release. Please extract the waic estimate from the 'estimates' component instead.”\n",
      "Warning message:\n",
      "“\n",
      "4 (4.0%) p_waic estimates greater than 0.4. We recommend trying loo instead.”\n",
      "Warning message:\n",
      "“Accessing waic using '$' is deprecated and will be removed in a future release. Please extract the waic estimate from the 'estimates' component instead.”\n",
      "Warning message:\n",
      "“\n",
      "6 (6.0%) p_waic estimates greater than 0.4. We recommend trying loo instead.”\n",
      "Warning message:\n",
      "“Accessing waic using '$' is deprecated and will be removed in a future release. Please extract the waic estimate from the 'estimates' component instead.”\n",
      "Warning message:\n",
      "“\n",
      "6 (6.0%) p_waic estimates greater than 0.4. We recommend trying loo instead.”\n",
      "Warning message:\n",
      "“Accessing waic using '$' is deprecated and will be removed in a future release. Please extract the waic estimate from the 'estimates' component instead.”\n",
      "Warning message:\n",
      "“\n",
      "3 (3.0%) p_waic estimates greater than 0.4. We recommend trying loo instead.”\n",
      "Warning message:\n",
      "“Accessing waic using '$' is deprecated and will be removed in a future release. Please extract the waic estimate from the 'estimates' component instead.”\n",
      "Warning message:\n",
      "“\n",
      "4 (4.0%) p_waic estimates greater than 0.4. We recommend trying loo instead.”\n",
      "Warning message:\n",
      "“Accessing waic using '$' is deprecated and will be removed in a future release. Please extract the waic estimate from the 'estimates' component instead.”\n",
      "Warning message:\n",
      "“\n",
      "6 (6.0%) p_waic estimates greater than 0.4. We recommend trying loo instead.”\n",
      "Warning message:\n",
      "“Accessing waic using '$' is deprecated and will be removed in a future release. Please extract the waic estimate from the 'estimates' component instead.”\n",
      "Warning message:\n",
      "“\n",
      "4 (4.0%) p_waic estimates greater than 0.4. We recommend trying loo instead.”\n",
      "Warning message:\n",
      "“Accessing waic using '$' is deprecated and will be removed in a future release. Please extract the waic estimate from the 'estimates' component instead.”\n",
      "Warning message:\n",
      "“\n",
      "4 (4.0%) p_waic estimates greater than 0.4. We recommend trying loo instead.”\n",
      "Warning message:\n",
      "“Accessing waic using '$' is deprecated and will be removed in a future release. Please extract the waic estimate from the 'estimates' component instead.”\n",
      "Warning message:\n",
      "“\n",
      "4 (4.0%) p_waic estimates greater than 0.4. We recommend trying loo instead.”\n",
      "Warning message:\n",
      "“Accessing waic using '$' is deprecated and will be removed in a future release. Please extract the waic estimate from the 'estimates' component instead.”\n",
      "Warning message:\n",
      "“\n",
      "4 (4.0%) p_waic estimates greater than 0.4. We recommend trying loo instead.”\n",
      "Warning message:\n",
      "“Accessing waic using '$' is deprecated and will be removed in a future release. Please extract the waic estimate from the 'estimates' component instead.”\n",
      "Warning message:\n",
      "“\n",
      "3 (3.0%) p_waic estimates greater than 0.4. We recommend trying loo instead.”\n",
      "Warning message:\n",
      "“Accessing waic using '$' is deprecated and will be removed in a future release. Please extract the waic estimate from the 'estimates' component instead.”\n",
      "Warning message:\n",
      "“\n",
      "4 (4.0%) p_waic estimates greater than 0.4. We recommend trying loo instead.”\n",
      "Warning message:\n",
      "“Accessing waic using '$' is deprecated and will be removed in a future release. Please extract the waic estimate from the 'estimates' component instead.”\n",
      "Warning message:\n",
      "“\n",
      "4 (4.0%) p_waic estimates greater than 0.4. We recommend trying loo instead.”\n",
      "Warning message:\n",
      "“Accessing waic using '$' is deprecated and will be removed in a future release. Please extract the waic estimate from the 'estimates' component instead.”\n",
      "Warning message:\n",
      "“\n",
      "4 (4.0%) p_waic estimates greater than 0.4. We recommend trying loo instead.”\n",
      "Warning message:\n",
      "“Accessing waic using '$' is deprecated and will be removed in a future release. Please extract the waic estimate from the 'estimates' component instead.”\n",
      "Warning message:\n",
      "“\n",
      "5 (5.0%) p_waic estimates greater than 0.4. We recommend trying loo instead.”\n",
      "Warning message:\n",
      "“Accessing waic using '$' is deprecated and will be removed in a future release. Please extract the waic estimate from the 'estimates' component instead.”\n"
     ]
    },
    {
     "name": "stderr",
     "output_type": "stream",
     "text": [
      "Warning message:\n",
      "“\n",
      "4 (4.0%) p_waic estimates greater than 0.4. We recommend trying loo instead.”\n",
      "Warning message:\n",
      "“Accessing waic using '$' is deprecated and will be removed in a future release. Please extract the waic estimate from the 'estimates' component instead.”\n",
      "Warning message:\n",
      "“\n",
      "5 (5.0%) p_waic estimates greater than 0.4. We recommend trying loo instead.”\n",
      "Warning message:\n",
      "“Accessing waic using '$' is deprecated and will be removed in a future release. Please extract the waic estimate from the 'estimates' component instead.”\n",
      "Warning message:\n",
      "“\n",
      "5 (5.0%) p_waic estimates greater than 0.4. We recommend trying loo instead.”\n",
      "Warning message:\n",
      "“Accessing waic using '$' is deprecated and will be removed in a future release. Please extract the waic estimate from the 'estimates' component instead.”\n",
      "Warning message:\n",
      "“\n",
      "6 (6.0%) p_waic estimates greater than 0.4. We recommend trying loo instead.”\n",
      "Warning message:\n",
      "“Accessing waic using '$' is deprecated and will be removed in a future release. Please extract the waic estimate from the 'estimates' component instead.”\n",
      "Warning message:\n",
      "“\n",
      "4 (4.0%) p_waic estimates greater than 0.4. We recommend trying loo instead.”\n",
      "Warning message:\n",
      "“Accessing waic using '$' is deprecated and will be removed in a future release. Please extract the waic estimate from the 'estimates' component instead.”\n",
      "Warning message:\n",
      "“\n",
      "3 (3.0%) p_waic estimates greater than 0.4. We recommend trying loo instead.”\n",
      "Warning message:\n",
      "“Accessing waic using '$' is deprecated and will be removed in a future release. Please extract the waic estimate from the 'estimates' component instead.”\n",
      "Warning message:\n",
      "“\n",
      "4 (4.0%) p_waic estimates greater than 0.4. We recommend trying loo instead.”\n",
      "Warning message:\n",
      "“Accessing waic using '$' is deprecated and will be removed in a future release. Please extract the waic estimate from the 'estimates' component instead.”\n",
      "Warning message:\n",
      "“\n",
      "4 (4.0%) p_waic estimates greater than 0.4. We recommend trying loo instead.”\n",
      "Warning message:\n",
      "“Accessing waic using '$' is deprecated and will be removed in a future release. Please extract the waic estimate from the 'estimates' component instead.”\n",
      "Warning message:\n",
      "“\n",
      "4 (4.0%) p_waic estimates greater than 0.4. We recommend trying loo instead.”\n",
      "Warning message:\n",
      "“Accessing waic using '$' is deprecated and will be removed in a future release. Please extract the waic estimate from the 'estimates' component instead.”\n",
      "Warning message:\n",
      "“\n",
      "6 (6.0%) p_waic estimates greater than 0.4. We recommend trying loo instead.”\n",
      "Warning message:\n",
      "“Accessing waic using '$' is deprecated and will be removed in a future release. Please extract the waic estimate from the 'estimates' component instead.”\n",
      "Warning message:\n",
      "“\n",
      "4 (4.0%) p_waic estimates greater than 0.4. We recommend trying loo instead.”\n",
      "Warning message:\n",
      "“Accessing waic using '$' is deprecated and will be removed in a future release. Please extract the waic estimate from the 'estimates' component instead.”\n",
      "Warning message:\n",
      "“\n",
      "6 (6.0%) p_waic estimates greater than 0.4. We recommend trying loo instead.”\n",
      "Warning message:\n",
      "“Accessing waic using '$' is deprecated and will be removed in a future release. Please extract the waic estimate from the 'estimates' component instead.”\n",
      "Warning message:\n",
      "“\n",
      "4 (4.0%) p_waic estimates greater than 0.4. We recommend trying loo instead.”\n",
      "Warning message:\n",
      "“Accessing waic using '$' is deprecated and will be removed in a future release. Please extract the waic estimate from the 'estimates' component instead.”\n",
      "Warning message:\n",
      "“\n",
      "4 (4.0%) p_waic estimates greater than 0.4. We recommend trying loo instead.”\n",
      "Warning message:\n",
      "“Accessing waic using '$' is deprecated and will be removed in a future release. Please extract the waic estimate from the 'estimates' component instead.”\n",
      "Warning message:\n",
      "“\n",
      "4 (4.0%) p_waic estimates greater than 0.4. We recommend trying loo instead.”\n",
      "Warning message:\n",
      "“Accessing waic using '$' is deprecated and will be removed in a future release. Please extract the waic estimate from the 'estimates' component instead.”\n",
      "Warning message:\n",
      "“\n",
      "5 (5.0%) p_waic estimates greater than 0.4. We recommend trying loo instead.”\n",
      "Warning message:\n",
      "“Accessing waic using '$' is deprecated and will be removed in a future release. Please extract the waic estimate from the 'estimates' component instead.”\n",
      "Warning message:\n",
      "“\n",
      "4 (4.0%) p_waic estimates greater than 0.4. We recommend trying loo instead.”\n",
      "Warning message:\n",
      "“Accessing waic using '$' is deprecated and will be removed in a future release. Please extract the waic estimate from the 'estimates' component instead.”\n",
      "Warning message:\n",
      "“\n",
      "5 (5.0%) p_waic estimates greater than 0.4. We recommend trying loo instead.”\n",
      "Warning message:\n",
      "“Accessing waic using '$' is deprecated and will be removed in a future release. Please extract the waic estimate from the 'estimates' component instead.”\n",
      "Warning message:\n",
      "“\n",
      "6 (6.0%) p_waic estimates greater than 0.4. We recommend trying loo instead.”\n",
      "Warning message:\n",
      "“Accessing waic using '$' is deprecated and will be removed in a future release. Please extract the waic estimate from the 'estimates' component instead.”\n",
      "Warning message:\n",
      "“\n",
      "5 (5.0%) p_waic estimates greater than 0.4. We recommend trying loo instead.”\n",
      "Warning message:\n",
      "“Accessing waic using '$' is deprecated and will be removed in a future release. Please extract the waic estimate from the 'estimates' component instead.”\n",
      "Warning message:\n",
      "“\n",
      "5 (5.0%) p_waic estimates greater than 0.4. We recommend trying loo instead.”\n",
      "Warning message:\n",
      "“Accessing waic using '$' is deprecated and will be removed in a future release. Please extract the waic estimate from the 'estimates' component instead.”\n",
      "Warning message:\n",
      "“\n",
      "5 (5.0%) p_waic estimates greater than 0.4. We recommend trying loo instead.”\n",
      "Warning message:\n",
      "“Accessing waic using '$' is deprecated and will be removed in a future release. Please extract the waic estimate from the 'estimates' component instead.”\n",
      "Warning message:\n",
      "“\n",
      "6 (6.0%) p_waic estimates greater than 0.4. We recommend trying loo instead.”\n",
      "Warning message:\n",
      "“Accessing waic using '$' is deprecated and will be removed in a future release. Please extract the waic estimate from the 'estimates' component instead.”\n",
      "Warning message:\n",
      "“\n",
      "6 (6.0%) p_waic estimates greater than 0.4. We recommend trying loo instead.”\n",
      "Warning message:\n",
      "“Accessing waic using '$' is deprecated and will be removed in a future release. Please extract the waic estimate from the 'estimates' component instead.”\n",
      "Warning message:\n",
      "“\n",
      "5 (5.0%) p_waic estimates greater than 0.4. We recommend trying loo instead.”\n",
      "Warning message:\n",
      "“Accessing waic using '$' is deprecated and will be removed in a future release. Please extract the waic estimate from the 'estimates' component instead.”\n",
      "Warning message:\n",
      "“\n",
      "6 (6.0%) p_waic estimates greater than 0.4. We recommend trying loo instead.”\n",
      "Warning message:\n",
      "“Accessing waic using '$' is deprecated and will be removed in a future release. Please extract the waic estimate from the 'estimates' component instead.”\n",
      "Warning message:\n",
      "“\n",
      "5 (5.0%) p_waic estimates greater than 0.4. We recommend trying loo instead.”\n",
      "Warning message:\n",
      "“Accessing waic using '$' is deprecated and will be removed in a future release. Please extract the waic estimate from the 'estimates' component instead.”\n",
      "Warning message:\n",
      "“\n",
      "6 (6.0%) p_waic estimates greater than 0.4. We recommend trying loo instead.”\n",
      "Warning message:\n",
      "“Accessing waic using '$' is deprecated and will be removed in a future release. Please extract the waic estimate from the 'estimates' component instead.”\n",
      "Warning message:\n",
      "“\n",
      "5 (5.0%) p_waic estimates greater than 0.4. We recommend trying loo instead.”\n",
      "Warning message:\n",
      "“Accessing waic using '$' is deprecated and will be removed in a future release. Please extract the waic estimate from the 'estimates' component instead.”\n",
      "Warning message:\n",
      "“\n",
      "5 (5.0%) p_waic estimates greater than 0.4. We recommend trying loo instead.”\n",
      "Warning message:\n",
      "“Accessing waic using '$' is deprecated and will be removed in a future release. Please extract the waic estimate from the 'estimates' component instead.”\n",
      "Warning message:\n",
      "“\n",
      "5 (5.0%) p_waic estimates greater than 0.4. We recommend trying loo instead.”\n",
      "Warning message:\n",
      "“Accessing waic using '$' is deprecated and will be removed in a future release. Please extract the waic estimate from the 'estimates' component instead.”\n"
     ]
    },
    {
     "name": "stderr",
     "output_type": "stream",
     "text": [
      "Warning message:\n",
      "“\n",
      "6 (6.0%) p_waic estimates greater than 0.4. We recommend trying loo instead.”\n",
      "Warning message:\n",
      "“Accessing waic using '$' is deprecated and will be removed in a future release. Please extract the waic estimate from the 'estimates' component instead.”\n",
      "Warning message:\n",
      "“\n",
      "5 (5.0%) p_waic estimates greater than 0.4. We recommend trying loo instead.”\n",
      "Warning message:\n",
      "“Accessing waic using '$' is deprecated and will be removed in a future release. Please extract the waic estimate from the 'estimates' component instead.”\n",
      "Warning message:\n",
      "“\n",
      "7 (7.0%) p_waic estimates greater than 0.4. We recommend trying loo instead.”\n",
      "Warning message:\n",
      "“Accessing waic using '$' is deprecated and will be removed in a future release. Please extract the waic estimate from the 'estimates' component instead.”\n",
      "Warning message:\n",
      "“\n",
      "5 (5.0%) p_waic estimates greater than 0.4. We recommend trying loo instead.”\n",
      "Warning message:\n",
      "“Accessing waic using '$' is deprecated and will be removed in a future release. Please extract the waic estimate from the 'estimates' component instead.”\n",
      "Warning message:\n",
      "“\n",
      "5 (5.0%) p_waic estimates greater than 0.4. We recommend trying loo instead.”\n",
      "Warning message:\n",
      "“Accessing waic using '$' is deprecated and will be removed in a future release. Please extract the waic estimate from the 'estimates' component instead.”\n",
      "Warning message:\n",
      "“\n",
      "5 (5.0%) p_waic estimates greater than 0.4. We recommend trying loo instead.”\n",
      "Warning message:\n",
      "“Accessing waic using '$' is deprecated and will be removed in a future release. Please extract the waic estimate from the 'estimates' component instead.”\n",
      "Warning message:\n",
      "“\n",
      "6 (6.0%) p_waic estimates greater than 0.4. We recommend trying loo instead.”\n",
      "Warning message:\n",
      "“Accessing waic using '$' is deprecated and will be removed in a future release. Please extract the waic estimate from the 'estimates' component instead.”\n",
      "Warning message:\n",
      "“\n",
      "5 (5.0%) p_waic estimates greater than 0.4. We recommend trying loo instead.”\n",
      "Warning message:\n",
      "“Accessing waic using '$' is deprecated and will be removed in a future release. Please extract the waic estimate from the 'estimates' component instead.”\n",
      "Warning message:\n",
      "“\n",
      "6 (6.0%) p_waic estimates greater than 0.4. We recommend trying loo instead.”\n",
      "Warning message:\n",
      "“Accessing waic using '$' is deprecated and will be removed in a future release. Please extract the waic estimate from the 'estimates' component instead.”\n",
      "Warning message:\n",
      "“\n",
      "6 (6.0%) p_waic estimates greater than 0.4. We recommend trying loo instead.”\n",
      "Warning message:\n",
      "“Accessing waic using '$' is deprecated and will be removed in a future release. Please extract the waic estimate from the 'estimates' component instead.”\n",
      "Warning message:\n",
      "“\n",
      "7 (7.0%) p_waic estimates greater than 0.4. We recommend trying loo instead.”\n",
      "Warning message:\n",
      "“Accessing waic using '$' is deprecated and will be removed in a future release. Please extract the waic estimate from the 'estimates' component instead.”\n",
      "Warning message:\n",
      "“\n",
      "7 (7.0%) p_waic estimates greater than 0.4. We recommend trying loo instead.”\n",
      "Warning message:\n",
      "“Accessing waic using '$' is deprecated and will be removed in a future release. Please extract the waic estimate from the 'estimates' component instead.”\n",
      "Warning message:\n",
      "“\n",
      "7 (7.0%) p_waic estimates greater than 0.4. We recommend trying loo instead.”\n",
      "Warning message:\n",
      "“Accessing waic using '$' is deprecated and will be removed in a future release. Please extract the waic estimate from the 'estimates' component instead.”\n",
      "Warning message:\n",
      "“\n",
      "9 (9.0%) p_waic estimates greater than 0.4. We recommend trying loo instead.”\n",
      "Warning message:\n",
      "“Accessing waic using '$' is deprecated and will be removed in a future release. Please extract the waic estimate from the 'estimates' component instead.”\n",
      "Warning message:\n",
      "“\n",
      "7 (7.0%) p_waic estimates greater than 0.4. We recommend trying loo instead.”\n",
      "Warning message:\n",
      "“Accessing waic using '$' is deprecated and will be removed in a future release. Please extract the waic estimate from the 'estimates' component instead.”\n",
      "Warning message:\n",
      "“\n",
      "6 (6.0%) p_waic estimates greater than 0.4. We recommend trying loo instead.”\n",
      "Warning message:\n",
      "“Accessing waic using '$' is deprecated and will be removed in a future release. Please extract the waic estimate from the 'estimates' component instead.”\n",
      "Warning message:\n",
      "“\n",
      "7 (7.0%) p_waic estimates greater than 0.4. We recommend trying loo instead.”\n",
      "Warning message:\n",
      "“Accessing waic using '$' is deprecated and will be removed in a future release. Please extract the waic estimate from the 'estimates' component instead.”\n",
      "Warning message:\n",
      "“\n",
      "6 (6.0%) p_waic estimates greater than 0.4. We recommend trying loo instead.”\n",
      "Warning message:\n",
      "“Accessing waic using '$' is deprecated and will be removed in a future release. Please extract the waic estimate from the 'estimates' component instead.”\n",
      "Warning message:\n",
      "“\n",
      "7 (7.0%) p_waic estimates greater than 0.4. We recommend trying loo instead.”\n",
      "Warning message:\n",
      "“Accessing waic using '$' is deprecated and will be removed in a future release. Please extract the waic estimate from the 'estimates' component instead.”\n",
      "Warning message:\n",
      "“\n",
      "7 (7.0%) p_waic estimates greater than 0.4. We recommend trying loo instead.”\n",
      "Warning message:\n",
      "“Accessing waic using '$' is deprecated and will be removed in a future release. Please extract the waic estimate from the 'estimates' component instead.”\n",
      "Warning message:\n",
      "“\n",
      "6 (6.0%) p_waic estimates greater than 0.4. We recommend trying loo instead.”\n",
      "Warning message:\n",
      "“Accessing waic using '$' is deprecated and will be removed in a future release. Please extract the waic estimate from the 'estimates' component instead.”\n",
      "Warning message:\n",
      "“\n",
      "8 (8.0%) p_waic estimates greater than 0.4. We recommend trying loo instead.”\n",
      "Warning message:\n",
      "“Accessing waic using '$' is deprecated and will be removed in a future release. Please extract the waic estimate from the 'estimates' component instead.”\n",
      "Warning message:\n",
      "“\n",
      "6 (6.0%) p_waic estimates greater than 0.4. We recommend trying loo instead.”\n",
      "Warning message:\n",
      "“Accessing waic using '$' is deprecated and will be removed in a future release. Please extract the waic estimate from the 'estimates' component instead.”\n",
      "Warning message:\n",
      "“\n",
      "8 (8.0%) p_waic estimates greater than 0.4. We recommend trying loo instead.”\n",
      "Warning message:\n",
      "“Accessing waic using '$' is deprecated and will be removed in a future release. Please extract the waic estimate from the 'estimates' component instead.”\n",
      "Warning message:\n",
      "“\n",
      "6 (6.0%) p_waic estimates greater than 0.4. We recommend trying loo instead.”\n",
      "Warning message:\n",
      "“Accessing waic using '$' is deprecated and will be removed in a future release. Please extract the waic estimate from the 'estimates' component instead.”\n",
      "Warning message:\n",
      "“\n",
      "7 (7.0%) p_waic estimates greater than 0.4. We recommend trying loo instead.”\n",
      "Warning message:\n",
      "“Accessing waic using '$' is deprecated and will be removed in a future release. Please extract the waic estimate from the 'estimates' component instead.”\n",
      "Warning message:\n",
      "“\n",
      "7 (7.0%) p_waic estimates greater than 0.4. We recommend trying loo instead.”\n",
      "Warning message:\n",
      "“Accessing waic using '$' is deprecated and will be removed in a future release. Please extract the waic estimate from the 'estimates' component instead.”\n",
      "Warning message:\n",
      "“\n",
      "7 (7.0%) p_waic estimates greater than 0.4. We recommend trying loo instead.”\n",
      "Warning message:\n",
      "“Accessing waic using '$' is deprecated and will be removed in a future release. Please extract the waic estimate from the 'estimates' component instead.”\n",
      "Warning message:\n",
      "“\n",
      "7 (7.0%) p_waic estimates greater than 0.4. We recommend trying loo instead.”\n",
      "Warning message:\n",
      "“Accessing waic using '$' is deprecated and will be removed in a future release. Please extract the waic estimate from the 'estimates' component instead.”\n",
      "Warning message:\n",
      "“\n",
      "6 (6.0%) p_waic estimates greater than 0.4. We recommend trying loo instead.”\n",
      "Warning message:\n",
      "“Accessing waic using '$' is deprecated and will be removed in a future release. Please extract the waic estimate from the 'estimates' component instead.”\n",
      "Warning message:\n",
      "“\n",
      "6 (6.0%) p_waic estimates greater than 0.4. We recommend trying loo instead.”\n",
      "Warning message:\n",
      "“Accessing waic using '$' is deprecated and will be removed in a future release. Please extract the waic estimate from the 'estimates' component instead.”\n"
     ]
    },
    {
     "name": "stderr",
     "output_type": "stream",
     "text": [
      "Warning message:\n",
      "“\n",
      "7 (7.0%) p_waic estimates greater than 0.4. We recommend trying loo instead.”\n",
      "Warning message:\n",
      "“Accessing waic using '$' is deprecated and will be removed in a future release. Please extract the waic estimate from the 'estimates' component instead.”\n",
      "Warning message:\n",
      "“\n",
      "7 (7.0%) p_waic estimates greater than 0.4. We recommend trying loo instead.”\n",
      "Warning message:\n",
      "“Accessing waic using '$' is deprecated and will be removed in a future release. Please extract the waic estimate from the 'estimates' component instead.”\n",
      "Warning message:\n",
      "“\n",
      "7 (7.0%) p_waic estimates greater than 0.4. We recommend trying loo instead.”\n",
      "Warning message:\n",
      "“Accessing waic using '$' is deprecated and will be removed in a future release. Please extract the waic estimate from the 'estimates' component instead.”\n",
      "Warning message:\n",
      "“\n",
      "6 (6.0%) p_waic estimates greater than 0.4. We recommend trying loo instead.”\n",
      "Warning message:\n",
      "“Accessing waic using '$' is deprecated and will be removed in a future release. Please extract the waic estimate from the 'estimates' component instead.”\n",
      "Warning message:\n",
      "“\n",
      "8 (8.0%) p_waic estimates greater than 0.4. We recommend trying loo instead.”\n",
      "Warning message:\n",
      "“Accessing waic using '$' is deprecated and will be removed in a future release. Please extract the waic estimate from the 'estimates' component instead.”\n",
      "Warning message:\n",
      "“\n",
      "8 (8.0%) p_waic estimates greater than 0.4. We recommend trying loo instead.”\n",
      "Warning message:\n",
      "“Accessing waic using '$' is deprecated and will be removed in a future release. Please extract the waic estimate from the 'estimates' component instead.”\n",
      "Warning message:\n",
      "“\n",
      "6 (6.0%) p_waic estimates greater than 0.4. We recommend trying loo instead.”\n",
      "Warning message:\n",
      "“Accessing waic using '$' is deprecated and will be removed in a future release. Please extract the waic estimate from the 'estimates' component instead.”\n",
      "Warning message:\n",
      "“\n",
      "6 (6.0%) p_waic estimates greater than 0.4. We recommend trying loo instead.”\n",
      "Warning message:\n",
      "“Accessing waic using '$' is deprecated and will be removed in a future release. Please extract the waic estimate from the 'estimates' component instead.”\n",
      "Warning message:\n",
      "“\n",
      "7 (7.0%) p_waic estimates greater than 0.4. We recommend trying loo instead.”\n",
      "Warning message:\n",
      "“Accessing waic using '$' is deprecated and will be removed in a future release. Please extract the waic estimate from the 'estimates' component instead.”\n",
      "Warning message:\n",
      "“\n",
      "6 (6.0%) p_waic estimates greater than 0.4. We recommend trying loo instead.”\n",
      "Warning message:\n",
      "“Accessing waic using '$' is deprecated and will be removed in a future release. Please extract the waic estimate from the 'estimates' component instead.”\n",
      "Warning message:\n",
      "“\n",
      "8 (8.0%) p_waic estimates greater than 0.4. We recommend trying loo instead.”\n",
      "Warning message:\n",
      "“Accessing waic using '$' is deprecated and will be removed in a future release. Please extract the waic estimate from the 'estimates' component instead.”\n",
      "Warning message:\n",
      "“\n",
      "7 (7.0%) p_waic estimates greater than 0.4. We recommend trying loo instead.”\n",
      "Warning message:\n",
      "“Accessing waic using '$' is deprecated and will be removed in a future release. Please extract the waic estimate from the 'estimates' component instead.”\n",
      "Warning message:\n",
      "“\n",
      "7 (7.0%) p_waic estimates greater than 0.4. We recommend trying loo instead.”\n",
      "Warning message:\n",
      "“Accessing waic using '$' is deprecated and will be removed in a future release. Please extract the waic estimate from the 'estimates' component instead.”\n",
      "Warning message:\n",
      "“\n",
      "8 (8.0%) p_waic estimates greater than 0.4. We recommend trying loo instead.”\n",
      "Warning message:\n",
      "“Accessing waic using '$' is deprecated and will be removed in a future release. Please extract the waic estimate from the 'estimates' component instead.”\n",
      "Warning message:\n",
      "“\n",
      "8 (8.0%) p_waic estimates greater than 0.4. We recommend trying loo instead.”\n",
      "Warning message:\n",
      "“Accessing waic using '$' is deprecated and will be removed in a future release. Please extract the waic estimate from the 'estimates' component instead.”\n",
      "Warning message:\n",
      "“\n",
      "7 (7.0%) p_waic estimates greater than 0.4. We recommend trying loo instead.”\n",
      "Warning message:\n",
      "“Accessing waic using '$' is deprecated and will be removed in a future release. Please extract the waic estimate from the 'estimates' component instead.”\n",
      "Warning message:\n",
      "“\n",
      "6 (6.0%) p_waic estimates greater than 0.4. We recommend trying loo instead.”\n",
      "Warning message:\n",
      "“Accessing waic using '$' is deprecated and will be removed in a future release. Please extract the waic estimate from the 'estimates' component instead.”\n",
      "Warning message:\n",
      "“\n",
      "7 (7.0%) p_waic estimates greater than 0.4. We recommend trying loo instead.”\n",
      "Warning message:\n",
      "“Accessing waic using '$' is deprecated and will be removed in a future release. Please extract the waic estimate from the 'estimates' component instead.”\n",
      "Warning message:\n",
      "“\n",
      "8 (8.0%) p_waic estimates greater than 0.4. We recommend trying loo instead.”\n",
      "Warning message:\n",
      "“Accessing waic using '$' is deprecated and will be removed in a future release. Please extract the waic estimate from the 'estimates' component instead.”\n",
      "Warning message:\n",
      "“\n",
      "8 (8.0%) p_waic estimates greater than 0.4. We recommend trying loo instead.”\n",
      "Warning message:\n",
      "“Accessing waic using '$' is deprecated and will be removed in a future release. Please extract the waic estimate from the 'estimates' component instead.”\n",
      "Warning message:\n",
      "“\n",
      "9 (9.0%) p_waic estimates greater than 0.4. We recommend trying loo instead.”\n",
      "Warning message:\n",
      "“Accessing waic using '$' is deprecated and will be removed in a future release. Please extract the waic estimate from the 'estimates' component instead.”\n",
      "Warning message:\n",
      "“\n",
      "8 (8.0%) p_waic estimates greater than 0.4. We recommend trying loo instead.”\n",
      "Warning message:\n",
      "“Accessing waic using '$' is deprecated and will be removed in a future release. Please extract the waic estimate from the 'estimates' component instead.”\n",
      "Warning message:\n",
      "“\n",
      "9 (9.0%) p_waic estimates greater than 0.4. We recommend trying loo instead.”\n",
      "Warning message:\n",
      "“Accessing waic using '$' is deprecated and will be removed in a future release. Please extract the waic estimate from the 'estimates' component instead.”\n",
      "Warning message:\n",
      "“\n",
      "8 (8.0%) p_waic estimates greater than 0.4. We recommend trying loo instead.”\n",
      "Warning message:\n",
      "“Accessing waic using '$' is deprecated and will be removed in a future release. Please extract the waic estimate from the 'estimates' component instead.”\n",
      "Warning message:\n",
      "“\n",
      "9 (9.0%) p_waic estimates greater than 0.4. We recommend trying loo instead.”\n",
      "Warning message:\n",
      "“Accessing waic using '$' is deprecated and will be removed in a future release. Please extract the waic estimate from the 'estimates' component instead.”\n",
      "Warning message:\n",
      "“\n",
      "10 (10.0%) p_waic estimates greater than 0.4. We recommend trying loo instead.”\n",
      "Warning message:\n",
      "“Accessing waic using '$' is deprecated and will be removed in a future release. Please extract the waic estimate from the 'estimates' component instead.”\n",
      "Warning message:\n",
      "“\n",
      "10 (10.0%) p_waic estimates greater than 0.4. We recommend trying loo instead.”\n",
      "Warning message:\n",
      "“Accessing waic using '$' is deprecated and will be removed in a future release. Please extract the waic estimate from the 'estimates' component instead.”\n",
      "Warning message:\n",
      "“\n",
      "8 (8.0%) p_waic estimates greater than 0.4. We recommend trying loo instead.”\n",
      "Warning message:\n",
      "“Accessing waic using '$' is deprecated and will be removed in a future release. Please extract the waic estimate from the 'estimates' component instead.”\n",
      "Warning message:\n",
      "“\n",
      "10 (10.0%) p_waic estimates greater than 0.4. We recommend trying loo instead.”\n",
      "Warning message:\n",
      "“Accessing waic using '$' is deprecated and will be removed in a future release. Please extract the waic estimate from the 'estimates' component instead.”\n",
      "Warning message:\n",
      "“\n",
      "9 (9.0%) p_waic estimates greater than 0.4. We recommend trying loo instead.”\n",
      "Warning message:\n",
      "“Accessing waic using '$' is deprecated and will be removed in a future release. Please extract the waic estimate from the 'estimates' component instead.”\n",
      "Warning message:\n",
      "“\n",
      "9 (9.0%) p_waic estimates greater than 0.4. We recommend trying loo instead.”\n",
      "Warning message:\n",
      "“Accessing waic using '$' is deprecated and will be removed in a future release. Please extract the waic estimate from the 'estimates' component instead.”\n"
     ]
    },
    {
     "name": "stderr",
     "output_type": "stream",
     "text": [
      "Warning message:\n",
      "“\n",
      "9 (9.0%) p_waic estimates greater than 0.4. We recommend trying loo instead.”\n",
      "Warning message:\n",
      "“Accessing waic using '$' is deprecated and will be removed in a future release. Please extract the waic estimate from the 'estimates' component instead.”\n",
      "Warning message:\n",
      "“\n",
      "8 (8.0%) p_waic estimates greater than 0.4. We recommend trying loo instead.”\n",
      "Warning message:\n",
      "“Accessing waic using '$' is deprecated and will be removed in a future release. Please extract the waic estimate from the 'estimates' component instead.”\n",
      "Warning message:\n",
      "“\n",
      "10 (10.0%) p_waic estimates greater than 0.4. We recommend trying loo instead.”\n",
      "Warning message:\n",
      "“Accessing waic using '$' is deprecated and will be removed in a future release. Please extract the waic estimate from the 'estimates' component instead.”\n",
      "Warning message:\n",
      "“\n",
      "9 (9.0%) p_waic estimates greater than 0.4. We recommend trying loo instead.”\n",
      "Warning message:\n",
      "“Accessing waic using '$' is deprecated and will be removed in a future release. Please extract the waic estimate from the 'estimates' component instead.”\n",
      "Warning message:\n",
      "“\n",
      "9 (9.0%) p_waic estimates greater than 0.4. We recommend trying loo instead.”\n",
      "Warning message:\n",
      "“Accessing waic using '$' is deprecated and will be removed in a future release. Please extract the waic estimate from the 'estimates' component instead.”\n",
      "Warning message:\n",
      "“\n",
      "8 (8.0%) p_waic estimates greater than 0.4. We recommend trying loo instead.”\n",
      "Warning message:\n",
      "“Accessing waic using '$' is deprecated and will be removed in a future release. Please extract the waic estimate from the 'estimates' component instead.”\n",
      "Warning message:\n",
      "“\n",
      "8 (8.0%) p_waic estimates greater than 0.4. We recommend trying loo instead.”\n",
      "Warning message:\n",
      "“Accessing waic using '$' is deprecated and will be removed in a future release. Please extract the waic estimate from the 'estimates' component instead.”\n",
      "Warning message:\n",
      "“\n",
      "10 (10.0%) p_waic estimates greater than 0.4. We recommend trying loo instead.”\n",
      "Warning message:\n",
      "“Accessing waic using '$' is deprecated and will be removed in a future release. Please extract the waic estimate from the 'estimates' component instead.”\n",
      "Warning message:\n",
      "“\n",
      "8 (8.0%) p_waic estimates greater than 0.4. We recommend trying loo instead.”\n",
      "Warning message:\n",
      "“Accessing waic using '$' is deprecated and will be removed in a future release. Please extract the waic estimate from the 'estimates' component instead.”\n",
      "Warning message:\n",
      "“\n",
      "11 (11.0%) p_waic estimates greater than 0.4. We recommend trying loo instead.”\n",
      "Warning message:\n",
      "“Accessing waic using '$' is deprecated and will be removed in a future release. Please extract the waic estimate from the 'estimates' component instead.”\n",
      "Warning message:\n",
      "“\n",
      "9 (9.0%) p_waic estimates greater than 0.4. We recommend trying loo instead.”\n",
      "Warning message:\n",
      "“Accessing waic using '$' is deprecated and will be removed in a future release. Please extract the waic estimate from the 'estimates' component instead.”\n",
      "Warning message:\n",
      "“\n",
      "9 (9.0%) p_waic estimates greater than 0.4. We recommend trying loo instead.”\n",
      "Warning message:\n",
      "“Accessing waic using '$' is deprecated and will be removed in a future release. Please extract the waic estimate from the 'estimates' component instead.”\n",
      "Warning message:\n",
      "“\n",
      "9 (9.0%) p_waic estimates greater than 0.4. We recommend trying loo instead.”\n",
      "Warning message:\n",
      "“Accessing waic using '$' is deprecated and will be removed in a future release. Please extract the waic estimate from the 'estimates' component instead.”\n",
      "Warning message:\n",
      "“\n",
      "8 (8.0%) p_waic estimates greater than 0.4. We recommend trying loo instead.”\n",
      "Warning message:\n",
      "“Accessing waic using '$' is deprecated and will be removed in a future release. Please extract the waic estimate from the 'estimates' component instead.”\n",
      "Warning message:\n",
      "“\n",
      "10 (10.0%) p_waic estimates greater than 0.4. We recommend trying loo instead.”\n",
      "Warning message:\n",
      "“Accessing waic using '$' is deprecated and will be removed in a future release. Please extract the waic estimate from the 'estimates' component instead.”\n",
      "Warning message:\n",
      "“\n",
      "9 (9.0%) p_waic estimates greater than 0.4. We recommend trying loo instead.”\n",
      "Warning message:\n",
      "“Accessing waic using '$' is deprecated and will be removed in a future release. Please extract the waic estimate from the 'estimates' component instead.”\n",
      "Warning message:\n",
      "“\n",
      "9 (9.0%) p_waic estimates greater than 0.4. We recommend trying loo instead.”\n",
      "Warning message:\n",
      "“Accessing waic using '$' is deprecated and will be removed in a future release. Please extract the waic estimate from the 'estimates' component instead.”\n",
      "Warning message:\n",
      "“\n",
      "9 (9.0%) p_waic estimates greater than 0.4. We recommend trying loo instead.”\n",
      "Warning message:\n",
      "“Accessing waic using '$' is deprecated and will be removed in a future release. Please extract the waic estimate from the 'estimates' component instead.”\n",
      "Warning message:\n",
      "“\n",
      "9 (9.0%) p_waic estimates greater than 0.4. We recommend trying loo instead.”\n",
      "Warning message:\n",
      "“Accessing waic using '$' is deprecated and will be removed in a future release. Please extract the waic estimate from the 'estimates' component instead.”\n",
      "Warning message:\n",
      "“\n",
      "9 (9.0%) p_waic estimates greater than 0.4. We recommend trying loo instead.”\n",
      "Warning message:\n",
      "“Accessing waic using '$' is deprecated and will be removed in a future release. Please extract the waic estimate from the 'estimates' component instead.”\n",
      "Warning message:\n",
      "“\n",
      "8 (8.0%) p_waic estimates greater than 0.4. We recommend trying loo instead.”\n",
      "Warning message:\n",
      "“Accessing waic using '$' is deprecated and will be removed in a future release. Please extract the waic estimate from the 'estimates' component instead.”\n",
      "Warning message:\n",
      "“\n",
      "10 (10.0%) p_waic estimates greater than 0.4. We recommend trying loo instead.”\n",
      "Warning message:\n",
      "“Accessing waic using '$' is deprecated and will be removed in a future release. Please extract the waic estimate from the 'estimates' component instead.”\n",
      "Warning message:\n",
      "“\n",
      "9 (9.0%) p_waic estimates greater than 0.4. We recommend trying loo instead.”\n",
      "Warning message:\n",
      "“Accessing waic using '$' is deprecated and will be removed in a future release. Please extract the waic estimate from the 'estimates' component instead.”\n",
      "Warning message:\n",
      "“\n",
      "8 (8.0%) p_waic estimates greater than 0.4. We recommend trying loo instead.”\n",
      "Warning message:\n",
      "“Accessing waic using '$' is deprecated and will be removed in a future release. Please extract the waic estimate from the 'estimates' component instead.”\n",
      "Warning message:\n",
      "“\n",
      "9 (9.0%) p_waic estimates greater than 0.4. We recommend trying loo instead.”\n",
      "Warning message:\n",
      "“Accessing waic using '$' is deprecated and will be removed in a future release. Please extract the waic estimate from the 'estimates' component instead.”\n",
      "Warning message:\n",
      "“\n",
      "9 (9.0%) p_waic estimates greater than 0.4. We recommend trying loo instead.”\n",
      "Warning message:\n",
      "“Accessing waic using '$' is deprecated and will be removed in a future release. Please extract the waic estimate from the 'estimates' component instead.”\n",
      "Warning message:\n",
      "“\n",
      "10 (10.0%) p_waic estimates greater than 0.4. We recommend trying loo instead.”\n",
      "Warning message:\n",
      "“Accessing waic using '$' is deprecated and will be removed in a future release. Please extract the waic estimate from the 'estimates' component instead.”\n",
      "Warning message:\n",
      "“\n",
      "11 (11.0%) p_waic estimates greater than 0.4. We recommend trying loo instead.”\n",
      "Warning message:\n",
      "“Accessing waic using '$' is deprecated and will be removed in a future release. Please extract the waic estimate from the 'estimates' component instead.”\n",
      "Warning message:\n",
      "“\n",
      "12 (12.0%) p_waic estimates greater than 0.4. We recommend trying loo instead.”\n",
      "Warning message:\n",
      "“Accessing waic using '$' is deprecated and will be removed in a future release. Please extract the waic estimate from the 'estimates' component instead.”\n",
      "Warning message:\n",
      "“\n",
      "9 (9.0%) p_waic estimates greater than 0.4. We recommend trying loo instead.”\n",
      "Warning message:\n",
      "“Accessing waic using '$' is deprecated and will be removed in a future release. Please extract the waic estimate from the 'estimates' component instead.”\n",
      "Warning message:\n",
      "“\n",
      "10 (10.0%) p_waic estimates greater than 0.4. We recommend trying loo instead.”\n",
      "Warning message:\n",
      "“Accessing waic using '$' is deprecated and will be removed in a future release. Please extract the waic estimate from the 'estimates' component instead.”\n"
     ]
    },
    {
     "name": "stderr",
     "output_type": "stream",
     "text": [
      "Warning message:\n",
      "“\n",
      "10 (10.0%) p_waic estimates greater than 0.4. We recommend trying loo instead.”\n",
      "Warning message:\n",
      "“Accessing waic using '$' is deprecated and will be removed in a future release. Please extract the waic estimate from the 'estimates' component instead.”\n",
      "Warning message:\n",
      "“\n",
      "12 (12.0%) p_waic estimates greater than 0.4. We recommend trying loo instead.”\n",
      "Warning message:\n",
      "“Accessing waic using '$' is deprecated and will be removed in a future release. Please extract the waic estimate from the 'estimates' component instead.”\n",
      "Warning message:\n",
      "“\n",
      "12 (12.0%) p_waic estimates greater than 0.4. We recommend trying loo instead.”\n",
      "Warning message:\n",
      "“Accessing waic using '$' is deprecated and will be removed in a future release. Please extract the waic estimate from the 'estimates' component instead.”\n",
      "Warning message:\n",
      "“\n",
      "11 (11.0%) p_waic estimates greater than 0.4. We recommend trying loo instead.”\n",
      "Warning message:\n",
      "“Accessing waic using '$' is deprecated and will be removed in a future release. Please extract the waic estimate from the 'estimates' component instead.”\n",
      "Warning message:\n",
      "“\n",
      "10 (10.0%) p_waic estimates greater than 0.4. We recommend trying loo instead.”\n",
      "Warning message:\n",
      "“Accessing waic using '$' is deprecated and will be removed in a future release. Please extract the waic estimate from the 'estimates' component instead.”\n",
      "Warning message:\n",
      "“\n",
      "10 (10.0%) p_waic estimates greater than 0.4. We recommend trying loo instead.”\n",
      "Warning message:\n",
      "“Accessing waic using '$' is deprecated and will be removed in a future release. Please extract the waic estimate from the 'estimates' component instead.”\n",
      "Warning message:\n",
      "“\n",
      "10 (10.0%) p_waic estimates greater than 0.4. We recommend trying loo instead.”\n",
      "Warning message:\n",
      "“Accessing waic using '$' is deprecated and will be removed in a future release. Please extract the waic estimate from the 'estimates' component instead.”\n",
      "Warning message:\n",
      "“\n",
      "9 (9.0%) p_waic estimates greater than 0.4. We recommend trying loo instead.”\n",
      "Warning message:\n",
      "“Accessing waic using '$' is deprecated and will be removed in a future release. Please extract the waic estimate from the 'estimates' component instead.”\n",
      "Warning message:\n",
      "“\n",
      "9 (9.0%) p_waic estimates greater than 0.4. We recommend trying loo instead.”\n",
      "Warning message:\n",
      "“Accessing waic using '$' is deprecated and will be removed in a future release. Please extract the waic estimate from the 'estimates' component instead.”\n",
      "Warning message:\n",
      "“\n",
      "10 (10.0%) p_waic estimates greater than 0.4. We recommend trying loo instead.”\n",
      "Warning message:\n",
      "“Accessing waic using '$' is deprecated and will be removed in a future release. Please extract the waic estimate from the 'estimates' component instead.”\n",
      "Warning message:\n",
      "“\n",
      "10 (10.0%) p_waic estimates greater than 0.4. We recommend trying loo instead.”\n",
      "Warning message:\n",
      "“Accessing waic using '$' is deprecated and will be removed in a future release. Please extract the waic estimate from the 'estimates' component instead.”\n",
      "Warning message:\n",
      "“\n",
      "11 (11.0%) p_waic estimates greater than 0.4. We recommend trying loo instead.”\n",
      "Warning message:\n",
      "“Accessing waic using '$' is deprecated and will be removed in a future release. Please extract the waic estimate from the 'estimates' component instead.”\n",
      "Warning message:\n",
      "“\n",
      "11 (11.0%) p_waic estimates greater than 0.4. We recommend trying loo instead.”\n",
      "Warning message:\n",
      "“Accessing waic using '$' is deprecated and will be removed in a future release. Please extract the waic estimate from the 'estimates' component instead.”\n",
      "Warning message:\n",
      "“\n",
      "11 (11.0%) p_waic estimates greater than 0.4. We recommend trying loo instead.”\n",
      "Warning message:\n",
      "“Accessing waic using '$' is deprecated and will be removed in a future release. Please extract the waic estimate from the 'estimates' component instead.”\n",
      "Warning message:\n",
      "“\n",
      "13 (13.0%) p_waic estimates greater than 0.4. We recommend trying loo instead.”\n",
      "Warning message:\n",
      "“Accessing waic using '$' is deprecated and will be removed in a future release. Please extract the waic estimate from the 'estimates' component instead.”\n",
      "Warning message:\n",
      "“\n",
      "10 (10.0%) p_waic estimates greater than 0.4. We recommend trying loo instead.”\n",
      "Warning message:\n",
      "“Accessing waic using '$' is deprecated and will be removed in a future release. Please extract the waic estimate from the 'estimates' component instead.”\n",
      "Warning message:\n",
      "“\n",
      "11 (11.0%) p_waic estimates greater than 0.4. We recommend trying loo instead.”\n",
      "Warning message:\n",
      "“Accessing waic using '$' is deprecated and will be removed in a future release. Please extract the waic estimate from the 'estimates' component instead.”\n",
      "Warning message:\n",
      "“\n",
      "10 (10.0%) p_waic estimates greater than 0.4. We recommend trying loo instead.”\n",
      "Warning message:\n",
      "“Accessing waic using '$' is deprecated and will be removed in a future release. Please extract the waic estimate from the 'estimates' component instead.”\n",
      "Warning message:\n",
      "“\n",
      "12 (12.0%) p_waic estimates greater than 0.4. We recommend trying loo instead.”\n",
      "Warning message:\n",
      "“Accessing waic using '$' is deprecated and will be removed in a future release. Please extract the waic estimate from the 'estimates' component instead.”\n",
      "Warning message:\n",
      "“\n",
      "11 (11.0%) p_waic estimates greater than 0.4. We recommend trying loo instead.”\n",
      "Warning message:\n",
      "“Accessing waic using '$' is deprecated and will be removed in a future release. Please extract the waic estimate from the 'estimates' component instead.”\n",
      "Warning message:\n",
      "“\n",
      "11 (11.0%) p_waic estimates greater than 0.4. We recommend trying loo instead.”\n",
      "Warning message:\n",
      "“Accessing waic using '$' is deprecated and will be removed in a future release. Please extract the waic estimate from the 'estimates' component instead.”\n",
      "Warning message:\n",
      "“\n",
      "11 (11.0%) p_waic estimates greater than 0.4. We recommend trying loo instead.”\n",
      "Warning message:\n",
      "“Accessing waic using '$' is deprecated and will be removed in a future release. Please extract the waic estimate from the 'estimates' component instead.”\n",
      "Warning message:\n",
      "“\n",
      "10 (10.0%) p_waic estimates greater than 0.4. We recommend trying loo instead.”\n",
      "Warning message:\n",
      "“Accessing waic using '$' is deprecated and will be removed in a future release. Please extract the waic estimate from the 'estimates' component instead.”\n",
      "Warning message:\n",
      "“\n",
      "10 (10.0%) p_waic estimates greater than 0.4. We recommend trying loo instead.”\n",
      "Warning message:\n",
      "“Accessing waic using '$' is deprecated and will be removed in a future release. Please extract the waic estimate from the 'estimates' component instead.”\n",
      "Warning message:\n",
      "“\n",
      "10 (10.0%) p_waic estimates greater than 0.4. We recommend trying loo instead.”\n",
      "Warning message:\n",
      "“Accessing waic using '$' is deprecated and will be removed in a future release. Please extract the waic estimate from the 'estimates' component instead.”\n",
      "Warning message:\n",
      "“\n",
      "10 (10.0%) p_waic estimates greater than 0.4. We recommend trying loo instead.”\n",
      "Warning message:\n",
      "“Accessing waic using '$' is deprecated and will be removed in a future release. Please extract the waic estimate from the 'estimates' component instead.”\n",
      "Warning message:\n",
      "“\n",
      "11 (11.0%) p_waic estimates greater than 0.4. We recommend trying loo instead.”\n",
      "Warning message:\n",
      "“Accessing waic using '$' is deprecated and will be removed in a future release. Please extract the waic estimate from the 'estimates' component instead.”\n",
      "Warning message:\n",
      "“\n",
      "11 (11.0%) p_waic estimates greater than 0.4. We recommend trying loo instead.”\n",
      "Warning message:\n",
      "“Accessing waic using '$' is deprecated and will be removed in a future release. Please extract the waic estimate from the 'estimates' component instead.”\n",
      "Warning message:\n",
      "“\n",
      "15 (15.0%) p_waic estimates greater than 0.4. We recommend trying loo instead.”\n",
      "Warning message:\n",
      "“Accessing waic using '$' is deprecated and will be removed in a future release. Please extract the waic estimate from the 'estimates' component instead.”\n",
      "Warning message:\n",
      "“\n",
      "14 (14.0%) p_waic estimates greater than 0.4. We recommend trying loo instead.”\n",
      "Warning message:\n",
      "“Accessing waic using '$' is deprecated and will be removed in a future release. Please extract the waic estimate from the 'estimates' component instead.”\n",
      "Warning message:\n",
      "“\n",
      "12 (12.0%) p_waic estimates greater than 0.4. We recommend trying loo instead.”\n"
     ]
    },
    {
     "name": "stderr",
     "output_type": "stream",
     "text": [
      "Warning message:\n",
      "“Accessing waic using '$' is deprecated and will be removed in a future release. Please extract the waic estimate from the 'estimates' component instead.”\n",
      "Warning message:\n",
      "“\n",
      "11 (11.0%) p_waic estimates greater than 0.4. We recommend trying loo instead.”\n",
      "Warning message:\n",
      "“Accessing waic using '$' is deprecated and will be removed in a future release. Please extract the waic estimate from the 'estimates' component instead.”\n",
      "Warning message:\n",
      "“\n",
      "12 (12.0%) p_waic estimates greater than 0.4. We recommend trying loo instead.”\n",
      "Warning message:\n",
      "“Accessing waic using '$' is deprecated and will be removed in a future release. Please extract the waic estimate from the 'estimates' component instead.”\n",
      "Warning message:\n",
      "“\n",
      "12 (12.0%) p_waic estimates greater than 0.4. We recommend trying loo instead.”\n",
      "Warning message:\n",
      "“Accessing waic using '$' is deprecated and will be removed in a future release. Please extract the waic estimate from the 'estimates' component instead.”\n",
      "Warning message:\n",
      "“\n",
      "12 (12.0%) p_waic estimates greater than 0.4. We recommend trying loo instead.”\n",
      "Warning message:\n",
      "“Accessing waic using '$' is deprecated and will be removed in a future release. Please extract the waic estimate from the 'estimates' component instead.”\n",
      "Warning message:\n",
      "“\n",
      "13 (13.0%) p_waic estimates greater than 0.4. We recommend trying loo instead.”\n",
      "Warning message:\n",
      "“Accessing waic using '$' is deprecated and will be removed in a future release. Please extract the waic estimate from the 'estimates' component instead.”\n",
      "Warning message:\n",
      "“\n",
      "12 (12.0%) p_waic estimates greater than 0.4. We recommend trying loo instead.”\n",
      "Warning message:\n",
      "“Accessing waic using '$' is deprecated and will be removed in a future release. Please extract the waic estimate from the 'estimates' component instead.”\n",
      "Warning message:\n",
      "“\n",
      "11 (11.0%) p_waic estimates greater than 0.4. We recommend trying loo instead.”\n",
      "Warning message:\n",
      "“Accessing waic using '$' is deprecated and will be removed in a future release. Please extract the waic estimate from the 'estimates' component instead.”\n",
      "Warning message:\n",
      "“\n",
      "12 (12.0%) p_waic estimates greater than 0.4. We recommend trying loo instead.”\n",
      "Warning message:\n",
      "“Accessing waic using '$' is deprecated and will be removed in a future release. Please extract the waic estimate from the 'estimates' component instead.”\n",
      "Warning message:\n",
      "“\n",
      "13 (13.0%) p_waic estimates greater than 0.4. We recommend trying loo instead.”\n",
      "Warning message:\n",
      "“Accessing waic using '$' is deprecated and will be removed in a future release. Please extract the waic estimate from the 'estimates' component instead.”\n",
      "Warning message:\n",
      "“\n",
      "12 (12.0%) p_waic estimates greater than 0.4. We recommend trying loo instead.”\n",
      "Warning message:\n",
      "“Accessing waic using '$' is deprecated and will be removed in a future release. Please extract the waic estimate from the 'estimates' component instead.”\n",
      "Warning message:\n",
      "“\n",
      "14 (14.0%) p_waic estimates greater than 0.4. We recommend trying loo instead.”\n",
      "Warning message:\n",
      "“Accessing waic using '$' is deprecated and will be removed in a future release. Please extract the waic estimate from the 'estimates' component instead.”\n",
      "Warning message:\n",
      "“\n",
      "15 (15.0%) p_waic estimates greater than 0.4. We recommend trying loo instead.”\n",
      "Warning message:\n",
      "“Accessing waic using '$' is deprecated and will be removed in a future release. Please extract the waic estimate from the 'estimates' component instead.”\n",
      "Warning message:\n",
      "“\n",
      "16 (16.0%) p_waic estimates greater than 0.4. We recommend trying loo instead.”\n",
      "Warning message:\n",
      "“Accessing waic using '$' is deprecated and will be removed in a future release. Please extract the waic estimate from the 'estimates' component instead.”\n",
      "Warning message:\n",
      "“\n",
      "14 (14.0%) p_waic estimates greater than 0.4. We recommend trying loo instead.”\n",
      "Warning message:\n",
      "“Accessing waic using '$' is deprecated and will be removed in a future release. Please extract the waic estimate from the 'estimates' component instead.”\n",
      "Warning message:\n",
      "“\n",
      "16 (16.0%) p_waic estimates greater than 0.4. We recommend trying loo instead.”\n",
      "Warning message:\n",
      "“Accessing waic using '$' is deprecated and will be removed in a future release. Please extract the waic estimate from the 'estimates' component instead.”\n",
      "Warning message:\n",
      "“\n",
      "15 (15.0%) p_waic estimates greater than 0.4. We recommend trying loo instead.”\n",
      "Warning message:\n",
      "“Accessing waic using '$' is deprecated and will be removed in a future release. Please extract the waic estimate from the 'estimates' component instead.”\n",
      "Warning message:\n",
      "“\n",
      "15 (15.0%) p_waic estimates greater than 0.4. We recommend trying loo instead.”\n",
      "Warning message:\n",
      "“Accessing waic using '$' is deprecated and will be removed in a future release. Please extract the waic estimate from the 'estimates' component instead.”\n",
      "Warning message:\n",
      "“\n",
      "15 (15.0%) p_waic estimates greater than 0.4. We recommend trying loo instead.”\n",
      "Warning message:\n",
      "“Accessing waic using '$' is deprecated and will be removed in a future release. Please extract the waic estimate from the 'estimates' component instead.”\n",
      "Warning message:\n",
      "“\n",
      "15 (15.0%) p_waic estimates greater than 0.4. We recommend trying loo instead.”\n",
      "Warning message:\n",
      "“Accessing waic using '$' is deprecated and will be removed in a future release. Please extract the waic estimate from the 'estimates' component instead.”\n",
      "Warning message:\n",
      "“\n",
      "14 (14.0%) p_waic estimates greater than 0.4. We recommend trying loo instead.”\n",
      "Warning message:\n",
      "“Accessing waic using '$' is deprecated and will be removed in a future release. Please extract the waic estimate from the 'estimates' component instead.”\n",
      "Warning message:\n",
      "“\n",
      "14 (14.0%) p_waic estimates greater than 0.4. We recommend trying loo instead.”\n",
      "Warning message:\n",
      "“Accessing waic using '$' is deprecated and will be removed in a future release. Please extract the waic estimate from the 'estimates' component instead.”\n",
      "Warning message:\n",
      "“\n",
      "14 (14.0%) p_waic estimates greater than 0.4. We recommend trying loo instead.”\n",
      "Warning message:\n",
      "“Accessing waic using '$' is deprecated and will be removed in a future release. Please extract the waic estimate from the 'estimates' component instead.”\n",
      "Warning message:\n",
      "“\n",
      "14 (14.0%) p_waic estimates greater than 0.4. We recommend trying loo instead.”\n",
      "Warning message:\n",
      "“Accessing waic using '$' is deprecated and will be removed in a future release. Please extract the waic estimate from the 'estimates' component instead.”\n",
      "Warning message:\n",
      "“\n",
      "14 (14.0%) p_waic estimates greater than 0.4. We recommend trying loo instead.”\n",
      "Warning message:\n",
      "“Accessing waic using '$' is deprecated and will be removed in a future release. Please extract the waic estimate from the 'estimates' component instead.”\n",
      "Warning message:\n",
      "“\n",
      "14 (14.0%) p_waic estimates greater than 0.4. We recommend trying loo instead.”\n",
      "Warning message:\n",
      "“Accessing waic using '$' is deprecated and will be removed in a future release. Please extract the waic estimate from the 'estimates' component instead.”\n",
      "Warning message:\n",
      "“\n",
      "16 (16.0%) p_waic estimates greater than 0.4. We recommend trying loo instead.”\n",
      "Warning message:\n",
      "“Accessing waic using '$' is deprecated and will be removed in a future release. Please extract the waic estimate from the 'estimates' component instead.”\n",
      "Warning message:\n",
      "“\n",
      "18 (18.0%) p_waic estimates greater than 0.4. We recommend trying loo instead.”\n",
      "Warning message:\n",
      "“Accessing waic using '$' is deprecated and will be removed in a future release. Please extract the waic estimate from the 'estimates' component instead.”\n",
      "Warning message:\n",
      "“\n",
      "16 (16.0%) p_waic estimates greater than 0.4. We recommend trying loo instead.”\n",
      "Warning message:\n",
      "“Accessing waic using '$' is deprecated and will be removed in a future release. Please extract the waic estimate from the 'estimates' component instead.”\n",
      "Warning message:\n",
      "“\n",
      "16 (16.0%) p_waic estimates greater than 0.4. We recommend trying loo instead.”\n",
      "Warning message:\n",
      "“Accessing waic using '$' is deprecated and will be removed in a future release. Please extract the waic estimate from the 'estimates' component instead.”\n",
      "Warning message:\n",
      "“\n",
      "15 (15.0%) p_waic estimates greater than 0.4. We recommend trying loo instead.”\n",
      "Warning message:\n",
      "“Accessing waic using '$' is deprecated and will be removed in a future release. Please extract the waic estimate from the 'estimates' component instead.”\n"
     ]
    },
    {
     "name": "stderr",
     "output_type": "stream",
     "text": [
      "Warning message:\n",
      "“\n",
      "16 (16.0%) p_waic estimates greater than 0.4. We recommend trying loo instead.”\n",
      "Warning message:\n",
      "“Accessing waic using '$' is deprecated and will be removed in a future release. Please extract the waic estimate from the 'estimates' component instead.”\n",
      "Warning message:\n",
      "“\n",
      "16 (16.0%) p_waic estimates greater than 0.4. We recommend trying loo instead.”\n",
      "Warning message:\n",
      "“Accessing waic using '$' is deprecated and will be removed in a future release. Please extract the waic estimate from the 'estimates' component instead.”\n",
      "Warning message:\n",
      "“\n",
      "15 (15.0%) p_waic estimates greater than 0.4. We recommend trying loo instead.”\n",
      "Warning message:\n",
      "“Accessing waic using '$' is deprecated and will be removed in a future release. Please extract the waic estimate from the 'estimates' component instead.”\n",
      "Warning message:\n",
      "“\n",
      "15 (15.0%) p_waic estimates greater than 0.4. We recommend trying loo instead.”\n",
      "Warning message:\n",
      "“Accessing waic using '$' is deprecated and will be removed in a future release. Please extract the waic estimate from the 'estimates' component instead.”\n",
      "Warning message:\n",
      "“\n",
      "16 (16.0%) p_waic estimates greater than 0.4. We recommend trying loo instead.”\n",
      "Warning message:\n",
      "“Accessing waic using '$' is deprecated and will be removed in a future release. Please extract the waic estimate from the 'estimates' component instead.”\n",
      "Warning message:\n",
      "“\n",
      "14 (14.0%) p_waic estimates greater than 0.4. We recommend trying loo instead.”\n",
      "Warning message:\n",
      "“Accessing waic using '$' is deprecated and will be removed in a future release. Please extract the waic estimate from the 'estimates' component instead.”\n",
      "Warning message:\n",
      "“\n",
      "16 (16.0%) p_waic estimates greater than 0.4. We recommend trying loo instead.”\n",
      "Warning message:\n",
      "“Accessing waic using '$' is deprecated and will be removed in a future release. Please extract the waic estimate from the 'estimates' component instead.”\n",
      "Warning message:\n",
      "“\n",
      "16 (16.0%) p_waic estimates greater than 0.4. We recommend trying loo instead.”\n",
      "Warning message:\n",
      "“Accessing waic using '$' is deprecated and will be removed in a future release. Please extract the waic estimate from the 'estimates' component instead.”\n",
      "Warning message:\n",
      "“\n",
      "19 (19.0%) p_waic estimates greater than 0.4. We recommend trying loo instead.”\n",
      "Warning message:\n",
      "“Accessing waic using '$' is deprecated and will be removed in a future release. Please extract the waic estimate from the 'estimates' component instead.”\n",
      "Warning message:\n",
      "“\n",
      "18 (18.0%) p_waic estimates greater than 0.4. We recommend trying loo instead.”\n",
      "Warning message:\n",
      "“Accessing waic using '$' is deprecated and will be removed in a future release. Please extract the waic estimate from the 'estimates' component instead.”\n",
      "Warning message:\n",
      "“\n",
      "17 (17.0%) p_waic estimates greater than 0.4. We recommend trying loo instead.”\n",
      "Warning message:\n",
      "“Accessing waic using '$' is deprecated and will be removed in a future release. Please extract the waic estimate from the 'estimates' component instead.”\n",
      "Warning message:\n",
      "“\n",
      "19 (19.0%) p_waic estimates greater than 0.4. We recommend trying loo instead.”\n",
      "Warning message:\n",
      "“Accessing waic using '$' is deprecated and will be removed in a future release. Please extract the waic estimate from the 'estimates' component instead.”\n",
      "Warning message:\n",
      "“\n",
      "18 (18.0%) p_waic estimates greater than 0.4. We recommend trying loo instead.”\n",
      "Warning message:\n",
      "“Accessing waic using '$' is deprecated and will be removed in a future release. Please extract the waic estimate from the 'estimates' component instead.”\n",
      "Warning message:\n",
      "“\n",
      "19 (19.0%) p_waic estimates greater than 0.4. We recommend trying loo instead.”\n",
      "Warning message:\n",
      "“Accessing waic using '$' is deprecated and will be removed in a future release. Please extract the waic estimate from the 'estimates' component instead.”\n",
      "Warning message:\n",
      "“\n",
      "18 (18.0%) p_waic estimates greater than 0.4. We recommend trying loo instead.”\n",
      "Warning message:\n",
      "“Accessing waic using '$' is deprecated and will be removed in a future release. Please extract the waic estimate from the 'estimates' component instead.”\n",
      "Warning message:\n",
      "“\n",
      "18 (18.0%) p_waic estimates greater than 0.4. We recommend trying loo instead.”\n",
      "Warning message:\n",
      "“Accessing waic using '$' is deprecated and will be removed in a future release. Please extract the waic estimate from the 'estimates' component instead.”\n",
      "Warning message:\n",
      "“\n",
      "18 (18.0%) p_waic estimates greater than 0.4. We recommend trying loo instead.”\n",
      "Warning message:\n",
      "“Accessing waic using '$' is deprecated and will be removed in a future release. Please extract the waic estimate from the 'estimates' component instead.”\n",
      "Warning message:\n",
      "“\n",
      "18 (18.0%) p_waic estimates greater than 0.4. We recommend trying loo instead.”\n",
      "Warning message:\n",
      "“Accessing waic using '$' is deprecated and will be removed in a future release. Please extract the waic estimate from the 'estimates' component instead.”\n",
      "Warning message:\n",
      "“\n",
      "19 (19.0%) p_waic estimates greater than 0.4. We recommend trying loo instead.”\n",
      "Warning message:\n",
      "“Accessing waic using '$' is deprecated and will be removed in a future release. Please extract the waic estimate from the 'estimates' component instead.”\n",
      "Warning message:\n",
      "“\n",
      "17 (17.0%) p_waic estimates greater than 0.4. We recommend trying loo instead.”\n",
      "Warning message:\n",
      "“Accessing waic using '$' is deprecated and will be removed in a future release. Please extract the waic estimate from the 'estimates' component instead.”\n",
      "Warning message:\n",
      "“\n",
      "18 (18.0%) p_waic estimates greater than 0.4. We recommend trying loo instead.”\n",
      "Warning message:\n",
      "“Accessing waic using '$' is deprecated and will be removed in a future release. Please extract the waic estimate from the 'estimates' component instead.”\n",
      "Warning message:\n",
      "“\n",
      "18 (18.0%) p_waic estimates greater than 0.4. We recommend trying loo instead.”\n",
      "Warning message:\n",
      "“Accessing waic using '$' is deprecated and will be removed in a future release. Please extract the waic estimate from the 'estimates' component instead.”\n",
      "Warning message:\n",
      "“\n",
      "17 (17.0%) p_waic estimates greater than 0.4. We recommend trying loo instead.”\n",
      "Warning message:\n",
      "“Accessing waic using '$' is deprecated and will be removed in a future release. Please extract the waic estimate from the 'estimates' component instead.”\n",
      "Warning message:\n",
      "“\n",
      "18 (18.0%) p_waic estimates greater than 0.4. We recommend trying loo instead.”\n",
      "Warning message:\n",
      "“Accessing waic using '$' is deprecated and will be removed in a future release. Please extract the waic estimate from the 'estimates' component instead.”\n",
      "Warning message:\n",
      "“\n",
      "19 (19.0%) p_waic estimates greater than 0.4. We recommend trying loo instead.”\n",
      "Warning message:\n",
      "“Accessing waic using '$' is deprecated and will be removed in a future release. Please extract the waic estimate from the 'estimates' component instead.”\n",
      "Warning message:\n",
      "“\n",
      "18 (18.0%) p_waic estimates greater than 0.4. We recommend trying loo instead.”\n",
      "Warning message:\n",
      "“Accessing waic using '$' is deprecated and will be removed in a future release. Please extract the waic estimate from the 'estimates' component instead.”\n",
      "Warning message:\n",
      "“\n",
      "18 (18.0%) p_waic estimates greater than 0.4. We recommend trying loo instead.”\n",
      "Warning message:\n",
      "“Accessing waic using '$' is deprecated and will be removed in a future release. Please extract the waic estimate from the 'estimates' component instead.”\n",
      "Warning message:\n",
      "“\n",
      "17 (17.0%) p_waic estimates greater than 0.4. We recommend trying loo instead.”\n",
      "Warning message:\n",
      "“Accessing waic using '$' is deprecated and will be removed in a future release. Please extract the waic estimate from the 'estimates' component instead.”\n",
      "Warning message:\n",
      "“\n",
      "18 (18.0%) p_waic estimates greater than 0.4. We recommend trying loo instead.”\n",
      "Warning message:\n",
      "“Accessing waic using '$' is deprecated and will be removed in a future release. Please extract the waic estimate from the 'estimates' component instead.”\n",
      "Warning message:\n",
      "“\n",
      "20 (20.0%) p_waic estimates greater than 0.4. We recommend trying loo instead.”\n",
      "Warning message:\n",
      "“Accessing waic using '$' is deprecated and will be removed in a future release. Please extract the waic estimate from the 'estimates' component instead.”\n",
      "Warning message:\n",
      "“\n",
      "17 (17.0%) p_waic estimates greater than 0.4. We recommend trying loo instead.”\n"
     ]
    },
    {
     "name": "stderr",
     "output_type": "stream",
     "text": [
      "Warning message:\n",
      "“Accessing waic using '$' is deprecated and will be removed in a future release. Please extract the waic estimate from the 'estimates' component instead.”\n",
      "Warning message:\n",
      "“\n",
      "18 (18.0%) p_waic estimates greater than 0.4. We recommend trying loo instead.”\n",
      "Warning message:\n",
      "“Accessing waic using '$' is deprecated and will be removed in a future release. Please extract the waic estimate from the 'estimates' component instead.”\n",
      "Warning message:\n",
      "“\n",
      "18 (18.0%) p_waic estimates greater than 0.4. We recommend trying loo instead.”\n",
      "Warning message:\n",
      "“Accessing waic using '$' is deprecated and will be removed in a future release. Please extract the waic estimate from the 'estimates' component instead.”\n",
      "Warning message:\n",
      "“\n",
      "20 (20.0%) p_waic estimates greater than 0.4. We recommend trying loo instead.”\n",
      "Warning message:\n",
      "“Accessing waic using '$' is deprecated and will be removed in a future release. Please extract the waic estimate from the 'estimates' component instead.”\n",
      "Warning message:\n",
      "“\n",
      "19 (19.0%) p_waic estimates greater than 0.4. We recommend trying loo instead.”\n",
      "Warning message:\n",
      "“Accessing waic using '$' is deprecated and will be removed in a future release. Please extract the waic estimate from the 'estimates' component instead.”\n",
      "Warning message:\n",
      "“\n",
      "19 (19.0%) p_waic estimates greater than 0.4. We recommend trying loo instead.”\n",
      "Warning message:\n",
      "“Accessing waic using '$' is deprecated and will be removed in a future release. Please extract the waic estimate from the 'estimates' component instead.”\n",
      "Warning message:\n",
      "“\n",
      "20 (20.0%) p_waic estimates greater than 0.4. We recommend trying loo instead.”\n",
      "Warning message:\n",
      "“Accessing waic using '$' is deprecated and will be removed in a future release. Please extract the waic estimate from the 'estimates' component instead.”\n",
      "Warning message:\n",
      "“\n",
      "19 (19.0%) p_waic estimates greater than 0.4. We recommend trying loo instead.”\n",
      "Warning message:\n",
      "“Accessing waic using '$' is deprecated and will be removed in a future release. Please extract the waic estimate from the 'estimates' component instead.”\n",
      "Warning message:\n",
      "“\n",
      "18 (18.0%) p_waic estimates greater than 0.4. We recommend trying loo instead.”\n",
      "Warning message:\n",
      "“Accessing waic using '$' is deprecated and will be removed in a future release. Please extract the waic estimate from the 'estimates' component instead.”\n",
      "Warning message:\n",
      "“\n",
      "20 (20.0%) p_waic estimates greater than 0.4. We recommend trying loo instead.”\n",
      "Warning message:\n",
      "“Accessing waic using '$' is deprecated and will be removed in a future release. Please extract the waic estimate from the 'estimates' component instead.”\n",
      "Warning message:\n",
      "“\n",
      "20 (20.0%) p_waic estimates greater than 0.4. We recommend trying loo instead.”\n",
      "Warning message:\n",
      "“Accessing waic using '$' is deprecated and will be removed in a future release. Please extract the waic estimate from the 'estimates' component instead.”\n",
      "Warning message:\n",
      "“\n",
      "20 (20.0%) p_waic estimates greater than 0.4. We recommend trying loo instead.”\n",
      "Warning message:\n",
      "“Accessing waic using '$' is deprecated and will be removed in a future release. Please extract the waic estimate from the 'estimates' component instead.”\n",
      "Warning message:\n",
      "“\n",
      "21 (21.0%) p_waic estimates greater than 0.4. We recommend trying loo instead.”\n",
      "Warning message:\n",
      "“Accessing waic using '$' is deprecated and will be removed in a future release. Please extract the waic estimate from the 'estimates' component instead.”\n",
      "Warning message:\n",
      "“\n",
      "21 (21.0%) p_waic estimates greater than 0.4. We recommend trying loo instead.”\n",
      "Warning message:\n",
      "“Accessing waic using '$' is deprecated and will be removed in a future release. Please extract the waic estimate from the 'estimates' component instead.”\n",
      "Warning message:\n",
      "“\n",
      "20 (20.0%) p_waic estimates greater than 0.4. We recommend trying loo instead.”\n",
      "Warning message:\n",
      "“Accessing waic using '$' is deprecated and will be removed in a future release. Please extract the waic estimate from the 'estimates' component instead.”\n",
      "Warning message:\n",
      "“\n",
      "18 (18.0%) p_waic estimates greater than 0.4. We recommend trying loo instead.”\n",
      "Warning message:\n",
      "“Accessing waic using '$' is deprecated and will be removed in a future release. Please extract the waic estimate from the 'estimates' component instead.”\n",
      "Warning message:\n",
      "“\n",
      "21 (21.0%) p_waic estimates greater than 0.4. We recommend trying loo instead.”\n",
      "Warning message:\n",
      "“Accessing waic using '$' is deprecated and will be removed in a future release. Please extract the waic estimate from the 'estimates' component instead.”\n",
      "Warning message:\n",
      "“\n",
      "21 (21.0%) p_waic estimates greater than 0.4. We recommend trying loo instead.”\n",
      "Warning message:\n",
      "“Accessing waic using '$' is deprecated and will be removed in a future release. Please extract the waic estimate from the 'estimates' component instead.”\n",
      "Warning message:\n",
      "“\n",
      "23 (23.0%) p_waic estimates greater than 0.4. We recommend trying loo instead.”\n",
      "Warning message:\n",
      "“Accessing waic using '$' is deprecated and will be removed in a future release. Please extract the waic estimate from the 'estimates' component instead.”\n",
      "Warning message:\n",
      "“\n",
      "23 (23.0%) p_waic estimates greater than 0.4. We recommend trying loo instead.”\n",
      "Warning message:\n",
      "“Accessing waic using '$' is deprecated and will be removed in a future release. Please extract the waic estimate from the 'estimates' component instead.”\n",
      "Warning message:\n",
      "“\n",
      "21 (21.0%) p_waic estimates greater than 0.4. We recommend trying loo instead.”\n",
      "Warning message:\n",
      "“Accessing waic using '$' is deprecated and will be removed in a future release. Please extract the waic estimate from the 'estimates' component instead.”\n",
      "Warning message:\n",
      "“\n",
      "23 (23.0%) p_waic estimates greater than 0.4. We recommend trying loo instead.”\n",
      "Warning message:\n",
      "“Accessing waic using '$' is deprecated and will be removed in a future release. Please extract the waic estimate from the 'estimates' component instead.”\n",
      "Warning message:\n",
      "“\n",
      "22 (22.0%) p_waic estimates greater than 0.4. We recommend trying loo instead.”\n",
      "Warning message:\n",
      "“Accessing waic using '$' is deprecated and will be removed in a future release. Please extract the waic estimate from the 'estimates' component instead.”\n",
      "Warning message:\n",
      "“\n",
      "23 (23.0%) p_waic estimates greater than 0.4. We recommend trying loo instead.”\n",
      "Warning message:\n",
      "“Accessing waic using '$' is deprecated and will be removed in a future release. Please extract the waic estimate from the 'estimates' component instead.”\n",
      "Warning message:\n",
      "“\n",
      "22 (22.0%) p_waic estimates greater than 0.4. We recommend trying loo instead.”\n",
      "Warning message:\n",
      "“Accessing waic using '$' is deprecated and will be removed in a future release. Please extract the waic estimate from the 'estimates' component instead.”\n",
      "Warning message:\n",
      "“\n",
      "22 (22.0%) p_waic estimates greater than 0.4. We recommend trying loo instead.”\n",
      "Warning message:\n",
      "“Accessing waic using '$' is deprecated and will be removed in a future release. Please extract the waic estimate from the 'estimates' component instead.”\n",
      "Warning message:\n",
      "“\n",
      "22 (22.0%) p_waic estimates greater than 0.4. We recommend trying loo instead.”\n",
      "Warning message:\n",
      "“Accessing waic using '$' is deprecated and will be removed in a future release. Please extract the waic estimate from the 'estimates' component instead.”\n",
      "Warning message:\n",
      "“\n",
      "22 (22.0%) p_waic estimates greater than 0.4. We recommend trying loo instead.”\n",
      "Warning message:\n",
      "“Accessing waic using '$' is deprecated and will be removed in a future release. Please extract the waic estimate from the 'estimates' component instead.”\n",
      "Warning message:\n",
      "“\n",
      "23 (23.0%) p_waic estimates greater than 0.4. We recommend trying loo instead.”\n",
      "Warning message:\n",
      "“Accessing waic using '$' is deprecated and will be removed in a future release. Please extract the waic estimate from the 'estimates' component instead.”\n",
      "Warning message:\n",
      "“\n",
      "24 (24.0%) p_waic estimates greater than 0.4. We recommend trying loo instead.”\n",
      "Warning message:\n",
      "“Accessing waic using '$' is deprecated and will be removed in a future release. Please extract the waic estimate from the 'estimates' component instead.”\n",
      "Warning message:\n",
      "“\n",
      "25 (25.0%) p_waic estimates greater than 0.4. We recommend trying loo instead.”\n",
      "Warning message:\n",
      "“Accessing waic using '$' is deprecated and will be removed in a future release. Please extract the waic estimate from the 'estimates' component instead.”\n"
     ]
    },
    {
     "name": "stderr",
     "output_type": "stream",
     "text": [
      "Warning message:\n",
      "“\n",
      "24 (24.0%) p_waic estimates greater than 0.4. We recommend trying loo instead.”\n",
      "Warning message:\n",
      "“Accessing waic using '$' is deprecated and will be removed in a future release. Please extract the waic estimate from the 'estimates' component instead.”\n",
      "Warning message:\n",
      "“\n",
      "24 (24.0%) p_waic estimates greater than 0.4. We recommend trying loo instead.”\n",
      "Warning message:\n",
      "“Accessing waic using '$' is deprecated and will be removed in a future release. Please extract the waic estimate from the 'estimates' component instead.”\n",
      "Warning message:\n",
      "“\n",
      "22 (22.0%) p_waic estimates greater than 0.4. We recommend trying loo instead.”\n",
      "Warning message:\n",
      "“Accessing waic using '$' is deprecated and will be removed in a future release. Please extract the waic estimate from the 'estimates' component instead.”\n",
      "Warning message:\n",
      "“\n",
      "24 (24.0%) p_waic estimates greater than 0.4. We recommend trying loo instead.”\n",
      "Warning message:\n",
      "“Accessing waic using '$' is deprecated and will be removed in a future release. Please extract the waic estimate from the 'estimates' component instead.”\n",
      "Warning message:\n",
      "“\n",
      "24 (24.0%) p_waic estimates greater than 0.4. We recommend trying loo instead.”\n",
      "Warning message:\n",
      "“Accessing waic using '$' is deprecated and will be removed in a future release. Please extract the waic estimate from the 'estimates' component instead.”\n",
      "Warning message:\n",
      "“\n",
      "24 (24.0%) p_waic estimates greater than 0.4. We recommend trying loo instead.”\n",
      "Warning message:\n",
      "“Accessing waic using '$' is deprecated and will be removed in a future release. Please extract the waic estimate from the 'estimates' component instead.”\n",
      "Warning message:\n",
      "“\n",
      "25 (25.0%) p_waic estimates greater than 0.4. We recommend trying loo instead.”\n",
      "Warning message:\n",
      "“Accessing waic using '$' is deprecated and will be removed in a future release. Please extract the waic estimate from the 'estimates' component instead.”\n",
      "Warning message:\n",
      "“\n",
      "24 (24.0%) p_waic estimates greater than 0.4. We recommend trying loo instead.”\n",
      "Warning message:\n",
      "“Accessing waic using '$' is deprecated and will be removed in a future release. Please extract the waic estimate from the 'estimates' component instead.”\n",
      "Warning message:\n",
      "“\n",
      "23 (23.0%) p_waic estimates greater than 0.4. We recommend trying loo instead.”\n",
      "Warning message:\n",
      "“Accessing waic using '$' is deprecated and will be removed in a future release. Please extract the waic estimate from the 'estimates' component instead.”\n",
      "Warning message:\n",
      "“\n",
      "24 (24.0%) p_waic estimates greater than 0.4. We recommend trying loo instead.”\n",
      "Warning message:\n",
      "“Accessing waic using '$' is deprecated and will be removed in a future release. Please extract the waic estimate from the 'estimates' component instead.”\n",
      "Warning message:\n",
      "“\n",
      "24 (24.0%) p_waic estimates greater than 0.4. We recommend trying loo instead.”\n",
      "Warning message:\n",
      "“Accessing waic using '$' is deprecated and will be removed in a future release. Please extract the waic estimate from the 'estimates' component instead.”\n",
      "Warning message:\n",
      "“\n",
      "24 (24.0%) p_waic estimates greater than 0.4. We recommend trying loo instead.”\n",
      "Warning message:\n",
      "“Accessing waic using '$' is deprecated and will be removed in a future release. Please extract the waic estimate from the 'estimates' component instead.”\n",
      "Warning message:\n",
      "“\n",
      "25 (25.0%) p_waic estimates greater than 0.4. We recommend trying loo instead.”\n",
      "Warning message:\n",
      "“Accessing waic using '$' is deprecated and will be removed in a future release. Please extract the waic estimate from the 'estimates' component instead.”\n",
      "Warning message:\n",
      "“\n",
      "24 (24.0%) p_waic estimates greater than 0.4. We recommend trying loo instead.”\n",
      "Warning message:\n",
      "“Accessing waic using '$' is deprecated and will be removed in a future release. Please extract the waic estimate from the 'estimates' component instead.”\n",
      "Warning message:\n",
      "“\n",
      "25 (25.0%) p_waic estimates greater than 0.4. We recommend trying loo instead.”\n",
      "Warning message:\n",
      "“Accessing waic using '$' is deprecated and will be removed in a future release. Please extract the waic estimate from the 'estimates' component instead.”\n",
      "Warning message:\n",
      "“\n",
      "26 (26.0%) p_waic estimates greater than 0.4. We recommend trying loo instead.”\n",
      "Warning message:\n",
      "“Accessing waic using '$' is deprecated and will be removed in a future release. Please extract the waic estimate from the 'estimates' component instead.”\n",
      "Warning message:\n",
      "“\n",
      "26 (26.0%) p_waic estimates greater than 0.4. We recommend trying loo instead.”\n",
      "Warning message:\n",
      "“Accessing waic using '$' is deprecated and will be removed in a future release. Please extract the waic estimate from the 'estimates' component instead.”\n",
      "Warning message:\n",
      "“\n",
      "25 (25.0%) p_waic estimates greater than 0.4. We recommend trying loo instead.”\n",
      "Warning message:\n",
      "“Accessing waic using '$' is deprecated and will be removed in a future release. Please extract the waic estimate from the 'estimates' component instead.”\n",
      "Warning message:\n",
      "“\n",
      "25 (25.0%) p_waic estimates greater than 0.4. We recommend trying loo instead.”\n",
      "Warning message:\n",
      "“Accessing waic using '$' is deprecated and will be removed in a future release. Please extract the waic estimate from the 'estimates' component instead.”\n",
      "Warning message:\n",
      "“\n",
      "27 (27.0%) p_waic estimates greater than 0.4. We recommend trying loo instead.”\n",
      "Warning message:\n",
      "“Accessing waic using '$' is deprecated and will be removed in a future release. Please extract the waic estimate from the 'estimates' component instead.”\n",
      "Warning message:\n",
      "“\n",
      "26 (26.0%) p_waic estimates greater than 0.4. We recommend trying loo instead.”\n",
      "Warning message:\n",
      "“Accessing waic using '$' is deprecated and will be removed in a future release. Please extract the waic estimate from the 'estimates' component instead.”\n",
      "Warning message:\n",
      "“\n",
      "27 (27.0%) p_waic estimates greater than 0.4. We recommend trying loo instead.”\n",
      "Warning message:\n",
      "“Accessing waic using '$' is deprecated and will be removed in a future release. Please extract the waic estimate from the 'estimates' component instead.”\n",
      "Warning message:\n",
      "“\n",
      "28 (28.0%) p_waic estimates greater than 0.4. We recommend trying loo instead.”\n",
      "Warning message:\n",
      "“Accessing waic using '$' is deprecated and will be removed in a future release. Please extract the waic estimate from the 'estimates' component instead.”\n"
     ]
    },
    {
     "name": "stdout",
     "output_type": "stream",
     "text": [
      " [1]  1  4  9  5  2  8 10  3 29 16 19 26 25\n"
     ]
    }
   ],
   "source": [
    "opt<-optimization(x.train, y.train, WAIC.model)"
   ]
  },
  {
   "cell_type": "code",
   "execution_count": 33,
   "metadata": {},
   "outputs": [
    {
     "data": {
      "text/html": [
       "12"
      ],
      "text/latex": [
       "12"
      ],
      "text/markdown": [
       "12"
      ],
      "text/plain": [
       "[1] 12"
      ]
     },
     "metadata": {},
     "output_type": "display_data"
    },
    {
     "data": {
      "text/html": [
       "288.842056248425"
      ],
      "text/latex": [
       "288.842056248425"
      ],
      "text/markdown": [
       "288.842056248425"
      ],
      "text/plain": [
       "[1] 288.8421"
      ]
     },
     "metadata": {},
     "output_type": "display_data"
    },
    {
     "data": {
      "text/html": [
       "<style>\n",
       ".list-inline {list-style: none; margin:0; padding: 0}\n",
       ".list-inline>li {display: inline-block}\n",
       ".list-inline>li:not(:last-child)::after {content: \"\\00b7\"; padding: 0 .5ex}\n",
       "</style>\n",
       "<ol class=list-inline><li>'(Intercept)'</li><li>'X3'</li><li>'X8'</li><li>'X4'</li><li>'X1'</li><li>'X7'</li><li>'X9'</li><li>'X2'</li><li>'X28'</li><li>'X15'</li><li>'X18'</li><li>'X25'</li><li>'X24'</li></ol>\n"
      ],
      "text/latex": [
       "\\begin{enumerate*}\n",
       "\\item '(Intercept)'\n",
       "\\item 'X3'\n",
       "\\item 'X8'\n",
       "\\item 'X4'\n",
       "\\item 'X1'\n",
       "\\item 'X7'\n",
       "\\item 'X9'\n",
       "\\item 'X2'\n",
       "\\item 'X28'\n",
       "\\item 'X15'\n",
       "\\item 'X18'\n",
       "\\item 'X25'\n",
       "\\item 'X24'\n",
       "\\end{enumerate*}\n"
      ],
      "text/markdown": [
       "1. '(Intercept)'\n",
       "2. 'X3'\n",
       "3. 'X8'\n",
       "4. 'X4'\n",
       "5. 'X1'\n",
       "6. 'X7'\n",
       "7. 'X9'\n",
       "8. 'X2'\n",
       "9. 'X28'\n",
       "10. 'X15'\n",
       "11. 'X18'\n",
       "12. 'X25'\n",
       "13. 'X24'\n",
       "\n",
       "\n"
      ],
      "text/plain": [
       " [1] \"(Intercept)\" \"X3\"          \"X8\"          \"X4\"          \"X1\"         \n",
       " [6] \"X7\"          \"X9\"          \"X2\"          \"X28\"         \"X15\"        \n",
       "[11] \"X18\"         \"X25\"         \"X24\"        "
      ]
     },
     "metadata": {},
     "output_type": "display_data"
    }
   ],
   "source": [
    "opt$num.vars\n",
    "opt$criteria\n",
    "colnames(opt$model)"
   ]
  },
  {
   "cell_type": "code",
   "execution_count": 34,
   "metadata": {},
   "outputs": [
    {
     "data": {
      "text/html": [
       "1.53725948692707"
      ],
      "text/latex": [
       "1.53725948692707"
      ],
      "text/markdown": [
       "1.53725948692707"
      ],
      "text/plain": [
       "[1] 1.537259"
      ]
     },
     "metadata": {},
     "output_type": "display_data"
    }
   ],
   "source": [
    "# Prepare test data\n",
    "vars<-c()\n",
    "for(name in colnames(opt$model)){\n",
    "    if(name != \"(Intercept)\"){\n",
    "        namevar<-substr(name, start = 2, stop = 3)\n",
    "        vars<-c(vars, namevar)\n",
    "    }\n",
    "    \n",
    "}\n",
    "vars<-as.numeric(vars)\n",
    "x.train.model<-x.train[,vars]\n",
    "x.test.model<-x.test[,vars]\n",
    "\n",
    "# Get performance\n",
    "linear.fit<-fit.linear.regression(x.train.model, y.train, alpha, beta, modelString.reg)\n",
    "omega.post<-linear.fit$omega.post\n",
    "sigma.post<-linear.fit$sigma.post\n",
    "\n",
    "performance<-MLPD(x.test.model, y.test, nt, sigma.post, omega.post)\n",
    "\n",
    "performance"
   ]
  },
  {
   "cell_type": "markdown",
   "metadata": {},
   "source": [
    "## Criterion 3: $L^2$ model approach <a name=\"L2reg\" ></a>\n",
    "\n",
    "The error measure can be decomposed as\n",
    "\n",
    "$$\n",
    "L^2=\\sum_{i=1}^n \\left(y_i-E[\\tilde{y}|x_i,D,M]\\right)^2 +\\sum_{i=1}^n\\text{VAR}[\\tilde{y}|x_i,D,M],\n",
    "$$\n",
    "\n",
    "that is, as a sum of the squared errors for mean predictions plus sum of the predictive variances. The preferred model os the one that minimizes this expression."
   ]
  },
  {
   "cell_type": "markdown",
   "metadata": {},
   "source": [
    "### With Stan"
   ]
  },
  {
   "cell_type": "code",
   "execution_count": 66,
   "metadata": {},
   "outputs": [
    {
     "data": {
      "text/html": [
       "150.894597195202"
      ],
      "text/latex": [
       "150.894597195202"
      ],
      "text/markdown": [
       "150.894597195202"
      ],
      "text/plain": [
       "[1] 150.8946"
      ]
     },
     "metadata": {},
     "output_type": "display_data"
    }
   ],
   "source": [
    "library(caret)\n",
    "\n",
    "L2.model<-function(x.train, y.train){\n",
    "    L2<-0\n",
    "    linear.fit<-fit.linear.regression(x.train, y.train, alpha, beta, modelString.reg)\n",
    "    omega.post<-linear.fit$omega.post\n",
    "    sigma.post<-linear.fit$sigma.post    \n",
    "    for(i in 1:n){\n",
    "        y<-get.y.distr.reg(as.matrix(x.train[i,]), omega.post, sigma.post)\n",
    "        expectation<-mean(y)\n",
    "        variance<-var(y)\n",
    "        term<-(y.train[i]-expectation)^2+variance\n",
    "        if(!is.na(term)){\n",
    "            L2<-L2+term\n",
    "        }\n",
    "    }\n",
    "    return(L2)\n",
    "}\n",
    "\n",
    "L2<-L2.model(x.train, y.train)\n",
    "\n",
    "L2"
   ]
  },
  {
   "cell_type": "code",
   "execution_count": 67,
   "metadata": {},
   "outputs": [
    {
     "name": "stdout",
     "output_type": "stream",
     "text": [
      "[1] \"Starting optimization\"\n",
      " [1]  1  4  6  8  5 13  3 27 10 15  2 30 22 20 31 24 11\n"
     ]
    }
   ],
   "source": [
    "opt<-optimization(x.train, y.train, L2.model)"
   ]
  },
  {
   "cell_type": "code",
   "execution_count": 68,
   "metadata": {},
   "outputs": [
    {
     "data": {
      "text/html": [
       "16"
      ],
      "text/latex": [
       "16"
      ],
      "text/markdown": [
       "16"
      ],
      "text/plain": [
       "[1] 16"
      ]
     },
     "metadata": {},
     "output_type": "display_data"
    },
    {
     "data": {
      "text/html": [
       "141.850491965549"
      ],
      "text/latex": [
       "141.850491965549"
      ],
      "text/markdown": [
       "141.850491965549"
      ],
      "text/plain": [
       "[1] 141.8505"
      ]
     },
     "metadata": {},
     "output_type": "display_data"
    },
    {
     "data": {
      "text/html": [
       "<style>\n",
       ".list-inline {list-style: none; margin:0; padding: 0}\n",
       ".list-inline>li {display: inline-block}\n",
       ".list-inline>li:not(:last-child)::after {content: \"\\00b7\"; padding: 0 .5ex}\n",
       "</style>\n",
       "<ol class=list-inline><li>'(Intercept)'</li><li>'X3'</li><li>'X5'</li><li>'X7'</li><li>'X4'</li><li>'X12'</li><li>'X2'</li><li>'X26'</li><li>'X9'</li><li>'X14'</li><li>'X1'</li><li>'X29'</li><li>'X21'</li><li>'X19'</li><li>'X30'</li><li>'X23'</li><li>'X10'</li></ol>\n"
      ],
      "text/latex": [
       "\\begin{enumerate*}\n",
       "\\item '(Intercept)'\n",
       "\\item 'X3'\n",
       "\\item 'X5'\n",
       "\\item 'X7'\n",
       "\\item 'X4'\n",
       "\\item 'X12'\n",
       "\\item 'X2'\n",
       "\\item 'X26'\n",
       "\\item 'X9'\n",
       "\\item 'X14'\n",
       "\\item 'X1'\n",
       "\\item 'X29'\n",
       "\\item 'X21'\n",
       "\\item 'X19'\n",
       "\\item 'X30'\n",
       "\\item 'X23'\n",
       "\\item 'X10'\n",
       "\\end{enumerate*}\n"
      ],
      "text/markdown": [
       "1. '(Intercept)'\n",
       "2. 'X3'\n",
       "3. 'X5'\n",
       "4. 'X7'\n",
       "5. 'X4'\n",
       "6. 'X12'\n",
       "7. 'X2'\n",
       "8. 'X26'\n",
       "9. 'X9'\n",
       "10. 'X14'\n",
       "11. 'X1'\n",
       "12. 'X29'\n",
       "13. 'X21'\n",
       "14. 'X19'\n",
       "15. 'X30'\n",
       "16. 'X23'\n",
       "17. 'X10'\n",
       "\n",
       "\n"
      ],
      "text/plain": [
       " [1] \"(Intercept)\" \"X3\"          \"X5\"          \"X7\"          \"X4\"         \n",
       " [6] \"X12\"         \"X2\"          \"X26\"         \"X9\"          \"X14\"        \n",
       "[11] \"X1\"          \"X29\"         \"X21\"         \"X19\"         \"X30\"        \n",
       "[16] \"X23\"         \"X10\"        "
      ]
     },
     "metadata": {},
     "output_type": "display_data"
    }
   ],
   "source": [
    "opt$num.vars\n",
    "opt$criteria\n",
    "colnames(opt$model)"
   ]
  },
  {
   "cell_type": "code",
   "execution_count": 71,
   "metadata": {},
   "outputs": [
    {
     "data": {
      "text/html": [
       "1.55659920280946"
      ],
      "text/latex": [
       "1.55659920280946"
      ],
      "text/markdown": [
       "1.55659920280946"
      ],
      "text/plain": [
       "[1] 1.556599"
      ]
     },
     "metadata": {},
     "output_type": "display_data"
    }
   ],
   "source": [
    "# Prepare test data\n",
    "vars<-c()\n",
    "for(name in colnames(opt$model)){\n",
    "    if(name != \"(Intercept)\"){\n",
    "        namevar<-substr(name, start = 2, stop = 3)\n",
    "        vars<-c(vars, namevar)\n",
    "    }\n",
    "    \n",
    "}\n",
    "vars<-as.numeric(vars)\n",
    "x.train.model<-x.train[,vars]\n",
    "x.test.model<-x.test[,vars]\n",
    "\n",
    "# Get performance\n",
    "linear.fit<-fit.linear.regression(x.train.model, y.train, alpha, beta, modelString.reg)\n",
    "omega.post<-linear.fit$omega.post\n",
    "sigma.post<-linear.fit$sigma.post\n",
    "\n",
    "performance<-MLPD(x.test.model, y.test, nt, sigma.post, omega.post)\n",
    "\n",
    "performance"
   ]
  },
  {
   "cell_type": "markdown",
   "metadata": {},
   "source": [
    "### Analytically"
   ]
  },
  {
   "cell_type": "code",
   "execution_count": 97,
   "metadata": {},
   "outputs": [
    {
     "data": {
      "text/html": [
       "149.494109901496"
      ],
      "text/latex": [
       "149.494109901496"
      ],
      "text/markdown": [
       "149.494109901496"
      ],
      "text/plain": [
       "[1] 149.4941"
      ]
     },
     "metadata": {},
     "output_type": "display_data"
    }
   ],
   "source": [
    "library(caret)\n",
    "\n",
    "L2.model.anal<-function(x.train, y.train, extended=TRUE){\n",
    "    L2<-0\n",
    "    linear.fit<-fit.reg.analytical(x.train, y.train, alpha, beta, extended=extended)\n",
    "    for(i in 1:n){\n",
    "        y<-get.y.distr.reg.anal(as.matrix(x.train[i,]), linear.fit$V.s, linear.fit$mu.s,\n",
    "                                linear.fit$alpha.s, linear.fit$beta.s, extended = extended)\n",
    "        expectation<-mean(y)\n",
    "        variance<-var(y)\n",
    "        term<-(y.train[i]-expectation)^2+variance\n",
    "        if(!is.na(term)){\n",
    "            L2<-L2+term\n",
    "        }\n",
    "    }\n",
    "    return(L2[1])\n",
    "}\n",
    "\n",
    "L2<-L2.model.anal(x.train, y.train, extended=FALSE)\n",
    "\n",
    "L2"
   ]
  },
  {
   "cell_type": "code",
   "execution_count": 99,
   "metadata": {},
   "outputs": [
    {
     "name": "stdout",
     "output_type": "stream",
     "text": [
      "[1] \"Starting optimization\"\n",
      " [1]  1  4  6  8  5 13  3 30 10 15 20 27  2 31 22 24 11 29\n"
     ]
    }
   ],
   "source": [
    "opt<-optimization(x.train, y.train, L2.model.anal)"
   ]
  },
  {
   "cell_type": "code",
   "execution_count": 100,
   "metadata": {},
   "outputs": [
    {
     "data": {
      "text/html": [
       "17"
      ],
      "text/latex": [
       "17"
      ],
      "text/markdown": [
       "17"
      ],
      "text/plain": [
       "[1] 17"
      ]
     },
     "metadata": {},
     "output_type": "display_data"
    },
    {
     "data": {
      "text/html": [
       "142.92166528661"
      ],
      "text/latex": [
       "142.92166528661"
      ],
      "text/markdown": [
       "142.92166528661"
      ],
      "text/plain": [
       "[1] 142.9217"
      ]
     },
     "metadata": {},
     "output_type": "display_data"
    },
    {
     "data": {
      "text/html": [
       "<style>\n",
       ".list-inline {list-style: none; margin:0; padding: 0}\n",
       ".list-inline>li {display: inline-block}\n",
       ".list-inline>li:not(:last-child)::after {content: \"\\00b7\"; padding: 0 .5ex}\n",
       "</style>\n",
       "<ol class=list-inline><li>'(Intercept)'</li><li>'X3'</li><li>'X5'</li><li>'X7'</li><li>'X4'</li><li>'X12'</li><li>'X2'</li><li>'X29'</li><li>'X9'</li><li>'X14'</li><li>'X19'</li><li>'X26'</li><li>'X1'</li><li>'X30'</li><li>'X21'</li><li>'X23'</li><li>'X10'</li><li>'X28'</li></ol>\n"
      ],
      "text/latex": [
       "\\begin{enumerate*}\n",
       "\\item '(Intercept)'\n",
       "\\item 'X3'\n",
       "\\item 'X5'\n",
       "\\item 'X7'\n",
       "\\item 'X4'\n",
       "\\item 'X12'\n",
       "\\item 'X2'\n",
       "\\item 'X29'\n",
       "\\item 'X9'\n",
       "\\item 'X14'\n",
       "\\item 'X19'\n",
       "\\item 'X26'\n",
       "\\item 'X1'\n",
       "\\item 'X30'\n",
       "\\item 'X21'\n",
       "\\item 'X23'\n",
       "\\item 'X10'\n",
       "\\item 'X28'\n",
       "\\end{enumerate*}\n"
      ],
      "text/markdown": [
       "1. '(Intercept)'\n",
       "2. 'X3'\n",
       "3. 'X5'\n",
       "4. 'X7'\n",
       "5. 'X4'\n",
       "6. 'X12'\n",
       "7. 'X2'\n",
       "8. 'X29'\n",
       "9. 'X9'\n",
       "10. 'X14'\n",
       "11. 'X19'\n",
       "12. 'X26'\n",
       "13. 'X1'\n",
       "14. 'X30'\n",
       "15. 'X21'\n",
       "16. 'X23'\n",
       "17. 'X10'\n",
       "18. 'X28'\n",
       "\n",
       "\n"
      ],
      "text/plain": [
       " [1] \"(Intercept)\" \"X3\"          \"X5\"          \"X7\"          \"X4\"         \n",
       " [6] \"X12\"         \"X2\"          \"X29\"         \"X9\"          \"X14\"        \n",
       "[11] \"X19\"         \"X26\"         \"X1\"          \"X30\"         \"X21\"        \n",
       "[16] \"X23\"         \"X10\"         \"X28\"        "
      ]
     },
     "metadata": {},
     "output_type": "display_data"
    }
   ],
   "source": [
    "opt$num.vars\n",
    "opt$criteria\n",
    "colnames(opt$model)"
   ]
  },
  {
   "cell_type": "code",
   "execution_count": 103,
   "metadata": {},
   "outputs": [
    {
     "data": {
      "text/html": [
       "1.54807472301165"
      ],
      "text/latex": [
       "1.54807472301165"
      ],
      "text/markdown": [
       "1.54807472301165"
      ],
      "text/plain": [
       "[1] 1.548075"
      ]
     },
     "metadata": {},
     "output_type": "display_data"
    }
   ],
   "source": [
    "# Prepare test data\n",
    "vars<-c()\n",
    "for(name in colnames(opt$model)){\n",
    "    if(name != \"(Intercept)\"){\n",
    "        namevar<-substr(name, start = 2, stop = 3)\n",
    "        vars<-c(vars, namevar)\n",
    "    }\n",
    "    \n",
    "}\n",
    "vars<-as.numeric(vars)\n",
    "x.train.model<-x.train[,vars]\n",
    "x.test.model<-x.test[,vars]\n",
    "\n",
    "# Get performance\n",
    "fit<-fit.reg.analytical(x.train.model, y.train, alpha, beta)\n",
    "\n",
    "performance<-MLPD.anal(x.test.model, y.test, nt, fit$V.s, fit$mu.s, fit$alpha.s, fit$beta.s)\n",
    "\n",
    "performance"
   ]
  },
  {
   "cell_type": "markdown",
   "metadata": {},
   "source": [
    "## Criterion 4: Reference model approach <a name=\"refReg\" ></a>\n",
    "\n",
    "The idea of the reference model criteria is to construct a full encompassing reference model $M^∗$, which is believed to best describe our knowledge about the future observations, and perform the utility estimation almost as if it was the true data generating distribution.\n",
    "\n",
    "Assuming we have constructed a reference model $M^∗$ which we believe best describes our knowledge about the future observations, the utilities of the candidate models $M$ can be estimated by replacing the true distribution $p_t(\\tilde{y})$  by the predictive distribution of the reference model $p(\\tilde{y} | D, M^∗)$. The maximization of the reference utility is equivalent to minimizing the predictive KL-divergence between the reference model $M^∗$ and the candidate model M at the training inputs:\n",
    "\n",
    "$$\n",
    "\\delta(M||M^*) = \\frac{1}{n}\\sum_{i=1}^n KL(p(\\tilde{y_i} | x_i, D, M^∗)||p(\\tilde{y_i} | x_i, D, M))\n",
    "$$\n",
    "\n",
    "The model choice can then be based on the strict minimization of the discrepancy measure, or choosing the simplest model that has an acceptable discrepancy.\n",
    "\n",
    "The reference predictive approach is inherently a less straightforward approach to model selection than the cross-validation criteria , because it requires the construction of the reference model and it is not obvious how it should be done.  Bayesian model average (BMA) has been commonly proposed as the reference model. In the variable selection context, the model averaging corresponds to a spike-and-slab type prior which is often considered as the “gold standard” and has been extensively used for linear models. The BMA approach is the following:\n",
    "\n",
    "$$\n",
    "p(\\tilde{y}|D) = \\sum_{l=1}^L p(\\tilde{y}|D, M_l) p(M_l|D)\n",
    "$$\n",
    "\n",
    "where $p(\\tilde{y}|D, M_l)$ is the posterior predictive distribution of a fitted model $M_l$ and $p(M_l|D)$ is the prior probability of the certain model $M_l$. \n",
    "\n",
    "The package BMS implements the Bayesian Model Average (BMS). We will use this package to generate the reference model.\n",
    "\n"
   ]
  },
  {
   "cell_type": "markdown",
   "metadata": {},
   "source": [
    "### Bayesian model average (BMA)"
   ]
  },
  {
   "cell_type": "code",
   "execution_count": 188,
   "metadata": {},
   "outputs": [
    {
     "name": "stderr",
     "output_type": "stream",
     "text": [
      "Loading required package: BMS\n",
      "\n"
     ]
    }
   ],
   "source": [
    "require(\"BMS\")\n",
    "\n",
    "D <- data.frame(y.train, x.train)\n",
    "bma<-bms(D, mprior = \"random\", burn = 20000, iter = 50000, user.int = FALSE)"
   ]
  },
  {
   "cell_type": "markdown",
   "metadata": {},
   "source": [
    "Here we can see the statistics of the average model. The PIP quantity indicates the proportion of the models where a certain variable has been used. Variables with high PIP are believed to have hihger importance."
   ]
  },
  {
   "cell_type": "code",
   "execution_count": 189,
   "metadata": {},
   "outputs": [
    {
     "data": {
      "text/plain": [
       "        PIP    Post Mean    Post SD Cond.Pos.Sign Idx\n",
       "X4  0.94816  0.592190011 0.21968565    1.00000000   4\n",
       "X1  0.73258  0.435872739 0.30889318    1.00000000   1\n",
       "X15 0.68272  0.320471312 0.25023250    1.00000000  15\n",
       "X10 0.64808  0.277229825 0.23395556    1.00000000  10\n",
       "X3  0.61206  0.272837266 0.25162061    1.00000000   3\n",
       "X2  0.47104  0.226470542 0.27422147    1.00000000   2\n",
       "X27 0.34638  0.103007077 0.16005459    1.00000000  27\n",
       "X6  0.29652  0.109225513 0.19108309    1.00000000   6\n",
       "X9  0.24826  0.092421700 0.18329052    1.00000000   9\n",
       "X5  0.17348  0.062861460 0.16013769    1.00000000   5\n",
       "X13 0.14800  0.040116280 0.11459366    1.00000000  13\n",
       "X11 0.13960  0.035678314 0.10683060    0.99914040  11\n",
       "X7  0.12348  0.032055541 0.10285198    1.00000000   7\n",
       "X17 0.09354  0.017925404 0.06923939    1.00000000  17\n",
       "X8  0.09234  0.021169751 0.08377497    0.99545159   8\n",
       "X21 0.08708  0.016210023 0.06636445    1.00000000  21\n",
       "X14 0.06556 -0.010955956 0.05807752    0.04758999  14\n",
       "X24 0.06368  0.008543650 0.04689285    0.99591709  24\n",
       "X22 0.05584 -0.007231874 0.04484186    0.00967049  22\n",
       "X12 0.05578  0.009391285 0.05061786    1.00000000  12\n",
       "X25 0.05198  0.006057727 0.03815768    0.98499423  25\n",
       "X20 0.04880 -0.004251076 0.03740561    0.11024590  20\n",
       "X29 0.04820  0.001947630 0.03644920    0.64315353  29\n",
       "X30 0.04760  0.001149887 0.04122324    0.50420168  30\n",
       "X26 0.04680  0.004918900 0.04022008    0.78119658  26\n",
       "X23 0.04410  0.004435736 0.03493471    0.97324263  23\n",
       "X16 0.04220 -0.001375700 0.03177685    0.31990521  16\n",
       "X18 0.04074 -0.001860082 0.03008719    0.18360334  18\n",
       "X28 0.03570  0.002879398 0.03332165    0.73501401  28\n",
       "X19 0.03414  0.001328662 0.02906958    0.69830111  19\n",
       "\n",
       "Mean no. regressors               Draws             Burnins                Time \n",
       "           \"6.5244\"             \"50000\"             \"20000\"     \"3.952392 secs\" \n",
       " No. models visited      Modelspace 2^K           % visited         % Topmodels \n",
       "            \"14590\"           \"1.1e+09\"            \"0.0014\"                \"45\" \n",
       "           Corr PMP            No. Obs.         Model Prior             g-Prior \n",
       "           \"0.9802\"               \"100\"       \"random / 15\"               \"UIP\" \n",
       "    Shrinkage-Stats \n",
       "        \"Av=0.9901\" \n"
      ]
     },
     "metadata": {},
     "output_type": "display_data"
    }
   ],
   "source": [
    "bma"
   ]
  },
  {
   "cell_type": "markdown",
   "metadata": {},
   "source": [
    "This package also allows to give the posterior predictive density of $\\tilde{y}|x$, where $x$ is a new observation, and $\\tilde{y}$ is the point (or list of points) where we want to evaluate the density. \n",
    "\n",
    "We can also visualize the density of the prediction."
   ]
  },
  {
   "cell_type": "code",
   "execution_count": 190,
   "metadata": {},
   "outputs": [],
   "source": [
    "D.test <- matrix(x.test[1,], nrow=1)\n",
    "pdens <- pred.density(bma, newdata = D.test)"
   ]
  },
  {
   "cell_type": "code",
   "execution_count": 191,
   "metadata": {},
   "outputs": [
    {
     "data": {
      "text/html": [
       "<table>\n",
       "<caption>A matrix: 1 × 701 of type dbl</caption>\n",
       "<tbody>\n",
       "\t<tr><td>0.3084939</td><td>0.3088688</td><td>0.3092248</td><td>0.3095619</td><td>0.30988</td><td>0.3101792</td><td>0.3104592</td><td>0.3107201</td><td>0.3109619</td><td>0.3111843</td><td>⋯</td><td>2.025989e-06</td><td>1.967395e-06</td><td>1.910463e-06</td><td>1.855147e-06</td><td>1.801402e-06</td><td>1.749183e-06</td><td>1.69845e-06</td><td>1.649159e-06</td><td>1.601272e-06</td><td>1.554749e-06</td></tr>\n",
       "</tbody>\n",
       "</table>\n"
      ],
      "text/latex": [
       "A matrix: 1 × 701 of type dbl\n",
       "\\begin{tabular}{lllllllllllllllllllll}\n",
       "\t 0.3084939 & 0.3088688 & 0.3092248 & 0.3095619 & 0.30988 & 0.3101792 & 0.3104592 & 0.3107201 & 0.3109619 & 0.3111843 & ⋯ & 2.025989e-06 & 1.967395e-06 & 1.910463e-06 & 1.855147e-06 & 1.801402e-06 & 1.749183e-06 & 1.69845e-06 & 1.649159e-06 & 1.601272e-06 & 1.554749e-06\\\\\n",
       "\\end{tabular}\n"
      ],
      "text/markdown": [
       "\n",
       "A matrix: 1 × 701 of type dbl\n",
       "\n",
       "| 0.3084939 | 0.3088688 | 0.3092248 | 0.3095619 | 0.30988 | 0.3101792 | 0.3104592 | 0.3107201 | 0.3109619 | 0.3111843 | ⋯ | 2.025989e-06 | 1.967395e-06 | 1.910463e-06 | 1.855147e-06 | 1.801402e-06 | 1.749183e-06 | 1.69845e-06 | 1.649159e-06 | 1.601272e-06 | 1.554749e-06 |\n",
       "\n"
      ],
      "text/plain": [
       "     [,1]      [,2]      [,3]      [,4]      [,5]    [,6]      [,7]     \n",
       "[1,] 0.3084939 0.3088688 0.3092248 0.3095619 0.30988 0.3101792 0.3104592\n",
       "     [,8]      [,9]      [,10]     [,11] [,12]        [,13]        [,14]       \n",
       "[1,] 0.3107201 0.3109619 0.3111843 ⋯     2.025989e-06 1.967395e-06 1.910463e-06\n",
       "     [,15]        [,16]        [,17]        [,18]       [,19]       \n",
       "[1,] 1.855147e-06 1.801402e-06 1.749183e-06 1.69845e-06 1.649159e-06\n",
       "     [,20]        [,21]       \n",
       "[1,] 1.601272e-06 1.554749e-06"
      ]
     },
     "metadata": {},
     "output_type": "display_data"
    },
    {
     "data": {
      "image/png": "[encoded data removed]",
      "text/plain": [
       "Plot with title “Predictive Density (500 Models)”"
      ]
     },
     "metadata": {
      "image/png": {
       "height": 420,
       "width": 420
      },
      "text/plain": {
       "height": 420,
       "width": 420
      }
     },
     "output_type": "display_data"
    }
   ],
   "source": [
    "plot(pdens,1)\n",
    "probs<-seq(-2,5,0.01)\n",
    "pdens$dyf(probs)"
   ]
  },
  {
   "cell_type": "markdown",
   "metadata": {},
   "source": [
    "Finally, the package also provides the mean log predictive density (MLPD)."
   ]
  },
  {
   "cell_type": "code",
   "execution_count": 192,
   "metadata": {},
   "outputs": [
    {
     "data": {
      "text/html": [
       "1.54671256694288"
      ],
      "text/latex": [
       "1.54671256694288"
      ],
      "text/markdown": [
       "1.54671256694288"
      ],
      "text/plain": [
       "[1] 1.546713"
      ]
     },
     "metadata": {},
     "output_type": "display_data"
    }
   ],
   "source": [
    "pdens <- pred.density(bma, newdata = x.test)\n",
    "\n",
    "lps.bma(pdens,matrix(y.test, ncol=1))"
   ]
  },
  {
   "cell_type": "markdown",
   "metadata": {},
   "source": [
    "### Reference model approach\n",
    "\n",
    "#### Analytical"
   ]
  },
  {
   "cell_type": "code",
   "execution_count": 193,
   "metadata": {},
   "outputs": [
    {
     "data": {
      "text/html": [
       "0.1489668433942"
      ],
      "text/latex": [
       "0.1489668433942"
      ],
      "text/markdown": [
       "0.1489668433942"
      ],
      "text/plain": [
       "[1] 0.1489668"
      ]
     },
     "metadata": {},
     "output_type": "display_data"
    }
   ],
   "source": [
    "reference.model.anal<-function(x.train, y.train, original.x=x.train.data, reference.model = bma, extended = TRUE){  \n",
    "    fit<-fit.reg.analytical(x.train, y.train, alpha, beta, extended=extended)\n",
    "    seq.y<-seq(-5,5,0.1)\n",
    "    KL<-0\n",
    "    n<-dim(x.train)[1]\n",
    "    for(i in 1:dim(x.train)[1]){ \n",
    "        # Reference density\n",
    "        D.train <- matrix(original.x[i,], nrow=1)\n",
    "        pdens <- pred.density(reference.model, newdata = D.train)\n",
    "        p.reference<-pdens$dyf(seq.y)\n",
    "        # Target density\n",
    "        p.target<-get.prob.y.reg.anal(matrix(x.train[i,]), fit$V.s, \n",
    "                                       fit$mu.s, fit$alpha.s, fit$beta.s, \n",
    "                                       seq.y, extended = extended)\n",
    "        # Remove NAN\n",
    "        idx<-!is.na(p.target) & !is.na(p.reference)\n",
    "        p.reference<-matrix(p.reference[idx])\n",
    "        p.target<-matrix(p.target[idx])\n",
    "        # KL divergence\n",
    "        KL.new<-KLD(p.reference, p.target)$sum.KLD.px.py\n",
    "        KL<-KL+KL.new\n",
    "    }    \n",
    "    return(KL/n) \n",
    "}\n",
    "\n",
    "x.train.data<-x.train\n",
    "KL<-reference.model.anal(x.train, y.train, reference.model = bma, extended = TRUE)\n",
    "KL"
   ]
  },
  {
   "cell_type": "code",
   "execution_count": 207,
   "metadata": {},
   "outputs": [
    {
     "name": "stdout",
     "output_type": "stream",
     "text": [
      "[1] \"Starting optimization\"\n",
      "[1]  1  2  4  5 11 16 20 19 31\n"
     ]
    }
   ],
   "source": [
    "opt<-optimization(x.train, y.train, reference.model.anal)"
   ]
  },
  {
   "cell_type": "code",
   "execution_count": 208,
   "metadata": {},
   "outputs": [
    {
     "data": {
      "text/html": [
       "8"
      ],
      "text/latex": [
       "8"
      ],
      "text/markdown": [
       "8"
      ],
      "text/plain": [
       "[1] 8"
      ]
     },
     "metadata": {},
     "output_type": "display_data"
    },
    {
     "data": {
      "text/html": [
       "0.0223885198096581"
      ],
      "text/latex": [
       "0.0223885198096581"
      ],
      "text/markdown": [
       "0.0223885198096581"
      ],
      "text/plain": [
       "[1] 0.02238852"
      ]
     },
     "metadata": {},
     "output_type": "display_data"
    },
    {
     "data": {
      "text/html": [
       "<style>\n",
       ".list-inline {list-style: none; margin:0; padding: 0}\n",
       ".list-inline>li {display: inline-block}\n",
       ".list-inline>li:not(:last-child)::after {content: \"\\00b7\"; padding: 0 .5ex}\n",
       "</style>\n",
       "<ol class=list-inline><li>'(Intercept)'</li><li>'X1'</li><li>'X3'</li><li>'X4'</li><li>'X10'</li><li>'X15'</li><li>'X19'</li><li>'X18'</li><li>'X30'</li></ol>\n"
      ],
      "text/latex": [
       "\\begin{enumerate*}\n",
       "\\item '(Intercept)'\n",
       "\\item 'X1'\n",
       "\\item 'X3'\n",
       "\\item 'X4'\n",
       "\\item 'X10'\n",
       "\\item 'X15'\n",
       "\\item 'X19'\n",
       "\\item 'X18'\n",
       "\\item 'X30'\n",
       "\\end{enumerate*}\n"
      ],
      "text/markdown": [
       "1. '(Intercept)'\n",
       "2. 'X1'\n",
       "3. 'X3'\n",
       "4. 'X4'\n",
       "5. 'X10'\n",
       "6. 'X15'\n",
       "7. 'X19'\n",
       "8. 'X18'\n",
       "9. 'X30'\n",
       "\n",
       "\n"
      ],
      "text/plain": [
       "[1] \"(Intercept)\" \"X1\"          \"X3\"          \"X4\"          \"X10\"        \n",
       "[6] \"X15\"         \"X19\"         \"X18\"         \"X30\"        "
      ]
     },
     "metadata": {},
     "output_type": "display_data"
    }
   ],
   "source": [
    "opt$num.vars\n",
    "opt$criteria\n",
    "colnames(opt$model)"
   ]
  },
  {
   "cell_type": "code",
   "execution_count": 211,
   "metadata": {},
   "outputs": [
    {
     "data": {
      "text/html": [
       "<style>\n",
       ".list-inline {list-style: none; margin:0; padding: 0}\n",
       ".list-inline>li {display: inline-block}\n",
       ".list-inline>li:not(:last-child)::after {content: \"\\00b7\"; padding: 0 .5ex}\n",
       "</style>\n",
       "<ol class=list-inline><li>0.374158409797223</li><li>0.203444324664962</li><li>0.139275818805582</li><li>0.106457953828938</li><li>0.0694676426905597</li><li>0.0231590939668603</li><li>0.0233175938159972</li><li>0.0232316699996329</li><li>0.0227609861595495</li><li>0.0228801505195239</li><li>0.0227861955125641</li><li>0.0228732973356388</li><li>0.0226493279414185</li><li>0.0246736193227794</li><li>0.0253170304080636</li><li>0.0267141433577846</li><li>0.0289913454062145</li><li>0.0314778694804044</li><li>0.0345172000497331</li><li>0.0348865644360791</li><li>0.0361804579236353</li><li>0.0379811323866057</li><li>0.0439846283564352</li><li>0.0566467469028311</li><li>0.0597484706244822</li><li>0.0666945361942734</li><li>0.0728317490166358</li><li>0.0894377863787204</li><li>0.110244926198828</li><li>0.119622909510068</li></ol>\n"
      ],
      "text/latex": [
       "\\begin{enumerate*}\n",
       "\\item 0.374158409797223\n",
       "\\item 0.203444324664962\n",
       "\\item 0.139275818805582\n",
       "\\item 0.106457953828938\n",
       "\\item 0.0694676426905597\n",
       "\\item 0.0231590939668603\n",
       "\\item 0.0233175938159972\n",
       "\\item 0.0232316699996329\n",
       "\\item 0.0227609861595495\n",
       "\\item 0.0228801505195239\n",
       "\\item 0.0227861955125641\n",
       "\\item 0.0228732973356388\n",
       "\\item 0.0226493279414185\n",
       "\\item 0.0246736193227794\n",
       "\\item 0.0253170304080636\n",
       "\\item 0.0267141433577846\n",
       "\\item 0.0289913454062145\n",
       "\\item 0.0314778694804044\n",
       "\\item 0.0345172000497331\n",
       "\\item 0.0348865644360791\n",
       "\\item 0.0361804579236353\n",
       "\\item 0.0379811323866057\n",
       "\\item 0.0439846283564352\n",
       "\\item 0.0566467469028311\n",
       "\\item 0.0597484706244822\n",
       "\\item 0.0666945361942734\n",
       "\\item 0.0728317490166358\n",
       "\\item 0.0894377863787204\n",
       "\\item 0.110244926198828\n",
       "\\item 0.119622909510068\n",
       "\\end{enumerate*}\n"
      ],
      "text/markdown": [
       "1. 0.374158409797223\n",
       "2. 0.203444324664962\n",
       "3. 0.139275818805582\n",
       "4. 0.106457953828938\n",
       "5. 0.0694676426905597\n",
       "6. 0.0231590939668603\n",
       "7. 0.0233175938159972\n",
       "8. 0.0232316699996329\n",
       "9. 0.0227609861595495\n",
       "10. 0.0228801505195239\n",
       "11. 0.0227861955125641\n",
       "12. 0.0228732973356388\n",
       "13. 0.0226493279414185\n",
       "14. 0.0246736193227794\n",
       "15. 0.0253170304080636\n",
       "16. 0.0267141433577846\n",
       "17. 0.0289913454062145\n",
       "18. 0.0314778694804044\n",
       "19. 0.0345172000497331\n",
       "20. 0.0348865644360791\n",
       "21. 0.0361804579236353\n",
       "22. 0.0379811323866057\n",
       "23. 0.0439846283564352\n",
       "24. 0.0566467469028311\n",
       "25. 0.0597484706244822\n",
       "26. 0.0666945361942734\n",
       "27. 0.0728317490166358\n",
       "28. 0.0894377863787204\n",
       "29. 0.110244926198828\n",
       "30. 0.119622909510068\n",
       "\n",
       "\n"
      ],
      "text/plain": [
       " [1] 0.37415841 0.20344432 0.13927582 0.10645795 0.06946764 0.02315909\n",
       " [7] 0.02331759 0.02323167 0.02276099 0.02288015 0.02278620 0.02287330\n",
       "[13] 0.02264933 0.02467362 0.02531703 0.02671414 0.02899135 0.03147787\n",
       "[19] 0.03451720 0.03488656 0.03618046 0.03798113 0.04398463 0.05664675\n",
       "[25] 0.05974847 0.06669454 0.07283175 0.08943779 0.11024493 0.11962291"
      ]
     },
     "metadata": {},
     "output_type": "display_data"
    }
   ],
   "source": [
    "opt$all.criteria"
   ]
  },
  {
   "cell_type": "code",
   "execution_count": 212,
   "metadata": {},
   "outputs": [
    {
     "data": {
      "text/html": [
       "1.60500018108645"
      ],
      "text/latex": [
       "1.60500018108645"
      ],
      "text/markdown": [
       "1.60500018108645"
      ],
      "text/plain": [
       "[1] 1.605"
      ]
     },
     "metadata": {},
     "output_type": "display_data"
    }
   ],
   "source": [
    "# Prepare test data\n",
    "vars<-c()\n",
    "for(name in colnames(opt$model)){\n",
    "    if(name != \"(Intercept)\"){\n",
    "        namevar<-substr(name, start = 2, stop = 3)\n",
    "        vars<-c(vars, namevar)\n",
    "    }\n",
    "    \n",
    "}\n",
    "vars<-as.numeric(vars)\n",
    "x.train.model<-x.train[,vars]\n",
    "x.test.model<-x.test[,vars]\n",
    "\n",
    "# Get performance\n",
    "fit<-fit.reg.analytical(x.train.model, y.train, alpha, beta)\n",
    "\n",
    "performance<-MLPD.anal(x.test.model, y.test, nt, fit$V.s, fit$mu.s, fit$alpha.s, fit$beta.s)\n",
    "\n",
    "performance"
   ]
  },
  {
   "cell_type": "markdown",
   "metadata": {},
   "source": [
    "#### with STAN"
   ]
  },
  {
   "cell_type": "code",
   "execution_count": 67,
   "metadata": {},
   "outputs": [
    {
     "data": {
      "text/html": [
       "0.285749280954274"
      ],
      "text/latex": [
       "0.285749280954274"
      ],
      "text/markdown": [
       "0.285749280954274"
      ],
      "text/plain": [
       "[1] 0.2857493"
      ]
     },
     "metadata": {},
     "output_type": "display_data"
    }
   ],
   "source": [
    "reference.model<-function(x.train, y.train, original.x=x.train.data, reference.model = bma){\n",
    "\n",
    "    linear.fit<-fit.linear.regression(x.train, y.train, alpha, beta, modelString.reg)\n",
    "    omega.post<-linear.fit$omega.post\n",
    "    sigma.post<-linear.fit$sigma.post\n",
    "    seq.y<-seq(-5,5,0.1)\n",
    "    KL<-0\n",
    "    n<-dim(x.train)[1]\n",
    "    for(i in 1:dim(x.train)[1]){ \n",
    "        # Reference density\n",
    "        D.train <- matrix(original.x[i,], nrow=1)\n",
    "        pdens <- pred.density(reference.model, newdata = D.train)\n",
    "        p.reference<-pdens$dyf(seq.y)\n",
    "        # Target density\n",
    "        p.target<-get.y.probs.reg(matrix(x.train[i,]), omega.post, sigma.post, seq.y)\n",
    "        # Remove NAN\n",
    "        idx<-!is.na(p.target) & !is.na(p.reference)\n",
    "        p.reference<-matrix(p.reference[idx])\n",
    "        p.target<-matrix(p.target[idx])\n",
    "        # KL divergence\n",
    "        KL.new<-KLD(p.reference, p.target)$sum.KLD.px.py\n",
    "        KL<-KL+KL.new\n",
    "    }    \n",
    "    return(KL/n)    \n",
    "}\n",
    "\n",
    "x.train.data<-x.train\n",
    "KL<-reference.model.anal(x.train, y.train, reference.model = bma, extended = TRUE)\n",
    "KL"
   ]
  },
  {
   "cell_type": "code",
   "execution_count": null,
   "metadata": {},
   "outputs": [],
   "source": [
    "opt<-optimization(x.train, y.train, reference.model)"
   ]
  },
  {
   "cell_type": "code",
   "execution_count": null,
   "metadata": {},
   "outputs": [],
   "source": [
    "opt$num.vars\n",
    "opt$criteria\n",
    "colnames(opt$model)"
   ]
  },
  {
   "cell_type": "code",
   "execution_count": null,
   "metadata": {},
   "outputs": [],
   "source": [
    "# Prepare test data\n",
    "vars<-c()\n",
    "for(name in colnames(opt$model)){\n",
    "    if(name != \"(Intercept)\"){\n",
    "        namevar<-substr(name, start = 2, stop = 3)\n",
    "        vars<-c(vars, namevar)\n",
    "    }\n",
    "    \n",
    "}\n",
    "vars<-as.numeric(vars)\n",
    "x.train.model<-x.train[,vars]\n",
    "x.test.model<-x.test[,vars]\n",
    "\n",
    "# Get performance\n",
    "linear.fit<-fit.linear.regression(x.train.model, y.train, alpha, beta, modelString.reg)\n",
    "omega.post<-linear.fit$omega.post\n",
    "sigma.post<-linear.fit$sigma.post\n",
    "\n",
    "performance<-MLPD(x.test.model, y.test, nt, sigma.pos, omega.pos)\n",
    "\n",
    "performance"
   ]
  },
  {
   "cell_type": "markdown",
   "metadata": {},
   "source": [
    "## 4. Experiments II: Classification <a name=\"ExpClass\" ></a>"
   ]
  },
  {
   "cell_type": "markdown",
   "metadata": {},
   "source": [
    "### MLPD classification"
   ]
  },
  {
   "cell_type": "code",
   "execution_count": 35,
   "metadata": {},
   "outputs": [],
   "source": [
    "MLPD.class<-function(x.test, y.test, nt, post){#omega.pos){\n",
    "    MLPD <- 0\n",
    "    for(i in 1:nt){\n",
    "        # Get probability density of different values of y\n",
    "        D.test<-data.frame(x.test)\n",
    "        p<-pred.prob.class(D.test[i,])\n",
    "        if((p>0)*(p<1)){\n",
    "            MLPD<-MLPD + log(p) + log(1.-p)\n",
    "        }\n",
    "        \n",
    "    }\n",
    "    MLPD<- - MLPD/nt\n",
    "    return(MLPD)\n",
    "}"
   ]
  },
  {
   "cell_type": "code",
   "execution_count": 36,
   "metadata": {},
   "outputs": [
    {
     "data": {
      "text/html": [
       "2.25997212526506"
      ],
      "text/latex": [
       "2.25997212526506"
      ],
      "text/markdown": [
       "2.25997212526506"
      ],
      "text/plain": [
       "[1] 2.259972"
      ]
     },
     "metadata": {},
     "output_type": "display_data"
    }
   ],
   "source": [
    "# Example simulation experiment\n",
    "# Define parameters\n",
    "n <- 100\n",
    "rho <- 0.5\n",
    "p <- 30\n",
    "chi <- 0.34\n",
    "alpha<-0.5\n",
    "beta<-0.5\n",
    "nt<-1000\n",
    "\n",
    "# Simulate observations\n",
    "sim.train<-simulate.classification(n, rho, chi, p)\n",
    "x.train<-sim.train$x\n",
    "y.train<-sim.train$y\n",
    "\n",
    "# Simulate observations\n",
    "sim.test<-simulate.classification(nt, rho, chi, p)\n",
    "x.test<-sim.test$x\n",
    "y.test<-sim.test$y\n",
    "\n",
    "# Get MLPD\n",
    "# Fit linear model and generate posterior quantities\n",
    "post<-fit.logit(x.train,y.train, alpha, beta)\n",
    "\n",
    "performance<-MLPD.class(x.test, y.test, nt, post)\n",
    "\n",
    "performance"
   ]
  },
  {
   "cell_type": "markdown",
   "metadata": {},
   "source": [
    "## Criterion 1: Cross-validation <a name=\"CVclass\" ></a>"
   ]
  },
  {
   "cell_type": "code",
   "execution_count": 37,
   "metadata": {},
   "outputs": [
    {
     "data": {
      "text/html": [
       "2.45599386573241"
      ],
      "text/latex": [
       "2.45599386573241"
      ],
      "text/markdown": [
       "2.45599386573241"
      ],
      "text/plain": [
       "[1] 2.455994"
      ]
     },
     "metadata": {},
     "output_type": "display_data"
    }
   ],
   "source": [
    "library(caret)\n",
    "\n",
    "k.fold.cv.class<-function(x.train, y.train, k.fold=10){\n",
    "    set.seed(10)\n",
    "    partitions<-createFolds(y.train, k = k.fold, list = TRUE, returnTrain = FALSE)\n",
    "    cv<-0\n",
    "    for(i in 1:k.fold){\n",
    "        idx<-unlist(partitions[i])\n",
    "        x.fold.in<-as.matrix(x.train[idx,])\n",
    "        y.fold.in<-y.train[idx]\n",
    "        x.fold.out<-as.matrix(x.train[-idx,])\n",
    "        y.fold.out<-y.train[-idx]\n",
    "        post.fit.obj<-fit.logit(x.fold.out, y.fold.out, alpha, beta, return.cols = TRUE)\n",
    "        post.fit<-post.fit.obj$post\n",
    "        names<-post.fit.obj$names\n",
    "        D.test<-data.frame(x.fold.in)\n",
    "        colnames(D.test) <- colnames(D.test) <- names[2:length(names)]\n",
    "        for(j in 1:length(idx)){ \n",
    "            # Target probability\n",
    "            if(dim(D.test)[2]>1){\n",
    "                p<-pred.prob.class(D.test[j,], model = post.fit)\n",
    "            }\n",
    "            else{\n",
    "                p<-pred.prob.class(D.test, model = post.fit)\n",
    "            }\n",
    "            if((p>0)*(p<1)){\n",
    "                cv<-cv + log(p) + log(1-p)\n",
    "            }\n",
    "        }\n",
    "    }\n",
    "    cv<- -cv/length(y.train)\n",
    "    return(cv)\n",
    "}\n",
    "\n",
    "k.fold<-10\n",
    "\n",
    "cv<-k.fold.cv.class(x.train, y.train, k.fold)\n",
    "\n",
    "cv"
   ]
  },
  {
   "cell_type": "code",
   "execution_count": 38,
   "metadata": {},
   "outputs": [
    {
     "name": "stdout",
     "output_type": "stream",
     "text": [
      "[1] \"Starting optimization\"\n",
      "[1]  1 29 25 27 17\n"
     ]
    }
   ],
   "source": [
    "opt<-optimization(x.train, y.train, k.fold.cv.class, extended = FALSE)"
   ]
  },
  {
   "cell_type": "code",
   "execution_count": 39,
   "metadata": {},
   "outputs": [
    {
     "data": {
      "text/html": [
       "4"
      ],
      "text/latex": [
       "4"
      ],
      "text/markdown": [
       "4"
      ],
      "text/plain": [
       "[1] 4"
      ]
     },
     "metadata": {},
     "output_type": "display_data"
    },
    {
     "data": {
      "text/html": [
       "1.66048825689084"
      ],
      "text/latex": [
       "1.66048825689084"
      ],
      "text/markdown": [
       "1.66048825689084"
      ],
      "text/plain": [
       "[1] 1.660488"
      ]
     },
     "metadata": {},
     "output_type": "display_data"
    },
    {
     "data": {
      "text/html": [
       "<style>\n",
       ".list-inline {list-style: none; margin:0; padding: 0}\n",
       ".list-inline>li {display: inline-block}\n",
       ".list-inline>li:not(:last-child)::after {content: \"\\00b7\"; padding: 0 .5ex}\n",
       "</style>\n",
       "<ol class=list-inline><li>'(Intercept)'</li><li>'X1'</li><li>'X2'</li><li>'X3'</li><li>'X4'</li><li>'X5'</li></ol>\n"
      ],
      "text/latex": [
       "\\begin{enumerate*}\n",
       "\\item '(Intercept)'\n",
       "\\item 'X1'\n",
       "\\item 'X2'\n",
       "\\item 'X3'\n",
       "\\item 'X4'\n",
       "\\item 'X5'\n",
       "\\end{enumerate*}\n"
      ],
      "text/markdown": [
       "1. '(Intercept)'\n",
       "2. 'X1'\n",
       "3. 'X2'\n",
       "4. 'X3'\n",
       "5. 'X4'\n",
       "6. 'X5'\n",
       "\n",
       "\n"
      ],
      "text/plain": [
       "[1] \"(Intercept)\" \"X1\"          \"X2\"          \"X3\"          \"X4\"         \n",
       "[6] \"X5\"         "
      ]
     },
     "metadata": {},
     "output_type": "display_data"
    }
   ],
   "source": [
    "opt$num.vars\n",
    "opt$criteria\n",
    "colnames(opt$model)"
   ]
  },
  {
   "cell_type": "code",
   "execution_count": 40,
   "metadata": {},
   "outputs": [
    {
     "data": {
      "text/html": [
       "1.83802369252815"
      ],
      "text/latex": [
       "1.83802369252815"
      ],
      "text/markdown": [
       "1.83802369252815"
      ],
      "text/plain": [
       "[1] 1.838024"
      ]
     },
     "metadata": {},
     "output_type": "display_data"
    }
   ],
   "source": [
    "# Prepare test data\n",
    "vars<-c()\n",
    "for(name in colnames(opt$model)){\n",
    "    if(name != \"(Intercept)\"){\n",
    "        namevar<-substr(name, start = 2, stop = 3)\n",
    "        vars<-c(vars, namevar)\n",
    "    }\n",
    "    \n",
    "}\n",
    "vars<-as.numeric(vars)\n",
    "x.train.model<-x.train[,vars]\n",
    "x.test.model<-x.test[,vars]\n",
    "\n",
    "# Get performance\n",
    "post<-fit.logit(x.train.model,y.train, alpha, beta)\n",
    "\n",
    "performance<-MLPD.class(x.test.model, y.test, nt, post)\n",
    "\n",
    "performance"
   ]
  },
  {
   "cell_type": "markdown",
   "metadata": {},
   "source": [
    "## Criterion 2: Widely applicable information criterion (WAIC) <a name=\"waicClass\" ></a>"
   ]
  },
  {
   "cell_type": "code",
   "execution_count": 60,
   "metadata": {},
   "outputs": [
    {
     "data": {
      "text/html": [
       "1.63975219939211"
      ],
      "text/latex": [
       "1.63975219939211"
      ],
      "text/markdown": [
       "1.63975219939211"
      ],
      "text/plain": [
       "[1] 1.639752"
      ]
     },
     "metadata": {},
     "output_type": "display_data"
    }
   ],
   "source": [
    "library(caret)\n",
    "\n",
    "WAIC.model.class<-function(x.train, y.train, M=50){\n",
    "    WAIC<-0\n",
    "    post.fit.obj<-fit.logit(x.train, y.train, alpha, beta, return.cols = TRUE)\n",
    "    post.fit<-post.fit.obj$post\n",
    "    names<-post.fit.obj$names\n",
    "    D.test<-data.frame(x.train)\n",
    "    colnames(D.test) <- colnames(D.test) <- names[2:length(names)]\n",
    "    for(i in 1:n){\n",
    "        #Target probability\n",
    "        if(dim(D.test)[2]>1){\n",
    "        p<-pred.prob.class(D.test[i,], model = post.fit)\n",
    "        }\n",
    "        else{\n",
    "        p<-pred.prob.class(D.test, model = post.fit)\n",
    "        }       \n",
    "        aux<-rep(0,M)\n",
    "        cont<-1\n",
    "        for(j in 1:M){\n",
    "            post.fit.obj<-fit.logit(x.train, y.train, alpha, beta, return.cols = TRUE)\n",
    "            post.fit<-post.fit.obj$post\n",
    "            names<-post.fit.obj$names\n",
    "            D.test<-data.frame(x.train)\n",
    "            colnames(D.test) <- colnames(D.test) <- names[2:length(names)]\n",
    "            if(dim(D.test)[2]>1){\n",
    "            p2<-pred.prob.class(D.test[i,], model = post.fit)\n",
    "            }\n",
    "            else{\n",
    "            p2<-pred.prob.class(D.test, model = post.fit)\n",
    "            }\n",
    "            aux[cont]<-log(p2)\n",
    "            cont<-cont+1\n",
    "        }\n",
    "        variance<-var(aux)\n",
    "        if((!is.na(WAIC + log(p)-variance))*is.finite(WAIC + log(p)-variance)){\n",
    "            WAIC<-WAIC + (log(p) - variance)\n",
    "        }\n",
    "    }\n",
    "    WAIC<-WAIC/length(y.train)\n",
    "    return(-WAIC) #opposite sign since the optimization procedure minimizes\n",
    "}\n",
    "\n",
    "WAIC<-WAIC.model.class(x.train, y.train)\n",
    "\n",
    "WAIC"
   ]
  },
  {
   "cell_type": "code",
   "execution_count": 61,
   "metadata": {},
   "outputs": [
    {
     "name": "stdout",
     "output_type": "stream",
     "text": [
      "[1] \"Starting optimization\"\n",
      "[1]  1 22 17 20 26 21 30 18 29\n"
     ]
    }
   ],
   "source": [
    "opt<-optimization(x.train, y.train, WAIC.model.class, extended = FALSE)"
   ]
  },
  {
   "cell_type": "code",
   "execution_count": 62,
   "metadata": {},
   "outputs": [
    {
     "data": {
      "text/html": [
       "8"
      ],
      "text/latex": [
       "8"
      ],
      "text/markdown": [
       "8"
      ],
      "text/plain": [
       "[1] 8"
      ]
     },
     "metadata": {},
     "output_type": "display_data"
    },
    {
     "data": {
      "text/html": [
       "1.28990882620638"
      ],
      "text/latex": [
       "1.28990882620638"
      ],
      "text/markdown": [
       "1.28990882620638"
      ],
      "text/plain": [
       "[1] 1.289909"
      ]
     },
     "metadata": {},
     "output_type": "display_data"
    },
    {
     "data": {
      "text/html": [
       "<style>\n",
       ".list-inline {list-style: none; margin:0; padding: 0}\n",
       ".list-inline>li {display: inline-block}\n",
       ".list-inline>li:not(:last-child)::after {content: \"\\00b7\"; padding: 0 .5ex}\n",
       "</style>\n",
       "<ol class=list-inline><li>'(Intercept)'</li><li>'X1'</li><li>'X2'</li><li>'X3'</li><li>'X4'</li><li>'X5'</li><li>'X6'</li><li>'X7'</li><li>'X8'</li><li>'X9'</li></ol>\n"
      ],
      "text/latex": [
       "\\begin{enumerate*}\n",
       "\\item '(Intercept)'\n",
       "\\item 'X1'\n",
       "\\item 'X2'\n",
       "\\item 'X3'\n",
       "\\item 'X4'\n",
       "\\item 'X5'\n",
       "\\item 'X6'\n",
       "\\item 'X7'\n",
       "\\item 'X8'\n",
       "\\item 'X9'\n",
       "\\end{enumerate*}\n"
      ],
      "text/markdown": [
       "1. '(Intercept)'\n",
       "2. 'X1'\n",
       "3. 'X2'\n",
       "4. 'X3'\n",
       "5. 'X4'\n",
       "6. 'X5'\n",
       "7. 'X6'\n",
       "8. 'X7'\n",
       "9. 'X8'\n",
       "10. 'X9'\n",
       "\n",
       "\n"
      ],
      "text/plain": [
       " [1] \"(Intercept)\" \"X1\"          \"X2\"          \"X3\"          \"X4\"         \n",
       " [6] \"X5\"          \"X6\"          \"X7\"          \"X8\"          \"X9\"         "
      ]
     },
     "metadata": {},
     "output_type": "display_data"
    }
   ],
   "source": [
    "opt$num.vars\n",
    "opt$criteria\n",
    "colnames(opt$model)"
   ]
  },
  {
   "cell_type": "code",
   "execution_count": 63,
   "metadata": {},
   "outputs": [
    {
     "data": {
      "text/html": [
       "1.99861609260751"
      ],
      "text/latex": [
       "1.99861609260751"
      ],
      "text/markdown": [
       "1.99861609260751"
      ],
      "text/plain": [
       "[1] 1.998616"
      ]
     },
     "metadata": {},
     "output_type": "display_data"
    }
   ],
   "source": [
    "# Prepare test data\n",
    "vars<-c()\n",
    "for(name in colnames(opt$model)){\n",
    "    if(name != \"(Intercept)\"){\n",
    "        namevar<-substr(name, start = 2, stop = 3)\n",
    "        vars<-c(vars, namevar)\n",
    "    }\n",
    "    \n",
    "}\n",
    "vars<-as.numeric(vars)\n",
    "x.train.model<-x.train[,vars]\n",
    "x.test.model<-x.test[,vars]\n",
    "\n",
    "# Get performance\n",
    "post<-fit.logit(x.train.model, y.train, alpha, beta)\n",
    "\n",
    "performance<-MLPD.class(x.test.model, y.test, nt, post)\n",
    "\n",
    "performance"
   ]
  },
  {
   "cell_type": "markdown",
   "metadata": {},
   "source": [
    "## Criterion 3: $L^2$ model approach <a name=\"L2class\" ></a>"
   ]
  },
  {
   "cell_type": "code",
   "execution_count": 52,
   "metadata": {},
   "outputs": [
    {
     "data": {
      "text/html": [
       "23.762"
      ],
      "text/latex": [
       "23.762"
      ],
      "text/markdown": [
       "23.762"
      ],
      "text/plain": [
       "[1] 23.762"
      ]
     },
     "metadata": {},
     "output_type": "display_data"
    }
   ],
   "source": [
    "library(caret)\n",
    "\n",
    "L2.model.class<-function(x.train, y.train, extended=TRUE){\n",
    "    L2<-0\n",
    "    post.fit.obj<-fit.logit(x.train,y.train, alpha, beta, return.cols = TRUE)\n",
    "    post.fit<-post.fit.obj$post\n",
    "    names<-post.fit.obj$names\n",
    "    for(i in 1:n){\n",
    "        D.test<-data.frame(x.train[i,])\n",
    "        D.test<-as.data.frame(t(D.test[1]))\n",
    "        colnames(D.test) <- names[2:length(names)]\n",
    "        if(dim(D.test)[2]>1){\n",
    "            p<-pred.prob.class(D.test[1,], model = post.fit)\n",
    "        }\n",
    "        else{\n",
    "            p<-pred.prob.class(D.test, model = post.fit)\n",
    "        }\n",
    "        if((p>0)*(p<1)){\n",
    "            expectation<-p\n",
    "            variance<-p*(1-p)\n",
    "            term<-(y.train[i]-expectation)^2+variance\n",
    "            L2<-L2 + term\n",
    "        }        \n",
    "    }\n",
    "    return(L2)    \n",
    "}\n",
    "\n",
    "L2<-L2.model.class(x.train, y.train, extended=FALSE)\n",
    "\n",
    "L2"
   ]
  },
  {
   "cell_type": "code",
   "execution_count": 142,
   "metadata": {},
   "outputs": [
    {
     "name": "stdout",
     "output_type": "stream",
     "text": [
      "[1] \"Starting optimization\"\n",
      " [1]  1  9  3 27 13 19  7 22  8 10  4 24 29 28  5 30 26 17 11 20 14 21  6 18 15\n",
      "[26] 23 12 16\n"
     ]
    }
   ],
   "source": [
    "opt<-optimization(x.train, y.train, L2.model.class, extended = FALSE)"
   ]
  },
  {
   "cell_type": "code",
   "execution_count": 143,
   "metadata": {},
   "outputs": [
    {
     "data": {
      "text/html": [
       "27"
      ],
      "text/latex": [
       "27"
      ],
      "text/markdown": [
       "27"
      ],
      "text/plain": [
       "[1] 27"
      ]
     },
     "metadata": {},
     "output_type": "display_data"
    },
    {
     "data": {
      "text/html": [
       "21.548"
      ],
      "text/latex": [
       "21.548"
      ],
      "text/markdown": [
       "21.548"
      ],
      "text/plain": [
       "[1] 21.548"
      ]
     },
     "metadata": {},
     "output_type": "display_data"
    },
    {
     "data": {
      "text/html": [
       "<style>\n",
       ".list-inline {list-style: none; margin:0; padding: 0}\n",
       ".list-inline>li {display: inline-block}\n",
       ".list-inline>li:not(:last-child)::after {content: \"\\00b7\"; padding: 0 .5ex}\n",
       "</style>\n",
       "<ol class=list-inline><li>'(Intercept)'</li><li>'X1'</li><li>'X2'</li><li>'X3'</li><li>'X4'</li><li>'X5'</li><li>'X6'</li><li>'X7'</li><li>'X8'</li><li>'X9'</li><li>'X10'</li><li>'X11'</li><li>'X12'</li><li>'X13'</li><li>'X14'</li><li>'X15'</li><li>'X16'</li><li>'X17'</li><li>'X18'</li><li>'X19'</li><li>'X20'</li><li>'X21'</li><li>'X22'</li><li>'X23'</li><li>'X24'</li><li>'X25'</li><li>'X26'</li><li>'X27'</li><li>'X28'</li></ol>\n"
      ],
      "text/latex": [
       "\\begin{enumerate*}\n",
       "\\item '(Intercept)'\n",
       "\\item 'X1'\n",
       "\\item 'X2'\n",
       "\\item 'X3'\n",
       "\\item 'X4'\n",
       "\\item 'X5'\n",
       "\\item 'X6'\n",
       "\\item 'X7'\n",
       "\\item 'X8'\n",
       "\\item 'X9'\n",
       "\\item 'X10'\n",
       "\\item 'X11'\n",
       "\\item 'X12'\n",
       "\\item 'X13'\n",
       "\\item 'X14'\n",
       "\\item 'X15'\n",
       "\\item 'X16'\n",
       "\\item 'X17'\n",
       "\\item 'X18'\n",
       "\\item 'X19'\n",
       "\\item 'X20'\n",
       "\\item 'X21'\n",
       "\\item 'X22'\n",
       "\\item 'X23'\n",
       "\\item 'X24'\n",
       "\\item 'X25'\n",
       "\\item 'X26'\n",
       "\\item 'X27'\n",
       "\\item 'X28'\n",
       "\\end{enumerate*}\n"
      ],
      "text/markdown": [
       "1. '(Intercept)'\n",
       "2. 'X1'\n",
       "3. 'X2'\n",
       "4. 'X3'\n",
       "5. 'X4'\n",
       "6. 'X5'\n",
       "7. 'X6'\n",
       "8. 'X7'\n",
       "9. 'X8'\n",
       "10. 'X9'\n",
       "11. 'X10'\n",
       "12. 'X11'\n",
       "13. 'X12'\n",
       "14. 'X13'\n",
       "15. 'X14'\n",
       "16. 'X15'\n",
       "17. 'X16'\n",
       "18. 'X17'\n",
       "19. 'X18'\n",
       "20. 'X19'\n",
       "21. 'X20'\n",
       "22. 'X21'\n",
       "23. 'X22'\n",
       "24. 'X23'\n",
       "25. 'X24'\n",
       "26. 'X25'\n",
       "27. 'X26'\n",
       "28. 'X27'\n",
       "29. 'X28'\n",
       "\n",
       "\n"
      ],
      "text/plain": [
       " [1] \"(Intercept)\" \"X1\"          \"X2\"          \"X3\"          \"X4\"         \n",
       " [6] \"X5\"          \"X6\"          \"X7\"          \"X8\"          \"X9\"         \n",
       "[11] \"X10\"         \"X11\"         \"X12\"         \"X13\"         \"X14\"        \n",
       "[16] \"X15\"         \"X16\"         \"X17\"         \"X18\"         \"X19\"        \n",
       "[21] \"X20\"         \"X21\"         \"X22\"         \"X23\"         \"X24\"        \n",
       "[26] \"X25\"         \"X26\"         \"X27\"         \"X28\"        "
      ]
     },
     "metadata": {},
     "output_type": "display_data"
    }
   ],
   "source": [
    "opt$num.vars\n",
    "opt$criteria\n",
    "colnames(opt$model)"
   ]
  },
  {
   "cell_type": "code",
   "execution_count": 144,
   "metadata": {},
   "outputs": [
    {
     "data": {
      "text/html": [
       "2.47766132863305"
      ],
      "text/latex": [
       "2.47766132863305"
      ],
      "text/markdown": [
       "2.47766132863305"
      ],
      "text/plain": [
       "[1] 2.477661"
      ]
     },
     "metadata": {},
     "output_type": "display_data"
    }
   ],
   "source": [
    "# Prepare test data\n",
    "vars<-c()\n",
    "for(name in colnames(opt$model)){\n",
    "    if(name != \"(Intercept)\"){\n",
    "        namevar<-substr(name, start = 2, stop = 3)\n",
    "        vars<-c(vars, namevar)\n",
    "    }\n",
    "    \n",
    "}\n",
    "vars<-as.numeric(vars)\n",
    "x.train.model<-x.train[,vars]\n",
    "x.test.model<-x.test[,vars]\n",
    "\n",
    "# Get performance\n",
    "post<-fit.logit(x.train.model, y.train, alpha, beta)\n",
    "\n",
    "performance<-MLPD.class(x.test.model, y.test, nt, post)\n",
    "\n",
    "performance"
   ]
  },
  {
   "cell_type": "markdown",
   "metadata": {},
   "source": [
    "## Criterion 4: Reference model approach <a name=\"refClass\" ></a>"
   ]
  },
  {
   "cell_type": "code",
   "execution_count": 56,
   "metadata": {},
   "outputs": [
    {
     "name": "stderr",
     "output_type": "stream",
     "text": [
      "Warning message:\n",
      "“glm.fit: fitted probabilities numerically 0 or 1 occurred”\n",
      "Warning message:\n",
      "“glm.fit: fitted probabilities numerically 0 or 1 occurred”\n",
      "Warning message:\n",
      "“glm.fit: fitted probabilities numerically 0 or 1 occurred”\n"
     ]
    }
   ],
   "source": [
    "require(\"BMA\")\n",
    "\n",
    "bma.class<-bic.glm(y.train~., data = D.train, glm.family=\"binomial\", factor.type=FALSE)"
   ]
  },
  {
   "cell_type": "code",
   "execution_count": 113,
   "metadata": {},
   "outputs": [
    {
     "data": {
      "text/html": [
       "<strong>2:</strong> 0.244122587414611"
      ],
      "text/latex": [
       "\\textbf{2:} 0.244122587414611"
      ],
      "text/markdown": [
       "**2:** 0.244122587414611"
      ],
      "text/plain": [
       "        2 \n",
       "0.2441226 "
      ]
     },
     "metadata": {},
     "output_type": "display_data"
    }
   ],
   "source": [
    "reference.model.class<-function(x.train, y.train, original.x=x.train.data, reference.model = bma.class){  \n",
    "    post.fit<-fit.logit(x.train,y.train, alpha, beta)\n",
    "    seq.y<-seq(-5,5,0.1)\n",
    "    KL<-0\n",
    "    n<-dim(x.train)[1]\n",
    "    # Reference prediction\n",
    "    pdens <- predict(reference.model, original.x)   \n",
    "    D.train<-data.frame( x.train)\n",
    "    for(i in 1:dim(x.train)[1]){ \n",
    "        # Reference probability       \n",
    "        p.reference<-pdens[i]\n",
    "        # Target probability\n",
    "        if(dim(D.train)[2]>1){\n",
    "            p.target<-pred.prob.class(D.train[i,], model = post.fit)\n",
    "        }\n",
    "        else{\n",
    "            p.target<-pred.prob.class(D.train, model = post.fit)\n",
    "        }\n",
    "        # KL divergence\n",
    "        if((p.reference>0)*(p.reference<1)*(p.target>0)*(p.target<1)){\n",
    "            KL.new<-p.reference*log(p.reference/p.target) + (1-p.reference)*log((1-p.reference)/(1-p.target))\n",
    "            KL<-KL+KL.new\n",
    "        }\n",
    "    }    \n",
    "    return(KL/n) \n",
    "}\n",
    "\n",
    "x.train.data<-x.train\n",
    "KL<-reference.model.class(x.train, y.train, original.x=x.train.data, reference.model = bma.class)\n",
    "KL"
   ]
  },
  {
   "cell_type": "code",
   "execution_count": 114,
   "metadata": {},
   "outputs": [
    {
     "name": "stdout",
     "output_type": "stream",
     "text": [
      "[1] \"Starting optimization\"\n"
     ]
    }
   ],
   "source": [
    "opt<-optimization(x.train, y.train, reference.model.class, extended = FALSE)"
   ]
  },
  {
   "cell_type": "code",
   "execution_count": 115,
   "metadata": {},
   "outputs": [
    {
     "data": {
      "text/html": [
       "3"
      ],
      "text/latex": [
       "3"
      ],
      "text/markdown": [
       "3"
      ],
      "text/plain": [
       "[1] 3"
      ]
     },
     "metadata": {},
     "output_type": "display_data"
    },
    {
     "data": {
      "text/html": [
       "<strong>1:</strong> 0.037657768725368"
      ],
      "text/latex": [
       "\\textbf{1:} 0.037657768725368"
      ],
      "text/markdown": [
       "**1:** 0.037657768725368"
      ],
      "text/plain": [
       "         1 \n",
       "0.03765777 "
      ]
     },
     "metadata": {},
     "output_type": "display_data"
    },
    {
     "data": {
      "text/html": [
       "<style>\n",
       ".list-inline {list-style: none; margin:0; padding: 0}\n",
       ".list-inline>li {display: inline-block}\n",
       ".list-inline>li:not(:last-child)::after {content: \"\\00b7\"; padding: 0 .5ex}\n",
       "</style>\n",
       "<ol class=list-inline><li>'(Intercept)'</li><li>'X1'</li><li>'X2'</li><li>'X3'</li><li>'X4'</li></ol>\n"
      ],
      "text/latex": [
       "\\begin{enumerate*}\n",
       "\\item '(Intercept)'\n",
       "\\item 'X1'\n",
       "\\item 'X2'\n",
       "\\item 'X3'\n",
       "\\item 'X4'\n",
       "\\end{enumerate*}\n"
      ],
      "text/markdown": [
       "1. '(Intercept)'\n",
       "2. 'X1'\n",
       "3. 'X2'\n",
       "4. 'X3'\n",
       "5. 'X4'\n",
       "\n",
       "\n"
      ],
      "text/plain": [
       "[1] \"(Intercept)\" \"X1\"          \"X2\"          \"X3\"          \"X4\"         "
      ]
     },
     "metadata": {},
     "output_type": "display_data"
    }
   ],
   "source": [
    "opt$num.vars\n",
    "opt$criteria\n",
    "colnames(opt$model)"
   ]
  },
  {
   "cell_type": "code",
   "execution_count": 116,
   "metadata": {},
   "outputs": [
    {
     "data": {
      "text/html": [
       "2.21841118814428"
      ],
      "text/latex": [
       "2.21841118814428"
      ],
      "text/markdown": [
       "2.21841118814428"
      ],
      "text/plain": [
       "[1] 2.218411"
      ]
     },
     "metadata": {},
     "output_type": "display_data"
    }
   ],
   "source": [
    "# Prepare test data\n",
    "vars<-c()\n",
    "for(name in colnames(opt$model)){\n",
    "    if(name != \"(Intercept)\"){\n",
    "        namevar<-substr(name, start = 2, stop = 3)\n",
    "        vars<-c(vars, namevar)\n",
    "    }\n",
    "    \n",
    "}\n",
    "vars<-as.numeric(vars)\n",
    "x.train.model<-x.train[,vars]\n",
    "x.test.model<-x.test[,vars]\n",
    "\n",
    "# Get performance\n",
    "post<-fit.logit(x.train.model,y.train, alpha, beta)\n",
    "\n",
    "performance<-MLPD.class(x.test.model, y.test, nt, post)\n",
    "\n",
    "performance"
   ]
  },
  {
   "cell_type": "markdown",
   "metadata": {},
   "source": [
    "## 5. Analysis of the results <a name=\"AnalysisResults\" ></a>\n",
    "\n",
    "After having performed the different experiments in regression and classification problems, we assess the results. In particular we will look at the number of variables chosen by each of the criteria and also at the final performance of the optimal model, according to each of the criterion. This final performance will be evaluated using the MLPD utility. "
   ]
  },
  {
   "cell_type": "markdown",
   "metadata": {},
   "source": [
    "### Selected variables <a name=\"SelVariables\" ></a>"
   ]
  },
  {
   "cell_type": "markdown",
   "metadata": {},
   "source": [
    "<center>REGRESSION TASK</center>   \n",
    "<img src=\"Images/table_regression.png\" alt=\"table_17\" width=\"700\"/>"
   ]
  },
  {
   "cell_type": "markdown",
   "metadata": {},
   "source": [
    "<center>CLASSIFICATION TASK</center>\n",
    "<img src=\"Images/table_regression.png\" alt=\"table_17\" width=\"700\"/>"
   ]
  },
  {
   "cell_type": "markdown",
   "metadata": {},
   "source": [
    "### Performance <a name=\"Performance\" ></a>"
   ]
  },
  {
   "cell_type": "code",
   "execution_count": 64,
   "metadata": {},
   "outputs": [],
   "source": [
    "crit<-c(\"CV\", \"WAIC\", \"L2\", \"Reference\", \"CV\", \"WAIC\", \"L2\", \"Reference\")\n",
    "\n",
    "perf.reg<-c(1.594, 1.537 ,1.548, 1.605)\n",
    "\n",
    "perf.class<-c(1.838,2.000,2.478, 2.218)\n",
    "\n",
    "perf<-c(perf.reg, perf.class)\n",
    "type<-c(rep(\"Regression\",4), rep(\"Classification\",4))\n",
    "data <- data.frame(perf, type, crit)"
   ]
  },
  {
   "cell_type": "code",
   "execution_count": 65,
   "metadata": {},
   "outputs": [
    {
     "data": {
      "image/png": "[encoded data removed]",
      "text/plain": [
       "plot without title"
      ]
     },
     "metadata": {
      "image/png": {
       "height": 360,
       "width": 360
      },
      "text/plain": {
       "height": 360,
       "width": 360
      }
     },
     "output_type": "display_data"
    }
   ],
   "source": [
    "library(ggplot2)\n",
    "\n",
    "ggplot(data, aes(fill=type, y=perf, x=crit)) + \n",
    "    geom_bar(position=\"dodge\", stat=\"identity\") +\n",
    "    ggtitle(\"Performance of the models\") "
   ]
  },
  {
   "cell_type": "code",
   "execution_count": 66,
   "metadata": {},
   "outputs": [
    {
     "data": {
      "image/png": "[encoded data removed]",
      "text/plain": [
       "plot without title"
      ]
     },
     "metadata": {
      "image/png": {
       "height": 360,
       "width": 360
      },
      "text/plain": {
       "height": 360,
       "width": 360
      }
     },
     "output_type": "display_data"
    }
   ],
   "source": [
    "ggplot(data, aes(group=type, y=perf, x=crit)) +\n",
    "  geom_line(aes(color=type), size=1.5) +\n",
    "  geom_point(aes(color=type), size=3) +\n",
    "  theme(legend.position=\"top\", text = element_text(size=18)) +\n",
    "  xlab(\"Criterion\") + ylab(\"Performance\")"
   ]
  },
  {
   "cell_type": "code",
   "execution_count": null,
   "metadata": {},
   "outputs": [],
   "source": []
  }
 ],
 "metadata": {
  "kernelspec": {
   "display_name": "R",
   "language": "R",
   "name": "ir"
  },
  "language_info": {
   "codemirror_mode": "r",
   "file_extension": ".r",
   "mimetype": "text/x-r-source",
   "name": "R",
   "pygments_lexer": "r",
   "version": "3.6.3"
  }
 },
 "nbformat": 4,
 "nbformat_minor": 2
}
